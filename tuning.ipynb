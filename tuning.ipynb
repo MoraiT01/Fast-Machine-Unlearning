{
 "cells": [
  {
   "cell_type": "markdown",
   "metadata": {},
   "source": [
    "# Hyperparameter Finetuning\n",
    "\n",
    "We want to find the right parameters for the Generator Network.\n",
    "\n",
    "By using the best values for the following parameters:\n",
    "\n",
    "- Number of Epochs (meaning `num_epochs` and `num_steps`)\n",
    "- Learning Rate\n",
    "- Batch Size\n",
    "- Number of Noise Batches\n",
    "- Number of Layers\n",
    "- Regularization term\n",
    "- Number of Neurons for each Network"
   ]
  },
  {
   "cell_type": "code",
   "execution_count": 7,
   "metadata": {},
   "outputs": [
    {
     "data": {
      "text/plain": [
       "'cuda:0'"
      ]
     },
     "execution_count": 7,
     "metadata": {},
     "output_type": "execute_result"
    }
   ],
   "source": [
    "from src.fyemu_tunable import main, evaluate\n",
    "import torch\n",
    "import os\n",
    "import torchvision.transforms as tt\n",
    "from torch.utils.data import DataLoader\n",
    "from torchvision.datasets import ImageFolder\n",
    "import optuna\n",
    "from torchvision.models import resnet18\n",
    "\n",
    "from src.metrics import kl_divergence_between_models\n",
    "\n",
    "DEVICE = \"cuda:0\" if torch.cuda.is_available() else \"cpu\"\n",
    "DEVICE"
   ]
  },
  {
   "cell_type": "markdown",
   "metadata": {},
   "source": [
    "Check out this little tutorial, to see how we handle the optimization using save states:\n",
    "\n",
    "https://optuna.readthedocs.io/en/stable/tutorial/20_recipes/001_rdb.html"
   ]
  },
  {
   "cell_type": "code",
   "execution_count": 8,
   "metadata": {},
   "outputs": [
    {
     "name": "stderr",
     "output_type": "stream",
     "text": [
      "[I 2025-01-09 12:42:59,088] Using an existing study with name 'GeneratorOpti' instead of creating a new one.\n"
     ]
    },
    {
     "name": "stdout",
     "output_type": "stream",
     "text": [
      "Using an existing study with name 'GeneratorOpti' instead of creating a new one.\n",
      "Using an existing study with name 'GeneratorOpti' instead of creating a new one.\n"
     ]
    }
   ],
   "source": [
    "import logging\n",
    "import sys\n",
    "import pickle\n",
    "import optuna\n",
    "\n",
    "# Add stream handler of stdout to show the messages\n",
    "optuna.logging.get_logger(\"optuna\").addHandler(logging.StreamHandler(sys.stdout))\n",
    "study_name = \"GeneratorOpti\"  # Unique identifier of the study.\n",
    "storage_name = \"sqlite:///{}.db\".format(study_name)\n",
    "\n",
    "if os.path.exists(\"sampler.pkl\"):\n",
    "    restored_sampler = pickle.load(open(\"sampler.pkl\", \"rb\"))\n",
    "    study = optuna.create_study(study_name=study_name, storage=storage_name, load_if_exists=True, sampler=restored_sampler)\n",
    "else:\n",
    "    study = optuna.create_study(study_name=study_name, storage=storage_name, load_if_exists=True)"
   ]
  },
  {
   "cell_type": "code",
   "execution_count": 9,
   "metadata": {},
   "outputs": [
    {
     "name": "stdout",
     "output_type": "stream",
     "text": [
      "[{'Loss': 1.5330902338027954, 'Acc': 0.7618482708930969}]\n",
      "Performance of Standard Forget Model on Forget Class\n",
      "Accuracy: 0.048828125\n",
      "Loss: 8.005228042602539\n",
      "Performance of Standard Forget Model on Retain Class\n",
      "Accuracy: 70.1098620891571\n",
      "Loss: 0.8384725451469421\n",
      "Performance of Standard Forget Model on Forget Class\n",
      "Accuracy: 0.0\n",
      "Loss: 9.946136474609375\n",
      "Performance of Standard Forget Model on Retain Class\n",
      "Accuracy: 71.23779058456421\n",
      "Loss: 0.8103184103965759\n"
     ]
    },
    {
     "name": "stderr",
     "output_type": "stream",
     "text": [
      "[I 2025-01-09 12:43:59,474] Trial 118 finished with value: 0.8443588592112067 and parameters: {'opt_Epochs': 8, 'opt_Steps': 7, 'opt_Learning_Rate': 0.03040462053395056, 'opt_Batch_Size': 299, 'opt_Number_of_Noise_Batches': 8, 'opt_Regularization_term': 0.2446475930313835, 'opt_Noise_Dim': 362, 'l1': 476, 'l2': 358, 'l3': 397, 'l4': 345, 'l5': 715, 'l6': 136, 'l7': 958, 'n_layers': 4}. Best is trial 91 with value: 0.7797882512211798.\n"
     ]
    },
    {
     "name": "stdout",
     "output_type": "stream",
     "text": [
      "Trial 118 finished with value: 0.8443588592112067 and parameters: {'opt_Epochs': 8, 'opt_Steps': 7, 'opt_Learning_Rate': 0.03040462053395056, 'opt_Batch_Size': 299, 'opt_Number_of_Noise_Batches': 8, 'opt_Regularization_term': 0.2446475930313835, 'opt_Noise_Dim': 362, 'l1': 476, 'l2': 358, 'l3': 397, 'l4': 345, 'l5': 715, 'l6': 136, 'l7': 958, 'n_layers': 4}. Best is trial 91 with value: 0.7797882512211798.\n",
      "Trial 118 finished with value: 0.8443588592112067 and parameters: {'opt_Epochs': 8, 'opt_Steps': 7, 'opt_Learning_Rate': 0.03040462053395056, 'opt_Batch_Size': 299, 'opt_Number_of_Noise_Batches': 8, 'opt_Regularization_term': 0.2446475930313835, 'opt_Noise_Dim': 362, 'l1': 476, 'l2': 358, 'l3': 397, 'l4': 345, 'l5': 715, 'l6': 136, 'l7': 958, 'n_layers': 4}. Best is trial 91 with value: 0.7797882512211798.\n",
      "[{'Loss': 1.5330172777175903, 'Acc': 0.7615516781806946}]\n",
      "Performance of Standard Forget Model on Forget Class\n",
      "Accuracy: 0.0\n",
      "Loss: 8.209650993347168\n",
      "Performance of Standard Forget Model on Retain Class\n",
      "Accuracy: 68.65234375\n",
      "Loss: 0.8647021055221558\n",
      "Performance of Standard Forget Model on Forget Class\n",
      "Accuracy: 0.0\n",
      "Loss: 11.34888744354248\n",
      "Performance of Standard Forget Model on Retain Class\n",
      "Accuracy: 69.3603515625\n",
      "Loss: 0.8802645206451416\n"
     ]
    },
    {
     "name": "stderr",
     "output_type": "stream",
     "text": [
      "[I 2025-01-09 12:45:08,260] Trial 119 finished with value: 0.9261899299919604 and parameters: {'opt_Epochs': 9, 'opt_Steps': 9, 'opt_Learning_Rate': 0.08399080535659484, 'opt_Batch_Size': 222, 'opt_Number_of_Noise_Batches': 8, 'opt_Regularization_term': 0.2583200742874406, 'opt_Noise_Dim': 298, 'l1': 346, 'l2': 195, 'l3': 464, 'l4': 178, 'l5': 580, 'l6': 636, 'l7': 891, 'n_layers': 6}. Best is trial 91 with value: 0.7797882512211798.\n"
     ]
    },
    {
     "name": "stdout",
     "output_type": "stream",
     "text": [
      "Trial 119 finished with value: 0.9261899299919604 and parameters: {'opt_Epochs': 9, 'opt_Steps': 9, 'opt_Learning_Rate': 0.08399080535659484, 'opt_Batch_Size': 222, 'opt_Number_of_Noise_Batches': 8, 'opt_Regularization_term': 0.2583200742874406, 'opt_Noise_Dim': 298, 'l1': 346, 'l2': 195, 'l3': 464, 'l4': 178, 'l5': 580, 'l6': 636, 'l7': 891, 'n_layers': 6}. Best is trial 91 with value: 0.7797882512211798.\n",
      "Trial 119 finished with value: 0.9261899299919604 and parameters: {'opt_Epochs': 9, 'opt_Steps': 9, 'opt_Learning_Rate': 0.08399080535659484, 'opt_Batch_Size': 222, 'opt_Number_of_Noise_Batches': 8, 'opt_Regularization_term': 0.2583200742874406, 'opt_Noise_Dim': 298, 'l1': 346, 'l2': 195, 'l3': 464, 'l4': 178, 'l5': 580, 'l6': 636, 'l7': 891, 'n_layers': 6}. Best is trial 91 with value: 0.7797882512211798.\n",
      "[{'Loss': 1.5303887128829956, 'Acc': 0.7619109153747559}]\n",
      "Performance of Standard Forget Model on Forget Class\n",
      "Accuracy: 0.0\n",
      "Loss: 8.67639446258545\n",
      "Performance of Standard Forget Model on Retain Class\n",
      "Accuracy: 69.4091796875\n",
      "Loss: 0.8732801675796509\n",
      "Performance of Standard Forget Model on Forget Class\n",
      "Accuracy: 0.0\n",
      "Loss: 10.387977600097656\n",
      "Performance of Standard Forget Model on Retain Class\n",
      "Accuracy: 71.1254894733429\n",
      "Loss: 0.8394027352333069\n"
     ]
    },
    {
     "name": "stderr",
     "output_type": "stream",
     "text": [
      "[I 2025-01-09 12:46:01,918] Trial 120 finished with value: 0.8782543547451493 and parameters: {'opt_Epochs': 8, 'opt_Steps': 6, 'opt_Learning_Rate': 0.020842392495563473, 'opt_Batch_Size': 269, 'opt_Number_of_Noise_Batches': 5, 'opt_Regularization_term': 0.10866557192580548, 'opt_Noise_Dim': 223, 'l1': 232, 'l2': 332, 'l3': 661, 'l4': 110, 'l5': 403, 'l6': 80, 'l7': 697, 'n_layers': 5}. Best is trial 91 with value: 0.7797882512211798.\n"
     ]
    },
    {
     "name": "stdout",
     "output_type": "stream",
     "text": [
      "Trial 120 finished with value: 0.8782543547451493 and parameters: {'opt_Epochs': 8, 'opt_Steps': 6, 'opt_Learning_Rate': 0.020842392495563473, 'opt_Batch_Size': 269, 'opt_Number_of_Noise_Batches': 5, 'opt_Regularization_term': 0.10866557192580548, 'opt_Noise_Dim': 223, 'l1': 232, 'l2': 332, 'l3': 661, 'l4': 110, 'l5': 403, 'l6': 80, 'l7': 697, 'n_layers': 5}. Best is trial 91 with value: 0.7797882512211798.\n",
      "Trial 120 finished with value: 0.8782543547451493 and parameters: {'opt_Epochs': 8, 'opt_Steps': 6, 'opt_Learning_Rate': 0.020842392495563473, 'opt_Batch_Size': 269, 'opt_Number_of_Noise_Batches': 5, 'opt_Regularization_term': 0.10866557192580548, 'opt_Noise_Dim': 223, 'l1': 232, 'l2': 332, 'l3': 661, 'l4': 110, 'l5': 403, 'l6': 80, 'l7': 697, 'n_layers': 5}. Best is trial 91 with value: 0.7797882512211798.\n",
      "[{'Loss': 1.530378818511963, 'Acc': 0.7618527412414551}]\n",
      "Performance of Standard Forget Model on Forget Class\n",
      "Accuracy: 0.09765625\n",
      "Loss: 7.178658485412598\n",
      "Performance of Standard Forget Model on Retain Class\n",
      "Accuracy: 68.75\n",
      "Loss: 0.8649612665176392\n",
      "Performance of Standard Forget Model on Forget Class\n",
      "Accuracy: 0.0\n",
      "Loss: 9.269689559936523\n",
      "Performance of Standard Forget Model on Retain Class\n",
      "Accuracy: 72.1118152141571\n",
      "Loss: 0.781186580657959\n"
     ]
    },
    {
     "name": "stderr",
     "output_type": "stream",
     "text": [
      "[I 2025-01-09 12:46:52,620] Trial 121 finished with value: 0.7917796719819307 and parameters: {'opt_Epochs': 9, 'opt_Steps': 5, 'opt_Learning_Rate': 0.056725458615474886, 'opt_Batch_Size': 244, 'opt_Number_of_Noise_Batches': 7, 'opt_Regularization_term': 0.23357176223315118, 'opt_Noise_Dim': 397, 'l1': 306, 'l2': 261, 'l3': 489, 'l4': 80, 'l5': 909, 'l6': 448, 'l7': 633, 'n_layers': 5}. Best is trial 91 with value: 0.7797882512211798.\n"
     ]
    },
    {
     "name": "stdout",
     "output_type": "stream",
     "text": [
      "Trial 121 finished with value: 0.7917796719819307 and parameters: {'opt_Epochs': 9, 'opt_Steps': 5, 'opt_Learning_Rate': 0.056725458615474886, 'opt_Batch_Size': 244, 'opt_Number_of_Noise_Batches': 7, 'opt_Regularization_term': 0.23357176223315118, 'opt_Noise_Dim': 397, 'l1': 306, 'l2': 261, 'l3': 489, 'l4': 80, 'l5': 909, 'l6': 448, 'l7': 633, 'n_layers': 5}. Best is trial 91 with value: 0.7797882512211798.\n",
      "Trial 121 finished with value: 0.7917796719819307 and parameters: {'opt_Epochs': 9, 'opt_Steps': 5, 'opt_Learning_Rate': 0.056725458615474886, 'opt_Batch_Size': 244, 'opt_Number_of_Noise_Batches': 7, 'opt_Regularization_term': 0.23357176223315118, 'opt_Noise_Dim': 397, 'l1': 306, 'l2': 261, 'l3': 489, 'l4': 80, 'l5': 909, 'l6': 448, 'l7': 633, 'n_layers': 5}. Best is trial 91 with value: 0.7797882512211798.\n",
      "[{'Loss': 1.5389434099197388, 'Acc': 0.7611905336380005}]\n",
      "Performance of Standard Forget Model on Forget Class\n",
      "Accuracy: 0.0\n",
      "Loss: 9.302387237548828\n",
      "Performance of Standard Forget Model on Retain Class\n",
      "Accuracy: 70.31494379043579\n",
      "Loss: 0.8258206844329834\n",
      "Performance of Standard Forget Model on Forget Class\n",
      "Accuracy: 0.0\n",
      "Loss: 11.013197898864746\n",
      "Performance of Standard Forget Model on Retain Class\n",
      "Accuracy: 71.45751714706421\n",
      "Loss: 0.8220022916793823\n"
     ]
    },
    {
     "name": "stderr",
     "output_type": "stream",
     "text": [
      "[I 2025-01-09 12:47:58,997] Trial 122 finished with value: 0.8580988541245461 and parameters: {'opt_Epochs': 10, 'opt_Steps': 8, 'opt_Learning_Rate': 0.07506628360356285, 'opt_Batch_Size': 240, 'opt_Number_of_Noise_Batches': 7, 'opt_Regularization_term': 0.23367481981397564, 'opt_Noise_Dim': 383, 'l1': 389, 'l2': 261, 'l3': 520, 'l4': 94, 'l5': 551, 'l6': 493, 'l7': 624, 'n_layers': 5}. Best is trial 91 with value: 0.7797882512211798.\n"
     ]
    },
    {
     "name": "stdout",
     "output_type": "stream",
     "text": [
      "Trial 122 finished with value: 0.8580988541245461 and parameters: {'opt_Epochs': 10, 'opt_Steps': 8, 'opt_Learning_Rate': 0.07506628360356285, 'opt_Batch_Size': 240, 'opt_Number_of_Noise_Batches': 7, 'opt_Regularization_term': 0.23367481981397564, 'opt_Noise_Dim': 383, 'l1': 389, 'l2': 261, 'l3': 520, 'l4': 94, 'l5': 551, 'l6': 493, 'l7': 624, 'n_layers': 5}. Best is trial 91 with value: 0.7797882512211798.\n",
      "Trial 122 finished with value: 0.8580988541245461 and parameters: {'opt_Epochs': 10, 'opt_Steps': 8, 'opt_Learning_Rate': 0.07506628360356285, 'opt_Batch_Size': 240, 'opt_Number_of_Noise_Batches': 7, 'opt_Regularization_term': 0.23367481981397564, 'opt_Noise_Dim': 383, 'l1': 389, 'l2': 261, 'l3': 520, 'l4': 94, 'l5': 551, 'l6': 493, 'l7': 624, 'n_layers': 5}. Best is trial 91 with value: 0.7797882512211798.\n",
      "[{'Loss': 1.5308001041412354, 'Acc': 0.7618727087974548}]\n",
      "Performance of Standard Forget Model on Forget Class\n",
      "Accuracy: 0.048828125\n",
      "Loss: 8.891597747802734\n",
      "Performance of Standard Forget Model on Retain Class\n",
      "Accuracy: 68.4521496295929\n",
      "Loss: 0.868986964225769\n",
      "Performance of Standard Forget Model on Forget Class\n",
      "Accuracy: 0.0\n",
      "Loss: 10.175664901733398\n",
      "Performance of Standard Forget Model on Retain Class\n",
      "Accuracy: 72.9248046875\n",
      "Loss: 0.7575188875198364\n"
     ]
    },
    {
     "name": "stderr",
     "output_type": "stream",
     "text": [
      "[I 2025-01-09 12:48:48,552] Trial 123 finished with value: 0.7848866954445838 and parameters: {'opt_Epochs': 9, 'opt_Steps': 5, 'opt_Learning_Rate': 0.05741691927134082, 'opt_Batch_Size': 233, 'opt_Number_of_Noise_Batches': 7, 'opt_Regularization_term': 0.218085448979945, 'opt_Noise_Dim': 406, 'l1': 296, 'l2': 309, 'l3': 485, 'l4': 80, 'l5': 913, 'l6': 456, 'l7': 578, 'n_layers': 5}. Best is trial 91 with value: 0.7797882512211798.\n"
     ]
    },
    {
     "name": "stdout",
     "output_type": "stream",
     "text": [
      "Trial 123 finished with value: 0.7848866954445838 and parameters: {'opt_Epochs': 9, 'opt_Steps': 5, 'opt_Learning_Rate': 0.05741691927134082, 'opt_Batch_Size': 233, 'opt_Number_of_Noise_Batches': 7, 'opt_Regularization_term': 0.218085448979945, 'opt_Noise_Dim': 406, 'l1': 296, 'l2': 309, 'l3': 485, 'l4': 80, 'l5': 913, 'l6': 456, 'l7': 578, 'n_layers': 5}. Best is trial 91 with value: 0.7797882512211798.\n",
      "Trial 123 finished with value: 0.7848866954445838 and parameters: {'opt_Epochs': 9, 'opt_Steps': 5, 'opt_Learning_Rate': 0.05741691927134082, 'opt_Batch_Size': 233, 'opt_Number_of_Noise_Batches': 7, 'opt_Regularization_term': 0.218085448979945, 'opt_Noise_Dim': 406, 'l1': 296, 'l2': 309, 'l3': 485, 'l4': 80, 'l5': 913, 'l6': 456, 'l7': 578, 'n_layers': 5}. Best is trial 91 with value: 0.7797882512211798.\n",
      "[{'Loss': 1.5419161319732666, 'Acc': 0.7609140276908875}]\n",
      "Performance of Standard Forget Model on Forget Class\n",
      "Accuracy: 0.0\n",
      "Loss: 8.56777286529541\n",
      "Performance of Standard Forget Model on Retain Class\n",
      "Accuracy: 67.8759753704071\n",
      "Loss: 0.9361518025398254\n",
      "Performance of Standard Forget Model on Forget Class\n",
      "Accuracy: 0.0\n",
      "Loss: 9.48558521270752\n",
      "Performance of Standard Forget Model on Retain Class\n",
      "Accuracy: 70.6835925579071\n",
      "Loss: 0.8424888849258423\n"
     ]
    },
    {
     "name": "stderr",
     "output_type": "stream",
     "text": [
      "[I 2025-01-09 12:49:26,080] Trial 124 finished with value: 0.8691173888742924 and parameters: {'opt_Epochs': 9, 'opt_Steps': 2, 'opt_Learning_Rate': 0.04635952192198793, 'opt_Batch_Size': 228, 'opt_Number_of_Noise_Batches': 7, 'opt_Regularization_term': 0.26660772467861454, 'opt_Noise_Dim': 401, 'l1': 175, 'l2': 291, 'l3': 592, 'l4': 136, 'l5': 610, 'l6': 398, 'l7': 567, 'n_layers': 5}. Best is trial 91 with value: 0.7797882512211798.\n"
     ]
    },
    {
     "name": "stdout",
     "output_type": "stream",
     "text": [
      "Trial 124 finished with value: 0.8691173888742924 and parameters: {'opt_Epochs': 9, 'opt_Steps': 2, 'opt_Learning_Rate': 0.04635952192198793, 'opt_Batch_Size': 228, 'opt_Number_of_Noise_Batches': 7, 'opt_Regularization_term': 0.26660772467861454, 'opt_Noise_Dim': 401, 'l1': 175, 'l2': 291, 'l3': 592, 'l4': 136, 'l5': 610, 'l6': 398, 'l7': 567, 'n_layers': 5}. Best is trial 91 with value: 0.7797882512211798.\n",
      "Trial 124 finished with value: 0.8691173888742924 and parameters: {'opt_Epochs': 9, 'opt_Steps': 2, 'opt_Learning_Rate': 0.04635952192198793, 'opt_Batch_Size': 228, 'opt_Number_of_Noise_Batches': 7, 'opt_Regularization_term': 0.26660772467861454, 'opt_Noise_Dim': 401, 'l1': 175, 'l2': 291, 'l3': 592, 'l4': 136, 'l5': 610, 'l6': 398, 'l7': 567, 'n_layers': 5}. Best is trial 91 with value: 0.7797882512211798.\n",
      "[{'Loss': 1.5283762216567993, 'Acc': 0.7621046304702759}]\n",
      "Performance of Standard Forget Model on Forget Class\n",
      "Accuracy: 0.0\n",
      "Loss: 7.769351959228516\n",
      "Performance of Standard Forget Model on Retain Class\n",
      "Accuracy: 69.11376714706421\n",
      "Loss: 0.848321259021759\n",
      "Performance of Standard Forget Model on Forget Class\n",
      "Accuracy: 0.0\n",
      "Loss: 9.435529708862305\n",
      "Performance of Standard Forget Model on Retain Class\n",
      "Accuracy: 70.54443359375\n",
      "Loss: 0.817823052406311\n"
     ]
    },
    {
     "name": "stderr",
     "output_type": "stream",
     "text": [
      "[I 2025-01-09 12:50:16,844] Trial 125 finished with value: 0.8457309000194076 and parameters: {'opt_Epochs': 9, 'opt_Steps': 4, 'opt_Learning_Rate': 0.05988973559953498, 'opt_Batch_Size': 285, 'opt_Number_of_Noise_Batches': 6, 'opt_Regularization_term': 0.21713901758997334, 'opt_Noise_Dim': 424, 'l1': 283, 'l2': 224, 'l3': 479, 'l4': 188, 'l5': 910, 'l6': 447, 'l7': 663, 'n_layers': 5}. Best is trial 91 with value: 0.7797882512211798.\n"
     ]
    },
    {
     "name": "stdout",
     "output_type": "stream",
     "text": [
      "Trial 125 finished with value: 0.8457309000194076 and parameters: {'opt_Epochs': 9, 'opt_Steps': 4, 'opt_Learning_Rate': 0.05988973559953498, 'opt_Batch_Size': 285, 'opt_Number_of_Noise_Batches': 6, 'opt_Regularization_term': 0.21713901758997334, 'opt_Noise_Dim': 424, 'l1': 283, 'l2': 224, 'l3': 479, 'l4': 188, 'l5': 910, 'l6': 447, 'l7': 663, 'n_layers': 5}. Best is trial 91 with value: 0.7797882512211798.\n",
      "Trial 125 finished with value: 0.8457309000194076 and parameters: {'opt_Epochs': 9, 'opt_Steps': 4, 'opt_Learning_Rate': 0.05988973559953498, 'opt_Batch_Size': 285, 'opt_Number_of_Noise_Batches': 6, 'opt_Regularization_term': 0.21713901758997334, 'opt_Noise_Dim': 424, 'l1': 283, 'l2': 224, 'l3': 479, 'l4': 188, 'l5': 910, 'l6': 447, 'l7': 663, 'n_layers': 5}. Best is trial 91 with value: 0.7797882512211798.\n",
      "[{'Loss': 1.5293549299240112, 'Acc': 0.7618635892868042}]\n",
      "Performance of Standard Forget Model on Forget Class\n",
      "Accuracy: 0.09765625\n",
      "Loss: 9.374564170837402\n",
      "Performance of Standard Forget Model on Retain Class\n",
      "Accuracy: 65.56152105331421\n",
      "Loss: 0.9889122247695923\n",
      "Performance of Standard Forget Model on Forget Class\n",
      "Accuracy: 0.0\n",
      "Loss: 10.614751815795898\n",
      "Performance of Standard Forget Model on Retain Class\n",
      "Accuracy: 69.9023425579071\n",
      "Loss: 0.844275176525116\n"
     ]
    },
    {
     "name": "stderr",
     "output_type": "stream",
     "text": [
      "[I 2025-01-09 12:51:54,135] Trial 126 finished with value: 0.8923268221318723 and parameters: {'opt_Epochs': 10, 'opt_Steps': 12, 'opt_Learning_Rate': 0.0409680060765924, 'opt_Batch_Size': 257, 'opt_Number_of_Noise_Batches': 7, 'opt_Regularization_term': 0.22653067407969038, 'opt_Noise_Dim': 457, 'l1': 316, 'l2': 380, 'l3': 645, 'l4': 78, 'l5': 1023, 'l6': 453, 'l7': 507, 'n_layers': 6}. Best is trial 91 with value: 0.7797882512211798.\n"
     ]
    },
    {
     "name": "stdout",
     "output_type": "stream",
     "text": [
      "Trial 126 finished with value: 0.8923268221318723 and parameters: {'opt_Epochs': 10, 'opt_Steps': 12, 'opt_Learning_Rate': 0.0409680060765924, 'opt_Batch_Size': 257, 'opt_Number_of_Noise_Batches': 7, 'opt_Regularization_term': 0.22653067407969038, 'opt_Noise_Dim': 457, 'l1': 316, 'l2': 380, 'l3': 645, 'l4': 78, 'l5': 1023, 'l6': 453, 'l7': 507, 'n_layers': 6}. Best is trial 91 with value: 0.7797882512211798.\n",
      "Trial 126 finished with value: 0.8923268221318723 and parameters: {'opt_Epochs': 10, 'opt_Steps': 12, 'opt_Learning_Rate': 0.0409680060765924, 'opt_Batch_Size': 257, 'opt_Number_of_Noise_Batches': 7, 'opt_Regularization_term': 0.22653067407969038, 'opt_Noise_Dim': 457, 'l1': 316, 'l2': 380, 'l3': 645, 'l4': 78, 'l5': 1023, 'l6': 453, 'l7': 507, 'n_layers': 6}. Best is trial 91 with value: 0.7797882512211798.\n",
      "[{'Loss': 1.5363095998764038, 'Acc': 0.7613170742988586}]\n",
      "Performance of Standard Forget Model on Forget Class\n",
      "Accuracy: 0.0\n",
      "Loss: 7.979055404663086\n",
      "Performance of Standard Forget Model on Retain Class\n",
      "Accuracy: 67.5122082233429\n",
      "Loss: 0.9098149538040161\n",
      "Performance of Standard Forget Model on Forget Class\n",
      "Accuracy: 0.0\n",
      "Loss: 9.982305526733398\n",
      "Performance of Standard Forget Model on Retain Class\n",
      "Accuracy: 72.37793207168579\n",
      "Loss: 0.785348653793335\n"
     ]
    },
    {
     "name": "stderr",
     "output_type": "stream",
     "text": [
      "[I 2025-01-09 12:52:57,283] Trial 127 finished with value: 0.81178173199296 and parameters: {'opt_Epochs': 9, 'opt_Steps': 9, 'opt_Learning_Rate': 0.06978916558517818, 'opt_Batch_Size': 211, 'opt_Number_of_Noise_Batches': 7, 'opt_Regularization_term': 0.19034861896063554, 'opt_Noise_Dim': 346, 'l1': 332, 'l2': 304, 'l3': 355, 'l4': 149, 'l5': 483, 'l6': 423, 'l7': 470, 'n_layers': 5}. Best is trial 91 with value: 0.7797882512211798.\n"
     ]
    },
    {
     "name": "stdout",
     "output_type": "stream",
     "text": [
      "Trial 127 finished with value: 0.81178173199296 and parameters: {'opt_Epochs': 9, 'opt_Steps': 9, 'opt_Learning_Rate': 0.06978916558517818, 'opt_Batch_Size': 211, 'opt_Number_of_Noise_Batches': 7, 'opt_Regularization_term': 0.19034861896063554, 'opt_Noise_Dim': 346, 'l1': 332, 'l2': 304, 'l3': 355, 'l4': 149, 'l5': 483, 'l6': 423, 'l7': 470, 'n_layers': 5}. Best is trial 91 with value: 0.7797882512211798.\n",
      "Trial 127 finished with value: 0.81178173199296 and parameters: {'opt_Epochs': 9, 'opt_Steps': 9, 'opt_Learning_Rate': 0.06978916558517818, 'opt_Batch_Size': 211, 'opt_Number_of_Noise_Batches': 7, 'opt_Regularization_term': 0.19034861896063554, 'opt_Noise_Dim': 346, 'l1': 332, 'l2': 304, 'l3': 355, 'l4': 149, 'l5': 483, 'l6': 423, 'l7': 470, 'n_layers': 5}. Best is trial 91 with value: 0.7797882512211798.\n"
     ]
    }
   ],
   "source": [
    "def objective(trial):\n",
    "\n",
    "    opt_Epochs = trial.suggest_int('opt_Epochs', 1, 10)\n",
    "    opt_Steps = trial.suggest_int('opt_Steps', 1, 20)\n",
    "    opt_Learning_Rate = trial.suggest_float('opt_Learning_Rate', 0.01, 0.3)\n",
    "    opt_Batch_Size = trial.suggest_int('opt_Batch_Size', 32, 512)\n",
    "    opt_Number_of_Noise_Batches = trial.suggest_int('opt_Number_of_Noise_Batches', 1, 10)\n",
    "    opt_Regularization_term = trial.suggest_float('opt_Regularization_term', 0.01, 0.3)\n",
    "    opt_Noise_Dim = trial.suggest_int('opt_Noise_Dim', 1, 512)\n",
    "\n",
    "    # print(f\"Epochs: {opt_Epochs} |\\nSteps: {opt_Steps} |\\nLearning Rate: {opt_Learning_Rate} |\\nBatch Size: {opt_Batch_Size} |\\nNoise Batches: {opt_Number_of_Noise_Batches} |\\nRegularization Term: {opt_Regularization_term} |\\nNoise Dim: {opt_Noise_Dim}\")\n",
    "\n",
    "    l1 = trial.suggest_int('l1', 32, 1024)\n",
    "    l2 = trial.suggest_int('l2', 32, 1024)\n",
    "    l3 = trial.suggest_int('l3', 32, 1024)\n",
    "    l4 = trial.suggest_int('l4', 32, 1024)\n",
    "    l5 = trial.suggest_int('l5', 32, 1024)\n",
    "    l6 = trial.suggest_int('l6', 32, 1024)\n",
    "    l7 = trial.suggest_int('l7', 32, 1024)\n",
    "    n_layers = trial.suggest_int('n_layers', 1, 7)\n",
    "\n",
    "    Layers = [l1, l2, l3, l4, l5, l6, l7]\n",
    "    Layers = Layers[:n_layers]\n",
    "    # print(\"Layers: \", Layers)\n",
    "\n",
    "    mod = main(\n",
    "        t_Epochs = opt_Epochs,\n",
    "        t_Steps= opt_Steps,\n",
    "        t_Learning_Rate = opt_Learning_Rate,\n",
    "        t_Batch_Size = opt_Batch_Size,\n",
    "        t_Number_of_Noise_Batches = opt_Number_of_Noise_Batches,\n",
    "        t_Regularization_term = opt_Regularization_term,\n",
    "        t_Layers = Layers,\n",
    "        t_Noise_Dim = opt_Noise_Dim,\n",
    "        new_baseline=False,\n",
    "        logs=False,\n",
    "        model_eval_logs=True,\n",
    "    )\n",
    "    \n",
    "    data_dir = f'data{os.sep}cifar10'\n",
    "\n",
    "    transform_test = tt.Compose([\n",
    "        tt.ToTensor(),\n",
    "        tt.Normalize((0.4914, 0.4822, 0.4465), (0.2023, 0.1994, 0.2010)),\n",
    "    ])\n",
    "\n",
    "    valid_ds = ImageFolder(data_dir+f'{os.sep}test', transform_test)\n",
    "    valid_dl = DataLoader(valid_ds, 256,)\n",
    "\n",
    "    exact = resnet18(num_classes = 10)\n",
    "    exact.load_state_dict(torch.load(\"ResNET18_CIFAR10_RETAIN_CLASSES.pt\", weights_only=True))\n",
    "    div = kl_divergence_between_models(\n",
    "        model1 = mod,\n",
    "        model2 = exact,\n",
    "        data_loader = valid_dl,\n",
    "    )\n",
    "\n",
    "    return div\n",
    "\n",
    "study.optimize(objective, n_trials=10)\n",
    "\n",
    "import pickle\n",
    "\n",
    "# Save the sampler with pickle to be loaded later.\n",
    "with open(\"sampler.pkl\", \"wb\") as fout:\n",
    "    pickle.dump(study.sampler, fout)"
   ]
  },
  {
   "cell_type": "markdown",
   "metadata": {},
   "source": [
    "___\n",
    "\n",
    "### Standard Parameters"
   ]
  },
  {
   "cell_type": "code",
   "execution_count": null,
   "metadata": {},
   "outputs": [],
   "source": [
    "# n0 = 5000\n",
    "# n2 = 5000\n",
    "# batch_size = 128\n",
    "\n",
    "# standard_model, standard_history = main(\n",
    "#     t_Epochs = 5,\n",
    "#     t_Steps= int((n0 + n2)/(2 * batch_size)), # The Idea is to have the same amount of updates as their are samples to unlearn\n",
    "#     t_Learning_Rate = 0.1,\n",
    "#     t_Batch_Size = batch_size,\n",
    "#     t_Number_of_Noise_Batches = 10,\n",
    "#     t_Regularization_term = 0.1,\n",
    "#     t_Layers = [1000],\n",
    "#     t_Noise_Dim = 100,\n",
    "#     new_baseline=True,\n",
    "#     logs=True,\n",
    "# )"
   ]
  },
  {
   "cell_type": "markdown",
   "metadata": {},
   "source": [
    "___"
   ]
  },
  {
   "cell_type": "code",
   "execution_count": 10,
   "metadata": {},
   "outputs": [
    {
     "data": {
      "text/plain": [
       "<All keys matched successfully>"
      ]
     },
     "execution_count": 10,
     "metadata": {},
     "output_type": "execute_result"
    }
   ],
   "source": [
    "from torchvision.models import resnet18\n",
    "import torch\n",
    "\n",
    "DEVICE = \"cuda:0\" if torch.cuda.is_available() else \"cpu\"\n",
    "\n",
    "train = resnet18(num_classes = 10).to(DEVICE)\n",
    "train.load_state_dict(torch.load(\"ResNET18_CIFAR10_ALL_CLASSES.pt\",     weights_only=True))\n",
    "\n",
    "exact = resnet18(num_classes = 10).to(DEVICE)\n",
    "exact.load_state_dict(torch.load(\"ResNET18_CIFAR10_RETAIN_CLASSES.pt\",  weights_only=True))"
   ]
  },
  {
   "cell_type": "code",
   "execution_count": 11,
   "metadata": {},
   "outputs": [
    {
     "name": "stderr",
     "output_type": "stream",
     "text": [
      "                                                                 \r"
     ]
    },
    {
     "data": {
      "text/plain": [
       "5.689457863167213e-11"
      ]
     },
     "execution_count": 11,
     "metadata": {},
     "output_type": "execute_result"
    }
   ],
   "source": [
    "from src.metrics import kl_divergence_between_models\n",
    "import os\n",
    "import torchvision.transforms as tt\n",
    "from torch.utils.data import DataLoader\n",
    "from torchvision.datasets import ImageFolder\n",
    "\n",
    "batch_size = 256\n",
    "data_dir = f'data{os.sep}cifar10'\n",
    "\n",
    "transform_test = tt.Compose([\n",
    "    tt.ToTensor(),\n",
    "    tt.Normalize((0.4914, 0.4822, 0.4465), (0.2023, 0.1994, 0.2010)),\n",
    "])\n",
    "\n",
    "valid_ds = ImageFolder(data_dir+f'{os.sep}test', transform_test)\n",
    "valid_dl = DataLoader(valid_ds, batch_size, shuffle=False)\n",
    "\n",
    "kl_divergence_between_models(model1 = train, model2 = train, data_loader = valid_dl)"
   ]
  },
  {
   "cell_type": "code",
   "execution_count": 12,
   "metadata": {},
   "outputs": [
    {
     "name": "stderr",
     "output_type": "stream",
     "text": [
      "                                                                 \r"
     ]
    },
    {
     "data": {
      "text/plain": [
       "8.839433386642615e-11"
      ]
     },
     "execution_count": 12,
     "metadata": {},
     "output_type": "execute_result"
    }
   ],
   "source": [
    "kl_divergence_between_models(model1=exact, model2=exact, data_loader=valid_dl)"
   ]
  },
  {
   "cell_type": "code",
   "execution_count": 13,
   "metadata": {},
   "outputs": [
    {
     "name": "stderr",
     "output_type": "stream",
     "text": [
      "                                                                 \r"
     ]
    },
    {
     "data": {
      "text/plain": [
       "3.39561687707901"
      ]
     },
     "execution_count": 13,
     "metadata": {},
     "output_type": "execute_result"
    }
   ],
   "source": [
    "kl_divergence_between_models(model1=train, model2=exact, data_loader=valid_dl)"
   ]
  },
  {
   "cell_type": "code",
   "execution_count": 14,
   "metadata": {},
   "outputs": [
    {
     "name": "stderr",
     "output_type": "stream",
     "text": [
      "                                                                 \r"
     ]
    },
    {
     "data": {
      "text/plain": [
       "3.2414690941572184"
      ]
     },
     "execution_count": 14,
     "metadata": {},
     "output_type": "execute_result"
    }
   ],
   "source": [
    "kl_divergence_between_models(model1=exact, model2=train, data_loader=valid_dl)"
   ]
  }
 ],
 "metadata": {
  "kernelspec": {
   "display_name": "bach.conda",
   "language": "python",
   "name": "python3"
  },
  "language_info": {
   "codemirror_mode": {
    "name": "ipython",
    "version": 3
   },
   "file_extension": ".py",
   "mimetype": "text/x-python",
   "name": "python",
   "nbconvert_exporter": "python",
   "pygments_lexer": "ipython3",
   "version": "3.12.8"
  }
 },
 "nbformat": 4,
 "nbformat_minor": 2
}
