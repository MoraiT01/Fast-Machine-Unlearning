{
 "cells": [
  {
   "cell_type": "markdown",
   "metadata": {},
   "source": [
    "# Hyperparameter Finetuning\n",
    "\n",
    "We want to find the right parameters for the Generator Network.\n",
    "\n",
    "By using the best values for the following parameters:\n",
    "\n",
    "- Number of Epochs (meaning `num_epochs` and `num_steps`)\n",
    "- Learning Rate\n",
    "- Batch Size\n",
    "- Number of Noise Batches\n",
    "- Number of Layers\n",
    "- Regularization term\n",
    "- Number of Neurons for each Network"
   ]
  },
  {
   "cell_type": "code",
   "execution_count": 5,
   "metadata": {},
   "outputs": [
    {
     "data": {
      "text/plain": [
       "'cuda:0'"
      ]
     },
     "execution_count": 5,
     "metadata": {},
     "output_type": "execute_result"
    }
   ],
   "source": [
    "from src.fyemu_tunable import main, evaluate\n",
    "import torch\n",
    "import os\n",
    "import torchvision.transforms as tt\n",
    "from torch.utils.data import DataLoader\n",
    "from torchvision.datasets import ImageFolder\n",
    "import optuna\n",
    "import random\n",
    "from typing import Dict\n",
    "from torchvision.models import resnet18\n",
    "\n",
    "from src.metrics import kl_divergence_between_models\n",
    "\n",
    "DEVICE = \"cuda:0\" if torch.cuda.is_available() else \"cpu\"\n",
    "DEVICE"
   ]
  },
  {
   "cell_type": "code",
   "execution_count": 21,
   "metadata": {},
   "outputs": [],
   "source": [
    "def load_models_dict(path: str=\"data/new/models\") -> Dict[str, torch.nn.Module]:\n",
    "    de = torch.device(\"cuda\" if torch.cuda.is_available() else \"cpu\")\n",
    "    model = resnet18(num_classes = 10).to(de)\n",
    "    \n",
    "    # load all the models\n",
    "    md = {}\n",
    "    for list in os.listdir(path):\n",
    "        \n",
    "        model.load_state_dict(torch.load(f=os.path.join(path, list), map_location=DEVICE, weights_only=True))\n",
    "        model.eval()\n",
    "        md[len(md)] = model\n",
    "\n",
    "    return md"
   ]
  },
  {
   "cell_type": "markdown",
   "metadata": {},
   "source": [
    "Check out this little tutorial, to see how we handle the optimization using save states:\n",
    "\n",
    "https://optuna.readthedocs.io/en/stable/tutorial/20_recipes/001_rdb.html"
   ]
  },
  {
   "cell_type": "code",
   "execution_count": 7,
   "metadata": {},
   "outputs": [
    {
     "name": "stderr",
     "output_type": "stream",
     "text": [
      "[I 2025-01-20 09:03:39,593] Using an existing study with name 'GeneratorOpti2' instead of creating a new one.\n"
     ]
    },
    {
     "name": "stdout",
     "output_type": "stream",
     "text": [
      "Using an existing study with name 'GeneratorOpti2' instead of creating a new one.\n",
      "Using an existing study with name 'GeneratorOpti2' instead of creating a new one.\n"
     ]
    }
   ],
   "source": [
    "import logging\n",
    "import sys\n",
    "import pickle\n",
    "import optuna\n",
    "\n",
    "# Add stream handler of stdout to show the messages\n",
    "optuna.logging.get_logger(\"optuna\").addHandler(logging.StreamHandler(sys.stdout))\n",
    "study_name = \"GeneratorOpti2\"  # Unique identifier of the study.\n",
    "storage_name = \"sqlite:///{}.db\".format(study_name)\n",
    "\n",
    "if os.path.exists(\"sampler2.pkl\"):\n",
    "    restored_sampler = pickle.load(open(\"sampler2.pkl\", \"rb\"))\n",
    "    study = optuna.create_study(study_name=study_name, storage=storage_name, load_if_exists=True, sampler=restored_sampler)\n",
    "else:\n",
    "    study = optuna.create_study(study_name=study_name, storage=storage_name, load_if_exists=True)"
   ]
  },
  {
   "cell_type": "code",
   "execution_count": 8,
   "metadata": {},
   "outputs": [
    {
     "name": "stderr",
     "output_type": "stream",
     "text": [
      "[I 2025-01-20 09:04:07,066] Trial 101 finished with value: 2.5965034320950506 and parameters: {'opt_Epochs': 2, 'opt_Steps': 8, 'opt_Learning_Rate': 0.0370144068163447, 'opt_Batch_Size': 89, 'opt_Number_of_Noise_Batches': 10, 'opt_Regularization_term': 0.21092407384220052, 'opt_Noise_Dim': 307, 'n_layers': 4}. Best is trial 96 with value: 2.2524891793727884.\n"
     ]
    },
    {
     "name": "stdout",
     "output_type": "stream",
     "text": [
      "Trial 101 finished with value: 2.5965034320950506 and parameters: {'opt_Epochs': 2, 'opt_Steps': 8, 'opt_Learning_Rate': 0.0370144068163447, 'opt_Batch_Size': 89, 'opt_Number_of_Noise_Batches': 10, 'opt_Regularization_term': 0.21092407384220052, 'opt_Noise_Dim': 307, 'n_layers': 4}. Best is trial 96 with value: 2.2524891793727884.\n",
      "Trial 101 finished with value: 2.5965034320950506 and parameters: {'opt_Epochs': 2, 'opt_Steps': 8, 'opt_Learning_Rate': 0.0370144068163447, 'opt_Batch_Size': 89, 'opt_Number_of_Noise_Batches': 10, 'opt_Regularization_term': 0.21092407384220052, 'opt_Noise_Dim': 307, 'n_layers': 4}. Best is trial 96 with value: 2.2524891793727884.\n"
     ]
    },
    {
     "name": "stderr",
     "output_type": "stream",
     "text": [
      "[I 2025-01-20 09:04:31,996] Trial 102 finished with value: 2.6940812960267078 and parameters: {'opt_Epochs': 1, 'opt_Steps': 13, 'opt_Learning_Rate': 0.03218001149978253, 'opt_Batch_Size': 205, 'opt_Number_of_Noise_Batches': 7, 'opt_Regularization_term': 0.23291959264837864, 'opt_Noise_Dim': 437, 'n_layers': 2}. Best is trial 96 with value: 2.2524891793727884.\n"
     ]
    },
    {
     "name": "stdout",
     "output_type": "stream",
     "text": [
      "Trial 102 finished with value: 2.6940812960267078 and parameters: {'opt_Epochs': 1, 'opt_Steps': 13, 'opt_Learning_Rate': 0.03218001149978253, 'opt_Batch_Size': 205, 'opt_Number_of_Noise_Batches': 7, 'opt_Regularization_term': 0.23291959264837864, 'opt_Noise_Dim': 437, 'n_layers': 2}. Best is trial 96 with value: 2.2524891793727884.\n",
      "Trial 102 finished with value: 2.6940812960267078 and parameters: {'opt_Epochs': 1, 'opt_Steps': 13, 'opt_Learning_Rate': 0.03218001149978253, 'opt_Batch_Size': 205, 'opt_Number_of_Noise_Batches': 7, 'opt_Regularization_term': 0.23291959264837864, 'opt_Noise_Dim': 437, 'n_layers': 2}. Best is trial 96 with value: 2.2524891793727884.\n"
     ]
    },
    {
     "name": "stderr",
     "output_type": "stream",
     "text": [
      "[I 2025-01-20 09:05:03,971] Trial 103 finished with value: 2.6948665171861657 and parameters: {'opt_Epochs': 2, 'opt_Steps': 14, 'opt_Learning_Rate': 0.18526503258932397, 'opt_Batch_Size': 150, 'opt_Number_of_Noise_Batches': 5, 'opt_Regularization_term': 0.2240879130770853, 'opt_Noise_Dim': 406, 'n_layers': 5}. Best is trial 96 with value: 2.2524891793727884.\n"
     ]
    },
    {
     "name": "stdout",
     "output_type": "stream",
     "text": [
      "Trial 103 finished with value: 2.6948665171861657 and parameters: {'opt_Epochs': 2, 'opt_Steps': 14, 'opt_Learning_Rate': 0.18526503258932397, 'opt_Batch_Size': 150, 'opt_Number_of_Noise_Batches': 5, 'opt_Regularization_term': 0.2240879130770853, 'opt_Noise_Dim': 406, 'n_layers': 5}. Best is trial 96 with value: 2.2524891793727884.\n",
      "Trial 103 finished with value: 2.6948665171861657 and parameters: {'opt_Epochs': 2, 'opt_Steps': 14, 'opt_Learning_Rate': 0.18526503258932397, 'opt_Batch_Size': 150, 'opt_Number_of_Noise_Batches': 5, 'opt_Regularization_term': 0.2240879130770853, 'opt_Noise_Dim': 406, 'n_layers': 5}. Best is trial 96 with value: 2.2524891793727884.\n"
     ]
    },
    {
     "name": "stderr",
     "output_type": "stream",
     "text": [
      "[I 2025-01-20 09:05:37,211] Trial 104 finished with value: 2.8887692064046853 and parameters: {'opt_Epochs': 1, 'opt_Steps': 11, 'opt_Learning_Rate': 0.20821621017637335, 'opt_Batch_Size': 439, 'opt_Number_of_Noise_Batches': 7, 'opt_Regularization_term': 0.24146898783251664, 'opt_Noise_Dim': 427, 'n_layers': 3}. Best is trial 96 with value: 2.2524891793727884.\n"
     ]
    },
    {
     "name": "stdout",
     "output_type": "stream",
     "text": [
      "Trial 104 finished with value: 2.8887692064046853 and parameters: {'opt_Epochs': 1, 'opt_Steps': 11, 'opt_Learning_Rate': 0.20821621017637335, 'opt_Batch_Size': 439, 'opt_Number_of_Noise_Batches': 7, 'opt_Regularization_term': 0.24146898783251664, 'opt_Noise_Dim': 427, 'n_layers': 3}. Best is trial 96 with value: 2.2524891793727884.\n",
      "Trial 104 finished with value: 2.8887692064046853 and parameters: {'opt_Epochs': 1, 'opt_Steps': 11, 'opt_Learning_Rate': 0.20821621017637335, 'opt_Batch_Size': 439, 'opt_Number_of_Noise_Batches': 7, 'opt_Regularization_term': 0.24146898783251664, 'opt_Noise_Dim': 427, 'n_layers': 3}. Best is trial 96 with value: 2.2524891793727884.\n"
     ]
    },
    {
     "name": "stderr",
     "output_type": "stream",
     "text": [
      "[I 2025-01-20 09:06:06,935] Trial 105 finished with value: 2.6921067476272587 and parameters: {'opt_Epochs': 3, 'opt_Steps': 7, 'opt_Learning_Rate': 0.01563412788925887, 'opt_Batch_Size': 161, 'opt_Number_of_Noise_Batches': 10, 'opt_Regularization_term': 0.19780322830532368, 'opt_Noise_Dim': 455, 'n_layers': 4}. Best is trial 96 with value: 2.2524891793727884.\n"
     ]
    },
    {
     "name": "stdout",
     "output_type": "stream",
     "text": [
      "Trial 105 finished with value: 2.6921067476272587 and parameters: {'opt_Epochs': 3, 'opt_Steps': 7, 'opt_Learning_Rate': 0.01563412788925887, 'opt_Batch_Size': 161, 'opt_Number_of_Noise_Batches': 10, 'opt_Regularization_term': 0.19780322830532368, 'opt_Noise_Dim': 455, 'n_layers': 4}. Best is trial 96 with value: 2.2524891793727884.\n",
      "Trial 105 finished with value: 2.6921067476272587 and parameters: {'opt_Epochs': 3, 'opt_Steps': 7, 'opt_Learning_Rate': 0.01563412788925887, 'opt_Batch_Size': 161, 'opt_Number_of_Noise_Batches': 10, 'opt_Regularization_term': 0.19780322830532368, 'opt_Noise_Dim': 455, 'n_layers': 4}. Best is trial 96 with value: 2.2524891793727884.\n"
     ]
    },
    {
     "name": "stderr",
     "output_type": "stream",
     "text": [
      "[I 2025-01-20 09:06:42,597] Trial 106 finished with value: 2.5442444235086437 and parameters: {'opt_Epochs': 7, 'opt_Steps': 8, 'opt_Learning_Rate': 0.05880854946630666, 'opt_Batch_Size': 134, 'opt_Number_of_Noise_Batches': 9, 'opt_Regularization_term': 0.25302339144727365, 'opt_Noise_Dim': 387, 'n_layers': 3}. Best is trial 96 with value: 2.2524891793727884.\n"
     ]
    },
    {
     "name": "stdout",
     "output_type": "stream",
     "text": [
      "Trial 106 finished with value: 2.5442444235086437 and parameters: {'opt_Epochs': 7, 'opt_Steps': 8, 'opt_Learning_Rate': 0.05880854946630666, 'opt_Batch_Size': 134, 'opt_Number_of_Noise_Batches': 9, 'opt_Regularization_term': 0.25302339144727365, 'opt_Noise_Dim': 387, 'n_layers': 3}. Best is trial 96 with value: 2.2524891793727884.\n",
      "Trial 106 finished with value: 2.5442444235086437 and parameters: {'opt_Epochs': 7, 'opt_Steps': 8, 'opt_Learning_Rate': 0.05880854946630666, 'opt_Batch_Size': 134, 'opt_Number_of_Noise_Batches': 9, 'opt_Regularization_term': 0.25302339144727365, 'opt_Noise_Dim': 387, 'n_layers': 3}. Best is trial 96 with value: 2.2524891793727884.\n"
     ]
    },
    {
     "name": "stderr",
     "output_type": "stream",
     "text": [
      "[I 2025-01-20 09:07:20,608] Trial 107 finished with value: 2.4533682495355604 and parameters: {'opt_Epochs': 4, 'opt_Steps': 9, 'opt_Learning_Rate': 0.2840562013620673, 'opt_Batch_Size': 178, 'opt_Number_of_Noise_Batches': 8, 'opt_Regularization_term': 0.27097032454843745, 'opt_Noise_Dim': 443, 'n_layers': 5}. Best is trial 96 with value: 2.2524891793727884.\n"
     ]
    },
    {
     "name": "stdout",
     "output_type": "stream",
     "text": [
      "Trial 107 finished with value: 2.4533682495355604 and parameters: {'opt_Epochs': 4, 'opt_Steps': 9, 'opt_Learning_Rate': 0.2840562013620673, 'opt_Batch_Size': 178, 'opt_Number_of_Noise_Batches': 8, 'opt_Regularization_term': 0.27097032454843745, 'opt_Noise_Dim': 443, 'n_layers': 5}. Best is trial 96 with value: 2.2524891793727884.\n",
      "Trial 107 finished with value: 2.4533682495355604 and parameters: {'opt_Epochs': 4, 'opt_Steps': 9, 'opt_Learning_Rate': 0.2840562013620673, 'opt_Batch_Size': 178, 'opt_Number_of_Noise_Batches': 8, 'opt_Regularization_term': 0.27097032454843745, 'opt_Noise_Dim': 443, 'n_layers': 5}. Best is trial 96 with value: 2.2524891793727884.\n"
     ]
    },
    {
     "name": "stderr",
     "output_type": "stream",
     "text": [
      "[I 2025-01-20 09:07:54,999] Trial 108 finished with value: 2.724548715353012 and parameters: {'opt_Epochs': 3, 'opt_Steps': 6, 'opt_Learning_Rate': 0.19851174430776367, 'opt_Batch_Size': 227, 'opt_Number_of_Noise_Batches': 9, 'opt_Regularization_term': 0.2995542444408215, 'opt_Noise_Dim': 480, 'n_layers': 4}. Best is trial 96 with value: 2.2524891793727884.\n"
     ]
    },
    {
     "name": "stdout",
     "output_type": "stream",
     "text": [
      "Trial 108 finished with value: 2.724548715353012 and parameters: {'opt_Epochs': 3, 'opt_Steps': 6, 'opt_Learning_Rate': 0.19851174430776367, 'opt_Batch_Size': 227, 'opt_Number_of_Noise_Batches': 9, 'opt_Regularization_term': 0.2995542444408215, 'opt_Noise_Dim': 480, 'n_layers': 4}. Best is trial 96 with value: 2.2524891793727884.\n",
      "Trial 108 finished with value: 2.724548715353012 and parameters: {'opt_Epochs': 3, 'opt_Steps': 6, 'opt_Learning_Rate': 0.19851174430776367, 'opt_Batch_Size': 227, 'opt_Number_of_Noise_Batches': 9, 'opt_Regularization_term': 0.2995542444408215, 'opt_Noise_Dim': 480, 'n_layers': 4}. Best is trial 96 with value: 2.2524891793727884.\n"
     ]
    },
    {
     "name": "stderr",
     "output_type": "stream",
     "text": [
      "[I 2025-01-20 09:08:22,379] Trial 109 finished with value: 2.76479668021202 and parameters: {'opt_Epochs': 2, 'opt_Steps': 7, 'opt_Learning_Rate': 0.1216174127878775, 'opt_Batch_Size': 259, 'opt_Number_of_Noise_Batches': 1, 'opt_Regularization_term': 0.284983557301818, 'opt_Noise_Dim': 462, 'n_layers': 3}. Best is trial 96 with value: 2.2524891793727884.\n"
     ]
    },
    {
     "name": "stdout",
     "output_type": "stream",
     "text": [
      "Trial 109 finished with value: 2.76479668021202 and parameters: {'opt_Epochs': 2, 'opt_Steps': 7, 'opt_Learning_Rate': 0.1216174127878775, 'opt_Batch_Size': 259, 'opt_Number_of_Noise_Batches': 1, 'opt_Regularization_term': 0.284983557301818, 'opt_Noise_Dim': 462, 'n_layers': 3}. Best is trial 96 with value: 2.2524891793727884.\n",
      "Trial 109 finished with value: 2.76479668021202 and parameters: {'opt_Epochs': 2, 'opt_Steps': 7, 'opt_Learning_Rate': 0.1216174127878775, 'opt_Batch_Size': 259, 'opt_Number_of_Noise_Batches': 1, 'opt_Regularization_term': 0.284983557301818, 'opt_Noise_Dim': 462, 'n_layers': 3}. Best is trial 96 with value: 2.2524891793727884.\n"
     ]
    },
    {
     "name": "stderr",
     "output_type": "stream",
     "text": [
      "[I 2025-01-20 09:09:11,895] Trial 110 finished with value: 2.5898348346352567 and parameters: {'opt_Epochs': 5, 'opt_Steps': 10, 'opt_Learning_Rate': 0.2411517399788193, 'opt_Batch_Size': 272, 'opt_Number_of_Noise_Batches': 8, 'opt_Regularization_term': 0.24858078494283534, 'opt_Noise_Dim': 492, 'n_layers': 4}. Best is trial 96 with value: 2.2524891793727884.\n"
     ]
    },
    {
     "name": "stdout",
     "output_type": "stream",
     "text": [
      "Trial 110 finished with value: 2.5898348346352567 and parameters: {'opt_Epochs': 5, 'opt_Steps': 10, 'opt_Learning_Rate': 0.2411517399788193, 'opt_Batch_Size': 272, 'opt_Number_of_Noise_Batches': 8, 'opt_Regularization_term': 0.24858078494283534, 'opt_Noise_Dim': 492, 'n_layers': 4}. Best is trial 96 with value: 2.2524891793727884.\n",
      "Trial 110 finished with value: 2.5898348346352567 and parameters: {'opt_Epochs': 5, 'opt_Steps': 10, 'opt_Learning_Rate': 0.2411517399788193, 'opt_Batch_Size': 272, 'opt_Number_of_Noise_Batches': 8, 'opt_Regularization_term': 0.24858078494283534, 'opt_Noise_Dim': 492, 'n_layers': 4}. Best is trial 96 with value: 2.2524891793727884.\n"
     ]
    },
    {
     "name": "stderr",
     "output_type": "stream",
     "text": [
      "[I 2025-01-20 09:09:36,410] Trial 111 finished with value: 2.786395940184593 and parameters: {'opt_Epochs': 3, 'opt_Steps': 5, 'opt_Learning_Rate': 0.22514908608532802, 'opt_Batch_Size': 152, 'opt_Number_of_Noise_Batches': 4, 'opt_Regularization_term': 0.2772403765950154, 'opt_Noise_Dim': 415, 'n_layers': 1}. Best is trial 96 with value: 2.2524891793727884.\n"
     ]
    },
    {
     "name": "stdout",
     "output_type": "stream",
     "text": [
      "Trial 111 finished with value: 2.786395940184593 and parameters: {'opt_Epochs': 3, 'opt_Steps': 5, 'opt_Learning_Rate': 0.22514908608532802, 'opt_Batch_Size': 152, 'opt_Number_of_Noise_Batches': 4, 'opt_Regularization_term': 0.2772403765950154, 'opt_Noise_Dim': 415, 'n_layers': 1}. Best is trial 96 with value: 2.2524891793727884.\n",
      "Trial 111 finished with value: 2.786395940184593 and parameters: {'opt_Epochs': 3, 'opt_Steps': 5, 'opt_Learning_Rate': 0.22514908608532802, 'opt_Batch_Size': 152, 'opt_Number_of_Noise_Batches': 4, 'opt_Regularization_term': 0.2772403765950154, 'opt_Noise_Dim': 415, 'n_layers': 1}. Best is trial 96 with value: 2.2524891793727884.\n"
     ]
    },
    {
     "name": "stderr",
     "output_type": "stream",
     "text": [
      "[I 2025-01-20 09:10:03,585] Trial 112 finished with value: 2.693937805294991 and parameters: {'opt_Epochs': 2, 'opt_Steps': 8, 'opt_Learning_Rate': 0.2618201291059047, 'opt_Batch_Size': 197, 'opt_Number_of_Noise_Batches': 10, 'opt_Regularization_term': 0.26107379611239034, 'opt_Noise_Dim': 232, 'n_layers': 2}. Best is trial 96 with value: 2.2524891793727884.\n"
     ]
    },
    {
     "name": "stdout",
     "output_type": "stream",
     "text": [
      "Trial 112 finished with value: 2.693937805294991 and parameters: {'opt_Epochs': 2, 'opt_Steps': 8, 'opt_Learning_Rate': 0.2618201291059047, 'opt_Batch_Size': 197, 'opt_Number_of_Noise_Batches': 10, 'opt_Regularization_term': 0.26107379611239034, 'opt_Noise_Dim': 232, 'n_layers': 2}. Best is trial 96 with value: 2.2524891793727884.\n",
      "Trial 112 finished with value: 2.693937805294991 and parameters: {'opt_Epochs': 2, 'opt_Steps': 8, 'opt_Learning_Rate': 0.2618201291059047, 'opt_Batch_Size': 197, 'opt_Number_of_Noise_Batches': 10, 'opt_Regularization_term': 0.26107379611239034, 'opt_Noise_Dim': 232, 'n_layers': 2}. Best is trial 96 with value: 2.2524891793727884.\n"
     ]
    },
    {
     "name": "stderr",
     "output_type": "stream",
     "text": [
      "[I 2025-01-20 09:10:47,405] Trial 113 finished with value: 2.732474303245544 and parameters: {'opt_Epochs': 4, 'opt_Steps': 9, 'opt_Learning_Rate': 0.04520751399401421, 'opt_Batch_Size': 215, 'opt_Number_of_Noise_Batches': 9, 'opt_Regularization_term': 0.17408152554201334, 'opt_Noise_Dim': 373, 'n_layers': 6}. Best is trial 96 with value: 2.2524891793727884.\n"
     ]
    },
    {
     "name": "stdout",
     "output_type": "stream",
     "text": [
      "Trial 113 finished with value: 2.732474303245544 and parameters: {'opt_Epochs': 4, 'opt_Steps': 9, 'opt_Learning_Rate': 0.04520751399401421, 'opt_Batch_Size': 215, 'opt_Number_of_Noise_Batches': 9, 'opt_Regularization_term': 0.17408152554201334, 'opt_Noise_Dim': 373, 'n_layers': 6}. Best is trial 96 with value: 2.2524891793727884.\n",
      "Trial 113 finished with value: 2.732474303245544 and parameters: {'opt_Epochs': 4, 'opt_Steps': 9, 'opt_Learning_Rate': 0.04520751399401421, 'opt_Batch_Size': 215, 'opt_Number_of_Noise_Batches': 9, 'opt_Regularization_term': 0.17408152554201334, 'opt_Noise_Dim': 373, 'n_layers': 6}. Best is trial 96 with value: 2.2524891793727884.\n"
     ]
    },
    {
     "name": "stderr",
     "output_type": "stream",
     "text": [
      "[I 2025-01-20 09:11:17,230] Trial 114 finished with value: 2.2227095395326613 and parameters: {'opt_Epochs': 3, 'opt_Steps': 6, 'opt_Learning_Rate': 0.024482118168067918, 'opt_Batch_Size': 187, 'opt_Number_of_Noise_Batches': 6, 'opt_Regularization_term': 0.2292033287279489, 'opt_Noise_Dim': 434, 'n_layers': 5}. Best is trial 114 with value: 2.2227095395326613.\n"
     ]
    },
    {
     "name": "stdout",
     "output_type": "stream",
     "text": [
      "Trial 114 finished with value: 2.2227095395326613 and parameters: {'opt_Epochs': 3, 'opt_Steps': 6, 'opt_Learning_Rate': 0.024482118168067918, 'opt_Batch_Size': 187, 'opt_Number_of_Noise_Batches': 6, 'opt_Regularization_term': 0.2292033287279489, 'opt_Noise_Dim': 434, 'n_layers': 5}. Best is trial 114 with value: 2.2227095395326613.\n",
      "Trial 114 finished with value: 2.2227095395326613 and parameters: {'opt_Epochs': 3, 'opt_Steps': 6, 'opt_Learning_Rate': 0.024482118168067918, 'opt_Batch_Size': 187, 'opt_Number_of_Noise_Batches': 6, 'opt_Regularization_term': 0.2292033287279489, 'opt_Noise_Dim': 434, 'n_layers': 5}. Best is trial 114 with value: 2.2227095395326613.\n"
     ]
    },
    {
     "name": "stderr",
     "output_type": "stream",
     "text": [
      "[I 2025-01-20 09:11:47,055] Trial 115 finished with value: 2.466657087206841 and parameters: {'opt_Epochs': 3, 'opt_Steps': 6, 'opt_Learning_Rate': 0.01496191341783993, 'opt_Batch_Size': 188, 'opt_Number_of_Noise_Batches': 6, 'opt_Regularization_term': 0.2369504373290401, 'opt_Noise_Dim': 395, 'n_layers': 5}. Best is trial 114 with value: 2.2227095395326613.\n"
     ]
    },
    {
     "name": "stdout",
     "output_type": "stream",
     "text": [
      "Trial 115 finished with value: 2.466657087206841 and parameters: {'opt_Epochs': 3, 'opt_Steps': 6, 'opt_Learning_Rate': 0.01496191341783993, 'opt_Batch_Size': 188, 'opt_Number_of_Noise_Batches': 6, 'opt_Regularization_term': 0.2369504373290401, 'opt_Noise_Dim': 395, 'n_layers': 5}. Best is trial 114 with value: 2.2227095395326613.\n",
      "Trial 115 finished with value: 2.466657087206841 and parameters: {'opt_Epochs': 3, 'opt_Steps': 6, 'opt_Learning_Rate': 0.01496191341783993, 'opt_Batch_Size': 188, 'opt_Number_of_Noise_Batches': 6, 'opt_Regularization_term': 0.2369504373290401, 'opt_Noise_Dim': 395, 'n_layers': 5}. Best is trial 114 with value: 2.2227095395326613.\n"
     ]
    },
    {
     "name": "stderr",
     "output_type": "stream",
     "text": [
      "[I 2025-01-20 09:12:17,870] Trial 116 finished with value: 2.5801188439130787 and parameters: {'opt_Epochs': 3, 'opt_Steps': 7, 'opt_Learning_Rate': 0.026830011175013407, 'opt_Batch_Size': 170, 'opt_Number_of_Noise_Batches': 6, 'opt_Regularization_term': 0.22797398898691737, 'opt_Noise_Dim': 448, 'n_layers': 5}. Best is trial 114 with value: 2.2227095395326613.\n"
     ]
    },
    {
     "name": "stdout",
     "output_type": "stream",
     "text": [
      "Trial 116 finished with value: 2.5801188439130787 and parameters: {'opt_Epochs': 3, 'opt_Steps': 7, 'opt_Learning_Rate': 0.026830011175013407, 'opt_Batch_Size': 170, 'opt_Number_of_Noise_Batches': 6, 'opt_Regularization_term': 0.22797398898691737, 'opt_Noise_Dim': 448, 'n_layers': 5}. Best is trial 114 with value: 2.2227095395326613.\n",
      "Trial 116 finished with value: 2.5801188439130787 and parameters: {'opt_Epochs': 3, 'opt_Steps': 7, 'opt_Learning_Rate': 0.026830011175013407, 'opt_Batch_Size': 170, 'opt_Number_of_Noise_Batches': 6, 'opt_Regularization_term': 0.22797398898691737, 'opt_Noise_Dim': 448, 'n_layers': 5}. Best is trial 114 with value: 2.2227095395326613.\n"
     ]
    },
    {
     "name": "stderr",
     "output_type": "stream",
     "text": [
      "[I 2025-01-20 09:12:51,366] Trial 117 finished with value: 2.562563821673393 and parameters: {'opt_Epochs': 2, 'opt_Steps': 11, 'opt_Learning_Rate': 0.021507809018040502, 'opt_Batch_Size': 206, 'opt_Number_of_Noise_Batches': 5, 'opt_Regularization_term': 0.272520855444341, 'opt_Noise_Dim': 435, 'n_layers': 5}. Best is trial 114 with value: 2.2227095395326613.\n"
     ]
    },
    {
     "name": "stdout",
     "output_type": "stream",
     "text": [
      "Trial 117 finished with value: 2.562563821673393 and parameters: {'opt_Epochs': 2, 'opt_Steps': 11, 'opt_Learning_Rate': 0.021507809018040502, 'opt_Batch_Size': 206, 'opt_Number_of_Noise_Batches': 5, 'opt_Regularization_term': 0.272520855444341, 'opt_Noise_Dim': 435, 'n_layers': 5}. Best is trial 114 with value: 2.2227095395326613.\n",
      "Trial 117 finished with value: 2.562563821673393 and parameters: {'opt_Epochs': 2, 'opt_Steps': 11, 'opt_Learning_Rate': 0.021507809018040502, 'opt_Batch_Size': 206, 'opt_Number_of_Noise_Batches': 5, 'opt_Regularization_term': 0.272520855444341, 'opt_Noise_Dim': 435, 'n_layers': 5}. Best is trial 114 with value: 2.2227095395326613.\n"
     ]
    },
    {
     "name": "stderr",
     "output_type": "stream",
     "text": [
      "[I 2025-01-20 09:13:39,231] Trial 118 finished with value: 2.3565476417541498 and parameters: {'opt_Epochs': 10, 'opt_Steps': 5, 'opt_Learning_Rate': 0.03557026814009767, 'opt_Batch_Size': 245, 'opt_Number_of_Noise_Batches': 7, 'opt_Regularization_term': 0.29415194555273033, 'opt_Noise_Dim': 163, 'n_layers': 5}. Best is trial 114 with value: 2.2227095395326613.\n"
     ]
    },
    {
     "name": "stdout",
     "output_type": "stream",
     "text": [
      "Trial 118 finished with value: 2.3565476417541498 and parameters: {'opt_Epochs': 10, 'opt_Steps': 5, 'opt_Learning_Rate': 0.03557026814009767, 'opt_Batch_Size': 245, 'opt_Number_of_Noise_Batches': 7, 'opt_Regularization_term': 0.29415194555273033, 'opt_Noise_Dim': 163, 'n_layers': 5}. Best is trial 114 with value: 2.2227095395326613.\n",
      "Trial 118 finished with value: 2.3565476417541498 and parameters: {'opt_Epochs': 10, 'opt_Steps': 5, 'opt_Learning_Rate': 0.03557026814009767, 'opt_Batch_Size': 245, 'opt_Number_of_Noise_Batches': 7, 'opt_Regularization_term': 0.29415194555273033, 'opt_Noise_Dim': 163, 'n_layers': 5}. Best is trial 114 with value: 2.2227095395326613.\n"
     ]
    },
    {
     "name": "stderr",
     "output_type": "stream",
     "text": [
      "[I 2025-01-20 09:14:16,402] Trial 119 finished with value: 2.441665464639664 and parameters: {'opt_Epochs': 10, 'opt_Steps': 3, 'opt_Learning_Rate': 0.036340524270943295, 'opt_Batch_Size': 228, 'opt_Number_of_Noise_Batches': 7, 'opt_Regularization_term': 0.29078927933730747, 'opt_Noise_Dim': 150, 'n_layers': 5}. Best is trial 114 with value: 2.2227095395326613.\n"
     ]
    },
    {
     "name": "stdout",
     "output_type": "stream",
     "text": [
      "Trial 119 finished with value: 2.441665464639664 and parameters: {'opt_Epochs': 10, 'opt_Steps': 3, 'opt_Learning_Rate': 0.036340524270943295, 'opt_Batch_Size': 228, 'opt_Number_of_Noise_Batches': 7, 'opt_Regularization_term': 0.29078927933730747, 'opt_Noise_Dim': 150, 'n_layers': 5}. Best is trial 114 with value: 2.2227095395326613.\n",
      "Trial 119 finished with value: 2.441665464639664 and parameters: {'opt_Epochs': 10, 'opt_Steps': 3, 'opt_Learning_Rate': 0.036340524270943295, 'opt_Batch_Size': 228, 'opt_Number_of_Noise_Batches': 7, 'opt_Regularization_term': 0.29078927933730747, 'opt_Noise_Dim': 150, 'n_layers': 5}. Best is trial 114 with value: 2.2227095395326613.\n"
     ]
    },
    {
     "name": "stderr",
     "output_type": "stream",
     "text": [
      "[I 2025-01-20 09:15:05,334] Trial 120 finished with value: 2.436071126163006 and parameters: {'opt_Epochs': 10, 'opt_Steps': 5, 'opt_Learning_Rate': 0.010457017069646968, 'opt_Batch_Size': 246, 'opt_Number_of_Noise_Batches': 7, 'opt_Regularization_term': 0.22069782438414054, 'opt_Noise_Dim': 172, 'n_layers': 5}. Best is trial 114 with value: 2.2227095395326613.\n"
     ]
    },
    {
     "name": "stdout",
     "output_type": "stream",
     "text": [
      "Trial 120 finished with value: 2.436071126163006 and parameters: {'opt_Epochs': 10, 'opt_Steps': 5, 'opt_Learning_Rate': 0.010457017069646968, 'opt_Batch_Size': 246, 'opt_Number_of_Noise_Batches': 7, 'opt_Regularization_term': 0.22069782438414054, 'opt_Noise_Dim': 172, 'n_layers': 5}. Best is trial 114 with value: 2.2227095395326613.\n",
      "Trial 120 finished with value: 2.436071126163006 and parameters: {'opt_Epochs': 10, 'opt_Steps': 5, 'opt_Learning_Rate': 0.010457017069646968, 'opt_Batch_Size': 246, 'opt_Number_of_Noise_Batches': 7, 'opt_Regularization_term': 0.22069782438414054, 'opt_Noise_Dim': 172, 'n_layers': 5}. Best is trial 114 with value: 2.2227095395326613.\n"
     ]
    },
    {
     "name": "stderr",
     "output_type": "stream",
     "text": [
      "[I 2025-01-20 09:15:49,818] Trial 121 finished with value: 2.5965567559003824 and parameters: {'opt_Epochs': 10, 'opt_Steps': 4, 'opt_Learning_Rate': 0.04120590499042297, 'opt_Batch_Size': 267, 'opt_Number_of_Noise_Batches': 6, 'opt_Regularization_term': 0.19135945798823747, 'opt_Noise_Dim': 114, 'n_layers': 5}. Best is trial 114 with value: 2.2227095395326613.\n"
     ]
    },
    {
     "name": "stdout",
     "output_type": "stream",
     "text": [
      "Trial 121 finished with value: 2.5965567559003824 and parameters: {'opt_Epochs': 10, 'opt_Steps': 4, 'opt_Learning_Rate': 0.04120590499042297, 'opt_Batch_Size': 267, 'opt_Number_of_Noise_Batches': 6, 'opt_Regularization_term': 0.19135945798823747, 'opt_Noise_Dim': 114, 'n_layers': 5}. Best is trial 114 with value: 2.2227095395326613.\n",
      "Trial 121 finished with value: 2.5965567559003824 and parameters: {'opt_Epochs': 10, 'opt_Steps': 4, 'opt_Learning_Rate': 0.04120590499042297, 'opt_Batch_Size': 267, 'opt_Number_of_Noise_Batches': 6, 'opt_Regularization_term': 0.19135945798823747, 'opt_Noise_Dim': 114, 'n_layers': 5}. Best is trial 114 with value: 2.2227095395326613.\n"
     ]
    },
    {
     "name": "stderr",
     "output_type": "stream",
     "text": [
      "[I 2025-01-20 09:16:39,655] Trial 122 finished with value: 2.46624578088522 and parameters: {'opt_Epochs': 9, 'opt_Steps': 6, 'opt_Learning_Rate': 0.026760194254048724, 'opt_Batch_Size': 292, 'opt_Number_of_Noise_Batches': 5, 'opt_Regularization_term': 0.24024578897509047, 'opt_Noise_Dim': 203, 'n_layers': 4}. Best is trial 114 with value: 2.2227095395326613.\n"
     ]
    },
    {
     "name": "stdout",
     "output_type": "stream",
     "text": [
      "Trial 122 finished with value: 2.46624578088522 and parameters: {'opt_Epochs': 9, 'opt_Steps': 6, 'opt_Learning_Rate': 0.026760194254048724, 'opt_Batch_Size': 292, 'opt_Number_of_Noise_Batches': 5, 'opt_Regularization_term': 0.24024578897509047, 'opt_Noise_Dim': 203, 'n_layers': 4}. Best is trial 114 with value: 2.2227095395326613.\n",
      "Trial 122 finished with value: 2.46624578088522 and parameters: {'opt_Epochs': 9, 'opt_Steps': 6, 'opt_Learning_Rate': 0.026760194254048724, 'opt_Batch_Size': 292, 'opt_Number_of_Noise_Batches': 5, 'opt_Regularization_term': 0.24024578897509047, 'opt_Noise_Dim': 203, 'n_layers': 4}. Best is trial 114 with value: 2.2227095395326613.\n"
     ]
    },
    {
     "name": "stderr",
     "output_type": "stream",
     "text": [
      "[I 2025-01-20 09:17:42,521] Trial 123 finished with value: 2.4427510708570472 and parameters: {'opt_Epochs': 10, 'opt_Steps': 12, 'opt_Learning_Rate': 0.03358292480204679, 'opt_Batch_Size': 219, 'opt_Number_of_Noise_Batches': 6, 'opt_Regularization_term': 0.29540578469526224, 'opt_Noise_Dim': 158, 'n_layers': 3}. Best is trial 114 with value: 2.2227095395326613.\n"
     ]
    },
    {
     "name": "stdout",
     "output_type": "stream",
     "text": [
      "Trial 123 finished with value: 2.4427510708570472 and parameters: {'opt_Epochs': 10, 'opt_Steps': 12, 'opt_Learning_Rate': 0.03358292480204679, 'opt_Batch_Size': 219, 'opt_Number_of_Noise_Batches': 6, 'opt_Regularization_term': 0.29540578469526224, 'opt_Noise_Dim': 158, 'n_layers': 3}. Best is trial 114 with value: 2.2227095395326613.\n",
      "Trial 123 finished with value: 2.4427510708570472 and parameters: {'opt_Epochs': 10, 'opt_Steps': 12, 'opt_Learning_Rate': 0.03358292480204679, 'opt_Batch_Size': 219, 'opt_Number_of_Noise_Batches': 6, 'opt_Regularization_term': 0.29540578469526224, 'opt_Noise_Dim': 158, 'n_layers': 3}. Best is trial 114 with value: 2.2227095395326613.\n"
     ]
    },
    {
     "name": "stderr",
     "output_type": "stream",
     "text": [
      "[I 2025-01-20 09:18:28,391] Trial 124 finished with value: 2.427885146439076 and parameters: {'opt_Epochs': 7, 'opt_Steps': 6, 'opt_Learning_Rate': 0.04982131048428733, 'opt_Batch_Size': 238, 'opt_Number_of_Noise_Batches': 7, 'opt_Regularization_term': 0.20444101081804794, 'opt_Noise_Dim': 186, 'n_layers': 5}. Best is trial 114 with value: 2.2227095395326613.\n"
     ]
    },
    {
     "name": "stdout",
     "output_type": "stream",
     "text": [
      "Trial 124 finished with value: 2.427885146439076 and parameters: {'opt_Epochs': 7, 'opt_Steps': 6, 'opt_Learning_Rate': 0.04982131048428733, 'opt_Batch_Size': 238, 'opt_Number_of_Noise_Batches': 7, 'opt_Regularization_term': 0.20444101081804794, 'opt_Noise_Dim': 186, 'n_layers': 5}. Best is trial 114 with value: 2.2227095395326613.\n",
      "Trial 124 finished with value: 2.427885146439076 and parameters: {'opt_Epochs': 7, 'opt_Steps': 6, 'opt_Learning_Rate': 0.04982131048428733, 'opt_Batch_Size': 238, 'opt_Number_of_Noise_Batches': 7, 'opt_Regularization_term': 0.20444101081804794, 'opt_Noise_Dim': 186, 'n_layers': 5}. Best is trial 114 with value: 2.2227095395326613.\n"
     ]
    },
    {
     "name": "stderr",
     "output_type": "stream",
     "text": [
      "[I 2025-01-20 09:19:04,025] Trial 125 finished with value: 2.712690943479538 and parameters: {'opt_Epochs': 3, 'opt_Steps': 7, 'opt_Learning_Rate': 0.15511522226889518, 'opt_Batch_Size': 251, 'opt_Number_of_Noise_Batches': 7, 'opt_Regularization_term': 0.28006835702597427, 'opt_Noise_Dim': 469, 'n_layers': 6}. Best is trial 114 with value: 2.2227095395326613.\n"
     ]
    },
    {
     "name": "stdout",
     "output_type": "stream",
     "text": [
      "Trial 125 finished with value: 2.712690943479538 and parameters: {'opt_Epochs': 3, 'opt_Steps': 7, 'opt_Learning_Rate': 0.15511522226889518, 'opt_Batch_Size': 251, 'opt_Number_of_Noise_Batches': 7, 'opt_Regularization_term': 0.28006835702597427, 'opt_Noise_Dim': 469, 'n_layers': 6}. Best is trial 114 with value: 2.2227095395326613.\n",
      "Trial 125 finished with value: 2.712690943479538 and parameters: {'opt_Epochs': 3, 'opt_Steps': 7, 'opt_Learning_Rate': 0.15511522226889518, 'opt_Batch_Size': 251, 'opt_Number_of_Noise_Batches': 7, 'opt_Regularization_term': 0.28006835702597427, 'opt_Noise_Dim': 469, 'n_layers': 6}. Best is trial 114 with value: 2.2227095395326613.\n"
     ]
    },
    {
     "name": "stderr",
     "output_type": "stream",
     "text": [
      "[I 2025-01-20 09:19:35,975] Trial 126 finished with value: 2.6563195139169693 and parameters: {'opt_Epochs': 4, 'opt_Steps': 5, 'opt_Learning_Rate': 0.07748078208104, 'opt_Batch_Size': 182, 'opt_Number_of_Noise_Batches': 8, 'opt_Regularization_term': 0.2853797555674088, 'opt_Noise_Dim': 423, 'n_layers': 4}. Best is trial 114 with value: 2.2227095395326613.\n"
     ]
    },
    {
     "name": "stdout",
     "output_type": "stream",
     "text": [
      "Trial 126 finished with value: 2.6563195139169693 and parameters: {'opt_Epochs': 4, 'opt_Steps': 5, 'opt_Learning_Rate': 0.07748078208104, 'opt_Batch_Size': 182, 'opt_Number_of_Noise_Batches': 8, 'opt_Regularization_term': 0.2853797555674088, 'opt_Noise_Dim': 423, 'n_layers': 4}. Best is trial 114 with value: 2.2227095395326613.\n",
      "Trial 126 finished with value: 2.6563195139169693 and parameters: {'opt_Epochs': 4, 'opt_Steps': 5, 'opt_Learning_Rate': 0.07748078208104, 'opt_Batch_Size': 182, 'opt_Number_of_Noise_Batches': 8, 'opt_Regularization_term': 0.2853797555674088, 'opt_Noise_Dim': 423, 'n_layers': 4}. Best is trial 114 with value: 2.2227095395326613.\n"
     ]
    },
    {
     "name": "stderr",
     "output_type": "stream",
     "text": [
      "[I 2025-01-20 09:20:25,630] Trial 127 finished with value: 2.4018905520439144 and parameters: {'opt_Epochs': 8, 'opt_Steps': 7, 'opt_Learning_Rate': 0.06635814842716042, 'opt_Batch_Size': 198, 'opt_Number_of_Noise_Batches': 6, 'opt_Regularization_term': 0.2669906566090886, 'opt_Noise_Dim': 409, 'n_layers': 7}. Best is trial 114 with value: 2.2227095395326613.\n"
     ]
    },
    {
     "name": "stdout",
     "output_type": "stream",
     "text": [
      "Trial 127 finished with value: 2.4018905520439144 and parameters: {'opt_Epochs': 8, 'opt_Steps': 7, 'opt_Learning_Rate': 0.06635814842716042, 'opt_Batch_Size': 198, 'opt_Number_of_Noise_Batches': 6, 'opt_Regularization_term': 0.2669906566090886, 'opt_Noise_Dim': 409, 'n_layers': 7}. Best is trial 114 with value: 2.2227095395326613.\n",
      "Trial 127 finished with value: 2.4018905520439144 and parameters: {'opt_Epochs': 8, 'opt_Steps': 7, 'opt_Learning_Rate': 0.06635814842716042, 'opt_Batch_Size': 198, 'opt_Number_of_Noise_Batches': 6, 'opt_Regularization_term': 0.2669906566090886, 'opt_Noise_Dim': 409, 'n_layers': 7}. Best is trial 114 with value: 2.2227095395326613.\n"
     ]
    },
    {
     "name": "stderr",
     "output_type": "stream",
     "text": [
      "[I 2025-01-20 09:20:59,020] Trial 128 finished with value: 2.792801460623741 and parameters: {'opt_Epochs': 9, 'opt_Steps': 8, 'opt_Learning_Rate': 0.01882384095992532, 'opt_Batch_Size': 125, 'opt_Number_of_Noise_Batches': 8, 'opt_Regularization_term': 0.2927888036959571, 'opt_Noise_Dim': 138, 'n_layers': 2}. Best is trial 114 with value: 2.2227095395326613.\n"
     ]
    },
    {
     "name": "stdout",
     "output_type": "stream",
     "text": [
      "Trial 128 finished with value: 2.792801460623741 and parameters: {'opt_Epochs': 9, 'opt_Steps': 8, 'opt_Learning_Rate': 0.01882384095992532, 'opt_Batch_Size': 125, 'opt_Number_of_Noise_Batches': 8, 'opt_Regularization_term': 0.2927888036959571, 'opt_Noise_Dim': 138, 'n_layers': 2}. Best is trial 114 with value: 2.2227095395326613.\n",
      "Trial 128 finished with value: 2.792801460623741 and parameters: {'opt_Epochs': 9, 'opt_Steps': 8, 'opt_Learning_Rate': 0.01882384095992532, 'opt_Batch_Size': 125, 'opt_Number_of_Noise_Batches': 8, 'opt_Regularization_term': 0.2927888036959571, 'opt_Noise_Dim': 138, 'n_layers': 2}. Best is trial 114 with value: 2.2227095395326613.\n"
     ]
    },
    {
     "name": "stderr",
     "output_type": "stream",
     "text": [
      "[I 2025-01-20 09:21:23,046] Trial 129 finished with value: 2.5744411706924435 and parameters: {'opt_Epochs': 2, 'opt_Steps': 4, 'opt_Learning_Rate': 0.0234082343874295, 'opt_Batch_Size': 159, 'opt_Number_of_Noise_Batches': 7, 'opt_Regularization_term': 0.25393840882303453, 'opt_Noise_Dim': 265, 'n_layers': 3}. Best is trial 114 with value: 2.2227095395326613.\n"
     ]
    },
    {
     "name": "stdout",
     "output_type": "stream",
     "text": [
      "Trial 129 finished with value: 2.5744411706924435 and parameters: {'opt_Epochs': 2, 'opt_Steps': 4, 'opt_Learning_Rate': 0.0234082343874295, 'opt_Batch_Size': 159, 'opt_Number_of_Noise_Batches': 7, 'opt_Regularization_term': 0.25393840882303453, 'opt_Noise_Dim': 265, 'n_layers': 3}. Best is trial 114 with value: 2.2227095395326613.\n",
      "Trial 129 finished with value: 2.5744411706924435 and parameters: {'opt_Epochs': 2, 'opt_Steps': 4, 'opt_Learning_Rate': 0.0234082343874295, 'opt_Batch_Size': 159, 'opt_Number_of_Noise_Batches': 7, 'opt_Regularization_term': 0.25393840882303453, 'opt_Noise_Dim': 265, 'n_layers': 3}. Best is trial 114 with value: 2.2227095395326613.\n"
     ]
    },
    {
     "name": "stderr",
     "output_type": "stream",
     "text": [
      "[I 2025-01-20 09:22:02,422] Trial 130 finished with value: 2.4663096338510515 and parameters: {'opt_Epochs': 6, 'opt_Steps': 6, 'opt_Learning_Rate': 0.029925374563528992, 'opt_Batch_Size': 210, 'opt_Number_of_Noise_Batches': 3, 'opt_Regularization_term': 0.24766819471994697, 'opt_Noise_Dim': 453, 'n_layers': 6}. Best is trial 114 with value: 2.2227095395326613.\n"
     ]
    },
    {
     "name": "stdout",
     "output_type": "stream",
     "text": [
      "Trial 130 finished with value: 2.4663096338510515 and parameters: {'opt_Epochs': 6, 'opt_Steps': 6, 'opt_Learning_Rate': 0.029925374563528992, 'opt_Batch_Size': 210, 'opt_Number_of_Noise_Batches': 3, 'opt_Regularization_term': 0.24766819471994697, 'opt_Noise_Dim': 453, 'n_layers': 6}. Best is trial 114 with value: 2.2227095395326613.\n",
      "Trial 130 finished with value: 2.4663096338510515 and parameters: {'opt_Epochs': 6, 'opt_Steps': 6, 'opt_Learning_Rate': 0.029925374563528992, 'opt_Batch_Size': 210, 'opt_Number_of_Noise_Batches': 3, 'opt_Regularization_term': 0.24766819471994697, 'opt_Noise_Dim': 453, 'n_layers': 6}. Best is trial 114 with value: 2.2227095395326613.\n"
     ]
    },
    {
     "name": "stderr",
     "output_type": "stream",
     "text": [
      "[I 2025-01-20 09:22:27,471] Trial 131 finished with value: 2.3705747008323663 and parameters: {'opt_Epochs': 3, 'opt_Steps': 2, 'opt_Learning_Rate': 0.04004400643585386, 'opt_Batch_Size': 281, 'opt_Number_of_Noise_Batches': 2, 'opt_Regularization_term': 0.2312726107824651, 'opt_Noise_Dim': 79, 'n_layers': 5}. Best is trial 114 with value: 2.2227095395326613.\n"
     ]
    },
    {
     "name": "stdout",
     "output_type": "stream",
     "text": [
      "Trial 131 finished with value: 2.3705747008323663 and parameters: {'opt_Epochs': 3, 'opt_Steps': 2, 'opt_Learning_Rate': 0.04004400643585386, 'opt_Batch_Size': 281, 'opt_Number_of_Noise_Batches': 2, 'opt_Regularization_term': 0.2312726107824651, 'opt_Noise_Dim': 79, 'n_layers': 5}. Best is trial 114 with value: 2.2227095395326613.\n",
      "Trial 131 finished with value: 2.3705747008323663 and parameters: {'opt_Epochs': 3, 'opt_Steps': 2, 'opt_Learning_Rate': 0.04004400643585386, 'opt_Batch_Size': 281, 'opt_Number_of_Noise_Batches': 2, 'opt_Regularization_term': 0.2312726107824651, 'opt_Noise_Dim': 79, 'n_layers': 5}. Best is trial 114 with value: 2.2227095395326613.\n"
     ]
    },
    {
     "name": "stderr",
     "output_type": "stream",
     "text": [
      "[I 2025-01-20 09:22:52,810] Trial 132 finished with value: 2.27328274846077 and parameters: {'opt_Epochs': 2, 'opt_Steps': 6, 'opt_Learning_Rate': 0.17352062295948187, 'opt_Batch_Size': 143, 'opt_Number_of_Noise_Batches': 6, 'opt_Regularization_term': 0.1820795155459015, 'opt_Noise_Dim': 163, 'n_layers': 4}. Best is trial 114 with value: 2.2227095395326613.\n"
     ]
    },
    {
     "name": "stdout",
     "output_type": "stream",
     "text": [
      "Trial 132 finished with value: 2.27328274846077 and parameters: {'opt_Epochs': 2, 'opt_Steps': 6, 'opt_Learning_Rate': 0.17352062295948187, 'opt_Batch_Size': 143, 'opt_Number_of_Noise_Batches': 6, 'opt_Regularization_term': 0.1820795155459015, 'opt_Noise_Dim': 163, 'n_layers': 4}. Best is trial 114 with value: 2.2227095395326613.\n",
      "Trial 132 finished with value: 2.27328274846077 and parameters: {'opt_Epochs': 2, 'opt_Steps': 6, 'opt_Learning_Rate': 0.17352062295948187, 'opt_Batch_Size': 143, 'opt_Number_of_Noise_Batches': 6, 'opt_Regularization_term': 0.1820795155459015, 'opt_Noise_Dim': 163, 'n_layers': 4}. Best is trial 114 with value: 2.2227095395326613.\n"
     ]
    },
    {
     "name": "stderr",
     "output_type": "stream",
     "text": [
      "[I 2025-01-20 09:23:17,637] Trial 133 finished with value: 2.6470082938671116 and parameters: {'opt_Epochs': 2, 'opt_Steps': 5, 'opt_Learning_Rate': 0.179022216581596, 'opt_Batch_Size': 145, 'opt_Number_of_Noise_Batches': 6, 'opt_Regularization_term': 0.2128442131892838, 'opt_Noise_Dim': 164, 'n_layers': 4}. Best is trial 114 with value: 2.2227095395326613.\n"
     ]
    },
    {
     "name": "stdout",
     "output_type": "stream",
     "text": [
      "Trial 133 finished with value: 2.6470082938671116 and parameters: {'opt_Epochs': 2, 'opt_Steps': 5, 'opt_Learning_Rate': 0.179022216581596, 'opt_Batch_Size': 145, 'opt_Number_of_Noise_Batches': 6, 'opt_Regularization_term': 0.2128442131892838, 'opt_Noise_Dim': 164, 'n_layers': 4}. Best is trial 114 with value: 2.2227095395326613.\n",
      "Trial 133 finished with value: 2.6470082938671116 and parameters: {'opt_Epochs': 2, 'opt_Steps': 5, 'opt_Learning_Rate': 0.179022216581596, 'opt_Batch_Size': 145, 'opt_Number_of_Noise_Batches': 6, 'opt_Regularization_term': 0.2128442131892838, 'opt_Noise_Dim': 164, 'n_layers': 4}. Best is trial 114 with value: 2.2227095395326613.\n"
     ]
    },
    {
     "name": "stderr",
     "output_type": "stream",
     "text": [
      "[I 2025-01-20 09:23:42,172] Trial 134 finished with value: 2.3712075859308235 and parameters: {'opt_Epochs': 1, 'opt_Steps': 6, 'opt_Learning_Rate': 0.21020896095022518, 'opt_Batch_Size': 194, 'opt_Number_of_Noise_Batches': 6, 'opt_Regularization_term': 0.1563019533346784, 'opt_Noise_Dim': 201, 'n_layers': 4}. Best is trial 114 with value: 2.2227095395326613.\n"
     ]
    },
    {
     "name": "stdout",
     "output_type": "stream",
     "text": [
      "Trial 134 finished with value: 2.3712075859308235 and parameters: {'opt_Epochs': 1, 'opt_Steps': 6, 'opt_Learning_Rate': 0.21020896095022518, 'opt_Batch_Size': 194, 'opt_Number_of_Noise_Batches': 6, 'opt_Regularization_term': 0.1563019533346784, 'opt_Noise_Dim': 201, 'n_layers': 4}. Best is trial 114 with value: 2.2227095395326613.\n",
      "Trial 134 finished with value: 2.3712075859308235 and parameters: {'opt_Epochs': 1, 'opt_Steps': 6, 'opt_Learning_Rate': 0.21020896095022518, 'opt_Batch_Size': 194, 'opt_Number_of_Noise_Batches': 6, 'opt_Regularization_term': 0.1563019533346784, 'opt_Noise_Dim': 201, 'n_layers': 4}. Best is trial 114 with value: 2.2227095395326613.\n"
     ]
    },
    {
     "name": "stderr",
     "output_type": "stream",
     "text": [
      "[I 2025-01-20 09:24:10,091] Trial 135 finished with value: 2.47835046350956 and parameters: {'opt_Epochs': 3, 'opt_Steps': 7, 'opt_Learning_Rate': 0.20121878187795678, 'opt_Batch_Size': 167, 'opt_Number_of_Noise_Batches': 5, 'opt_Regularization_term': 0.18055552340611553, 'opt_Noise_Dim': 144, 'n_layers': 5}. Best is trial 114 with value: 2.2227095395326613.\n"
     ]
    },
    {
     "name": "stdout",
     "output_type": "stream",
     "text": [
      "Trial 135 finished with value: 2.47835046350956 and parameters: {'opt_Epochs': 3, 'opt_Steps': 7, 'opt_Learning_Rate': 0.20121878187795678, 'opt_Batch_Size': 167, 'opt_Number_of_Noise_Batches': 5, 'opt_Regularization_term': 0.18055552340611553, 'opt_Noise_Dim': 144, 'n_layers': 5}. Best is trial 114 with value: 2.2227095395326613.\n",
      "Trial 135 finished with value: 2.47835046350956 and parameters: {'opt_Epochs': 3, 'opt_Steps': 7, 'opt_Learning_Rate': 0.20121878187795678, 'opt_Batch_Size': 167, 'opt_Number_of_Noise_Batches': 5, 'opt_Regularization_term': 0.18055552340611553, 'opt_Noise_Dim': 144, 'n_layers': 5}. Best is trial 114 with value: 2.2227095395326613.\n"
     ]
    },
    {
     "name": "stderr",
     "output_type": "stream",
     "text": [
      "[I 2025-01-20 09:24:34,194] Trial 136 finished with value: 2.5875265955924998 and parameters: {'opt_Epochs': 2, 'opt_Steps': 6, 'opt_Learning_Rate': 0.1720047495382308, 'opt_Batch_Size': 133, 'opt_Number_of_Noise_Batches': 7, 'opt_Regularization_term': 0.1898738219787708, 'opt_Noise_Dim': 431, 'n_layers': 3}. Best is trial 114 with value: 2.2227095395326613.\n"
     ]
    },
    {
     "name": "stdout",
     "output_type": "stream",
     "text": [
      "Trial 136 finished with value: 2.5875265955924998 and parameters: {'opt_Epochs': 2, 'opt_Steps': 6, 'opt_Learning_Rate': 0.1720047495382308, 'opt_Batch_Size': 133, 'opt_Number_of_Noise_Batches': 7, 'opt_Regularization_term': 0.1898738219787708, 'opt_Noise_Dim': 431, 'n_layers': 3}. Best is trial 114 with value: 2.2227095395326613.\n",
      "Trial 136 finished with value: 2.5875265955924998 and parameters: {'opt_Epochs': 2, 'opt_Steps': 6, 'opt_Learning_Rate': 0.1720047495382308, 'opt_Batch_Size': 133, 'opt_Number_of_Noise_Batches': 7, 'opt_Regularization_term': 0.1898738219787708, 'opt_Noise_Dim': 431, 'n_layers': 3}. Best is trial 114 with value: 2.2227095395326613.\n"
     ]
    },
    {
     "name": "stderr",
     "output_type": "stream",
     "text": [
      "[I 2025-01-20 09:25:00,698] Trial 137 finished with value: 2.420741264522075 and parameters: {'opt_Epochs': 2, 'opt_Steps': 8, 'opt_Learning_Rate': 0.1414202465946842, 'opt_Batch_Size': 156, 'opt_Number_of_Noise_Batches': 6, 'opt_Regularization_term': 0.16777321889292848, 'opt_Noise_Dim': 288, 'n_layers': 4}. Best is trial 114 with value: 2.2227095395326613.\n"
     ]
    },
    {
     "name": "stdout",
     "output_type": "stream",
     "text": [
      "Trial 137 finished with value: 2.420741264522075 and parameters: {'opt_Epochs': 2, 'opt_Steps': 8, 'opt_Learning_Rate': 0.1414202465946842, 'opt_Batch_Size': 156, 'opt_Number_of_Noise_Batches': 6, 'opt_Regularization_term': 0.16777321889292848, 'opt_Noise_Dim': 288, 'n_layers': 4}. Best is trial 114 with value: 2.2227095395326613.\n",
      "Trial 137 finished with value: 2.420741264522075 and parameters: {'opt_Epochs': 2, 'opt_Steps': 8, 'opt_Learning_Rate': 0.1414202465946842, 'opt_Batch_Size': 156, 'opt_Number_of_Noise_Batches': 6, 'opt_Regularization_term': 0.16777321889292848, 'opt_Noise_Dim': 288, 'n_layers': 4}. Best is trial 114 with value: 2.2227095395326613.\n"
     ]
    },
    {
     "name": "stderr",
     "output_type": "stream",
     "text": [
      "[I 2025-01-20 09:25:26,869] Trial 138 finished with value: 2.7941261142492304 and parameters: {'opt_Epochs': 3, 'opt_Steps': 6, 'opt_Learning_Rate': 0.1891279274661266, 'opt_Batch_Size': 175, 'opt_Number_of_Noise_Batches': 7, 'opt_Regularization_term': 0.28654425429348745, 'opt_Noise_Dim': 179, 'n_layers': 2}. Best is trial 114 with value: 2.2227095395326613.\n"
     ]
    },
    {
     "name": "stdout",
     "output_type": "stream",
     "text": [
      "Trial 138 finished with value: 2.7941261142492304 and parameters: {'opt_Epochs': 3, 'opt_Steps': 6, 'opt_Learning_Rate': 0.1891279274661266, 'opt_Batch_Size': 175, 'opt_Number_of_Noise_Batches': 7, 'opt_Regularization_term': 0.28654425429348745, 'opt_Noise_Dim': 179, 'n_layers': 2}. Best is trial 114 with value: 2.2227095395326613.\n",
      "Trial 138 finished with value: 2.7941261142492304 and parameters: {'opt_Epochs': 3, 'opt_Steps': 6, 'opt_Learning_Rate': 0.1891279274661266, 'opt_Batch_Size': 175, 'opt_Number_of_Noise_Batches': 7, 'opt_Regularization_term': 0.28654425429348745, 'opt_Noise_Dim': 179, 'n_layers': 2}. Best is trial 114 with value: 2.2227095395326613.\n"
     ]
    },
    {
     "name": "stderr",
     "output_type": "stream",
     "text": [
      "[I 2025-01-20 09:25:53,788] Trial 139 finished with value: 2.482272011041641 and parameters: {'opt_Epochs': 3, 'opt_Steps': 7, 'opt_Learning_Rate': 0.21925162834575787, 'opt_Batch_Size': 119, 'opt_Number_of_Noise_Batches': 5, 'opt_Regularization_term': 0.18227250790220878, 'opt_Noise_Dim': 440, 'n_layers': 4}. Best is trial 114 with value: 2.2227095395326613.\n"
     ]
    },
    {
     "name": "stdout",
     "output_type": "stream",
     "text": [
      "Trial 139 finished with value: 2.482272011041641 and parameters: {'opt_Epochs': 3, 'opt_Steps': 7, 'opt_Learning_Rate': 0.21925162834575787, 'opt_Batch_Size': 119, 'opt_Number_of_Noise_Batches': 5, 'opt_Regularization_term': 0.18227250790220878, 'opt_Noise_Dim': 440, 'n_layers': 4}. Best is trial 114 with value: 2.2227095395326613.\n",
      "Trial 139 finished with value: 2.482272011041641 and parameters: {'opt_Epochs': 3, 'opt_Steps': 7, 'opt_Learning_Rate': 0.21925162834575787, 'opt_Batch_Size': 119, 'opt_Number_of_Noise_Batches': 5, 'opt_Regularization_term': 0.18227250790220878, 'opt_Noise_Dim': 440, 'n_layers': 4}. Best is trial 114 with value: 2.2227095395326613.\n"
     ]
    },
    {
     "name": "stderr",
     "output_type": "stream",
     "text": [
      "[I 2025-01-20 09:26:42,951] Trial 140 finished with value: 2.4526736021041873 and parameters: {'opt_Epochs': 10, 'opt_Steps': 5, 'opt_Learning_Rate': 0.16298632074775346, 'opt_Batch_Size': 259, 'opt_Number_of_Noise_Batches': 9, 'opt_Regularization_term': 0.26115058582899264, 'opt_Noise_Dim': 129, 'n_layers': 5}. Best is trial 114 with value: 2.2227095395326613.\n"
     ]
    },
    {
     "name": "stdout",
     "output_type": "stream",
     "text": [
      "Trial 140 finished with value: 2.4526736021041873 and parameters: {'opt_Epochs': 10, 'opt_Steps': 5, 'opt_Learning_Rate': 0.16298632074775346, 'opt_Batch_Size': 259, 'opt_Number_of_Noise_Batches': 9, 'opt_Regularization_term': 0.26115058582899264, 'opt_Noise_Dim': 129, 'n_layers': 5}. Best is trial 114 with value: 2.2227095395326613.\n",
      "Trial 140 finished with value: 2.4526736021041873 and parameters: {'opt_Epochs': 10, 'opt_Steps': 5, 'opt_Learning_Rate': 0.16298632074775346, 'opt_Batch_Size': 259, 'opt_Number_of_Noise_Batches': 9, 'opt_Regularization_term': 0.26115058582899264, 'opt_Noise_Dim': 129, 'n_layers': 5}. Best is trial 114 with value: 2.2227095395326613.\n"
     ]
    },
    {
     "name": "stderr",
     "output_type": "stream",
     "text": [
      "[I 2025-01-20 09:27:07,739] Trial 141 finished with value: 2.2923565745353702 and parameters: {'opt_Epochs': 2, 'opt_Steps': 7, 'opt_Learning_Rate': 0.23305153318490565, 'opt_Batch_Size': 184, 'opt_Number_of_Noise_Batches': 1, 'opt_Regularization_term': 0.29999892581947696, 'opt_Noise_Dim': 215, 'n_layers': 3}. Best is trial 114 with value: 2.2227095395326613.\n"
     ]
    },
    {
     "name": "stdout",
     "output_type": "stream",
     "text": [
      "Trial 141 finished with value: 2.2923565745353702 and parameters: {'opt_Epochs': 2, 'opt_Steps': 7, 'opt_Learning_Rate': 0.23305153318490565, 'opt_Batch_Size': 184, 'opt_Number_of_Noise_Batches': 1, 'opt_Regularization_term': 0.29999892581947696, 'opt_Noise_Dim': 215, 'n_layers': 3}. Best is trial 114 with value: 2.2227095395326613.\n",
      "Trial 141 finished with value: 2.2923565745353702 and parameters: {'opt_Epochs': 2, 'opt_Steps': 7, 'opt_Learning_Rate': 0.23305153318490565, 'opt_Batch_Size': 184, 'opt_Number_of_Noise_Batches': 1, 'opt_Regularization_term': 0.29999892581947696, 'opt_Noise_Dim': 215, 'n_layers': 3}. Best is trial 114 with value: 2.2227095395326613.\n"
     ]
    },
    {
     "name": "stderr",
     "output_type": "stream",
     "text": [
      "[I 2025-01-20 09:27:35,389] Trial 142 finished with value: 2.476269043982029 and parameters: {'opt_Epochs': 2, 'opt_Steps': 10, 'opt_Learning_Rate': 0.2346646963203369, 'opt_Batch_Size': 233, 'opt_Number_of_Noise_Batches': 1, 'opt_Regularization_term': 0.2757698937352099, 'opt_Noise_Dim': 246, 'n_layers': 3}. Best is trial 114 with value: 2.2227095395326613.\n"
     ]
    },
    {
     "name": "stdout",
     "output_type": "stream",
     "text": [
      "Trial 142 finished with value: 2.476269043982029 and parameters: {'opt_Epochs': 2, 'opt_Steps': 10, 'opt_Learning_Rate': 0.2346646963203369, 'opt_Batch_Size': 233, 'opt_Number_of_Noise_Batches': 1, 'opt_Regularization_term': 0.2757698937352099, 'opt_Noise_Dim': 246, 'n_layers': 3}. Best is trial 114 with value: 2.2227095395326613.\n",
      "Trial 142 finished with value: 2.476269043982029 and parameters: {'opt_Epochs': 2, 'opt_Steps': 10, 'opt_Learning_Rate': 0.2346646963203369, 'opt_Batch_Size': 233, 'opt_Number_of_Noise_Batches': 1, 'opt_Regularization_term': 0.2757698937352099, 'opt_Noise_Dim': 246, 'n_layers': 3}. Best is trial 114 with value: 2.2227095395326613.\n"
     ]
    },
    {
     "name": "stderr",
     "output_type": "stream",
     "text": [
      "[I 2025-01-20 09:27:57,991] Trial 143 finished with value: 2.375930237770081 and parameters: {'opt_Epochs': 1, 'opt_Steps': 8, 'opt_Learning_Rate': 0.24592686072261438, 'opt_Batch_Size': 202, 'opt_Number_of_Noise_Batches': 1, 'opt_Regularization_term': 0.29820013925694594, 'opt_Noise_Dim': 219, 'n_layers': 3}. Best is trial 114 with value: 2.2227095395326613.\n"
     ]
    },
    {
     "name": "stdout",
     "output_type": "stream",
     "text": [
      "Trial 143 finished with value: 2.375930237770081 and parameters: {'opt_Epochs': 1, 'opt_Steps': 8, 'opt_Learning_Rate': 0.24592686072261438, 'opt_Batch_Size': 202, 'opt_Number_of_Noise_Batches': 1, 'opt_Regularization_term': 0.29820013925694594, 'opt_Noise_Dim': 219, 'n_layers': 3}. Best is trial 114 with value: 2.2227095395326613.\n",
      "Trial 143 finished with value: 2.375930237770081 and parameters: {'opt_Epochs': 1, 'opt_Steps': 8, 'opt_Learning_Rate': 0.24592686072261438, 'opt_Batch_Size': 202, 'opt_Number_of_Noise_Batches': 1, 'opt_Regularization_term': 0.29820013925694594, 'opt_Noise_Dim': 219, 'n_layers': 3}. Best is trial 114 with value: 2.2227095395326613.\n"
     ]
    },
    {
     "name": "stderr",
     "output_type": "stream",
     "text": [
      "[I 2025-01-20 09:28:28,195] Trial 144 finished with value: 2.528160813450813 and parameters: {'opt_Epochs': 2, 'opt_Steps': 9, 'opt_Learning_Rate': 0.22429905312728468, 'opt_Batch_Size': 396, 'opt_Number_of_Noise_Batches': 1, 'opt_Regularization_term': 0.2941123035151654, 'opt_Noise_Dim': 186, 'n_layers': 3}. Best is trial 114 with value: 2.2227095395326613.\n"
     ]
    },
    {
     "name": "stdout",
     "output_type": "stream",
     "text": [
      "Trial 144 finished with value: 2.528160813450813 and parameters: {'opt_Epochs': 2, 'opt_Steps': 9, 'opt_Learning_Rate': 0.22429905312728468, 'opt_Batch_Size': 396, 'opt_Number_of_Noise_Batches': 1, 'opt_Regularization_term': 0.2941123035151654, 'opt_Noise_Dim': 186, 'n_layers': 3}. Best is trial 114 with value: 2.2227095395326613.\n",
      "Trial 144 finished with value: 2.528160813450813 and parameters: {'opt_Epochs': 2, 'opt_Steps': 9, 'opt_Learning_Rate': 0.22429905312728468, 'opt_Batch_Size': 396, 'opt_Number_of_Noise_Batches': 1, 'opt_Regularization_term': 0.2941123035151654, 'opt_Noise_Dim': 186, 'n_layers': 3}. Best is trial 114 with value: 2.2227095395326613.\n"
     ]
    },
    {
     "name": "stderr",
     "output_type": "stream",
     "text": [
      "[I 2025-01-20 09:28:55,993] Trial 145 finished with value: 2.4511834874749185 and parameters: {'opt_Epochs': 2, 'opt_Steps': 7, 'opt_Learning_Rate': 0.01618787854617818, 'opt_Batch_Size': 183, 'opt_Number_of_Noise_Batches': 2, 'opt_Regularization_term': 0.28057693966676045, 'opt_Noise_Dim': 223, 'n_layers': 8}. Best is trial 114 with value: 2.2227095395326613.\n"
     ]
    },
    {
     "name": "stdout",
     "output_type": "stream",
     "text": [
      "Trial 145 finished with value: 2.4511834874749185 and parameters: {'opt_Epochs': 2, 'opt_Steps': 7, 'opt_Learning_Rate': 0.01618787854617818, 'opt_Batch_Size': 183, 'opt_Number_of_Noise_Batches': 2, 'opt_Regularization_term': 0.28057693966676045, 'opt_Noise_Dim': 223, 'n_layers': 8}. Best is trial 114 with value: 2.2227095395326613.\n",
      "Trial 145 finished with value: 2.4511834874749185 and parameters: {'opt_Epochs': 2, 'opt_Steps': 7, 'opt_Learning_Rate': 0.01618787854617818, 'opt_Batch_Size': 183, 'opt_Number_of_Noise_Batches': 2, 'opt_Regularization_term': 0.28057693966676045, 'opt_Noise_Dim': 223, 'n_layers': 8}. Best is trial 114 with value: 2.2227095395326613.\n"
     ]
    },
    {
     "name": "stderr",
     "output_type": "stream",
     "text": [
      "[I 2025-01-20 09:29:21,864] Trial 146 finished with value: 2.4732701539993287 and parameters: {'opt_Epochs': 3, 'opt_Steps': 7, 'opt_Learning_Rate': 0.22934628997898346, 'opt_Batch_Size': 164, 'opt_Number_of_Noise_Batches': 1, 'opt_Regularization_term': 0.2880608348811187, 'opt_Noise_Dim': 196, 'n_layers': 3}. Best is trial 114 with value: 2.2227095395326613.\n"
     ]
    },
    {
     "name": "stdout",
     "output_type": "stream",
     "text": [
      "Trial 146 finished with value: 2.4732701539993287 and parameters: {'opt_Epochs': 3, 'opt_Steps': 7, 'opt_Learning_Rate': 0.22934628997898346, 'opt_Batch_Size': 164, 'opt_Number_of_Noise_Batches': 1, 'opt_Regularization_term': 0.2880608348811187, 'opt_Noise_Dim': 196, 'n_layers': 3}. Best is trial 114 with value: 2.2227095395326613.\n",
      "Trial 146 finished with value: 2.4732701539993287 and parameters: {'opt_Epochs': 3, 'opt_Steps': 7, 'opt_Learning_Rate': 0.22934628997898346, 'opt_Batch_Size': 164, 'opt_Number_of_Noise_Batches': 1, 'opt_Regularization_term': 0.2880608348811187, 'opt_Noise_Dim': 196, 'n_layers': 3}. Best is trial 114 with value: 2.2227095395326613.\n"
     ]
    },
    {
     "name": "stderr",
     "output_type": "stream",
     "text": [
      "[I 2025-01-20 09:29:45,402] Trial 147 finished with value: 2.646225395798683 and parameters: {'opt_Epochs': 2, 'opt_Steps': 5, 'opt_Learning_Rate': 0.010868460011578748, 'opt_Batch_Size': 150, 'opt_Number_of_Noise_Batches': 2, 'opt_Regularization_term': 0.22127839064956195, 'opt_Noise_Dim': 464, 'n_layers': 4}. Best is trial 114 with value: 2.2227095395326613.\n"
     ]
    },
    {
     "name": "stdout",
     "output_type": "stream",
     "text": [
      "Trial 147 finished with value: 2.646225395798683 and parameters: {'opt_Epochs': 2, 'opt_Steps': 5, 'opt_Learning_Rate': 0.010868460011578748, 'opt_Batch_Size': 150, 'opt_Number_of_Noise_Batches': 2, 'opt_Regularization_term': 0.22127839064956195, 'opt_Noise_Dim': 464, 'n_layers': 4}. Best is trial 114 with value: 2.2227095395326613.\n",
      "Trial 147 finished with value: 2.646225395798683 and parameters: {'opt_Epochs': 2, 'opt_Steps': 5, 'opt_Learning_Rate': 0.010868460011578748, 'opt_Batch_Size': 150, 'opt_Number_of_Noise_Batches': 2, 'opt_Regularization_term': 0.22127839064956195, 'opt_Noise_Dim': 464, 'n_layers': 4}. Best is trial 114 with value: 2.2227095395326613.\n"
     ]
    },
    {
     "name": "stderr",
     "output_type": "stream",
     "text": [
      "[I 2025-01-20 09:30:11,525] Trial 148 finished with value: 2.96181073486805 and parameters: {'opt_Epochs': 1, 'opt_Steps': 11, 'opt_Learning_Rate': 0.25436682933799054, 'opt_Batch_Size': 222, 'opt_Number_of_Noise_Batches': 10, 'opt_Regularization_term': 0.29923723947120384, 'opt_Noise_Dim': 277, 'n_layers': 2}. Best is trial 114 with value: 2.2227095395326613.\n"
     ]
    },
    {
     "name": "stdout",
     "output_type": "stream",
     "text": [
      "Trial 148 finished with value: 2.96181073486805 and parameters: {'opt_Epochs': 1, 'opt_Steps': 11, 'opt_Learning_Rate': 0.25436682933799054, 'opt_Batch_Size': 222, 'opt_Number_of_Noise_Batches': 10, 'opt_Regularization_term': 0.29923723947120384, 'opt_Noise_Dim': 277, 'n_layers': 2}. Best is trial 114 with value: 2.2227095395326613.\n",
      "Trial 148 finished with value: 2.96181073486805 and parameters: {'opt_Epochs': 1, 'opt_Steps': 11, 'opt_Learning_Rate': 0.25436682933799054, 'opt_Batch_Size': 222, 'opt_Number_of_Noise_Batches': 10, 'opt_Regularization_term': 0.29923723947120384, 'opt_Noise_Dim': 277, 'n_layers': 2}. Best is trial 114 with value: 2.2227095395326613.\n"
     ]
    },
    {
     "name": "stderr",
     "output_type": "stream",
     "text": [
      "[I 2025-01-20 09:30:41,909] Trial 149 finished with value: 2.393350604176521 and parameters: {'opt_Epochs': 3, 'opt_Steps': 6, 'opt_Learning_Rate': 0.2428619125266875, 'opt_Batch_Size': 189, 'opt_Number_of_Noise_Batches': 8, 'opt_Regularization_term': 0.2710166260851335, 'opt_Noise_Dim': 166, 'n_layers': 5}. Best is trial 114 with value: 2.2227095395326613.\n"
     ]
    },
    {
     "name": "stdout",
     "output_type": "stream",
     "text": [
      "Trial 149 finished with value: 2.393350604176521 and parameters: {'opt_Epochs': 3, 'opt_Steps': 6, 'opt_Learning_Rate': 0.2428619125266875, 'opt_Batch_Size': 189, 'opt_Number_of_Noise_Batches': 8, 'opt_Regularization_term': 0.2710166260851335, 'opt_Noise_Dim': 166, 'n_layers': 5}. Best is trial 114 with value: 2.2227095395326613.\n",
      "Trial 149 finished with value: 2.393350604176521 and parameters: {'opt_Epochs': 3, 'opt_Steps': 6, 'opt_Learning_Rate': 0.2428619125266875, 'opt_Batch_Size': 189, 'opt_Number_of_Noise_Batches': 8, 'opt_Regularization_term': 0.2710166260851335, 'opt_Noise_Dim': 166, 'n_layers': 5}. Best is trial 114 with value: 2.2227095395326613.\n"
     ]
    },
    {
     "name": "stderr",
     "output_type": "stream",
     "text": [
      "[I 2025-01-20 09:31:09,888] Trial 150 finished with value: 2.5636502772569663 and parameters: {'opt_Epochs': 2, 'opt_Steps': 8, 'opt_Learning_Rate': 0.21919495982625659, 'opt_Batch_Size': 245, 'opt_Number_of_Noise_Batches': 7, 'opt_Regularization_term': 0.23744170026757375, 'opt_Noise_Dim': 415, 'n_layers': 3}. Best is trial 114 with value: 2.2227095395326613.\n"
     ]
    },
    {
     "name": "stdout",
     "output_type": "stream",
     "text": [
      "Trial 150 finished with value: 2.5636502772569663 and parameters: {'opt_Epochs': 2, 'opt_Steps': 8, 'opt_Learning_Rate': 0.21919495982625659, 'opt_Batch_Size': 245, 'opt_Number_of_Noise_Batches': 7, 'opt_Regularization_term': 0.23744170026757375, 'opt_Noise_Dim': 415, 'n_layers': 3}. Best is trial 114 with value: 2.2227095395326613.\n",
      "Trial 150 finished with value: 2.5636502772569663 and parameters: {'opt_Epochs': 2, 'opt_Steps': 8, 'opt_Learning_Rate': 0.21919495982625659, 'opt_Batch_Size': 245, 'opt_Number_of_Noise_Batches': 7, 'opt_Regularization_term': 0.23744170026757375, 'opt_Noise_Dim': 415, 'n_layers': 3}. Best is trial 114 with value: 2.2227095395326613.\n"
     ]
    },
    {
     "name": "stderr",
     "output_type": "stream",
     "text": [
      "[I 2025-01-20 09:31:48,146] Trial 151 finished with value: 2.4140029922127724 and parameters: {'opt_Epochs': 10, 'opt_Steps': 8, 'opt_Learning_Rate': 0.022536103585140813, 'opt_Batch_Size': 143, 'opt_Number_of_Noise_Batches': 5, 'opt_Regularization_term': 0.2912165244092094, 'opt_Noise_Dim': 398, 'n_layers': 3}. Best is trial 114 with value: 2.2227095395326613.\n"
     ]
    },
    {
     "name": "stdout",
     "output_type": "stream",
     "text": [
      "Trial 151 finished with value: 2.4140029922127724 and parameters: {'opt_Epochs': 10, 'opt_Steps': 8, 'opt_Learning_Rate': 0.022536103585140813, 'opt_Batch_Size': 143, 'opt_Number_of_Noise_Batches': 5, 'opt_Regularization_term': 0.2912165244092094, 'opt_Noise_Dim': 398, 'n_layers': 3}. Best is trial 114 with value: 2.2227095395326613.\n",
      "Trial 151 finished with value: 2.4140029922127724 and parameters: {'opt_Epochs': 10, 'opt_Steps': 8, 'opt_Learning_Rate': 0.022536103585140813, 'opt_Batch_Size': 143, 'opt_Number_of_Noise_Batches': 5, 'opt_Regularization_term': 0.2912165244092094, 'opt_Noise_Dim': 398, 'n_layers': 3}. Best is trial 114 with value: 2.2227095395326613.\n"
     ]
    },
    {
     "name": "stderr",
     "output_type": "stream",
     "text": [
      "[I 2025-01-20 09:32:25,383] Trial 152 finished with value: 2.5250425159931185 and parameters: {'opt_Epochs': 8, 'opt_Steps': 9, 'opt_Learning_Rate': 0.21418190065980747, 'opt_Batch_Size': 173, 'opt_Number_of_Noise_Batches': 6, 'opt_Regularization_term': 0.19956256241554649, 'opt_Noise_Dim': 478, 'n_layers': 2}. Best is trial 114 with value: 2.2227095395326613.\n"
     ]
    },
    {
     "name": "stdout",
     "output_type": "stream",
     "text": [
      "Trial 152 finished with value: 2.5250425159931185 and parameters: {'opt_Epochs': 8, 'opt_Steps': 9, 'opt_Learning_Rate': 0.21418190065980747, 'opt_Batch_Size': 173, 'opt_Number_of_Noise_Batches': 6, 'opt_Regularization_term': 0.19956256241554649, 'opt_Noise_Dim': 478, 'n_layers': 2}. Best is trial 114 with value: 2.2227095395326613.\n",
      "Trial 152 finished with value: 2.5250425159931185 and parameters: {'opt_Epochs': 8, 'opt_Steps': 9, 'opt_Learning_Rate': 0.21418190065980747, 'opt_Batch_Size': 173, 'opt_Number_of_Noise_Batches': 6, 'opt_Regularization_term': 0.19956256241554649, 'opt_Noise_Dim': 478, 'n_layers': 2}. Best is trial 114 with value: 2.2227095395326613.\n"
     ]
    },
    {
     "name": "stderr",
     "output_type": "stream",
     "text": [
      "[I 2025-01-20 09:32:52,861] Trial 153 finished with value: 2.6818645700812342 and parameters: {'opt_Epochs': 2, 'opt_Steps': 6, 'opt_Learning_Rate': 0.030016119168107917, 'opt_Batch_Size': 208, 'opt_Number_of_Noise_Batches': 7, 'opt_Regularization_term': 0.28319337195833233, 'opt_Noise_Dim': 235, 'n_layers': 5}. Best is trial 114 with value: 2.2227095395326613.\n"
     ]
    },
    {
     "name": "stdout",
     "output_type": "stream",
     "text": [
      "Trial 153 finished with value: 2.6818645700812342 and parameters: {'opt_Epochs': 2, 'opt_Steps': 6, 'opt_Learning_Rate': 0.030016119168107917, 'opt_Batch_Size': 208, 'opt_Number_of_Noise_Batches': 7, 'opt_Regularization_term': 0.28319337195833233, 'opt_Noise_Dim': 235, 'n_layers': 5}. Best is trial 114 with value: 2.2227095395326613.\n",
      "Trial 153 finished with value: 2.6818645700812342 and parameters: {'opt_Epochs': 2, 'opt_Steps': 6, 'opt_Learning_Rate': 0.030016119168107917, 'opt_Batch_Size': 208, 'opt_Number_of_Noise_Batches': 7, 'opt_Regularization_term': 0.28319337195833233, 'opt_Noise_Dim': 235, 'n_layers': 5}. Best is trial 114 with value: 2.2227095395326613.\n"
     ]
    },
    {
     "name": "stderr",
     "output_type": "stream",
     "text": [
      "[I 2025-01-20 09:33:19,149] Trial 154 finished with value: 2.499308982491493 and parameters: {'opt_Epochs': 3, 'opt_Steps': 7, 'opt_Learning_Rate': 0.20688171403063305, 'opt_Batch_Size': 139, 'opt_Number_of_Noise_Batches': 6, 'opt_Regularization_term': 0.1726004069291087, 'opt_Noise_Dim': 209, 'n_layers': 4}. Best is trial 114 with value: 2.2227095395326613.\n"
     ]
    },
    {
     "name": "stdout",
     "output_type": "stream",
     "text": [
      "Trial 154 finished with value: 2.499308982491493 and parameters: {'opt_Epochs': 3, 'opt_Steps': 7, 'opt_Learning_Rate': 0.20688171403063305, 'opt_Batch_Size': 139, 'opt_Number_of_Noise_Batches': 6, 'opt_Regularization_term': 0.1726004069291087, 'opt_Noise_Dim': 209, 'n_layers': 4}. Best is trial 114 with value: 2.2227095395326613.\n",
      "Trial 154 finished with value: 2.499308982491493 and parameters: {'opt_Epochs': 3, 'opt_Steps': 7, 'opt_Learning_Rate': 0.20688171403063305, 'opt_Batch_Size': 139, 'opt_Number_of_Noise_Batches': 6, 'opt_Regularization_term': 0.1726004069291087, 'opt_Noise_Dim': 209, 'n_layers': 4}. Best is trial 114 with value: 2.2227095395326613.\n"
     ]
    },
    {
     "name": "stderr",
     "output_type": "stream",
     "text": [
      "[I 2025-01-20 09:33:53,230] Trial 155 finished with value: 2.380553561449051 and parameters: {'opt_Epochs': 2, 'opt_Steps': 11, 'opt_Learning_Rate': 0.03619481942095662, 'opt_Batch_Size': 272, 'opt_Number_of_Noise_Batches': 7, 'opt_Regularization_term': 0.24626355424561913, 'opt_Noise_Dim': 145, 'n_layers': 3}. Best is trial 114 with value: 2.2227095395326613.\n"
     ]
    },
    {
     "name": "stdout",
     "output_type": "stream",
     "text": [
      "Trial 155 finished with value: 2.380553561449051 and parameters: {'opt_Epochs': 2, 'opt_Steps': 11, 'opt_Learning_Rate': 0.03619481942095662, 'opt_Batch_Size': 272, 'opt_Number_of_Noise_Batches': 7, 'opt_Regularization_term': 0.24626355424561913, 'opt_Noise_Dim': 145, 'n_layers': 3}. Best is trial 114 with value: 2.2227095395326613.\n",
      "Trial 155 finished with value: 2.380553561449051 and parameters: {'opt_Epochs': 2, 'opt_Steps': 11, 'opt_Learning_Rate': 0.03619481942095662, 'opt_Batch_Size': 272, 'opt_Number_of_Noise_Batches': 7, 'opt_Regularization_term': 0.24626355424561913, 'opt_Noise_Dim': 145, 'n_layers': 3}. Best is trial 114 with value: 2.2227095395326613.\n"
     ]
    },
    {
     "name": "stderr",
     "output_type": "stream",
     "text": [
      "[I 2025-01-20 09:34:25,488] Trial 156 finished with value: 2.6783565431833267 and parameters: {'opt_Epochs': 2, 'opt_Steps': 12, 'opt_Learning_Rate': 0.05565667165848162, 'opt_Batch_Size': 240, 'opt_Number_of_Noise_Batches': 7, 'opt_Regularization_term': 0.23137317043211972, 'opt_Noise_Dim': 152, 'n_layers': 3}. Best is trial 114 with value: 2.2227095395326613.\n"
     ]
    },
    {
     "name": "stdout",
     "output_type": "stream",
     "text": [
      "Trial 156 finished with value: 2.6783565431833267 and parameters: {'opt_Epochs': 2, 'opt_Steps': 12, 'opt_Learning_Rate': 0.05565667165848162, 'opt_Batch_Size': 240, 'opt_Number_of_Noise_Batches': 7, 'opt_Regularization_term': 0.23137317043211972, 'opt_Noise_Dim': 152, 'n_layers': 3}. Best is trial 114 with value: 2.2227095395326613.\n",
      "Trial 156 finished with value: 2.6783565431833267 and parameters: {'opt_Epochs': 2, 'opt_Steps': 12, 'opt_Learning_Rate': 0.05565667165848162, 'opt_Batch_Size': 240, 'opt_Number_of_Noise_Batches': 7, 'opt_Regularization_term': 0.23137317043211972, 'opt_Noise_Dim': 152, 'n_layers': 3}. Best is trial 114 with value: 2.2227095395326613.\n"
     ]
    },
    {
     "name": "stderr",
     "output_type": "stream",
     "text": [
      "[I 2025-01-20 09:34:57,450] Trial 157 finished with value: 2.2511677905917162 and parameters: {'opt_Epochs': 3, 'opt_Steps': 10, 'opt_Learning_Rate': 0.04512201543583471, 'opt_Batch_Size': 215, 'opt_Number_of_Noise_Batches': 4, 'opt_Regularization_term': 0.20974218519782387, 'opt_Noise_Dim': 173, 'n_layers': 3}. Best is trial 114 with value: 2.2227095395326613.\n"
     ]
    },
    {
     "name": "stdout",
     "output_type": "stream",
     "text": [
      "Trial 157 finished with value: 2.2511677905917162 and parameters: {'opt_Epochs': 3, 'opt_Steps': 10, 'opt_Learning_Rate': 0.04512201543583471, 'opt_Batch_Size': 215, 'opt_Number_of_Noise_Batches': 4, 'opt_Regularization_term': 0.20974218519782387, 'opt_Noise_Dim': 173, 'n_layers': 3}. Best is trial 114 with value: 2.2227095395326613.\n",
      "Trial 157 finished with value: 2.2511677905917162 and parameters: {'opt_Epochs': 3, 'opt_Steps': 10, 'opt_Learning_Rate': 0.04512201543583471, 'opt_Batch_Size': 215, 'opt_Number_of_Noise_Batches': 4, 'opt_Regularization_term': 0.20974218519782387, 'opt_Noise_Dim': 173, 'n_layers': 3}. Best is trial 114 with value: 2.2227095395326613.\n"
     ]
    },
    {
     "name": "stderr",
     "output_type": "stream",
     "text": [
      "[I 2025-01-20 09:35:30,044] Trial 158 finished with value: 2.4373023837804797 and parameters: {'opt_Epochs': 3, 'opt_Steps': 11, 'opt_Learning_Rate': 0.05047348869737874, 'opt_Batch_Size': 220, 'opt_Number_of_Noise_Batches': 4, 'opt_Regularization_term': 0.2156813565267757, 'opt_Noise_Dim': 173, 'n_layers': 3}. Best is trial 114 with value: 2.2227095395326613.\n"
     ]
    },
    {
     "name": "stdout",
     "output_type": "stream",
     "text": [
      "Trial 158 finished with value: 2.4373023837804797 and parameters: {'opt_Epochs': 3, 'opt_Steps': 11, 'opt_Learning_Rate': 0.05047348869737874, 'opt_Batch_Size': 220, 'opt_Number_of_Noise_Batches': 4, 'opt_Regularization_term': 0.2156813565267757, 'opt_Noise_Dim': 173, 'n_layers': 3}. Best is trial 114 with value: 2.2227095395326613.\n",
      "Trial 158 finished with value: 2.4373023837804797 and parameters: {'opt_Epochs': 3, 'opt_Steps': 11, 'opt_Learning_Rate': 0.05047348869737874, 'opt_Batch_Size': 220, 'opt_Number_of_Noise_Batches': 4, 'opt_Regularization_term': 0.2156813565267757, 'opt_Noise_Dim': 173, 'n_layers': 3}. Best is trial 114 with value: 2.2227095395326613.\n"
     ]
    },
    {
     "name": "stderr",
     "output_type": "stream",
     "text": [
      "[I 2025-01-20 09:36:07,739] Trial 159 finished with value: 2.544915668666362 and parameters: {'opt_Epochs': 4, 'opt_Steps': 10, 'opt_Learning_Rate': 0.09918685332934356, 'opt_Batch_Size': 190, 'opt_Number_of_Noise_Batches': 3, 'opt_Regularization_term': 0.20546409679775646, 'opt_Noise_Dim': 161, 'n_layers': 6}. Best is trial 114 with value: 2.2227095395326613.\n"
     ]
    },
    {
     "name": "stdout",
     "output_type": "stream",
     "text": [
      "Trial 159 finished with value: 2.544915668666362 and parameters: {'opt_Epochs': 4, 'opt_Steps': 10, 'opt_Learning_Rate': 0.09918685332934356, 'opt_Batch_Size': 190, 'opt_Number_of_Noise_Batches': 3, 'opt_Regularization_term': 0.20546409679775646, 'opt_Noise_Dim': 161, 'n_layers': 6}. Best is trial 114 with value: 2.2227095395326613.\n",
      "Trial 159 finished with value: 2.544915668666362 and parameters: {'opt_Epochs': 4, 'opt_Steps': 10, 'opt_Learning_Rate': 0.09918685332934356, 'opt_Batch_Size': 190, 'opt_Number_of_Noise_Batches': 3, 'opt_Regularization_term': 0.20546409679775646, 'opt_Noise_Dim': 161, 'n_layers': 6}. Best is trial 114 with value: 2.2227095395326613.\n"
     ]
    },
    {
     "name": "stderr",
     "output_type": "stream",
     "text": [
      "[I 2025-01-20 09:36:43,475] Trial 160 finished with value: 2.2871207870543 and parameters: {'opt_Epochs': 3, 'opt_Steps': 10, 'opt_Learning_Rate': 0.04576385441958034, 'opt_Batch_Size': 254, 'opt_Number_of_Noise_Batches': 4, 'opt_Regularization_term': 0.22528110431294046, 'opt_Noise_Dim': 427, 'n_layers': 4}. Best is trial 114 with value: 2.2227095395326613.\n"
     ]
    },
    {
     "name": "stdout",
     "output_type": "stream",
     "text": [
      "Trial 160 finished with value: 2.2871207870543 and parameters: {'opt_Epochs': 3, 'opt_Steps': 10, 'opt_Learning_Rate': 0.04576385441958034, 'opt_Batch_Size': 254, 'opt_Number_of_Noise_Batches': 4, 'opt_Regularization_term': 0.22528110431294046, 'opt_Noise_Dim': 427, 'n_layers': 4}. Best is trial 114 with value: 2.2227095395326613.\n",
      "Trial 160 finished with value: 2.2871207870543 and parameters: {'opt_Epochs': 3, 'opt_Steps': 10, 'opt_Learning_Rate': 0.04576385441958034, 'opt_Batch_Size': 254, 'opt_Number_of_Noise_Batches': 4, 'opt_Regularization_term': 0.22528110431294046, 'opt_Noise_Dim': 427, 'n_layers': 4}. Best is trial 114 with value: 2.2227095395326613.\n"
     ]
    },
    {
     "name": "stderr",
     "output_type": "stream",
     "text": [
      "[I 2025-01-20 09:37:23,459] Trial 161 finished with value: 2.4813900411129 and parameters: {'opt_Epochs': 4, 'opt_Steps': 10, 'opt_Learning_Rate': 0.047080631812860874, 'opt_Batch_Size': 255, 'opt_Number_of_Noise_Batches': 4, 'opt_Regularization_term': 0.22521642622812232, 'opt_Noise_Dim': 423, 'n_layers': 4}. Best is trial 114 with value: 2.2227095395326613.\n"
     ]
    },
    {
     "name": "stdout",
     "output_type": "stream",
     "text": [
      "Trial 161 finished with value: 2.4813900411129 and parameters: {'opt_Epochs': 4, 'opt_Steps': 10, 'opt_Learning_Rate': 0.047080631812860874, 'opt_Batch_Size': 255, 'opt_Number_of_Noise_Batches': 4, 'opt_Regularization_term': 0.22521642622812232, 'opt_Noise_Dim': 423, 'n_layers': 4}. Best is trial 114 with value: 2.2227095395326613.\n",
      "Trial 161 finished with value: 2.4813900411129 and parameters: {'opt_Epochs': 4, 'opt_Steps': 10, 'opt_Learning_Rate': 0.047080631812860874, 'opt_Batch_Size': 255, 'opt_Number_of_Noise_Batches': 4, 'opt_Regularization_term': 0.22521642622812232, 'opt_Noise_Dim': 423, 'n_layers': 4}. Best is trial 114 with value: 2.2227095395326613.\n"
     ]
    },
    {
     "name": "stderr",
     "output_type": "stream",
     "text": [
      "[I 2025-01-20 09:38:12,888] Trial 162 finished with value: 2.6541110396385195 and parameters: {'opt_Epochs': 3, 'opt_Steps': 10, 'opt_Learning_Rate': 0.2352542234171596, 'opt_Batch_Size': 488, 'opt_Number_of_Noise_Batches': 4, 'opt_Regularization_term': 0.20980408803234685, 'opt_Noise_Dim': 384, 'n_layers': 4}. Best is trial 114 with value: 2.2227095395326613.\n"
     ]
    },
    {
     "name": "stdout",
     "output_type": "stream",
     "text": [
      "Trial 162 finished with value: 2.6541110396385195 and parameters: {'opt_Epochs': 3, 'opt_Steps': 10, 'opt_Learning_Rate': 0.2352542234171596, 'opt_Batch_Size': 488, 'opt_Number_of_Noise_Batches': 4, 'opt_Regularization_term': 0.20980408803234685, 'opt_Noise_Dim': 384, 'n_layers': 4}. Best is trial 114 with value: 2.2227095395326613.\n",
      "Trial 162 finished with value: 2.6541110396385195 and parameters: {'opt_Epochs': 3, 'opt_Steps': 10, 'opt_Learning_Rate': 0.2352542234171596, 'opt_Batch_Size': 488, 'opt_Number_of_Noise_Batches': 4, 'opt_Regularization_term': 0.20980408803234685, 'opt_Noise_Dim': 384, 'n_layers': 4}. Best is trial 114 with value: 2.2227095395326613.\n"
     ]
    },
    {
     "name": "stderr",
     "output_type": "stream",
     "text": [
      "[I 2025-01-20 09:38:39,400] Trial 163 finished with value: 2.520962609350681 and parameters: {'opt_Epochs': 1, 'opt_Steps': 10, 'opt_Learning_Rate': 0.03952287361119057, 'opt_Batch_Size': 228, 'opt_Number_of_Noise_Batches': 5, 'opt_Regularization_term': 0.21698600895186376, 'opt_Noise_Dim': 255, 'n_layers': 4}. Best is trial 114 with value: 2.2227095395326613.\n"
     ]
    },
    {
     "name": "stdout",
     "output_type": "stream",
     "text": [
      "Trial 163 finished with value: 2.520962609350681 and parameters: {'opt_Epochs': 1, 'opt_Steps': 10, 'opt_Learning_Rate': 0.03952287361119057, 'opt_Batch_Size': 228, 'opt_Number_of_Noise_Batches': 5, 'opt_Regularization_term': 0.21698600895186376, 'opt_Noise_Dim': 255, 'n_layers': 4}. Best is trial 114 with value: 2.2227095395326613.\n",
      "Trial 163 finished with value: 2.520962609350681 and parameters: {'opt_Epochs': 1, 'opt_Steps': 10, 'opt_Learning_Rate': 0.03952287361119057, 'opt_Batch_Size': 228, 'opt_Number_of_Noise_Batches': 5, 'opt_Regularization_term': 0.21698600895186376, 'opt_Noise_Dim': 255, 'n_layers': 4}. Best is trial 114 with value: 2.2227095395326613.\n"
     ]
    },
    {
     "name": "stderr",
     "output_type": "stream",
     "text": [
      "[I 2025-01-20 09:39:13,113] Trial 164 finished with value: 2.4988761514425284 and parameters: {'opt_Epochs': 3, 'opt_Steps': 9, 'opt_Learning_Rate': 0.02408529942941689, 'opt_Batch_Size': 213, 'opt_Number_of_Noise_Batches': 4, 'opt_Regularization_term': 0.2411030685368509, 'opt_Noise_Dim': 356, 'n_layers': 5}. Best is trial 114 with value: 2.2227095395326613.\n"
     ]
    },
    {
     "name": "stdout",
     "output_type": "stream",
     "text": [
      "Trial 164 finished with value: 2.4988761514425284 and parameters: {'opt_Epochs': 3, 'opt_Steps': 9, 'opt_Learning_Rate': 0.02408529942941689, 'opt_Batch_Size': 213, 'opt_Number_of_Noise_Batches': 4, 'opt_Regularization_term': 0.2411030685368509, 'opt_Noise_Dim': 356, 'n_layers': 5}. Best is trial 114 with value: 2.2227095395326613.\n",
      "Trial 164 finished with value: 2.4988761514425284 and parameters: {'opt_Epochs': 3, 'opt_Steps': 9, 'opt_Learning_Rate': 0.02408529942941689, 'opt_Batch_Size': 213, 'opt_Number_of_Noise_Batches': 4, 'opt_Regularization_term': 0.2411030685368509, 'opt_Noise_Dim': 356, 'n_layers': 5}. Best is trial 114 with value: 2.2227095395326613.\n"
     ]
    },
    {
     "name": "stderr",
     "output_type": "stream",
     "text": [
      "[I 2025-01-20 09:39:41,495] Trial 165 finished with value: 2.4499775826931005 and parameters: {'opt_Epochs': 3, 'opt_Steps': 6, 'opt_Learning_Rate': 0.04410949783791958, 'opt_Batch_Size': 249, 'opt_Number_of_Noise_Batches': 3, 'opt_Regularization_term': 0.2240495088686458, 'opt_Noise_Dim': 446, 'n_layers': 3}. Best is trial 114 with value: 2.2227095395326613.\n"
     ]
    },
    {
     "name": "stdout",
     "output_type": "stream",
     "text": [
      "Trial 165 finished with value: 2.4499775826931005 and parameters: {'opt_Epochs': 3, 'opt_Steps': 6, 'opt_Learning_Rate': 0.04410949783791958, 'opt_Batch_Size': 249, 'opt_Number_of_Noise_Batches': 3, 'opt_Regularization_term': 0.2240495088686458, 'opt_Noise_Dim': 446, 'n_layers': 3}. Best is trial 114 with value: 2.2227095395326613.\n",
      "Trial 165 finished with value: 2.4499775826931005 and parameters: {'opt_Epochs': 3, 'opt_Steps': 6, 'opt_Learning_Rate': 0.04410949783791958, 'opt_Batch_Size': 249, 'opt_Number_of_Noise_Batches': 3, 'opt_Regularization_term': 0.2240495088686458, 'opt_Noise_Dim': 446, 'n_layers': 3}. Best is trial 114 with value: 2.2227095395326613.\n"
     ]
    },
    {
     "name": "stderr",
     "output_type": "stream",
     "text": [
      "[I 2025-01-20 09:40:12,695] Trial 166 finished with value: 2.602583357691765 and parameters: {'opt_Epochs': 3, 'opt_Steps': 7, 'opt_Learning_Rate': 0.017974208791339475, 'opt_Batch_Size': 267, 'opt_Number_of_Noise_Batches': 5, 'opt_Regularization_term': 0.20848946078309788, 'opt_Noise_Dim': 438, 'n_layers': 3}. Best is trial 114 with value: 2.2227095395326613.\n"
     ]
    },
    {
     "name": "stdout",
     "output_type": "stream",
     "text": [
      "Trial 166 finished with value: 2.602583357691765 and parameters: {'opt_Epochs': 3, 'opt_Steps': 7, 'opt_Learning_Rate': 0.017974208791339475, 'opt_Batch_Size': 267, 'opt_Number_of_Noise_Batches': 5, 'opt_Regularization_term': 0.20848946078309788, 'opt_Noise_Dim': 438, 'n_layers': 3}. Best is trial 114 with value: 2.2227095395326613.\n",
      "Trial 166 finished with value: 2.602583357691765 and parameters: {'opt_Epochs': 3, 'opt_Steps': 7, 'opt_Learning_Rate': 0.017974208791339475, 'opt_Batch_Size': 267, 'opt_Number_of_Noise_Batches': 5, 'opt_Regularization_term': 0.20848946078309788, 'opt_Noise_Dim': 438, 'n_layers': 3}. Best is trial 114 with value: 2.2227095395326613.\n"
     ]
    },
    {
     "name": "stderr",
     "output_type": "stream",
     "text": [
      "[I 2025-01-20 09:40:35,437] Trial 167 finished with value: 2.6144263386726383 and parameters: {'opt_Epochs': 3, 'opt_Steps': 1, 'opt_Learning_Rate': 0.0314830706488773, 'opt_Batch_Size': 178, 'opt_Number_of_Noise_Batches': 4, 'opt_Regularization_term': 0.25659322544073115, 'opt_Noise_Dim': 427, 'n_layers': 4}. Best is trial 114 with value: 2.2227095395326613.\n"
     ]
    },
    {
     "name": "stdout",
     "output_type": "stream",
     "text": [
      "Trial 167 finished with value: 2.6144263386726383 and parameters: {'opt_Epochs': 3, 'opt_Steps': 1, 'opt_Learning_Rate': 0.0314830706488773, 'opt_Batch_Size': 178, 'opt_Number_of_Noise_Batches': 4, 'opt_Regularization_term': 0.25659322544073115, 'opt_Noise_Dim': 427, 'n_layers': 4}. Best is trial 114 with value: 2.2227095395326613.\n",
      "Trial 167 finished with value: 2.6144263386726383 and parameters: {'opt_Epochs': 3, 'opt_Steps': 1, 'opt_Learning_Rate': 0.0314830706488773, 'opt_Batch_Size': 178, 'opt_Number_of_Noise_Batches': 4, 'opt_Regularization_term': 0.25659322544073115, 'opt_Noise_Dim': 427, 'n_layers': 4}. Best is trial 114 with value: 2.2227095395326613.\n"
     ]
    },
    {
     "name": "stderr",
     "output_type": "stream",
     "text": [
      "[I 2025-01-20 09:41:00,879] Trial 168 finished with value: 2.380530720949173 and parameters: {'opt_Epochs': 4, 'opt_Steps': 3, 'opt_Learning_Rate': 0.13792285489180886, 'opt_Batch_Size': 201, 'opt_Number_of_Noise_Batches': 6, 'opt_Regularization_term': 0.193776850002453, 'opt_Noise_Dim': 456, 'n_layers': 2}. Best is trial 114 with value: 2.2227095395326613.\n"
     ]
    },
    {
     "name": "stdout",
     "output_type": "stream",
     "text": [
      "Trial 168 finished with value: 2.380530720949173 and parameters: {'opt_Epochs': 4, 'opt_Steps': 3, 'opt_Learning_Rate': 0.13792285489180886, 'opt_Batch_Size': 201, 'opt_Number_of_Noise_Batches': 6, 'opt_Regularization_term': 0.193776850002453, 'opt_Noise_Dim': 456, 'n_layers': 2}. Best is trial 114 with value: 2.2227095395326613.\n",
      "Trial 168 finished with value: 2.380530720949173 and parameters: {'opt_Epochs': 4, 'opt_Steps': 3, 'opt_Learning_Rate': 0.13792285489180886, 'opt_Batch_Size': 201, 'opt_Number_of_Noise_Batches': 6, 'opt_Regularization_term': 0.193776850002453, 'opt_Noise_Dim': 456, 'n_layers': 2}. Best is trial 114 with value: 2.2227095395326613.\n"
     ]
    },
    {
     "name": "stderr",
     "output_type": "stream",
     "text": [
      "[I 2025-01-20 09:42:00,508] Trial 169 finished with value: 2.4574258178472514 and parameters: {'opt_Epochs': 9, 'opt_Steps': 8, 'opt_Learning_Rate': 0.014959068280699853, 'opt_Batch_Size': 301, 'opt_Number_of_Noise_Batches': 5, 'opt_Regularization_term': 0.23004650015097372, 'opt_Noise_Dim': 191, 'n_layers': 4}. Best is trial 114 with value: 2.2227095395326613.\n"
     ]
    },
    {
     "name": "stdout",
     "output_type": "stream",
     "text": [
      "Trial 169 finished with value: 2.4574258178472514 and parameters: {'opt_Epochs': 9, 'opt_Steps': 8, 'opt_Learning_Rate': 0.014959068280699853, 'opt_Batch_Size': 301, 'opt_Number_of_Noise_Batches': 5, 'opt_Regularization_term': 0.23004650015097372, 'opt_Noise_Dim': 191, 'n_layers': 4}. Best is trial 114 with value: 2.2227095395326613.\n",
      "Trial 169 finished with value: 2.4574258178472514 and parameters: {'opt_Epochs': 9, 'opt_Steps': 8, 'opt_Learning_Rate': 0.014959068280699853, 'opt_Batch_Size': 301, 'opt_Number_of_Noise_Batches': 5, 'opt_Regularization_term': 0.23004650015097372, 'opt_Noise_Dim': 191, 'n_layers': 4}. Best is trial 114 with value: 2.2227095395326613.\n"
     ]
    },
    {
     "name": "stderr",
     "output_type": "stream",
     "text": [
      "[I 2025-01-20 09:42:29,326] Trial 170 finished with value: 2.5962696582078935 and parameters: {'opt_Epochs': 3, 'opt_Steps': 11, 'opt_Learning_Rate': 0.06280225325423754, 'opt_Batch_Size': 156, 'opt_Number_of_Noise_Batches': 1, 'opt_Regularization_term': 0.2937011021467697, 'opt_Noise_Dim': 407, 'n_layers': 3}. Best is trial 114 with value: 2.2227095395326613.\n"
     ]
    },
    {
     "name": "stdout",
     "output_type": "stream",
     "text": [
      "Trial 170 finished with value: 2.5962696582078935 and parameters: {'opt_Epochs': 3, 'opt_Steps': 11, 'opt_Learning_Rate': 0.06280225325423754, 'opt_Batch_Size': 156, 'opt_Number_of_Noise_Batches': 1, 'opt_Regularization_term': 0.2937011021467697, 'opt_Noise_Dim': 407, 'n_layers': 3}. Best is trial 114 with value: 2.2227095395326613.\n",
      "Trial 170 finished with value: 2.5962696582078935 and parameters: {'opt_Epochs': 3, 'opt_Steps': 11, 'opt_Learning_Rate': 0.06280225325423754, 'opt_Batch_Size': 156, 'opt_Number_of_Noise_Batches': 1, 'opt_Regularization_term': 0.2937011021467697, 'opt_Noise_Dim': 407, 'n_layers': 3}. Best is trial 114 with value: 2.2227095395326613.\n"
     ]
    },
    {
     "name": "stderr",
     "output_type": "stream",
     "text": [
      "[I 2025-01-20 09:43:02,774] Trial 171 finished with value: 2.7343738034367555 and parameters: {'opt_Epochs': 2, 'opt_Steps': 9, 'opt_Learning_Rate': 0.03511174944282259, 'opt_Batch_Size': 287, 'opt_Number_of_Noise_Batches': 3, 'opt_Regularization_term': 0.1989331920685006, 'opt_Noise_Dim': 328, 'n_layers': 5}. Best is trial 114 with value: 2.2227095395326613.\n"
     ]
    },
    {
     "name": "stdout",
     "output_type": "stream",
     "text": [
      "Trial 171 finished with value: 2.7343738034367555 and parameters: {'opt_Epochs': 2, 'opt_Steps': 9, 'opt_Learning_Rate': 0.03511174944282259, 'opt_Batch_Size': 287, 'opt_Number_of_Noise_Batches': 3, 'opt_Regularization_term': 0.1989331920685006, 'opt_Noise_Dim': 328, 'n_layers': 5}. Best is trial 114 with value: 2.2227095395326613.\n",
      "Trial 171 finished with value: 2.7343738034367555 and parameters: {'opt_Epochs': 2, 'opt_Steps': 9, 'opt_Learning_Rate': 0.03511174944282259, 'opt_Batch_Size': 287, 'opt_Number_of_Noise_Batches': 3, 'opt_Regularization_term': 0.1989331920685006, 'opt_Noise_Dim': 328, 'n_layers': 5}. Best is trial 114 with value: 2.2227095395326613.\n"
     ]
    },
    {
     "name": "stderr",
     "output_type": "stream",
     "text": [
      "[I 2025-01-20 09:43:33,059] Trial 172 finished with value: 2.43615525662899 and parameters: {'opt_Epochs': 5, 'opt_Steps': 5, 'opt_Learning_Rate': 0.027220119234018767, 'opt_Batch_Size': 170, 'opt_Number_of_Noise_Batches': 5, 'opt_Regularization_term': 0.28794589802764753, 'opt_Noise_Dim': 420, 'n_layers': 4}. Best is trial 114 with value: 2.2227095395326613.\n"
     ]
    },
    {
     "name": "stdout",
     "output_type": "stream",
     "text": [
      "Trial 172 finished with value: 2.43615525662899 and parameters: {'opt_Epochs': 5, 'opt_Steps': 5, 'opt_Learning_Rate': 0.027220119234018767, 'opt_Batch_Size': 170, 'opt_Number_of_Noise_Batches': 5, 'opt_Regularization_term': 0.28794589802764753, 'opt_Noise_Dim': 420, 'n_layers': 4}. Best is trial 114 with value: 2.2227095395326613.\n",
      "Trial 172 finished with value: 2.43615525662899 and parameters: {'opt_Epochs': 5, 'opt_Steps': 5, 'opt_Learning_Rate': 0.027220119234018767, 'opt_Batch_Size': 170, 'opt_Number_of_Noise_Batches': 5, 'opt_Regularization_term': 0.28794589802764753, 'opt_Noise_Dim': 420, 'n_layers': 4}. Best is trial 114 with value: 2.2227095395326613.\n"
     ]
    },
    {
     "name": "stderr",
     "output_type": "stream",
     "text": [
      "[I 2025-01-20 09:44:00,479] Trial 173 finished with value: 2.3712073028087612 and parameters: {'opt_Epochs': 3, 'opt_Steps': 6, 'opt_Learning_Rate': 0.055444923991053593, 'opt_Batch_Size': 185, 'opt_Number_of_Noise_Batches': 8, 'opt_Regularization_term': 0.25045749229063036, 'opt_Noise_Dim': 307, 'n_layers': 3}. Best is trial 114 with value: 2.2227095395326613.\n"
     ]
    },
    {
     "name": "stdout",
     "output_type": "stream",
     "text": [
      "Trial 173 finished with value: 2.3712073028087612 and parameters: {'opt_Epochs': 3, 'opt_Steps': 6, 'opt_Learning_Rate': 0.055444923991053593, 'opt_Batch_Size': 185, 'opt_Number_of_Noise_Batches': 8, 'opt_Regularization_term': 0.25045749229063036, 'opt_Noise_Dim': 307, 'n_layers': 3}. Best is trial 114 with value: 2.2227095395326613.\n",
      "Trial 173 finished with value: 2.3712073028087612 and parameters: {'opt_Epochs': 3, 'opt_Steps': 6, 'opt_Learning_Rate': 0.055444923991053593, 'opt_Batch_Size': 185, 'opt_Number_of_Noise_Batches': 8, 'opt_Regularization_term': 0.25045749229063036, 'opt_Noise_Dim': 307, 'n_layers': 3}. Best is trial 114 with value: 2.2227095395326613.\n"
     ]
    },
    {
     "name": "stderr",
     "output_type": "stream",
     "text": [
      "[I 2025-01-20 09:45:03,677] Trial 174 finished with value: 2.875740379095077 and parameters: {'opt_Epochs': 10, 'opt_Steps': 7, 'opt_Learning_Rate': 0.010420320978616532, 'opt_Batch_Size': 231, 'opt_Number_of_Noise_Batches': 10, 'opt_Regularization_term': 0.044885474998842975, 'opt_Noise_Dim': 177, 'n_layers': 7}. Best is trial 114 with value: 2.2227095395326613.\n"
     ]
    },
    {
     "name": "stdout",
     "output_type": "stream",
     "text": [
      "Trial 174 finished with value: 2.875740379095077 and parameters: {'opt_Epochs': 10, 'opt_Steps': 7, 'opt_Learning_Rate': 0.010420320978616532, 'opt_Batch_Size': 231, 'opt_Number_of_Noise_Batches': 10, 'opt_Regularization_term': 0.044885474998842975, 'opt_Noise_Dim': 177, 'n_layers': 7}. Best is trial 114 with value: 2.2227095395326613.\n",
      "Trial 174 finished with value: 2.875740379095077 and parameters: {'opt_Epochs': 10, 'opt_Steps': 7, 'opt_Learning_Rate': 0.010420320978616532, 'opt_Batch_Size': 231, 'opt_Number_of_Noise_Batches': 10, 'opt_Regularization_term': 0.044885474998842975, 'opt_Noise_Dim': 177, 'n_layers': 7}. Best is trial 114 with value: 2.2227095395326613.\n"
     ]
    },
    {
     "name": "stderr",
     "output_type": "stream",
     "text": [
      "[I 2025-01-20 09:45:33,525] Trial 175 finished with value: 2.389532198011875 and parameters: {'opt_Epochs': 2, 'opt_Steps': 11, 'opt_Learning_Rate': 0.044086127149936906, 'opt_Batch_Size': 253, 'opt_Number_of_Noise_Batches': 7, 'opt_Regularization_term': 0.2347677975518923, 'opt_Noise_Dim': 153, 'n_layers': 3}. Best is trial 114 with value: 2.2227095395326613.\n"
     ]
    },
    {
     "name": "stdout",
     "output_type": "stream",
     "text": [
      "Trial 175 finished with value: 2.389532198011875 and parameters: {'opt_Epochs': 2, 'opt_Steps': 11, 'opt_Learning_Rate': 0.044086127149936906, 'opt_Batch_Size': 253, 'opt_Number_of_Noise_Batches': 7, 'opt_Regularization_term': 0.2347677975518923, 'opt_Noise_Dim': 153, 'n_layers': 3}. Best is trial 114 with value: 2.2227095395326613.\n",
      "Trial 175 finished with value: 2.389532198011875 and parameters: {'opt_Epochs': 2, 'opt_Steps': 11, 'opt_Learning_Rate': 0.044086127149936906, 'opt_Batch_Size': 253, 'opt_Number_of_Noise_Batches': 7, 'opt_Regularization_term': 0.2347677975518923, 'opt_Noise_Dim': 153, 'n_layers': 3}. Best is trial 114 with value: 2.2227095395326613.\n"
     ]
    },
    {
     "name": "stderr",
     "output_type": "stream",
     "text": [
      "[I 2025-01-20 09:46:05,843] Trial 176 finished with value: 2.5185306906700133 and parameters: {'opt_Epochs': 2, 'opt_Steps': 10, 'opt_Learning_Rate': 0.07085783635018873, 'opt_Batch_Size': 261, 'opt_Number_of_Noise_Batches': 6, 'opt_Regularization_term': 0.24423123818312892, 'opt_Noise_Dim': 120, 'n_layers': 3}. Best is trial 114 with value: 2.2227095395326613.\n"
     ]
    },
    {
     "name": "stdout",
     "output_type": "stream",
     "text": [
      "Trial 176 finished with value: 2.5185306906700133 and parameters: {'opt_Epochs': 2, 'opt_Steps': 10, 'opt_Learning_Rate': 0.07085783635018873, 'opt_Batch_Size': 261, 'opt_Number_of_Noise_Batches': 6, 'opt_Regularization_term': 0.24423123818312892, 'opt_Noise_Dim': 120, 'n_layers': 3}. Best is trial 114 with value: 2.2227095395326613.\n",
      "Trial 176 finished with value: 2.5185306906700133 and parameters: {'opt_Epochs': 2, 'opt_Steps': 10, 'opt_Learning_Rate': 0.07085783635018873, 'opt_Batch_Size': 261, 'opt_Number_of_Noise_Batches': 6, 'opt_Regularization_term': 0.24423123818312892, 'opt_Noise_Dim': 120, 'n_layers': 3}. Best is trial 114 with value: 2.2227095395326613.\n"
     ]
    },
    {
     "name": "stderr",
     "output_type": "stream",
     "text": [
      "[I 2025-01-20 09:46:39,329] Trial 177 finished with value: 2.6392100483179086 and parameters: {'opt_Epochs': 2, 'opt_Steps': 12, 'opt_Learning_Rate': 0.0892659967757198, 'opt_Batch_Size': 235, 'opt_Number_of_Noise_Batches': 7, 'opt_Regularization_term': 0.23689559996154122, 'opt_Noise_Dim': 133, 'n_layers': 3}. Best is trial 114 with value: 2.2227095395326613.\n"
     ]
    },
    {
     "name": "stdout",
     "output_type": "stream",
     "text": [
      "Trial 177 finished with value: 2.6392100483179086 and parameters: {'opt_Epochs': 2, 'opt_Steps': 12, 'opt_Learning_Rate': 0.0892659967757198, 'opt_Batch_Size': 235, 'opt_Number_of_Noise_Batches': 7, 'opt_Regularization_term': 0.23689559996154122, 'opt_Noise_Dim': 133, 'n_layers': 3}. Best is trial 114 with value: 2.2227095395326613.\n",
      "Trial 177 finished with value: 2.6392100483179086 and parameters: {'opt_Epochs': 2, 'opt_Steps': 12, 'opt_Learning_Rate': 0.0892659967757198, 'opt_Batch_Size': 235, 'opt_Number_of_Noise_Batches': 7, 'opt_Regularization_term': 0.23689559996154122, 'opt_Noise_Dim': 133, 'n_layers': 3}. Best is trial 114 with value: 2.2227095395326613.\n"
     ]
    },
    {
     "name": "stderr",
     "output_type": "stream",
     "text": [
      "[I 2025-01-20 09:47:05,966] Trial 178 finished with value: 2.483102005720138 and parameters: {'opt_Epochs': 1, 'opt_Steps': 10, 'opt_Learning_Rate': 0.021318400882710916, 'opt_Batch_Size': 218, 'opt_Number_of_Noise_Batches': 7, 'opt_Regularization_term': 0.2203890208288654, 'opt_Noise_Dim': 161, 'n_layers': 2}. Best is trial 114 with value: 2.2227095395326613.\n"
     ]
    },
    {
     "name": "stdout",
     "output_type": "stream",
     "text": [
      "Trial 178 finished with value: 2.483102005720138 and parameters: {'opt_Epochs': 1, 'opt_Steps': 10, 'opt_Learning_Rate': 0.021318400882710916, 'opt_Batch_Size': 218, 'opt_Number_of_Noise_Batches': 7, 'opt_Regularization_term': 0.2203890208288654, 'opt_Noise_Dim': 161, 'n_layers': 2}. Best is trial 114 with value: 2.2227095395326613.\n",
      "Trial 178 finished with value: 2.483102005720138 and parameters: {'opt_Epochs': 1, 'opt_Steps': 10, 'opt_Learning_Rate': 0.021318400882710916, 'opt_Batch_Size': 218, 'opt_Number_of_Noise_Batches': 7, 'opt_Regularization_term': 0.2203890208288654, 'opt_Noise_Dim': 161, 'n_layers': 2}. Best is trial 114 with value: 2.2227095395326613.\n"
     ]
    },
    {
     "name": "stderr",
     "output_type": "stream",
     "text": [
      "[I 2025-01-20 09:48:01,318] Trial 179 finished with value: 2.442297494411468 and parameters: {'opt_Epochs': 6, 'opt_Steps': 16, 'opt_Learning_Rate': 0.197852742291508, 'opt_Batch_Size': 243, 'opt_Number_of_Noise_Batches': 6, 'opt_Regularization_term': 0.22755595789982241, 'opt_Noise_Dim': 141, 'n_layers': 3}. Best is trial 114 with value: 2.2227095395326613.\n"
     ]
    },
    {
     "name": "stdout",
     "output_type": "stream",
     "text": [
      "Trial 179 finished with value: 2.442297494411468 and parameters: {'opt_Epochs': 6, 'opt_Steps': 16, 'opt_Learning_Rate': 0.197852742291508, 'opt_Batch_Size': 243, 'opt_Number_of_Noise_Batches': 6, 'opt_Regularization_term': 0.22755595789982241, 'opt_Noise_Dim': 141, 'n_layers': 3}. Best is trial 114 with value: 2.2227095395326613.\n",
      "Trial 179 finished with value: 2.442297494411468 and parameters: {'opt_Epochs': 6, 'opt_Steps': 16, 'opt_Learning_Rate': 0.197852742291508, 'opt_Batch_Size': 243, 'opt_Number_of_Noise_Batches': 6, 'opt_Regularization_term': 0.22755595789982241, 'opt_Noise_Dim': 141, 'n_layers': 3}. Best is trial 114 with value: 2.2227095395326613.\n"
     ]
    },
    {
     "name": "stderr",
     "output_type": "stream",
     "text": [
      "[I 2025-01-20 09:48:33,396] Trial 180 finished with value: 2.6540585890412327 and parameters: {'opt_Epochs': 2, 'opt_Steps': 11, 'opt_Learning_Rate': 0.22866873493619047, 'opt_Batch_Size': 198, 'opt_Number_of_Noise_Batches': 8, 'opt_Regularization_term': 0.18651494843740618, 'opt_Noise_Dim': 453, 'n_layers': 5}. Best is trial 114 with value: 2.2227095395326613.\n"
     ]
    },
    {
     "name": "stdout",
     "output_type": "stream",
     "text": [
      "Trial 180 finished with value: 2.6540585890412327 and parameters: {'opt_Epochs': 2, 'opt_Steps': 11, 'opt_Learning_Rate': 0.22866873493619047, 'opt_Batch_Size': 198, 'opt_Number_of_Noise_Batches': 8, 'opt_Regularization_term': 0.18651494843740618, 'opt_Noise_Dim': 453, 'n_layers': 5}. Best is trial 114 with value: 2.2227095395326613.\n",
      "Trial 180 finished with value: 2.6540585890412327 and parameters: {'opt_Epochs': 2, 'opt_Steps': 11, 'opt_Learning_Rate': 0.22866873493619047, 'opt_Batch_Size': 198, 'opt_Number_of_Noise_Batches': 8, 'opt_Regularization_term': 0.18651494843740618, 'opt_Noise_Dim': 453, 'n_layers': 5}. Best is trial 114 with value: 2.2227095395326613.\n"
     ]
    },
    {
     "name": "stderr",
     "output_type": "stream",
     "text": [
      "[I 2025-01-20 09:49:08,876] Trial 181 finished with value: 2.4807222619652753 and parameters: {'opt_Epochs': 3, 'opt_Steps': 9, 'opt_Learning_Rate': 0.038663800844580085, 'opt_Batch_Size': 279, 'opt_Number_of_Noise_Batches': 6, 'opt_Regularization_term': 0.28074126451650616, 'opt_Noise_Dim': 433, 'n_layers': 4}. Best is trial 114 with value: 2.2227095395326613.\n"
     ]
    },
    {
     "name": "stdout",
     "output_type": "stream",
     "text": [
      "Trial 181 finished with value: 2.4807222619652753 and parameters: {'opt_Epochs': 3, 'opt_Steps': 9, 'opt_Learning_Rate': 0.038663800844580085, 'opt_Batch_Size': 279, 'opt_Number_of_Noise_Batches': 6, 'opt_Regularization_term': 0.28074126451650616, 'opt_Noise_Dim': 433, 'n_layers': 4}. Best is trial 114 with value: 2.2227095395326613.\n",
      "Trial 181 finished with value: 2.4807222619652753 and parameters: {'opt_Epochs': 3, 'opt_Steps': 9, 'opt_Learning_Rate': 0.038663800844580085, 'opt_Batch_Size': 279, 'opt_Number_of_Noise_Batches': 6, 'opt_Regularization_term': 0.28074126451650616, 'opt_Noise_Dim': 433, 'n_layers': 4}. Best is trial 114 with value: 2.2227095395326613.\n"
     ]
    },
    {
     "name": "stderr",
     "output_type": "stream",
     "text": [
      "[I 2025-01-20 09:49:35,000] Trial 182 finished with value: 2.6096206218004223 and parameters: {'opt_Epochs': 2, 'opt_Steps': 5, 'opt_Learning_Rate': 0.050002109504857374, 'opt_Batch_Size': 209, 'opt_Number_of_Noise_Batches': 9, 'opt_Regularization_term': 0.2649548904835474, 'opt_Noise_Dim': 181, 'n_layers': 3}. Best is trial 114 with value: 2.2227095395326613.\n"
     ]
    },
    {
     "name": "stdout",
     "output_type": "stream",
     "text": [
      "Trial 182 finished with value: 2.6096206218004223 and parameters: {'opt_Epochs': 2, 'opt_Steps': 5, 'opt_Learning_Rate': 0.050002109504857374, 'opt_Batch_Size': 209, 'opt_Number_of_Noise_Batches': 9, 'opt_Regularization_term': 0.2649548904835474, 'opt_Noise_Dim': 181, 'n_layers': 3}. Best is trial 114 with value: 2.2227095395326613.\n",
      "Trial 182 finished with value: 2.6096206218004223 and parameters: {'opt_Epochs': 2, 'opt_Steps': 5, 'opt_Learning_Rate': 0.050002109504857374, 'opt_Batch_Size': 209, 'opt_Number_of_Noise_Batches': 9, 'opt_Regularization_term': 0.2649548904835474, 'opt_Noise_Dim': 181, 'n_layers': 3}. Best is trial 114 with value: 2.2227095395326613.\n"
     ]
    },
    {
     "name": "stderr",
     "output_type": "stream",
     "text": [
      "[I 2025-01-20 09:50:09,081] Trial 183 finished with value: 2.556934183835983 and parameters: {'opt_Epochs': 3, 'opt_Steps': 12, 'opt_Learning_Rate': 0.11955222809520487, 'opt_Batch_Size': 164, 'opt_Number_of_Noise_Batches': 5, 'opt_Regularization_term': 0.2993902696831423, 'opt_Noise_Dim': 343, 'n_layers': 5}. Best is trial 114 with value: 2.2227095395326613.\n"
     ]
    },
    {
     "name": "stdout",
     "output_type": "stream",
     "text": [
      "Trial 183 finished with value: 2.556934183835983 and parameters: {'opt_Epochs': 3, 'opt_Steps': 12, 'opt_Learning_Rate': 0.11955222809520487, 'opt_Batch_Size': 164, 'opt_Number_of_Noise_Batches': 5, 'opt_Regularization_term': 0.2993902696831423, 'opt_Noise_Dim': 343, 'n_layers': 5}. Best is trial 114 with value: 2.2227095395326613.\n",
      "Trial 183 finished with value: 2.556934183835983 and parameters: {'opt_Epochs': 3, 'opt_Steps': 12, 'opt_Learning_Rate': 0.11955222809520487, 'opt_Batch_Size': 164, 'opt_Number_of_Noise_Batches': 5, 'opt_Regularization_term': 0.2993902696831423, 'opt_Noise_Dim': 343, 'n_layers': 5}. Best is trial 114 with value: 2.2227095395326613.\n"
     ]
    },
    {
     "name": "stderr",
     "output_type": "stream",
     "text": [
      "[I 2025-01-20 09:50:36,122] Trial 184 finished with value: 3.0660780757665638 and parameters: {'opt_Epochs': 3, 'opt_Steps': 7, 'opt_Learning_Rate': 0.2584555123832903, 'opt_Batch_Size': 241, 'opt_Number_of_Noise_Batches': 1, 'opt_Regularization_term': 0.24078605124790975, 'opt_Noise_Dim': 442, 'n_layers': 1}. Best is trial 114 with value: 2.2227095395326613.\n"
     ]
    },
    {
     "name": "stdout",
     "output_type": "stream",
     "text": [
      "Trial 184 finished with value: 3.0660780757665638 and parameters: {'opt_Epochs': 3, 'opt_Steps': 7, 'opt_Learning_Rate': 0.2584555123832903, 'opt_Batch_Size': 241, 'opt_Number_of_Noise_Batches': 1, 'opt_Regularization_term': 0.24078605124790975, 'opt_Noise_Dim': 442, 'n_layers': 1}. Best is trial 114 with value: 2.2227095395326613.\n",
      "Trial 184 finished with value: 3.0660780757665638 and parameters: {'opt_Epochs': 3, 'opt_Steps': 7, 'opt_Learning_Rate': 0.2584555123832903, 'opt_Batch_Size': 241, 'opt_Number_of_Noise_Batches': 1, 'opt_Regularization_term': 0.24078605124790975, 'opt_Noise_Dim': 442, 'n_layers': 1}. Best is trial 114 with value: 2.2227095395326613.\n"
     ]
    },
    {
     "name": "stderr",
     "output_type": "stream",
     "text": [
      "[I 2025-01-20 09:51:00,440] Trial 185 finished with value: 2.4370007485151293 and parameters: {'opt_Epochs': 3, 'opt_Steps': 2, 'opt_Learning_Rate': 0.038205642722062984, 'opt_Batch_Size': 281, 'opt_Number_of_Noise_Batches': 2, 'opt_Regularization_term': 0.23116619601050145, 'opt_Noise_Dim': 20, 'n_layers': 5}. Best is trial 114 with value: 2.2227095395326613.\n"
     ]
    },
    {
     "name": "stdout",
     "output_type": "stream",
     "text": [
      "Trial 185 finished with value: 2.4370007485151293 and parameters: {'opt_Epochs': 3, 'opt_Steps': 2, 'opt_Learning_Rate': 0.038205642722062984, 'opt_Batch_Size': 281, 'opt_Number_of_Noise_Batches': 2, 'opt_Regularization_term': 0.23116619601050145, 'opt_Noise_Dim': 20, 'n_layers': 5}. Best is trial 114 with value: 2.2227095395326613.\n",
      "Trial 185 finished with value: 2.4370007485151293 and parameters: {'opt_Epochs': 3, 'opt_Steps': 2, 'opt_Learning_Rate': 0.038205642722062984, 'opt_Batch_Size': 281, 'opt_Number_of_Noise_Batches': 2, 'opt_Regularization_term': 0.23116619601050145, 'opt_Noise_Dim': 20, 'n_layers': 5}. Best is trial 114 with value: 2.2227095395326613.\n"
     ]
    },
    {
     "name": "stderr",
     "output_type": "stream",
     "text": [
      "[I 2025-01-20 09:51:25,022] Trial 186 finished with value: 2.428728787600994 and parameters: {'opt_Epochs': 3, 'opt_Steps': 2, 'opt_Learning_Rate': 0.03220779144558978, 'opt_Batch_Size': 270, 'opt_Number_of_Noise_Batches': 2, 'opt_Regularization_term': 0.23103424390507282, 'opt_Noise_Dim': 7, 'n_layers': 5}. Best is trial 114 with value: 2.2227095395326613.\n"
     ]
    },
    {
     "name": "stdout",
     "output_type": "stream",
     "text": [
      "Trial 186 finished with value: 2.428728787600994 and parameters: {'opt_Epochs': 3, 'opt_Steps': 2, 'opt_Learning_Rate': 0.03220779144558978, 'opt_Batch_Size': 270, 'opt_Number_of_Noise_Batches': 2, 'opt_Regularization_term': 0.23103424390507282, 'opt_Noise_Dim': 7, 'n_layers': 5}. Best is trial 114 with value: 2.2227095395326613.\n",
      "Trial 186 finished with value: 2.428728787600994 and parameters: {'opt_Epochs': 3, 'opt_Steps': 2, 'opt_Learning_Rate': 0.03220779144558978, 'opt_Batch_Size': 270, 'opt_Number_of_Noise_Batches': 2, 'opt_Regularization_term': 0.23103424390507282, 'opt_Noise_Dim': 7, 'n_layers': 5}. Best is trial 114 with value: 2.2227095395326613.\n"
     ]
    },
    {
     "name": "stderr",
     "output_type": "stream",
     "text": [
      "[I 2025-01-20 09:51:50,766] Trial 187 finished with value: 2.6086012214422225 and parameters: {'opt_Epochs': 3, 'opt_Steps': 2, 'opt_Learning_Rate': 0.04365129521802, 'opt_Batch_Size': 226, 'opt_Number_of_Noise_Batches': 2, 'opt_Regularization_term': 0.2129134211030937, 'opt_Noise_Dim': 87, 'n_layers': 5}. Best is trial 114 with value: 2.2227095395326613.\n"
     ]
    },
    {
     "name": "stdout",
     "output_type": "stream",
     "text": [
      "Trial 187 finished with value: 2.6086012214422225 and parameters: {'opt_Epochs': 3, 'opt_Steps': 2, 'opt_Learning_Rate': 0.04365129521802, 'opt_Batch_Size': 226, 'opt_Number_of_Noise_Batches': 2, 'opt_Regularization_term': 0.2129134211030937, 'opt_Noise_Dim': 87, 'n_layers': 5}. Best is trial 114 with value: 2.2227095395326613.\n",
      "Trial 187 finished with value: 2.6086012214422225 and parameters: {'opt_Epochs': 3, 'opt_Steps': 2, 'opt_Learning_Rate': 0.04365129521802, 'opt_Batch_Size': 226, 'opt_Number_of_Noise_Batches': 2, 'opt_Regularization_term': 0.2129134211030937, 'opt_Noise_Dim': 87, 'n_layers': 5}. Best is trial 114 with value: 2.2227095395326613.\n"
     ]
    },
    {
     "name": "stderr",
     "output_type": "stream",
     "text": [
      "[I 2025-01-20 09:52:11,891] Trial 188 finished with value: 2.893656232953072 and parameters: {'opt_Epochs': 2, 'opt_Steps': 1, 'opt_Learning_Rate': 0.028069298050848953, 'opt_Batch_Size': 256, 'opt_Number_of_Noise_Batches': 1, 'opt_Regularization_term': 0.2213441277960197, 'opt_Noise_Dim': 217, 'n_layers': 6}. Best is trial 114 with value: 2.2227095395326613.\n"
     ]
    },
    {
     "name": "stdout",
     "output_type": "stream",
     "text": [
      "Trial 188 finished with value: 2.893656232953072 and parameters: {'opt_Epochs': 2, 'opt_Steps': 1, 'opt_Learning_Rate': 0.028069298050848953, 'opt_Batch_Size': 256, 'opt_Number_of_Noise_Batches': 1, 'opt_Regularization_term': 0.2213441277960197, 'opt_Noise_Dim': 217, 'n_layers': 6}. Best is trial 114 with value: 2.2227095395326613.\n",
      "Trial 188 finished with value: 2.893656232953072 and parameters: {'opt_Epochs': 2, 'opt_Steps': 1, 'opt_Learning_Rate': 0.028069298050848953, 'opt_Batch_Size': 256, 'opt_Number_of_Noise_Batches': 1, 'opt_Regularization_term': 0.2213441277960197, 'opt_Noise_Dim': 217, 'n_layers': 6}. Best is trial 114 with value: 2.2227095395326613.\n"
     ]
    },
    {
     "name": "stderr",
     "output_type": "stream",
     "text": [
      "[I 2025-01-20 09:52:39,194] Trial 189 finished with value: 2.5474927812814707 and parameters: {'opt_Epochs': 3, 'opt_Steps': 3, 'opt_Learning_Rate': 0.020062063762350056, 'opt_Batch_Size': 291, 'opt_Number_of_Noise_Batches': 3, 'opt_Regularization_term': 0.2356685174567929, 'opt_Noise_Dim': 79, 'n_layers': 5}. Best is trial 114 with value: 2.2227095395326613.\n"
     ]
    },
    {
     "name": "stdout",
     "output_type": "stream",
     "text": [
      "Trial 189 finished with value: 2.5474927812814707 and parameters: {'opt_Epochs': 3, 'opt_Steps': 3, 'opt_Learning_Rate': 0.020062063762350056, 'opt_Batch_Size': 291, 'opt_Number_of_Noise_Batches': 3, 'opt_Regularization_term': 0.2356685174567929, 'opt_Noise_Dim': 79, 'n_layers': 5}. Best is trial 114 with value: 2.2227095395326613.\n",
      "Trial 189 finished with value: 2.5474927812814707 and parameters: {'opt_Epochs': 3, 'opt_Steps': 3, 'opt_Learning_Rate': 0.020062063762350056, 'opt_Batch_Size': 291, 'opt_Number_of_Noise_Batches': 3, 'opt_Regularization_term': 0.2356685174567929, 'opt_Noise_Dim': 79, 'n_layers': 5}. Best is trial 114 with value: 2.2227095395326613.\n"
     ]
    },
    {
     "name": "stderr",
     "output_type": "stream",
     "text": [
      "[I 2025-01-20 09:53:05,795] Trial 190 finished with value: 2.500263789296149 and parameters: {'opt_Epochs': 4, 'opt_Steps': 6, 'opt_Learning_Rate': 0.04145852232903048, 'opt_Batch_Size': 152, 'opt_Number_of_Noise_Batches': 7, 'opt_Regularization_term': 0.25087997427305314, 'opt_Noise_Dim': 470, 'n_layers': 3}. Best is trial 114 with value: 2.2227095395326613.\n"
     ]
    },
    {
     "name": "stdout",
     "output_type": "stream",
     "text": [
      "Trial 190 finished with value: 2.500263789296149 and parameters: {'opt_Epochs': 4, 'opt_Steps': 6, 'opt_Learning_Rate': 0.04145852232903048, 'opt_Batch_Size': 152, 'opt_Number_of_Noise_Batches': 7, 'opt_Regularization_term': 0.25087997427305314, 'opt_Noise_Dim': 470, 'n_layers': 3}. Best is trial 114 with value: 2.2227095395326613.\n",
      "Trial 190 finished with value: 2.500263789296149 and parameters: {'opt_Epochs': 4, 'opt_Steps': 6, 'opt_Learning_Rate': 0.04145852232903048, 'opt_Batch_Size': 152, 'opt_Number_of_Noise_Batches': 7, 'opt_Regularization_term': 0.25087997427305314, 'opt_Noise_Dim': 470, 'n_layers': 3}. Best is trial 114 with value: 2.2227095395326613.\n"
     ]
    },
    {
     "name": "stderr",
     "output_type": "stream",
     "text": [
      "[I 2025-01-20 09:53:34,979] Trial 191 finished with value: 2.346309062838555 and parameters: {'opt_Epochs': 2, 'opt_Steps': 10, 'opt_Learning_Rate': 0.03468423309008229, 'opt_Batch_Size': 263, 'opt_Number_of_Noise_Batches': 1, 'opt_Regularization_term': 0.17897858660937763, 'opt_Noise_Dim': 107, 'n_layers': 4}. Best is trial 114 with value: 2.2227095395326613.\n"
     ]
    },
    {
     "name": "stdout",
     "output_type": "stream",
     "text": [
      "Trial 191 finished with value: 2.346309062838555 and parameters: {'opt_Epochs': 2, 'opt_Steps': 10, 'opt_Learning_Rate': 0.03468423309008229, 'opt_Batch_Size': 263, 'opt_Number_of_Noise_Batches': 1, 'opt_Regularization_term': 0.17897858660937763, 'opt_Noise_Dim': 107, 'n_layers': 4}. Best is trial 114 with value: 2.2227095395326613.\n",
      "Trial 191 finished with value: 2.346309062838555 and parameters: {'opt_Epochs': 2, 'opt_Steps': 10, 'opt_Learning_Rate': 0.03468423309008229, 'opt_Batch_Size': 263, 'opt_Number_of_Noise_Batches': 1, 'opt_Regularization_term': 0.17897858660937763, 'opt_Noise_Dim': 107, 'n_layers': 4}. Best is trial 114 with value: 2.2227095395326613.\n"
     ]
    },
    {
     "name": "stderr",
     "output_type": "stream",
     "text": [
      "[I 2025-01-20 09:53:59,279] Trial 192 finished with value: 2.545779448747635 and parameters: {'opt_Epochs': 2, 'opt_Steps': 4, 'opt_Learning_Rate': 0.0163926761548645, 'opt_Batch_Size': 266, 'opt_Number_of_Noise_Batches': 1, 'opt_Regularization_term': 0.16352735133105947, 'opt_Noise_Dim': 148, 'n_layers': 4}. Best is trial 114 with value: 2.2227095395326613.\n"
     ]
    },
    {
     "name": "stdout",
     "output_type": "stream",
     "text": [
      "Trial 192 finished with value: 2.545779448747635 and parameters: {'opt_Epochs': 2, 'opt_Steps': 4, 'opt_Learning_Rate': 0.0163926761548645, 'opt_Batch_Size': 266, 'opt_Number_of_Noise_Batches': 1, 'opt_Regularization_term': 0.16352735133105947, 'opt_Noise_Dim': 148, 'n_layers': 4}. Best is trial 114 with value: 2.2227095395326613.\n",
      "Trial 192 finished with value: 2.545779448747635 and parameters: {'opt_Epochs': 2, 'opt_Steps': 4, 'opt_Learning_Rate': 0.0163926761548645, 'opt_Batch_Size': 266, 'opt_Number_of_Noise_Batches': 1, 'opt_Regularization_term': 0.16352735133105947, 'opt_Noise_Dim': 148, 'n_layers': 4}. Best is trial 114 with value: 2.2227095395326613.\n"
     ]
    },
    {
     "name": "stderr",
     "output_type": "stream",
     "text": [
      "[I 2025-01-20 09:54:27,110] Trial 193 finished with value: 2.4801516801118844 and parameters: {'opt_Epochs': 2, 'opt_Steps': 10, 'opt_Learning_Rate': 0.030813035027189944, 'opt_Batch_Size': 249, 'opt_Number_of_Noise_Batches': 1, 'opt_Regularization_term': 0.17993381916876972, 'opt_Noise_Dim': 169, 'n_layers': 4}. Best is trial 114 with value: 2.2227095395326613.\n"
     ]
    },
    {
     "name": "stdout",
     "output_type": "stream",
     "text": [
      "Trial 193 finished with value: 2.4801516801118844 and parameters: {'opt_Epochs': 2, 'opt_Steps': 10, 'opt_Learning_Rate': 0.030813035027189944, 'opt_Batch_Size': 249, 'opt_Number_of_Noise_Batches': 1, 'opt_Regularization_term': 0.17993381916876972, 'opt_Noise_Dim': 169, 'n_layers': 4}. Best is trial 114 with value: 2.2227095395326613.\n",
      "Trial 193 finished with value: 2.4801516801118844 and parameters: {'opt_Epochs': 2, 'opt_Steps': 10, 'opt_Learning_Rate': 0.030813035027189944, 'opt_Batch_Size': 249, 'opt_Number_of_Noise_Batches': 1, 'opt_Regularization_term': 0.17993381916876972, 'opt_Noise_Dim': 169, 'n_layers': 4}. Best is trial 114 with value: 2.2227095395326613.\n"
     ]
    },
    {
     "name": "stderr",
     "output_type": "stream",
     "text": [
      "[I 2025-01-20 09:54:51,894] Trial 194 finished with value: 2.4252954393625266 and parameters: {'opt_Epochs': 1, 'opt_Steps': 8, 'opt_Learning_Rate': 0.024849676530220688, 'opt_Batch_Size': 180, 'opt_Number_of_Noise_Batches': 7, 'opt_Regularization_term': 0.16898814398430184, 'opt_Noise_Dim': 229, 'n_layers': 4}. Best is trial 114 with value: 2.2227095395326613.\n"
     ]
    },
    {
     "name": "stdout",
     "output_type": "stream",
     "text": [
      "Trial 194 finished with value: 2.4252954393625266 and parameters: {'opt_Epochs': 1, 'opt_Steps': 8, 'opt_Learning_Rate': 0.024849676530220688, 'opt_Batch_Size': 180, 'opt_Number_of_Noise_Batches': 7, 'opt_Regularization_term': 0.16898814398430184, 'opt_Noise_Dim': 229, 'n_layers': 4}. Best is trial 114 with value: 2.2227095395326613.\n",
      "Trial 194 finished with value: 2.4252954393625266 and parameters: {'opt_Epochs': 1, 'opt_Steps': 8, 'opt_Learning_Rate': 0.024849676530220688, 'opt_Batch_Size': 180, 'opt_Number_of_Noise_Batches': 7, 'opt_Regularization_term': 0.16898814398430184, 'opt_Noise_Dim': 229, 'n_layers': 4}. Best is trial 114 with value: 2.2227095395326613.\n"
     ]
    },
    {
     "name": "stderr",
     "output_type": "stream",
     "text": [
      "[I 2025-01-20 09:55:23,096] Trial 195 finished with value: 2.2624816134572026 and parameters: {'opt_Epochs': 2, 'opt_Steps': 11, 'opt_Learning_Rate': 0.05399976954187792, 'opt_Batch_Size': 309, 'opt_Number_of_Noise_Batches': 1, 'opt_Regularization_term': 0.17719621270502667, 'opt_Noise_Dim': 99, 'n_layers': 4}. Best is trial 114 with value: 2.2227095395326613.\n"
     ]
    },
    {
     "name": "stdout",
     "output_type": "stream",
     "text": [
      "Trial 195 finished with value: 2.2624816134572026 and parameters: {'opt_Epochs': 2, 'opt_Steps': 11, 'opt_Learning_Rate': 0.05399976954187792, 'opt_Batch_Size': 309, 'opt_Number_of_Noise_Batches': 1, 'opt_Regularization_term': 0.17719621270502667, 'opt_Noise_Dim': 99, 'n_layers': 4}. Best is trial 114 with value: 2.2227095395326613.\n",
      "Trial 195 finished with value: 2.2624816134572026 and parameters: {'opt_Epochs': 2, 'opt_Steps': 11, 'opt_Learning_Rate': 0.05399976954187792, 'opt_Batch_Size': 309, 'opt_Number_of_Noise_Batches': 1, 'opt_Regularization_term': 0.17719621270502667, 'opt_Noise_Dim': 99, 'n_layers': 4}. Best is trial 114 with value: 2.2227095395326613.\n"
     ]
    },
    {
     "name": "stderr",
     "output_type": "stream",
     "text": [
      "[I 2025-01-20 09:55:58,548] Trial 196 finished with value: 2.7276390254497525 and parameters: {'opt_Epochs': 2, 'opt_Steps': 11, 'opt_Learning_Rate': 0.055270273588484214, 'opt_Batch_Size': 324, 'opt_Number_of_Noise_Batches': 6, 'opt_Regularization_term': 0.18388415422359558, 'opt_Noise_Dim': 98, 'n_layers': 4}. Best is trial 114 with value: 2.2227095395326613.\n"
     ]
    },
    {
     "name": "stdout",
     "output_type": "stream",
     "text": [
      "Trial 196 finished with value: 2.7276390254497525 and parameters: {'opt_Epochs': 2, 'opt_Steps': 11, 'opt_Learning_Rate': 0.055270273588484214, 'opt_Batch_Size': 324, 'opt_Number_of_Noise_Batches': 6, 'opt_Regularization_term': 0.18388415422359558, 'opt_Noise_Dim': 98, 'n_layers': 4}. Best is trial 114 with value: 2.2227095395326613.\n",
      "Trial 196 finished with value: 2.7276390254497525 and parameters: {'opt_Epochs': 2, 'opt_Steps': 11, 'opt_Learning_Rate': 0.055270273588484214, 'opt_Batch_Size': 324, 'opt_Number_of_Noise_Batches': 6, 'opt_Regularization_term': 0.18388415422359558, 'opt_Noise_Dim': 98, 'n_layers': 4}. Best is trial 114 with value: 2.2227095395326613.\n"
     ]
    },
    {
     "name": "stderr",
     "output_type": "stream",
     "text": [
      "[I 2025-01-20 09:56:29,829] Trial 197 finished with value: 2.3212927103042604 and parameters: {'opt_Epochs': 2, 'opt_Steps': 11, 'opt_Learning_Rate': 0.23900658530731073, 'opt_Batch_Size': 317, 'opt_Number_of_Noise_Batches': 1, 'opt_Regularization_term': 0.1909320640345093, 'opt_Noise_Dim': 106, 'n_layers': 4}. Best is trial 114 with value: 2.2227095395326613.\n"
     ]
    },
    {
     "name": "stdout",
     "output_type": "stream",
     "text": [
      "Trial 197 finished with value: 2.3212927103042604 and parameters: {'opt_Epochs': 2, 'opt_Steps': 11, 'opt_Learning_Rate': 0.23900658530731073, 'opt_Batch_Size': 317, 'opt_Number_of_Noise_Batches': 1, 'opt_Regularization_term': 0.1909320640345093, 'opt_Noise_Dim': 106, 'n_layers': 4}. Best is trial 114 with value: 2.2227095395326613.\n",
      "Trial 197 finished with value: 2.3212927103042604 and parameters: {'opt_Epochs': 2, 'opt_Steps': 11, 'opt_Learning_Rate': 0.23900658530731073, 'opt_Batch_Size': 317, 'opt_Number_of_Noise_Batches': 1, 'opt_Regularization_term': 0.1909320640345093, 'opt_Noise_Dim': 106, 'n_layers': 4}. Best is trial 114 with value: 2.2227095395326613.\n"
     ]
    },
    {
     "name": "stderr",
     "output_type": "stream",
     "text": [
      "[I 2025-01-20 09:57:02,464] Trial 198 finished with value: 2.2935652077198037 and parameters: {'opt_Epochs': 2, 'opt_Steps': 11, 'opt_Learning_Rate': 0.24894168338434938, 'opt_Batch_Size': 339, 'opt_Number_of_Noise_Batches': 1, 'opt_Regularization_term': 0.17531359678942646, 'opt_Noise_Dim': 109, 'n_layers': 4}. Best is trial 114 with value: 2.2227095395326613.\n"
     ]
    },
    {
     "name": "stdout",
     "output_type": "stream",
     "text": [
      "Trial 198 finished with value: 2.2935652077198037 and parameters: {'opt_Epochs': 2, 'opt_Steps': 11, 'opt_Learning_Rate': 0.24894168338434938, 'opt_Batch_Size': 339, 'opt_Number_of_Noise_Batches': 1, 'opt_Regularization_term': 0.17531359678942646, 'opt_Noise_Dim': 109, 'n_layers': 4}. Best is trial 114 with value: 2.2227095395326613.\n",
      "Trial 198 finished with value: 2.2935652077198037 and parameters: {'opt_Epochs': 2, 'opt_Steps': 11, 'opt_Learning_Rate': 0.24894168338434938, 'opt_Batch_Size': 339, 'opt_Number_of_Noise_Batches': 1, 'opt_Regularization_term': 0.17531359678942646, 'opt_Noise_Dim': 109, 'n_layers': 4}. Best is trial 114 with value: 2.2227095395326613.\n"
     ]
    },
    {
     "name": "stderr",
     "output_type": "stream",
     "text": [
      "[I 2025-01-20 09:57:36,136] Trial 199 finished with value: 2.3256106615066523 and parameters: {'opt_Epochs': 2, 'opt_Steps': 11, 'opt_Learning_Rate': 0.24693376884235071, 'opt_Batch_Size': 341, 'opt_Number_of_Noise_Batches': 1, 'opt_Regularization_term': 0.1758580610853403, 'opt_Noise_Dim': 115, 'n_layers': 4}. Best is trial 114 with value: 2.2227095395326613.\n"
     ]
    },
    {
     "name": "stdout",
     "output_type": "stream",
     "text": [
      "Trial 199 finished with value: 2.3256106615066523 and parameters: {'opt_Epochs': 2, 'opt_Steps': 11, 'opt_Learning_Rate': 0.24693376884235071, 'opt_Batch_Size': 341, 'opt_Number_of_Noise_Batches': 1, 'opt_Regularization_term': 0.1758580610853403, 'opt_Noise_Dim': 115, 'n_layers': 4}. Best is trial 114 with value: 2.2227095395326613.\n",
      "Trial 199 finished with value: 2.3256106615066523 and parameters: {'opt_Epochs': 2, 'opt_Steps': 11, 'opt_Learning_Rate': 0.24693376884235071, 'opt_Batch_Size': 341, 'opt_Number_of_Noise_Batches': 1, 'opt_Regularization_term': 0.1758580610853403, 'opt_Noise_Dim': 115, 'n_layers': 4}. Best is trial 114 with value: 2.2227095395326613.\n"
     ]
    },
    {
     "name": "stderr",
     "output_type": "stream",
     "text": [
      "[I 2025-01-20 09:58:08,129] Trial 200 finished with value: 2.3381817027926437 and parameters: {'opt_Epochs': 2, 'opt_Steps': 11, 'opt_Learning_Rate': 0.2522705376669926, 'opt_Batch_Size': 329, 'opt_Number_of_Noise_Batches': 1, 'opt_Regularization_term': 0.17914522922661377, 'opt_Noise_Dim': 109, 'n_layers': 4}. Best is trial 114 with value: 2.2227095395326613.\n"
     ]
    },
    {
     "name": "stdout",
     "output_type": "stream",
     "text": [
      "Trial 200 finished with value: 2.3381817027926437 and parameters: {'opt_Epochs': 2, 'opt_Steps': 11, 'opt_Learning_Rate': 0.2522705376669926, 'opt_Batch_Size': 329, 'opt_Number_of_Noise_Batches': 1, 'opt_Regularization_term': 0.17914522922661377, 'opt_Noise_Dim': 109, 'n_layers': 4}. Best is trial 114 with value: 2.2227095395326613.\n",
      "Trial 200 finished with value: 2.3381817027926437 and parameters: {'opt_Epochs': 2, 'opt_Steps': 11, 'opt_Learning_Rate': 0.2522705376669926, 'opt_Batch_Size': 329, 'opt_Number_of_Noise_Batches': 1, 'opt_Regularization_term': 0.17914522922661377, 'opt_Noise_Dim': 109, 'n_layers': 4}. Best is trial 114 with value: 2.2227095395326613.\n"
     ]
    },
    {
     "name": "stderr",
     "output_type": "stream",
     "text": [
      "[I 2025-01-20 09:58:41,026] Trial 201 finished with value: 2.913841079175472 and parameters: {'opt_Epochs': 2, 'opt_Steps': 11, 'opt_Learning_Rate': 0.25215197883188445, 'opt_Batch_Size': 346, 'opt_Number_of_Noise_Batches': 1, 'opt_Regularization_term': 0.1757546920318813, 'opt_Noise_Dim': 104, 'n_layers': 4}. Best is trial 114 with value: 2.2227095395326613.\n"
     ]
    },
    {
     "name": "stdout",
     "output_type": "stream",
     "text": [
      "Trial 201 finished with value: 2.913841079175472 and parameters: {'opt_Epochs': 2, 'opt_Steps': 11, 'opt_Learning_Rate': 0.25215197883188445, 'opt_Batch_Size': 346, 'opt_Number_of_Noise_Batches': 1, 'opt_Regularization_term': 0.1757546920318813, 'opt_Noise_Dim': 104, 'n_layers': 4}. Best is trial 114 with value: 2.2227095395326613.\n",
      "Trial 201 finished with value: 2.913841079175472 and parameters: {'opt_Epochs': 2, 'opt_Steps': 11, 'opt_Learning_Rate': 0.25215197883188445, 'opt_Batch_Size': 346, 'opt_Number_of_Noise_Batches': 1, 'opt_Regularization_term': 0.1757546920318813, 'opt_Noise_Dim': 104, 'n_layers': 4}. Best is trial 114 with value: 2.2227095395326613.\n"
     ]
    },
    {
     "name": "stderr",
     "output_type": "stream",
     "text": [
      "[I 2025-01-20 09:59:14,031] Trial 202 finished with value: 2.691094309091569 and parameters: {'opt_Epochs': 2, 'opt_Steps': 11, 'opt_Learning_Rate': 0.24321239834067063, 'opt_Batch_Size': 335, 'opt_Number_of_Noise_Batches': 1, 'opt_Regularization_term': 0.17473163210373865, 'opt_Noise_Dim': 113, 'n_layers': 4}. Best is trial 114 with value: 2.2227095395326613.\n"
     ]
    },
    {
     "name": "stdout",
     "output_type": "stream",
     "text": [
      "Trial 202 finished with value: 2.691094309091569 and parameters: {'opt_Epochs': 2, 'opt_Steps': 11, 'opt_Learning_Rate': 0.24321239834067063, 'opt_Batch_Size': 335, 'opt_Number_of_Noise_Batches': 1, 'opt_Regularization_term': 0.17473163210373865, 'opt_Noise_Dim': 113, 'n_layers': 4}. Best is trial 114 with value: 2.2227095395326613.\n",
      "Trial 202 finished with value: 2.691094309091569 and parameters: {'opt_Epochs': 2, 'opt_Steps': 11, 'opt_Learning_Rate': 0.24321239834067063, 'opt_Batch_Size': 335, 'opt_Number_of_Noise_Batches': 1, 'opt_Regularization_term': 0.17473163210373865, 'opt_Noise_Dim': 113, 'n_layers': 4}. Best is trial 114 with value: 2.2227095395326613.\n"
     ]
    },
    {
     "name": "stderr",
     "output_type": "stream",
     "text": [
      "[I 2025-01-20 09:59:46,185] Trial 203 finished with value: 2.303207463026047 and parameters: {'opt_Epochs': 2, 'opt_Steps': 12, 'opt_Learning_Rate': 0.2593543514523789, 'opt_Batch_Size': 314, 'opt_Number_of_Noise_Batches': 1, 'opt_Regularization_term': 0.18960284541044878, 'opt_Noise_Dim': 108, 'n_layers': 4}. Best is trial 114 with value: 2.2227095395326613.\n"
     ]
    },
    {
     "name": "stdout",
     "output_type": "stream",
     "text": [
      "Trial 203 finished with value: 2.303207463026047 and parameters: {'opt_Epochs': 2, 'opt_Steps': 12, 'opt_Learning_Rate': 0.2593543514523789, 'opt_Batch_Size': 314, 'opt_Number_of_Noise_Batches': 1, 'opt_Regularization_term': 0.18960284541044878, 'opt_Noise_Dim': 108, 'n_layers': 4}. Best is trial 114 with value: 2.2227095395326613.\n",
      "Trial 203 finished with value: 2.303207463026047 and parameters: {'opt_Epochs': 2, 'opt_Steps': 12, 'opt_Learning_Rate': 0.2593543514523789, 'opt_Batch_Size': 314, 'opt_Number_of_Noise_Batches': 1, 'opt_Regularization_term': 0.18960284541044878, 'opt_Noise_Dim': 108, 'n_layers': 4}. Best is trial 114 with value: 2.2227095395326613.\n"
     ]
    },
    {
     "name": "stderr",
     "output_type": "stream",
     "text": [
      "[I 2025-01-20 10:00:20,391] Trial 204 finished with value: 2.617844361066819 and parameters: {'opt_Epochs': 2, 'opt_Steps': 13, 'opt_Learning_Rate': 0.25860382880254984, 'opt_Batch_Size': 308, 'opt_Number_of_Noise_Batches': 1, 'opt_Regularization_term': 0.16029952677993067, 'opt_Noise_Dim': 107, 'n_layers': 4}. Best is trial 114 with value: 2.2227095395326613.\n"
     ]
    },
    {
     "name": "stdout",
     "output_type": "stream",
     "text": [
      "Trial 204 finished with value: 2.617844361066819 and parameters: {'opt_Epochs': 2, 'opt_Steps': 13, 'opt_Learning_Rate': 0.25860382880254984, 'opt_Batch_Size': 308, 'opt_Number_of_Noise_Batches': 1, 'opt_Regularization_term': 0.16029952677993067, 'opt_Noise_Dim': 107, 'n_layers': 4}. Best is trial 114 with value: 2.2227095395326613.\n",
      "Trial 204 finished with value: 2.617844361066819 and parameters: {'opt_Epochs': 2, 'opt_Steps': 13, 'opt_Learning_Rate': 0.25860382880254984, 'opt_Batch_Size': 308, 'opt_Number_of_Noise_Batches': 1, 'opt_Regularization_term': 0.16029952677993067, 'opt_Noise_Dim': 107, 'n_layers': 4}. Best is trial 114 with value: 2.2227095395326613.\n"
     ]
    },
    {
     "name": "stderr",
     "output_type": "stream",
     "text": [
      "[I 2025-01-20 10:00:53,997] Trial 205 finished with value: 2.4128303527832022 and parameters: {'opt_Epochs': 2, 'opt_Steps': 12, 'opt_Learning_Rate': 0.25039328071022793, 'opt_Batch_Size': 316, 'opt_Number_of_Noise_Batches': 1, 'opt_Regularization_term': 0.18879253258246284, 'opt_Noise_Dim': 64, 'n_layers': 4}. Best is trial 114 with value: 2.2227095395326613.\n"
     ]
    },
    {
     "name": "stdout",
     "output_type": "stream",
     "text": [
      "Trial 205 finished with value: 2.4128303527832022 and parameters: {'opt_Epochs': 2, 'opt_Steps': 12, 'opt_Learning_Rate': 0.25039328071022793, 'opt_Batch_Size': 316, 'opt_Number_of_Noise_Batches': 1, 'opt_Regularization_term': 0.18879253258246284, 'opt_Noise_Dim': 64, 'n_layers': 4}. Best is trial 114 with value: 2.2227095395326613.\n",
      "Trial 205 finished with value: 2.4128303527832022 and parameters: {'opt_Epochs': 2, 'opt_Steps': 12, 'opt_Learning_Rate': 0.25039328071022793, 'opt_Batch_Size': 316, 'opt_Number_of_Noise_Batches': 1, 'opt_Regularization_term': 0.18879253258246284, 'opt_Noise_Dim': 64, 'n_layers': 4}. Best is trial 114 with value: 2.2227095395326613.\n"
     ]
    },
    {
     "name": "stderr",
     "output_type": "stream",
     "text": [
      "[I 2025-01-20 10:01:28,047] Trial 206 finished with value: 2.2716210484504704 and parameters: {'opt_Epochs': 2, 'opt_Steps': 11, 'opt_Learning_Rate': 0.2684307817224702, 'opt_Batch_Size': 367, 'opt_Number_of_Noise_Batches': 1, 'opt_Regularization_term': 0.18168902571236617, 'opt_Noise_Dim': 92, 'n_layers': 4}. Best is trial 114 with value: 2.2227095395326613.\n"
     ]
    },
    {
     "name": "stdout",
     "output_type": "stream",
     "text": [
      "Trial 206 finished with value: 2.2716210484504704 and parameters: {'opt_Epochs': 2, 'opt_Steps': 11, 'opt_Learning_Rate': 0.2684307817224702, 'opt_Batch_Size': 367, 'opt_Number_of_Noise_Batches': 1, 'opt_Regularization_term': 0.18168902571236617, 'opt_Noise_Dim': 92, 'n_layers': 4}. Best is trial 114 with value: 2.2227095395326613.\n",
      "Trial 206 finished with value: 2.2716210484504704 and parameters: {'opt_Epochs': 2, 'opt_Steps': 11, 'opt_Learning_Rate': 0.2684307817224702, 'opt_Batch_Size': 367, 'opt_Number_of_Noise_Batches': 1, 'opt_Regularization_term': 0.18168902571236617, 'opt_Noise_Dim': 92, 'n_layers': 4}. Best is trial 114 with value: 2.2227095395326613.\n"
     ]
    },
    {
     "name": "stderr",
     "output_type": "stream",
     "text": [
      "[I 2025-01-20 10:02:01,755] Trial 207 finished with value: 2.58092835098505 and parameters: {'opt_Epochs': 2, 'opt_Steps': 11, 'opt_Learning_Rate': 0.2672075842774406, 'opt_Batch_Size': 366, 'opt_Number_of_Noise_Batches': 1, 'opt_Regularization_term': 0.18160659673410312, 'opt_Noise_Dim': 97, 'n_layers': 4}. Best is trial 114 with value: 2.2227095395326613.\n"
     ]
    },
    {
     "name": "stdout",
     "output_type": "stream",
     "text": [
      "Trial 207 finished with value: 2.58092835098505 and parameters: {'opt_Epochs': 2, 'opt_Steps': 11, 'opt_Learning_Rate': 0.2672075842774406, 'opt_Batch_Size': 366, 'opt_Number_of_Noise_Batches': 1, 'opt_Regularization_term': 0.18160659673410312, 'opt_Noise_Dim': 97, 'n_layers': 4}. Best is trial 114 with value: 2.2227095395326613.\n",
      "Trial 207 finished with value: 2.58092835098505 and parameters: {'opt_Epochs': 2, 'opt_Steps': 11, 'opt_Learning_Rate': 0.2672075842774406, 'opt_Batch_Size': 366, 'opt_Number_of_Noise_Batches': 1, 'opt_Regularization_term': 0.18160659673410312, 'opt_Noise_Dim': 97, 'n_layers': 4}. Best is trial 114 with value: 2.2227095395326613.\n"
     ]
    },
    {
     "name": "stderr",
     "output_type": "stream",
     "text": [
      "[I 2025-01-20 10:02:35,866] Trial 208 finished with value: 2.305187068879605 and parameters: {'opt_Epochs': 2, 'opt_Steps': 12, 'opt_Learning_Rate': 0.26778157039094397, 'opt_Batch_Size': 346, 'opt_Number_of_Noise_Batches': 1, 'opt_Regularization_term': 0.16798490862372484, 'opt_Noise_Dim': 68, 'n_layers': 4}. Best is trial 114 with value: 2.2227095395326613.\n"
     ]
    },
    {
     "name": "stdout",
     "output_type": "stream",
     "text": [
      "Trial 208 finished with value: 2.305187068879605 and parameters: {'opt_Epochs': 2, 'opt_Steps': 12, 'opt_Learning_Rate': 0.26778157039094397, 'opt_Batch_Size': 346, 'opt_Number_of_Noise_Batches': 1, 'opt_Regularization_term': 0.16798490862372484, 'opt_Noise_Dim': 68, 'n_layers': 4}. Best is trial 114 with value: 2.2227095395326613.\n",
      "Trial 208 finished with value: 2.305187068879605 and parameters: {'opt_Epochs': 2, 'opt_Steps': 12, 'opt_Learning_Rate': 0.26778157039094397, 'opt_Batch_Size': 346, 'opt_Number_of_Noise_Batches': 1, 'opt_Regularization_term': 0.16798490862372484, 'opt_Noise_Dim': 68, 'n_layers': 4}. Best is trial 114 with value: 2.2227095395326613.\n"
     ]
    },
    {
     "name": "stderr",
     "output_type": "stream",
     "text": [
      "[I 2025-01-20 10:03:11,639] Trial 209 finished with value: 2.2577439486980433 and parameters: {'opt_Epochs': 2, 'opt_Steps': 13, 'opt_Learning_Rate': 0.2700467617166585, 'opt_Batch_Size': 371, 'opt_Number_of_Noise_Batches': 1, 'opt_Regularization_term': 0.17177764745716612, 'opt_Noise_Dim': 70, 'n_layers': 4}. Best is trial 114 with value: 2.2227095395326613.\n"
     ]
    },
    {
     "name": "stdout",
     "output_type": "stream",
     "text": [
      "Trial 209 finished with value: 2.2577439486980433 and parameters: {'opt_Epochs': 2, 'opt_Steps': 13, 'opt_Learning_Rate': 0.2700467617166585, 'opt_Batch_Size': 371, 'opt_Number_of_Noise_Batches': 1, 'opt_Regularization_term': 0.17177764745716612, 'opt_Noise_Dim': 70, 'n_layers': 4}. Best is trial 114 with value: 2.2227095395326613.\n",
      "Trial 209 finished with value: 2.2577439486980433 and parameters: {'opt_Epochs': 2, 'opt_Steps': 13, 'opt_Learning_Rate': 0.2700467617166585, 'opt_Batch_Size': 371, 'opt_Number_of_Noise_Batches': 1, 'opt_Regularization_term': 0.17177764745716612, 'opt_Noise_Dim': 70, 'n_layers': 4}. Best is trial 114 with value: 2.2227095395326613.\n"
     ]
    },
    {
     "name": "stderr",
     "output_type": "stream",
     "text": [
      "[I 2025-01-20 10:03:45,533] Trial 210 finished with value: 2.5851556733250614 and parameters: {'opt_Epochs': 2, 'opt_Steps': 12, 'opt_Learning_Rate': 0.2796054274846809, 'opt_Batch_Size': 367, 'opt_Number_of_Noise_Batches': 1, 'opt_Regularization_term': 0.15160261460550187, 'opt_Noise_Dim': 68, 'n_layers': 4}. Best is trial 114 with value: 2.2227095395326613.\n"
     ]
    },
    {
     "name": "stdout",
     "output_type": "stream",
     "text": [
      "Trial 210 finished with value: 2.5851556733250614 and parameters: {'opt_Epochs': 2, 'opt_Steps': 12, 'opt_Learning_Rate': 0.2796054274846809, 'opt_Batch_Size': 367, 'opt_Number_of_Noise_Batches': 1, 'opt_Regularization_term': 0.15160261460550187, 'opt_Noise_Dim': 68, 'n_layers': 4}. Best is trial 114 with value: 2.2227095395326613.\n",
      "Trial 210 finished with value: 2.5851556733250614 and parameters: {'opt_Epochs': 2, 'opt_Steps': 12, 'opt_Learning_Rate': 0.2796054274846809, 'opt_Batch_Size': 367, 'opt_Number_of_Noise_Batches': 1, 'opt_Regularization_term': 0.15160261460550187, 'opt_Noise_Dim': 68, 'n_layers': 4}. Best is trial 114 with value: 2.2227095395326613.\n"
     ]
    },
    {
     "name": "stderr",
     "output_type": "stream",
     "text": [
      "[I 2025-01-20 10:04:21,411] Trial 211 finished with value: 2.6413485288620002 and parameters: {'opt_Epochs': 2, 'opt_Steps': 13, 'opt_Learning_Rate': 0.2705774301290257, 'opt_Batch_Size': 355, 'opt_Number_of_Noise_Batches': 1, 'opt_Regularization_term': 0.17219877750638268, 'opt_Noise_Dim': 92, 'n_layers': 4}. Best is trial 114 with value: 2.2227095395326613.\n"
     ]
    },
    {
     "name": "stdout",
     "output_type": "stream",
     "text": [
      "Trial 211 finished with value: 2.6413485288620002 and parameters: {'opt_Epochs': 2, 'opt_Steps': 13, 'opt_Learning_Rate': 0.2705774301290257, 'opt_Batch_Size': 355, 'opt_Number_of_Noise_Batches': 1, 'opt_Regularization_term': 0.17219877750638268, 'opt_Noise_Dim': 92, 'n_layers': 4}. Best is trial 114 with value: 2.2227095395326613.\n",
      "Trial 211 finished with value: 2.6413485288620002 and parameters: {'opt_Epochs': 2, 'opt_Steps': 13, 'opt_Learning_Rate': 0.2705774301290257, 'opt_Batch_Size': 355, 'opt_Number_of_Noise_Batches': 1, 'opt_Regularization_term': 0.17219877750638268, 'opt_Noise_Dim': 92, 'n_layers': 4}. Best is trial 114 with value: 2.2227095395326613.\n"
     ]
    },
    {
     "name": "stderr",
     "output_type": "stream",
     "text": [
      "[I 2025-01-20 10:04:56,567] Trial 212 finished with value: 2.2884860187768936 and parameters: {'opt_Epochs': 2, 'opt_Steps': 13, 'opt_Learning_Rate': 0.2635538476591631, 'opt_Batch_Size': 346, 'opt_Number_of_Noise_Batches': 1, 'opt_Regularization_term': 0.1669208493802603, 'opt_Noise_Dim': 66, 'n_layers': 4}. Best is trial 114 with value: 2.2227095395326613.\n"
     ]
    },
    {
     "name": "stdout",
     "output_type": "stream",
     "text": [
      "Trial 212 finished with value: 2.2884860187768936 and parameters: {'opt_Epochs': 2, 'opt_Steps': 13, 'opt_Learning_Rate': 0.2635538476591631, 'opt_Batch_Size': 346, 'opt_Number_of_Noise_Batches': 1, 'opt_Regularization_term': 0.1669208493802603, 'opt_Noise_Dim': 66, 'n_layers': 4}. Best is trial 114 with value: 2.2227095395326613.\n",
      "Trial 212 finished with value: 2.2884860187768936 and parameters: {'opt_Epochs': 2, 'opt_Steps': 13, 'opt_Learning_Rate': 0.2635538476591631, 'opt_Batch_Size': 346, 'opt_Number_of_Noise_Batches': 1, 'opt_Regularization_term': 0.1669208493802603, 'opt_Noise_Dim': 66, 'n_layers': 4}. Best is trial 114 with value: 2.2227095395326613.\n"
     ]
    },
    {
     "name": "stderr",
     "output_type": "stream",
     "text": [
      "[I 2025-01-20 10:05:24,987] Trial 213 finished with value: 2.2609119191765785 and parameters: {'opt_Epochs': 1, 'opt_Steps': 14, 'opt_Learning_Rate': 0.25766840644124345, 'opt_Batch_Size': 379, 'opt_Number_of_Noise_Batches': 1, 'opt_Regularization_term': 0.16468265143109095, 'opt_Noise_Dim': 39, 'n_layers': 4}. Best is trial 114 with value: 2.2227095395326613.\n"
     ]
    },
    {
     "name": "stdout",
     "output_type": "stream",
     "text": [
      "Trial 213 finished with value: 2.2609119191765785 and parameters: {'opt_Epochs': 1, 'opt_Steps': 14, 'opt_Learning_Rate': 0.25766840644124345, 'opt_Batch_Size': 379, 'opt_Number_of_Noise_Batches': 1, 'opt_Regularization_term': 0.16468265143109095, 'opt_Noise_Dim': 39, 'n_layers': 4}. Best is trial 114 with value: 2.2227095395326613.\n",
      "Trial 213 finished with value: 2.2609119191765785 and parameters: {'opt_Epochs': 1, 'opt_Steps': 14, 'opt_Learning_Rate': 0.25766840644124345, 'opt_Batch_Size': 379, 'opt_Number_of_Noise_Batches': 1, 'opt_Regularization_term': 0.16468265143109095, 'opt_Noise_Dim': 39, 'n_layers': 4}. Best is trial 114 with value: 2.2227095395326613.\n"
     ]
    },
    {
     "name": "stderr",
     "output_type": "stream",
     "text": [
      "[I 2025-01-20 10:05:53,386] Trial 214 finished with value: 2.5304052472114567 and parameters: {'opt_Epochs': 1, 'opt_Steps': 14, 'opt_Learning_Rate': 0.26222704696498383, 'opt_Batch_Size': 371, 'opt_Number_of_Noise_Batches': 1, 'opt_Regularization_term': 0.1663872298809257, 'opt_Noise_Dim': 31, 'n_layers': 4}. Best is trial 114 with value: 2.2227095395326613.\n"
     ]
    },
    {
     "name": "stdout",
     "output_type": "stream",
     "text": [
      "Trial 214 finished with value: 2.5304052472114567 and parameters: {'opt_Epochs': 1, 'opt_Steps': 14, 'opt_Learning_Rate': 0.26222704696498383, 'opt_Batch_Size': 371, 'opt_Number_of_Noise_Batches': 1, 'opt_Regularization_term': 0.1663872298809257, 'opt_Noise_Dim': 31, 'n_layers': 4}. Best is trial 114 with value: 2.2227095395326613.\n",
      "Trial 214 finished with value: 2.5304052472114567 and parameters: {'opt_Epochs': 1, 'opt_Steps': 14, 'opt_Learning_Rate': 0.26222704696498383, 'opt_Batch_Size': 371, 'opt_Number_of_Noise_Batches': 1, 'opt_Regularization_term': 0.1663872298809257, 'opt_Noise_Dim': 31, 'n_layers': 4}. Best is trial 114 with value: 2.2227095395326613.\n"
     ]
    },
    {
     "name": "stderr",
     "output_type": "stream",
     "text": [
      "[I 2025-01-20 10:06:22,428] Trial 215 finished with value: 2.648335081338883 and parameters: {'opt_Epochs': 1, 'opt_Steps': 15, 'opt_Learning_Rate': 0.2609798400241398, 'opt_Batch_Size': 380, 'opt_Number_of_Noise_Batches': 1, 'opt_Regularization_term': 0.1432557901877823, 'opt_Noise_Dim': 42, 'n_layers': 4}. Best is trial 114 with value: 2.2227095395326613.\n"
     ]
    },
    {
     "name": "stdout",
     "output_type": "stream",
     "text": [
      "Trial 215 finished with value: 2.648335081338883 and parameters: {'opt_Epochs': 1, 'opt_Steps': 15, 'opt_Learning_Rate': 0.2609798400241398, 'opt_Batch_Size': 380, 'opt_Number_of_Noise_Batches': 1, 'opt_Regularization_term': 0.1432557901877823, 'opt_Noise_Dim': 42, 'n_layers': 4}. Best is trial 114 with value: 2.2227095395326613.\n",
      "Trial 215 finished with value: 2.648335081338883 and parameters: {'opt_Epochs': 1, 'opt_Steps': 15, 'opt_Learning_Rate': 0.2609798400241398, 'opt_Batch_Size': 380, 'opt_Number_of_Noise_Batches': 1, 'opt_Regularization_term': 0.1432557901877823, 'opt_Noise_Dim': 42, 'n_layers': 4}. Best is trial 114 with value: 2.2227095395326613.\n"
     ]
    },
    {
     "name": "stderr",
     "output_type": "stream",
     "text": [
      "[I 2025-01-20 10:06:50,364] Trial 216 finished with value: 2.5359802663326265 and parameters: {'opt_Epochs': 1, 'opt_Steps': 13, 'opt_Learning_Rate': 0.27383578473471054, 'opt_Batch_Size': 345, 'opt_Number_of_Noise_Batches': 1, 'opt_Regularization_term': 0.15634705495345808, 'opt_Noise_Dim': 68, 'n_layers': 4}. Best is trial 114 with value: 2.2227095395326613.\n"
     ]
    },
    {
     "name": "stdout",
     "output_type": "stream",
     "text": [
      "Trial 216 finished with value: 2.5359802663326265 and parameters: {'opt_Epochs': 1, 'opt_Steps': 13, 'opt_Learning_Rate': 0.27383578473471054, 'opt_Batch_Size': 345, 'opt_Number_of_Noise_Batches': 1, 'opt_Regularization_term': 0.15634705495345808, 'opt_Noise_Dim': 68, 'n_layers': 4}. Best is trial 114 with value: 2.2227095395326613.\n",
      "Trial 216 finished with value: 2.5359802663326265 and parameters: {'opt_Epochs': 1, 'opt_Steps': 13, 'opt_Learning_Rate': 0.27383578473471054, 'opt_Batch_Size': 345, 'opt_Number_of_Noise_Batches': 1, 'opt_Regularization_term': 0.15634705495345808, 'opt_Noise_Dim': 68, 'n_layers': 4}. Best is trial 114 with value: 2.2227095395326613.\n"
     ]
    },
    {
     "name": "stderr",
     "output_type": "stream",
     "text": [
      "[I 2025-01-20 10:07:28,473] Trial 217 finished with value: 2.5581623435020444 and parameters: {'opt_Epochs': 2, 'opt_Steps': 14, 'opt_Learning_Rate': 0.2660255596355503, 'opt_Batch_Size': 395, 'opt_Number_of_Noise_Batches': 1, 'opt_Regularization_term': 0.1651230921296888, 'opt_Noise_Dim': 48, 'n_layers': 4}. Best is trial 114 with value: 2.2227095395326613.\n"
     ]
    },
    {
     "name": "stdout",
     "output_type": "stream",
     "text": [
      "Trial 217 finished with value: 2.5581623435020444 and parameters: {'opt_Epochs': 2, 'opt_Steps': 14, 'opt_Learning_Rate': 0.2660255596355503, 'opt_Batch_Size': 395, 'opt_Number_of_Noise_Batches': 1, 'opt_Regularization_term': 0.1651230921296888, 'opt_Noise_Dim': 48, 'n_layers': 4}. Best is trial 114 with value: 2.2227095395326613.\n",
      "Trial 217 finished with value: 2.5581623435020444 and parameters: {'opt_Epochs': 2, 'opt_Steps': 14, 'opt_Learning_Rate': 0.2660255596355503, 'opt_Batch_Size': 395, 'opt_Number_of_Noise_Batches': 1, 'opt_Regularization_term': 0.1651230921296888, 'opt_Noise_Dim': 48, 'n_layers': 4}. Best is trial 114 with value: 2.2227095395326613.\n"
     ]
    },
    {
     "name": "stderr",
     "output_type": "stream",
     "text": [
      "[I 2025-01-20 10:08:04,934] Trial 218 finished with value: 2.5695183604955667 and parameters: {'opt_Epochs': 2, 'opt_Steps': 13, 'opt_Learning_Rate': 0.2758389006752172, 'opt_Batch_Size': 387, 'opt_Number_of_Noise_Batches': 1, 'opt_Regularization_term': 0.17032544298590754, 'opt_Noise_Dim': 84, 'n_layers': 4}. Best is trial 114 with value: 2.2227095395326613.\n"
     ]
    },
    {
     "name": "stdout",
     "output_type": "stream",
     "text": [
      "Trial 218 finished with value: 2.5695183604955667 and parameters: {'opt_Epochs': 2, 'opt_Steps': 13, 'opt_Learning_Rate': 0.2758389006752172, 'opt_Batch_Size': 387, 'opt_Number_of_Noise_Batches': 1, 'opt_Regularization_term': 0.17032544298590754, 'opt_Noise_Dim': 84, 'n_layers': 4}. Best is trial 114 with value: 2.2227095395326613.\n",
      "Trial 218 finished with value: 2.5695183604955667 and parameters: {'opt_Epochs': 2, 'opt_Steps': 13, 'opt_Learning_Rate': 0.2758389006752172, 'opt_Batch_Size': 387, 'opt_Number_of_Noise_Batches': 1, 'opt_Regularization_term': 0.17032544298590754, 'opt_Noise_Dim': 84, 'n_layers': 4}. Best is trial 114 with value: 2.2227095395326613.\n"
     ]
    },
    {
     "name": "stderr",
     "output_type": "stream",
     "text": [
      "[I 2025-01-20 10:08:31,855] Trial 219 finished with value: 2.3660780146718032 and parameters: {'opt_Epochs': 1, 'opt_Steps': 12, 'opt_Learning_Rate': 0.24770457459715473, 'opt_Batch_Size': 356, 'opt_Number_of_Noise_Batches': 1, 'opt_Regularization_term': 0.18550026738693307, 'opt_Noise_Dim': 59, 'n_layers': 4}. Best is trial 114 with value: 2.2227095395326613.\n"
     ]
    },
    {
     "name": "stdout",
     "output_type": "stream",
     "text": [
      "Trial 219 finished with value: 2.3660780146718032 and parameters: {'opt_Epochs': 1, 'opt_Steps': 12, 'opt_Learning_Rate': 0.24770457459715473, 'opt_Batch_Size': 356, 'opt_Number_of_Noise_Batches': 1, 'opt_Regularization_term': 0.18550026738693307, 'opt_Noise_Dim': 59, 'n_layers': 4}. Best is trial 114 with value: 2.2227095395326613.\n",
      "Trial 219 finished with value: 2.3660780146718032 and parameters: {'opt_Epochs': 1, 'opt_Steps': 12, 'opt_Learning_Rate': 0.24770457459715473, 'opt_Batch_Size': 356, 'opt_Number_of_Noise_Batches': 1, 'opt_Regularization_term': 0.18550026738693307, 'opt_Noise_Dim': 59, 'n_layers': 4}. Best is trial 114 with value: 2.2227095395326613.\n"
     ]
    },
    {
     "name": "stderr",
     "output_type": "stream",
     "text": [
      "[I 2025-01-20 10:09:11,414] Trial 220 finished with value: 2.271123211085796 and parameters: {'opt_Epochs': 2, 'opt_Steps': 13, 'opt_Learning_Rate': 0.2561519125866501, 'opt_Batch_Size': 416, 'opt_Number_of_Noise_Batches': 1, 'opt_Regularization_term': 0.1722244274056116, 'opt_Noise_Dim': 74, 'n_layers': 4}. Best is trial 114 with value: 2.2227095395326613.\n"
     ]
    },
    {
     "name": "stdout",
     "output_type": "stream",
     "text": [
      "Trial 220 finished with value: 2.271123211085796 and parameters: {'opt_Epochs': 2, 'opt_Steps': 13, 'opt_Learning_Rate': 0.2561519125866501, 'opt_Batch_Size': 416, 'opt_Number_of_Noise_Batches': 1, 'opt_Regularization_term': 0.1722244274056116, 'opt_Noise_Dim': 74, 'n_layers': 4}. Best is trial 114 with value: 2.2227095395326613.\n",
      "Trial 220 finished with value: 2.271123211085796 and parameters: {'opt_Epochs': 2, 'opt_Steps': 13, 'opt_Learning_Rate': 0.2561519125866501, 'opt_Batch_Size': 416, 'opt_Number_of_Noise_Batches': 1, 'opt_Regularization_term': 0.1722244274056116, 'opt_Noise_Dim': 74, 'n_layers': 4}. Best is trial 114 with value: 2.2227095395326613.\n"
     ]
    },
    {
     "name": "stderr",
     "output_type": "stream",
     "text": [
      "[I 2025-01-20 10:09:48,613] Trial 221 finished with value: 2.548799455165863 and parameters: {'opt_Epochs': 2, 'opt_Steps': 13, 'opt_Learning_Rate': 0.29337663979482664, 'opt_Batch_Size': 407, 'opt_Number_of_Noise_Batches': 1, 'opt_Regularization_term': 0.16086407498090394, 'opt_Noise_Dim': 41, 'n_layers': 4}. Best is trial 114 with value: 2.2227095395326613.\n"
     ]
    },
    {
     "name": "stdout",
     "output_type": "stream",
     "text": [
      "Trial 221 finished with value: 2.548799455165863 and parameters: {'opt_Epochs': 2, 'opt_Steps': 13, 'opt_Learning_Rate': 0.29337663979482664, 'opt_Batch_Size': 407, 'opt_Number_of_Noise_Batches': 1, 'opt_Regularization_term': 0.16086407498090394, 'opt_Noise_Dim': 41, 'n_layers': 4}. Best is trial 114 with value: 2.2227095395326613.\n",
      "Trial 221 finished with value: 2.548799455165863 and parameters: {'opt_Epochs': 2, 'opt_Steps': 13, 'opt_Learning_Rate': 0.29337663979482664, 'opt_Batch_Size': 407, 'opt_Number_of_Noise_Batches': 1, 'opt_Regularization_term': 0.16086407498090394, 'opt_Noise_Dim': 41, 'n_layers': 4}. Best is trial 114 with value: 2.2227095395326613.\n"
     ]
    },
    {
     "name": "stderr",
     "output_type": "stream",
     "text": [
      "[I 2025-01-20 10:10:22,108] Trial 222 finished with value: 2.575973370671273 and parameters: {'opt_Epochs': 2, 'opt_Steps': 12, 'opt_Learning_Rate': 0.26710994519408204, 'opt_Batch_Size': 344, 'opt_Number_of_Noise_Batches': 1, 'opt_Regularization_term': 0.1701238973352115, 'opt_Noise_Dim': 81, 'n_layers': 4}. Best is trial 114 with value: 2.2227095395326613.\n"
     ]
    },
    {
     "name": "stdout",
     "output_type": "stream",
     "text": [
      "Trial 222 finished with value: 2.575973370671273 and parameters: {'opt_Epochs': 2, 'opt_Steps': 12, 'opt_Learning_Rate': 0.26710994519408204, 'opt_Batch_Size': 344, 'opt_Number_of_Noise_Batches': 1, 'opt_Regularization_term': 0.1701238973352115, 'opt_Noise_Dim': 81, 'n_layers': 4}. Best is trial 114 with value: 2.2227095395326613.\n",
      "Trial 222 finished with value: 2.575973370671273 and parameters: {'opt_Epochs': 2, 'opt_Steps': 12, 'opt_Learning_Rate': 0.26710994519408204, 'opt_Batch_Size': 344, 'opt_Number_of_Noise_Batches': 1, 'opt_Regularization_term': 0.1701238973352115, 'opt_Noise_Dim': 81, 'n_layers': 4}. Best is trial 114 with value: 2.2227095395326613.\n"
     ]
    },
    {
     "name": "stderr",
     "output_type": "stream",
     "text": [
      "[I 2025-01-20 10:10:57,049] Trial 223 finished with value: 2.7081304833292963 and parameters: {'opt_Epochs': 2, 'opt_Steps': 14, 'opt_Learning_Rate': 0.2625763501103091, 'opt_Batch_Size': 322, 'opt_Number_of_Noise_Batches': 1, 'opt_Regularization_term': 0.17475102466376763, 'opt_Noise_Dim': 74, 'n_layers': 4}. Best is trial 114 with value: 2.2227095395326613.\n"
     ]
    },
    {
     "name": "stdout",
     "output_type": "stream",
     "text": [
      "Trial 223 finished with value: 2.7081304833292963 and parameters: {'opt_Epochs': 2, 'opt_Steps': 14, 'opt_Learning_Rate': 0.2625763501103091, 'opt_Batch_Size': 322, 'opt_Number_of_Noise_Batches': 1, 'opt_Regularization_term': 0.17475102466376763, 'opt_Noise_Dim': 74, 'n_layers': 4}. Best is trial 114 with value: 2.2227095395326613.\n",
      "Trial 223 finished with value: 2.7081304833292963 and parameters: {'opt_Epochs': 2, 'opt_Steps': 14, 'opt_Learning_Rate': 0.2625763501103091, 'opt_Batch_Size': 322, 'opt_Number_of_Noise_Batches': 1, 'opt_Regularization_term': 0.17475102466376763, 'opt_Noise_Dim': 74, 'n_layers': 4}. Best is trial 114 with value: 2.2227095395326613.\n"
     ]
    },
    {
     "name": "stderr",
     "output_type": "stream",
     "text": [
      "[I 2025-01-20 10:11:28,998] Trial 224 finished with value: 2.485953152179718 and parameters: {'opt_Epochs': 1, 'opt_Steps': 15, 'opt_Learning_Rate': 0.25710429128376483, 'opt_Batch_Size': 428, 'opt_Number_of_Noise_Batches': 1, 'opt_Regularization_term': 0.1876199678484035, 'opt_Noise_Dim': 91, 'n_layers': 4}. Best is trial 114 with value: 2.2227095395326613.\n"
     ]
    },
    {
     "name": "stdout",
     "output_type": "stream",
     "text": [
      "Trial 224 finished with value: 2.485953152179718 and parameters: {'opt_Epochs': 1, 'opt_Steps': 15, 'opt_Learning_Rate': 0.25710429128376483, 'opt_Batch_Size': 428, 'opt_Number_of_Noise_Batches': 1, 'opt_Regularization_term': 0.1876199678484035, 'opt_Noise_Dim': 91, 'n_layers': 4}. Best is trial 114 with value: 2.2227095395326613.\n",
      "Trial 224 finished with value: 2.485953152179718 and parameters: {'opt_Epochs': 1, 'opt_Steps': 15, 'opt_Learning_Rate': 0.25710429128376483, 'opt_Batch_Size': 428, 'opt_Number_of_Noise_Batches': 1, 'opt_Regularization_term': 0.1876199678484035, 'opt_Noise_Dim': 91, 'n_layers': 4}. Best is trial 114 with value: 2.2227095395326613.\n"
     ]
    },
    {
     "name": "stderr",
     "output_type": "stream",
     "text": [
      "[I 2025-01-20 10:12:03,758] Trial 225 finished with value: 2.3729469776153556 and parameters: {'opt_Epochs': 2, 'opt_Steps': 13, 'opt_Learning_Rate': 0.23906329690748096, 'opt_Batch_Size': 336, 'opt_Number_of_Noise_Batches': 1, 'opt_Regularization_term': 0.17762142764236313, 'opt_Noise_Dim': 52, 'n_layers': 4}. Best is trial 114 with value: 2.2227095395326613.\n"
     ]
    },
    {
     "name": "stdout",
     "output_type": "stream",
     "text": [
      "Trial 225 finished with value: 2.3729469776153556 and parameters: {'opt_Epochs': 2, 'opt_Steps': 13, 'opt_Learning_Rate': 0.23906329690748096, 'opt_Batch_Size': 336, 'opt_Number_of_Noise_Batches': 1, 'opt_Regularization_term': 0.17762142764236313, 'opt_Noise_Dim': 52, 'n_layers': 4}. Best is trial 114 with value: 2.2227095395326613.\n",
      "Trial 225 finished with value: 2.3729469776153556 and parameters: {'opt_Epochs': 2, 'opt_Steps': 13, 'opt_Learning_Rate': 0.23906329690748096, 'opt_Batch_Size': 336, 'opt_Number_of_Noise_Batches': 1, 'opt_Regularization_term': 0.17762142764236313, 'opt_Noise_Dim': 52, 'n_layers': 4}. Best is trial 114 with value: 2.2227095395326613.\n"
     ]
    },
    {
     "name": "stderr",
     "output_type": "stream",
     "text": [
      "[I 2025-01-20 10:12:37,610] Trial 226 finished with value: 2.4679876863956443 and parameters: {'opt_Epochs': 2, 'opt_Steps': 12, 'opt_Learning_Rate': 0.2874320356916505, 'opt_Batch_Size': 357, 'opt_Number_of_Noise_Batches': 1, 'opt_Regularization_term': 0.16908430756865744, 'opt_Noise_Dim': 118, 'n_layers': 4}. Best is trial 114 with value: 2.2227095395326613.\n"
     ]
    },
    {
     "name": "stdout",
     "output_type": "stream",
     "text": [
      "Trial 226 finished with value: 2.4679876863956443 and parameters: {'opt_Epochs': 2, 'opt_Steps': 12, 'opt_Learning_Rate': 0.2874320356916505, 'opt_Batch_Size': 357, 'opt_Number_of_Noise_Batches': 1, 'opt_Regularization_term': 0.16908430756865744, 'opt_Noise_Dim': 118, 'n_layers': 4}. Best is trial 114 with value: 2.2227095395326613.\n",
      "Trial 226 finished with value: 2.4679876863956443 and parameters: {'opt_Epochs': 2, 'opt_Steps': 12, 'opt_Learning_Rate': 0.2874320356916505, 'opt_Batch_Size': 357, 'opt_Number_of_Noise_Batches': 1, 'opt_Regularization_term': 0.16908430756865744, 'opt_Noise_Dim': 118, 'n_layers': 4}. Best is trial 114 with value: 2.2227095395326613.\n"
     ]
    },
    {
     "name": "stderr",
     "output_type": "stream",
     "text": [
      "[I 2025-01-20 10:13:10,347] Trial 227 finished with value: 2.3735661923885347 and parameters: {'opt_Epochs': 2, 'opt_Steps': 13, 'opt_Learning_Rate': 0.2740520211016756, 'opt_Batch_Size': 312, 'opt_Number_of_Noise_Batches': 1, 'opt_Regularization_term': 0.1917095563314297, 'opt_Noise_Dim': 72, 'n_layers': 4}. Best is trial 114 with value: 2.2227095395326613.\n"
     ]
    },
    {
     "name": "stdout",
     "output_type": "stream",
     "text": [
      "Trial 227 finished with value: 2.3735661923885347 and parameters: {'opt_Epochs': 2, 'opt_Steps': 13, 'opt_Learning_Rate': 0.2740520211016756, 'opt_Batch_Size': 312, 'opt_Number_of_Noise_Batches': 1, 'opt_Regularization_term': 0.1917095563314297, 'opt_Noise_Dim': 72, 'n_layers': 4}. Best is trial 114 with value: 2.2227095395326613.\n",
      "Trial 227 finished with value: 2.3735661923885347 and parameters: {'opt_Epochs': 2, 'opt_Steps': 13, 'opt_Learning_Rate': 0.2740520211016756, 'opt_Batch_Size': 312, 'opt_Number_of_Noise_Batches': 1, 'opt_Regularization_term': 0.1917095563314297, 'opt_Noise_Dim': 72, 'n_layers': 4}. Best is trial 114 with value: 2.2227095395326613.\n"
     ]
    },
    {
     "name": "stderr",
     "output_type": "stream",
     "text": [
      "[I 2025-01-20 10:13:43,738] Trial 228 finished with value: 2.427025093138218 and parameters: {'opt_Epochs': 2, 'opt_Steps': 11, 'opt_Learning_Rate': 0.25608210222073163, 'opt_Batch_Size': 380, 'opt_Number_of_Noise_Batches': 1, 'opt_Regularization_term': 0.1634123730088062, 'opt_Noise_Dim': 98, 'n_layers': 4}. Best is trial 114 with value: 2.2227095395326613.\n"
     ]
    },
    {
     "name": "stdout",
     "output_type": "stream",
     "text": [
      "Trial 228 finished with value: 2.427025093138218 and parameters: {'opt_Epochs': 2, 'opt_Steps': 11, 'opt_Learning_Rate': 0.25608210222073163, 'opt_Batch_Size': 380, 'opt_Number_of_Noise_Batches': 1, 'opt_Regularization_term': 0.1634123730088062, 'opt_Noise_Dim': 98, 'n_layers': 4}. Best is trial 114 with value: 2.2227095395326613.\n",
      "Trial 228 finished with value: 2.427025093138218 and parameters: {'opt_Epochs': 2, 'opt_Steps': 11, 'opt_Learning_Rate': 0.25608210222073163, 'opt_Batch_Size': 380, 'opt_Number_of_Noise_Batches': 1, 'opt_Regularization_term': 0.1634123730088062, 'opt_Noise_Dim': 98, 'n_layers': 4}. Best is trial 114 with value: 2.2227095395326613.\n"
     ]
    },
    {
     "name": "stderr",
     "output_type": "stream",
     "text": [
      "[I 2025-01-20 10:14:17,407] Trial 229 finished with value: 2.3839980125427243 and parameters: {'opt_Epochs': 2, 'opt_Steps': 12, 'opt_Learning_Rate': 0.2481353827428179, 'opt_Batch_Size': 337, 'opt_Number_of_Noise_Batches': 1, 'opt_Regularization_term': 0.18343854275594837, 'opt_Noise_Dim': 58, 'n_layers': 4}. Best is trial 114 with value: 2.2227095395326613.\n"
     ]
    },
    {
     "name": "stdout",
     "output_type": "stream",
     "text": [
      "Trial 229 finished with value: 2.3839980125427243 and parameters: {'opt_Epochs': 2, 'opt_Steps': 12, 'opt_Learning_Rate': 0.2481353827428179, 'opt_Batch_Size': 337, 'opt_Number_of_Noise_Batches': 1, 'opt_Regularization_term': 0.18343854275594837, 'opt_Noise_Dim': 58, 'n_layers': 4}. Best is trial 114 with value: 2.2227095395326613.\n",
      "Trial 229 finished with value: 2.3839980125427243 and parameters: {'opt_Epochs': 2, 'opt_Steps': 12, 'opt_Learning_Rate': 0.2481353827428179, 'opt_Batch_Size': 337, 'opt_Number_of_Noise_Batches': 1, 'opt_Regularization_term': 0.18343854275594837, 'opt_Noise_Dim': 58, 'n_layers': 4}. Best is trial 114 with value: 2.2227095395326613.\n"
     ]
    },
    {
     "name": "stderr",
     "output_type": "stream",
     "text": [
      "[I 2025-01-20 10:14:54,101] Trial 230 finished with value: 2.5833942711353304 and parameters: {'opt_Epochs': 2, 'opt_Steps': 14, 'opt_Learning_Rate': 0.2642976664821861, 'opt_Batch_Size': 356, 'opt_Number_of_Noise_Batches': 1, 'opt_Regularization_term': 0.17350850230021042, 'opt_Noise_Dim': 87, 'n_layers': 4}. Best is trial 114 with value: 2.2227095395326613.\n"
     ]
    },
    {
     "name": "stdout",
     "output_type": "stream",
     "text": [
      "Trial 230 finished with value: 2.5833942711353304 and parameters: {'opt_Epochs': 2, 'opt_Steps': 14, 'opt_Learning_Rate': 0.2642976664821861, 'opt_Batch_Size': 356, 'opt_Number_of_Noise_Batches': 1, 'opt_Regularization_term': 0.17350850230021042, 'opt_Noise_Dim': 87, 'n_layers': 4}. Best is trial 114 with value: 2.2227095395326613.\n",
      "Trial 230 finished with value: 2.5833942711353304 and parameters: {'opt_Epochs': 2, 'opt_Steps': 14, 'opt_Learning_Rate': 0.2642976664821861, 'opt_Batch_Size': 356, 'opt_Number_of_Noise_Batches': 1, 'opt_Regularization_term': 0.17350850230021042, 'opt_Noise_Dim': 87, 'n_layers': 4}. Best is trial 114 with value: 2.2227095395326613.\n"
     ]
    },
    {
     "name": "stderr",
     "output_type": "stream",
     "text": [
      "[I 2025-01-20 10:15:22,149] Trial 231 finished with value: 2.876386214792728 and parameters: {'opt_Epochs': 1, 'opt_Steps': 11, 'opt_Learning_Rate': 0.26886320168395894, 'opt_Batch_Size': 375, 'opt_Number_of_Noise_Batches': 1, 'opt_Regularization_term': 0.15646163427614412, 'opt_Noise_Dim': 74, 'n_layers': 4}. Best is trial 114 with value: 2.2227095395326613.\n"
     ]
    },
    {
     "name": "stdout",
     "output_type": "stream",
     "text": [
      "Trial 231 finished with value: 2.876386214792728 and parameters: {'opt_Epochs': 1, 'opt_Steps': 11, 'opt_Learning_Rate': 0.26886320168395894, 'opt_Batch_Size': 375, 'opt_Number_of_Noise_Batches': 1, 'opt_Regularization_term': 0.15646163427614412, 'opt_Noise_Dim': 74, 'n_layers': 4}. Best is trial 114 with value: 2.2227095395326613.\n",
      "Trial 231 finished with value: 2.876386214792728 and parameters: {'opt_Epochs': 1, 'opt_Steps': 11, 'opt_Learning_Rate': 0.26886320168395894, 'opt_Batch_Size': 375, 'opt_Number_of_Noise_Batches': 1, 'opt_Regularization_term': 0.15646163427614412, 'opt_Noise_Dim': 74, 'n_layers': 4}. Best is trial 114 with value: 2.2227095395326613.\n"
     ]
    },
    {
     "name": "stderr",
     "output_type": "stream",
     "text": [
      "[I 2025-01-20 10:15:57,837] Trial 232 finished with value: 2.333843691647053 and parameters: {'opt_Epochs': 2, 'opt_Steps': 13, 'opt_Learning_Rate': 0.25457546180602536, 'opt_Batch_Size': 348, 'opt_Number_of_Noise_Batches': 2, 'opt_Regularization_term': 0.167035125146078, 'opt_Noise_Dim': 120, 'n_layers': 4}. Best is trial 114 with value: 2.2227095395326613.\n"
     ]
    },
    {
     "name": "stdout",
     "output_type": "stream",
     "text": [
      "Trial 232 finished with value: 2.333843691647053 and parameters: {'opt_Epochs': 2, 'opt_Steps': 13, 'opt_Learning_Rate': 0.25457546180602536, 'opt_Batch_Size': 348, 'opt_Number_of_Noise_Batches': 2, 'opt_Regularization_term': 0.167035125146078, 'opt_Noise_Dim': 120, 'n_layers': 4}. Best is trial 114 with value: 2.2227095395326613.\n",
      "Trial 232 finished with value: 2.333843691647053 and parameters: {'opt_Epochs': 2, 'opt_Steps': 13, 'opt_Learning_Rate': 0.25457546180602536, 'opt_Batch_Size': 348, 'opt_Number_of_Noise_Batches': 2, 'opt_Regularization_term': 0.167035125146078, 'opt_Noise_Dim': 120, 'n_layers': 4}. Best is trial 114 with value: 2.2227095395326613.\n"
     ]
    },
    {
     "name": "stderr",
     "output_type": "stream",
     "text": [
      "[I 2025-01-20 10:16:32,955] Trial 233 finished with value: 2.52846828699112 and parameters: {'opt_Epochs': 2, 'opt_Steps': 13, 'opt_Learning_Rate': 0.23492313366600742, 'opt_Batch_Size': 348, 'opt_Number_of_Noise_Batches': 2, 'opt_Regularization_term': 0.17645153685154763, 'opt_Noise_Dim': 124, 'n_layers': 4}. Best is trial 114 with value: 2.2227095395326613.\n"
     ]
    },
    {
     "name": "stdout",
     "output_type": "stream",
     "text": [
      "Trial 233 finished with value: 2.52846828699112 and parameters: {'opt_Epochs': 2, 'opt_Steps': 13, 'opt_Learning_Rate': 0.23492313366600742, 'opt_Batch_Size': 348, 'opt_Number_of_Noise_Batches': 2, 'opt_Regularization_term': 0.17645153685154763, 'opt_Noise_Dim': 124, 'n_layers': 4}. Best is trial 114 with value: 2.2227095395326613.\n",
      "Trial 233 finished with value: 2.52846828699112 and parameters: {'opt_Epochs': 2, 'opt_Steps': 13, 'opt_Learning_Rate': 0.23492313366600742, 'opt_Batch_Size': 348, 'opt_Number_of_Noise_Batches': 2, 'opt_Regularization_term': 0.17645153685154763, 'opt_Noise_Dim': 124, 'n_layers': 4}. Best is trial 114 with value: 2.2227095395326613.\n"
     ]
    },
    {
     "name": "stderr",
     "output_type": "stream",
     "text": [
      "[I 2025-01-20 10:17:05,365] Trial 234 finished with value: 2.508676877617836 and parameters: {'opt_Epochs': 2, 'opt_Steps': 12, 'opt_Learning_Rate': 0.25400894107481886, 'opt_Batch_Size': 325, 'opt_Number_of_Noise_Batches': 1, 'opt_Regularization_term': 0.1671474019862193, 'opt_Noise_Dim': 91, 'n_layers': 4}. Best is trial 114 with value: 2.2227095395326613.\n"
     ]
    },
    {
     "name": "stdout",
     "output_type": "stream",
     "text": [
      "Trial 234 finished with value: 2.508676877617836 and parameters: {'opt_Epochs': 2, 'opt_Steps': 12, 'opt_Learning_Rate': 0.25400894107481886, 'opt_Batch_Size': 325, 'opt_Number_of_Noise_Batches': 1, 'opt_Regularization_term': 0.1671474019862193, 'opt_Noise_Dim': 91, 'n_layers': 4}. Best is trial 114 with value: 2.2227095395326613.\n",
      "Trial 234 finished with value: 2.508676877617836 and parameters: {'opt_Epochs': 2, 'opt_Steps': 12, 'opt_Learning_Rate': 0.25400894107481886, 'opt_Batch_Size': 325, 'opt_Number_of_Noise_Batches': 1, 'opt_Regularization_term': 0.1671474019862193, 'opt_Noise_Dim': 91, 'n_layers': 4}. Best is trial 114 with value: 2.2227095395326613.\n"
     ]
    },
    {
     "name": "stderr",
     "output_type": "stream",
     "text": [
      "[I 2025-01-20 10:17:39,503] Trial 235 finished with value: 2.607613158226013 and parameters: {'opt_Epochs': 2, 'opt_Steps': 13, 'opt_Learning_Rate': 0.2465928545338673, 'opt_Batch_Size': 335, 'opt_Number_of_Noise_Batches': 1, 'opt_Regularization_term': 0.15145104847086813, 'opt_Noise_Dim': 107, 'n_layers': 4}. Best is trial 114 with value: 2.2227095395326613.\n"
     ]
    },
    {
     "name": "stdout",
     "output_type": "stream",
     "text": [
      "Trial 235 finished with value: 2.607613158226013 and parameters: {'opt_Epochs': 2, 'opt_Steps': 13, 'opt_Learning_Rate': 0.2465928545338673, 'opt_Batch_Size': 335, 'opt_Number_of_Noise_Batches': 1, 'opt_Regularization_term': 0.15145104847086813, 'opt_Noise_Dim': 107, 'n_layers': 4}. Best is trial 114 with value: 2.2227095395326613.\n",
      "Trial 235 finished with value: 2.607613158226013 and parameters: {'opt_Epochs': 2, 'opt_Steps': 13, 'opt_Learning_Rate': 0.2465928545338673, 'opt_Batch_Size': 335, 'opt_Number_of_Noise_Batches': 1, 'opt_Regularization_term': 0.15145104847086813, 'opt_Noise_Dim': 107, 'n_layers': 4}. Best is trial 114 with value: 2.2227095395326613.\n"
     ]
    },
    {
     "name": "stderr",
     "output_type": "stream",
     "text": [
      "[I 2025-01-20 10:18:14,108] Trial 236 finished with value: 2.586467412114143 and parameters: {'opt_Epochs': 2, 'opt_Steps': 12, 'opt_Learning_Rate': 0.25771382219283057, 'opt_Batch_Size': 363, 'opt_Number_of_Noise_Batches': 1, 'opt_Regularization_term': 0.17986734619858255, 'opt_Noise_Dim': 124, 'n_layers': 4}. Best is trial 114 with value: 2.2227095395326613.\n"
     ]
    },
    {
     "name": "stdout",
     "output_type": "stream",
     "text": [
      "Trial 236 finished with value: 2.586467412114143 and parameters: {'opt_Epochs': 2, 'opt_Steps': 12, 'opt_Learning_Rate': 0.25771382219283057, 'opt_Batch_Size': 363, 'opt_Number_of_Noise_Batches': 1, 'opt_Regularization_term': 0.17986734619858255, 'opt_Noise_Dim': 124, 'n_layers': 4}. Best is trial 114 with value: 2.2227095395326613.\n",
      "Trial 236 finished with value: 2.586467412114143 and parameters: {'opt_Epochs': 2, 'opt_Steps': 12, 'opt_Learning_Rate': 0.25771382219283057, 'opt_Batch_Size': 363, 'opt_Number_of_Noise_Batches': 1, 'opt_Regularization_term': 0.17986734619858255, 'opt_Noise_Dim': 124, 'n_layers': 4}. Best is trial 114 with value: 2.2227095395326613.\n"
     ]
    },
    {
     "name": "stderr",
     "output_type": "stream",
     "text": [
      "[I 2025-01-20 10:18:49,968] Trial 237 finished with value: 2.6098285943269737 and parameters: {'opt_Epochs': 2, 'opt_Steps': 11, 'opt_Learning_Rate': 0.23995230987016009, 'opt_Batch_Size': 348, 'opt_Number_of_Noise_Batches': 2, 'opt_Regularization_term': 0.16132478677424278, 'opt_Noise_Dim': 118, 'n_layers': 4}. Best is trial 114 with value: 2.2227095395326613.\n"
     ]
    },
    {
     "name": "stdout",
     "output_type": "stream",
     "text": [
      "Trial 237 finished with value: 2.6098285943269737 and parameters: {'opt_Epochs': 2, 'opt_Steps': 11, 'opt_Learning_Rate': 0.23995230987016009, 'opt_Batch_Size': 348, 'opt_Number_of_Noise_Batches': 2, 'opt_Regularization_term': 0.16132478677424278, 'opt_Noise_Dim': 118, 'n_layers': 4}. Best is trial 114 with value: 2.2227095395326613.\n",
      "Trial 237 finished with value: 2.6098285943269737 and parameters: {'opt_Epochs': 2, 'opt_Steps': 11, 'opt_Learning_Rate': 0.23995230987016009, 'opt_Batch_Size': 348, 'opt_Number_of_Noise_Batches': 2, 'opt_Regularization_term': 0.16132478677424278, 'opt_Noise_Dim': 118, 'n_layers': 4}. Best is trial 114 with value: 2.2227095395326613.\n"
     ]
    },
    {
     "name": "stderr",
     "output_type": "stream",
     "text": [
      "[I 2025-01-20 10:19:32,648] Trial 238 finished with value: 2.4903631731867786 and parameters: {'opt_Epochs': 2, 'opt_Steps': 14, 'opt_Learning_Rate': 0.27606397410614797, 'opt_Batch_Size': 463, 'opt_Number_of_Noise_Batches': 1, 'opt_Regularization_term': 0.19361016191013194, 'opt_Noise_Dim': 31, 'n_layers': 4}. Best is trial 114 with value: 2.2227095395326613.\n"
     ]
    },
    {
     "name": "stdout",
     "output_type": "stream",
     "text": [
      "Trial 238 finished with value: 2.4903631731867786 and parameters: {'opt_Epochs': 2, 'opt_Steps': 14, 'opt_Learning_Rate': 0.27606397410614797, 'opt_Batch_Size': 463, 'opt_Number_of_Noise_Batches': 1, 'opt_Regularization_term': 0.19361016191013194, 'opt_Noise_Dim': 31, 'n_layers': 4}. Best is trial 114 with value: 2.2227095395326613.\n",
      "Trial 238 finished with value: 2.4903631731867786 and parameters: {'opt_Epochs': 2, 'opt_Steps': 14, 'opt_Learning_Rate': 0.27606397410614797, 'opt_Batch_Size': 463, 'opt_Number_of_Noise_Batches': 1, 'opt_Regularization_term': 0.19361016191013194, 'opt_Noise_Dim': 31, 'n_layers': 4}. Best is trial 114 with value: 2.2227095395326613.\n"
     ]
    },
    {
     "name": "stderr",
     "output_type": "stream",
     "text": [
      "[I 2025-01-20 10:20:07,440] Trial 239 finished with value: 2.34780102968216 and parameters: {'opt_Epochs': 2, 'opt_Steps': 14, 'opt_Learning_Rate': 0.26358814158713073, 'opt_Batch_Size': 306, 'opt_Number_of_Noise_Batches': 1, 'opt_Regularization_term': 0.16836868169175775, 'opt_Noise_Dim': 98, 'n_layers': 4}. Best is trial 114 with value: 2.2227095395326613.\n"
     ]
    },
    {
     "name": "stdout",
     "output_type": "stream",
     "text": [
      "Trial 239 finished with value: 2.34780102968216 and parameters: {'opt_Epochs': 2, 'opt_Steps': 14, 'opt_Learning_Rate': 0.26358814158713073, 'opt_Batch_Size': 306, 'opt_Number_of_Noise_Batches': 1, 'opt_Regularization_term': 0.16836868169175775, 'opt_Noise_Dim': 98, 'n_layers': 4}. Best is trial 114 with value: 2.2227095395326613.\n",
      "Trial 239 finished with value: 2.34780102968216 and parameters: {'opt_Epochs': 2, 'opt_Steps': 14, 'opt_Learning_Rate': 0.26358814158713073, 'opt_Batch_Size': 306, 'opt_Number_of_Noise_Batches': 1, 'opt_Regularization_term': 0.16836868169175775, 'opt_Noise_Dim': 98, 'n_layers': 4}. Best is trial 114 with value: 2.2227095395326613.\n"
     ]
    },
    {
     "name": "stderr",
     "output_type": "stream",
     "text": [
      "[I 2025-01-20 10:20:34,459] Trial 240 finished with value: 2.4702336177229887 and parameters: {'opt_Epochs': 1, 'opt_Steps': 11, 'opt_Learning_Rate': 0.2709004806921595, 'opt_Batch_Size': 319, 'opt_Number_of_Noise_Batches': 1, 'opt_Regularization_term': 0.17314093218866813, 'opt_Noise_Dim': 80, 'n_layers': 4}. Best is trial 114 with value: 2.2227095395326613.\n"
     ]
    },
    {
     "name": "stdout",
     "output_type": "stream",
     "text": [
      "Trial 240 finished with value: 2.4702336177229887 and parameters: {'opt_Epochs': 1, 'opt_Steps': 11, 'opt_Learning_Rate': 0.2709004806921595, 'opt_Batch_Size': 319, 'opt_Number_of_Noise_Batches': 1, 'opt_Regularization_term': 0.17314093218866813, 'opt_Noise_Dim': 80, 'n_layers': 4}. Best is trial 114 with value: 2.2227095395326613.\n",
      "Trial 240 finished with value: 2.4702336177229887 and parameters: {'opt_Epochs': 1, 'opt_Steps': 11, 'opt_Learning_Rate': 0.2709004806921595, 'opt_Batch_Size': 319, 'opt_Number_of_Noise_Batches': 1, 'opt_Regularization_term': 0.17314093218866813, 'opt_Noise_Dim': 80, 'n_layers': 4}. Best is trial 114 with value: 2.2227095395326613.\n"
     ]
    },
    {
     "name": "stderr",
     "output_type": "stream",
     "text": [
      "[I 2025-01-20 10:21:12,659] Trial 241 finished with value: 2.5333051159977913 and parameters: {'opt_Epochs': 2, 'opt_Steps': 13, 'opt_Learning_Rate': 0.2506666116216684, 'opt_Batch_Size': 414, 'opt_Number_of_Noise_Batches': 1, 'opt_Regularization_term': 0.18489647005699011, 'opt_Noise_Dim': 61, 'n_layers': 4}. Best is trial 114 with value: 2.2227095395326613.\n"
     ]
    },
    {
     "name": "stdout",
     "output_type": "stream",
     "text": [
      "Trial 241 finished with value: 2.5333051159977913 and parameters: {'opt_Epochs': 2, 'opt_Steps': 13, 'opt_Learning_Rate': 0.2506666116216684, 'opt_Batch_Size': 414, 'opt_Number_of_Noise_Batches': 1, 'opt_Regularization_term': 0.18489647005699011, 'opt_Noise_Dim': 61, 'n_layers': 4}. Best is trial 114 with value: 2.2227095395326613.\n",
      "Trial 241 finished with value: 2.5333051159977913 and parameters: {'opt_Epochs': 2, 'opt_Steps': 13, 'opt_Learning_Rate': 0.2506666116216684, 'opt_Batch_Size': 414, 'opt_Number_of_Noise_Batches': 1, 'opt_Regularization_term': 0.18489647005699011, 'opt_Noise_Dim': 61, 'n_layers': 4}. Best is trial 114 with value: 2.2227095395326613.\n"
     ]
    },
    {
     "name": "stderr",
     "output_type": "stream",
     "text": [
      "[I 2025-01-20 10:21:53,881] Trial 242 finished with value: 2.308854094147682 and parameters: {'opt_Epochs': 3, 'opt_Steps': 12, 'opt_Learning_Rate': 0.25507125948588844, 'opt_Batch_Size': 330, 'opt_Number_of_Noise_Batches': 1, 'opt_Regularization_term': 0.1984791127194938, 'opt_Noise_Dim': 112, 'n_layers': 4}. Best is trial 114 with value: 2.2227095395326613.\n"
     ]
    },
    {
     "name": "stdout",
     "output_type": "stream",
     "text": [
      "Trial 242 finished with value: 2.308854094147682 and parameters: {'opt_Epochs': 3, 'opt_Steps': 12, 'opt_Learning_Rate': 0.25507125948588844, 'opt_Batch_Size': 330, 'opt_Number_of_Noise_Batches': 1, 'opt_Regularization_term': 0.1984791127194938, 'opt_Noise_Dim': 112, 'n_layers': 4}. Best is trial 114 with value: 2.2227095395326613.\n",
      "Trial 242 finished with value: 2.308854094147682 and parameters: {'opt_Epochs': 3, 'opt_Steps': 12, 'opt_Learning_Rate': 0.25507125948588844, 'opt_Batch_Size': 330, 'opt_Number_of_Noise_Batches': 1, 'opt_Regularization_term': 0.1984791127194938, 'opt_Noise_Dim': 112, 'n_layers': 4}. Best is trial 114 with value: 2.2227095395326613.\n"
     ]
    },
    {
     "name": "stderr",
     "output_type": "stream",
     "text": [
      "[I 2025-01-20 10:22:48,819] Trial 243 finished with value: 2.2907165423035627 and parameters: {'opt_Epochs': 5, 'opt_Steps': 12, 'opt_Learning_Rate': 0.25682770893811213, 'opt_Batch_Size': 338, 'opt_Number_of_Noise_Batches': 2, 'opt_Regularization_term': 0.19858327432149067, 'opt_Noise_Dim': 130, 'n_layers': 4}. Best is trial 114 with value: 2.2227095395326613.\n"
     ]
    },
    {
     "name": "stdout",
     "output_type": "stream",
     "text": [
      "Trial 243 finished with value: 2.2907165423035627 and parameters: {'opt_Epochs': 5, 'opt_Steps': 12, 'opt_Learning_Rate': 0.25682770893811213, 'opt_Batch_Size': 338, 'opt_Number_of_Noise_Batches': 2, 'opt_Regularization_term': 0.19858327432149067, 'opt_Noise_Dim': 130, 'n_layers': 4}. Best is trial 114 with value: 2.2227095395326613.\n",
      "Trial 243 finished with value: 2.2907165423035627 and parameters: {'opt_Epochs': 5, 'opt_Steps': 12, 'opt_Learning_Rate': 0.25682770893811213, 'opt_Batch_Size': 338, 'opt_Number_of_Noise_Batches': 2, 'opt_Regularization_term': 0.19858327432149067, 'opt_Noise_Dim': 130, 'n_layers': 4}. Best is trial 114 with value: 2.2227095395326613.\n"
     ]
    },
    {
     "name": "stderr",
     "output_type": "stream",
     "text": [
      "[I 2025-01-20 10:23:45,142] Trial 244 finished with value: 2.3468666329979904 and parameters: {'opt_Epochs': 5, 'opt_Steps': 12, 'opt_Learning_Rate': 0.24526457073538793, 'opt_Batch_Size': 340, 'opt_Number_of_Noise_Batches': 1, 'opt_Regularization_term': 0.2022656879222022, 'opt_Noise_Dim': 132, 'n_layers': 4}. Best is trial 114 with value: 2.2227095395326613.\n"
     ]
    },
    {
     "name": "stdout",
     "output_type": "stream",
     "text": [
      "Trial 244 finished with value: 2.3468666329979904 and parameters: {'opt_Epochs': 5, 'opt_Steps': 12, 'opt_Learning_Rate': 0.24526457073538793, 'opt_Batch_Size': 340, 'opt_Number_of_Noise_Batches': 1, 'opt_Regularization_term': 0.2022656879222022, 'opt_Noise_Dim': 132, 'n_layers': 4}. Best is trial 114 with value: 2.2227095395326613.\n",
      "Trial 244 finished with value: 2.3468666329979904 and parameters: {'opt_Epochs': 5, 'opt_Steps': 12, 'opt_Learning_Rate': 0.24526457073538793, 'opt_Batch_Size': 340, 'opt_Number_of_Noise_Batches': 1, 'opt_Regularization_term': 0.2022656879222022, 'opt_Noise_Dim': 132, 'n_layers': 4}. Best is trial 114 with value: 2.2227095395326613.\n"
     ]
    },
    {
     "name": "stderr",
     "output_type": "stream",
     "text": [
      "[I 2025-01-20 10:24:45,622] Trial 245 finished with value: 2.3731131121516227 and parameters: {'opt_Epochs': 6, 'opt_Steps': 12, 'opt_Learning_Rate': 0.25563841191368375, 'opt_Batch_Size': 337, 'opt_Number_of_Noise_Batches': 2, 'opt_Regularization_term': 0.19608770754774907, 'opt_Noise_Dim': 113, 'n_layers': 4}. Best is trial 114 with value: 2.2227095395326613.\n"
     ]
    },
    {
     "name": "stdout",
     "output_type": "stream",
     "text": [
      "Trial 245 finished with value: 2.3731131121516227 and parameters: {'opt_Epochs': 6, 'opt_Steps': 12, 'opt_Learning_Rate': 0.25563841191368375, 'opt_Batch_Size': 337, 'opt_Number_of_Noise_Batches': 2, 'opt_Regularization_term': 0.19608770754774907, 'opt_Noise_Dim': 113, 'n_layers': 4}. Best is trial 114 with value: 2.2227095395326613.\n",
      "Trial 245 finished with value: 2.3731131121516227 and parameters: {'opt_Epochs': 6, 'opt_Steps': 12, 'opt_Learning_Rate': 0.25563841191368375, 'opt_Batch_Size': 337, 'opt_Number_of_Noise_Batches': 2, 'opt_Regularization_term': 0.19608770754774907, 'opt_Noise_Dim': 113, 'n_layers': 4}. Best is trial 114 with value: 2.2227095395326613.\n"
     ]
    },
    {
     "name": "stderr",
     "output_type": "stream",
     "text": [
      "[I 2025-01-20 10:25:55,778] Trial 246 finished with value: 2.622851771116257 and parameters: {'opt_Epochs': 7, 'opt_Steps': 13, 'opt_Learning_Rate': 0.2603296322139775, 'opt_Batch_Size': 329, 'opt_Number_of_Noise_Batches': 2, 'opt_Regularization_term': 0.2001419608205752, 'opt_Noise_Dim': 104, 'n_layers': 4}. Best is trial 114 with value: 2.2227095395326613.\n"
     ]
    },
    {
     "name": "stdout",
     "output_type": "stream",
     "text": [
      "Trial 246 finished with value: 2.622851771116257 and parameters: {'opt_Epochs': 7, 'opt_Steps': 13, 'opt_Learning_Rate': 0.2603296322139775, 'opt_Batch_Size': 329, 'opt_Number_of_Noise_Batches': 2, 'opt_Regularization_term': 0.2001419608205752, 'opt_Noise_Dim': 104, 'n_layers': 4}. Best is trial 114 with value: 2.2227095395326613.\n",
      "Trial 246 finished with value: 2.622851771116257 and parameters: {'opt_Epochs': 7, 'opt_Steps': 13, 'opt_Learning_Rate': 0.2603296322139775, 'opt_Batch_Size': 329, 'opt_Number_of_Noise_Batches': 2, 'opt_Regularization_term': 0.2001419608205752, 'opt_Noise_Dim': 104, 'n_layers': 4}. Best is trial 114 with value: 2.2227095395326613.\n"
     ]
    },
    {
     "name": "stderr",
     "output_type": "stream",
     "text": [
      "[I 2025-01-20 10:26:34,279] Trial 247 finished with value: 2.318093489110471 and parameters: {'opt_Epochs': 3, 'opt_Steps': 12, 'opt_Learning_Rate': 0.25218252117608203, 'opt_Batch_Size': 315, 'opt_Number_of_Noise_Batches': 1, 'opt_Regularization_term': 0.19052505365938122, 'opt_Noise_Dim': 129, 'n_layers': 4}. Best is trial 114 with value: 2.2227095395326613.\n"
     ]
    },
    {
     "name": "stdout",
     "output_type": "stream",
     "text": [
      "Trial 247 finished with value: 2.318093489110471 and parameters: {'opt_Epochs': 3, 'opt_Steps': 12, 'opt_Learning_Rate': 0.25218252117608203, 'opt_Batch_Size': 315, 'opt_Number_of_Noise_Batches': 1, 'opt_Regularization_term': 0.19052505365938122, 'opt_Noise_Dim': 129, 'n_layers': 4}. Best is trial 114 with value: 2.2227095395326613.\n",
      "Trial 247 finished with value: 2.318093489110471 and parameters: {'opt_Epochs': 3, 'opt_Steps': 12, 'opt_Learning_Rate': 0.25218252117608203, 'opt_Batch_Size': 315, 'opt_Number_of_Noise_Batches': 1, 'opt_Regularization_term': 0.19052505365938122, 'opt_Noise_Dim': 129, 'n_layers': 4}. Best is trial 114 with value: 2.2227095395326613.\n"
     ]
    },
    {
     "name": "stderr",
     "output_type": "stream",
     "text": [
      "[I 2025-01-20 10:27:13,577] Trial 248 finished with value: 2.5930244296789176 and parameters: {'opt_Epochs': 3, 'opt_Steps': 12, 'opt_Learning_Rate': 0.25056731355691897, 'opt_Batch_Size': 329, 'opt_Number_of_Noise_Batches': 1, 'opt_Regularization_term': 0.20814743743672318, 'opt_Noise_Dim': 136, 'n_layers': 4}. Best is trial 114 with value: 2.2227095395326613.\n"
     ]
    },
    {
     "name": "stdout",
     "output_type": "stream",
     "text": [
      "Trial 248 finished with value: 2.5930244296789176 and parameters: {'opt_Epochs': 3, 'opt_Steps': 12, 'opt_Learning_Rate': 0.25056731355691897, 'opt_Batch_Size': 329, 'opt_Number_of_Noise_Batches': 1, 'opt_Regularization_term': 0.20814743743672318, 'opt_Noise_Dim': 136, 'n_layers': 4}. Best is trial 114 with value: 2.2227095395326613.\n",
      "Trial 248 finished with value: 2.5930244296789176 and parameters: {'opt_Epochs': 3, 'opt_Steps': 12, 'opt_Learning_Rate': 0.25056731355691897, 'opt_Batch_Size': 329, 'opt_Number_of_Noise_Batches': 1, 'opt_Regularization_term': 0.20814743743672318, 'opt_Noise_Dim': 136, 'n_layers': 4}. Best is trial 114 with value: 2.2227095395326613.\n"
     ]
    },
    {
     "name": "stderr",
     "output_type": "stream",
     "text": [
      "[I 2025-01-20 10:27:50,955] Trial 249 finished with value: 2.577713103592396 and parameters: {'opt_Epochs': 3, 'opt_Steps': 11, 'opt_Learning_Rate': 0.24394291569261714, 'opt_Batch_Size': 298, 'opt_Number_of_Noise_Batches': 1, 'opt_Regularization_term': 0.19409969772078292, 'opt_Noise_Dim': 100, 'n_layers': 4}. Best is trial 114 with value: 2.2227095395326613.\n"
     ]
    },
    {
     "name": "stdout",
     "output_type": "stream",
     "text": [
      "Trial 249 finished with value: 2.577713103592396 and parameters: {'opt_Epochs': 3, 'opt_Steps': 11, 'opt_Learning_Rate': 0.24394291569261714, 'opt_Batch_Size': 298, 'opt_Number_of_Noise_Batches': 1, 'opt_Regularization_term': 0.19409969772078292, 'opt_Noise_Dim': 100, 'n_layers': 4}. Best is trial 114 with value: 2.2227095395326613.\n",
      "Trial 249 finished with value: 2.577713103592396 and parameters: {'opt_Epochs': 3, 'opt_Steps': 11, 'opt_Learning_Rate': 0.24394291569261714, 'opt_Batch_Size': 298, 'opt_Number_of_Noise_Batches': 1, 'opt_Regularization_term': 0.19409969772078292, 'opt_Noise_Dim': 100, 'n_layers': 4}. Best is trial 114 with value: 2.2227095395326613.\n"
     ]
    },
    {
     "name": "stderr",
     "output_type": "stream",
     "text": [
      "[I 2025-01-20 10:28:29,398] Trial 250 finished with value: 2.200357297062874 and parameters: {'opt_Epochs': 3, 'opt_Steps': 12, 'opt_Learning_Rate': 0.26627724413595144, 'opt_Batch_Size': 316, 'opt_Number_of_Noise_Batches': 1, 'opt_Regularization_term': 0.1892504484944483, 'opt_Noise_Dim': 115, 'n_layers': 4}. Best is trial 250 with value: 2.200357297062874.\n"
     ]
    },
    {
     "name": "stdout",
     "output_type": "stream",
     "text": [
      "Trial 250 finished with value: 2.200357297062874 and parameters: {'opt_Epochs': 3, 'opt_Steps': 12, 'opt_Learning_Rate': 0.26627724413595144, 'opt_Batch_Size': 316, 'opt_Number_of_Noise_Batches': 1, 'opt_Regularization_term': 0.1892504484944483, 'opt_Noise_Dim': 115, 'n_layers': 4}. Best is trial 250 with value: 2.200357297062874.\n",
      "Trial 250 finished with value: 2.200357297062874 and parameters: {'opt_Epochs': 3, 'opt_Steps': 12, 'opt_Learning_Rate': 0.26627724413595144, 'opt_Batch_Size': 316, 'opt_Number_of_Noise_Batches': 1, 'opt_Regularization_term': 0.1892504484944483, 'opt_Noise_Dim': 115, 'n_layers': 4}. Best is trial 250 with value: 2.200357297062874.\n"
     ]
    },
    {
     "name": "stderr",
     "output_type": "stream",
     "text": [
      "[I 2025-01-20 10:29:08,987] Trial 251 finished with value: 2.6229080229997632 and parameters: {'opt_Epochs': 3, 'opt_Steps': 12, 'opt_Learning_Rate': 0.2669181875282508, 'opt_Batch_Size': 309, 'opt_Number_of_Noise_Batches': 1, 'opt_Regularization_term': 0.1900134589375623, 'opt_Noise_Dim': 94, 'n_layers': 4}. Best is trial 250 with value: 2.200357297062874.\n"
     ]
    },
    {
     "name": "stdout",
     "output_type": "stream",
     "text": [
      "Trial 251 finished with value: 2.6229080229997632 and parameters: {'opt_Epochs': 3, 'opt_Steps': 12, 'opt_Learning_Rate': 0.2669181875282508, 'opt_Batch_Size': 309, 'opt_Number_of_Noise_Batches': 1, 'opt_Regularization_term': 0.1900134589375623, 'opt_Noise_Dim': 94, 'n_layers': 4}. Best is trial 250 with value: 2.200357297062874.\n",
      "Trial 251 finished with value: 2.6229080229997632 and parameters: {'opt_Epochs': 3, 'opt_Steps': 12, 'opt_Learning_Rate': 0.2669181875282508, 'opt_Batch_Size': 309, 'opt_Number_of_Noise_Batches': 1, 'opt_Regularization_term': 0.1900134589375623, 'opt_Noise_Dim': 94, 'n_layers': 4}. Best is trial 250 with value: 2.200357297062874.\n"
     ]
    },
    {
     "name": "stderr",
     "output_type": "stream",
     "text": [
      "[I 2025-01-20 10:29:49,299] Trial 252 finished with value: 2.596668508648872 and parameters: {'opt_Epochs': 3, 'opt_Steps': 12, 'opt_Learning_Rate': 0.26170938249991443, 'opt_Batch_Size': 299, 'opt_Number_of_Noise_Batches': 1, 'opt_Regularization_term': 0.18879486200958587, 'opt_Noise_Dim': 106, 'n_layers': 4}. Best is trial 250 with value: 2.200357297062874.\n"
     ]
    },
    {
     "name": "stdout",
     "output_type": "stream",
     "text": [
      "Trial 252 finished with value: 2.596668508648872 and parameters: {'opt_Epochs': 3, 'opt_Steps': 12, 'opt_Learning_Rate': 0.26170938249991443, 'opt_Batch_Size': 299, 'opt_Number_of_Noise_Batches': 1, 'opt_Regularization_term': 0.18879486200958587, 'opt_Noise_Dim': 106, 'n_layers': 4}. Best is trial 250 with value: 2.200357297062874.\n",
      "Trial 252 finished with value: 2.596668508648872 and parameters: {'opt_Epochs': 3, 'opt_Steps': 12, 'opt_Learning_Rate': 0.26170938249991443, 'opt_Batch_Size': 299, 'opt_Number_of_Noise_Batches': 1, 'opt_Regularization_term': 0.18879486200958587, 'opt_Noise_Dim': 106, 'n_layers': 4}. Best is trial 250 with value: 2.200357297062874.\n"
     ]
    },
    {
     "name": "stderr",
     "output_type": "stream",
     "text": [
      "[I 2025-01-20 10:30:30,145] Trial 253 finished with value: 2.404440467059612 and parameters: {'opt_Epochs': 3, 'opt_Steps': 12, 'opt_Learning_Rate': 0.27977011990405665, 'opt_Batch_Size': 320, 'opt_Number_of_Noise_Batches': 1, 'opt_Regularization_term': 0.20030660703973424, 'opt_Noise_Dim': 125, 'n_layers': 4}. Best is trial 250 with value: 2.200357297062874.\n"
     ]
    },
    {
     "name": "stdout",
     "output_type": "stream",
     "text": [
      "Trial 253 finished with value: 2.404440467059612 and parameters: {'opt_Epochs': 3, 'opt_Steps': 12, 'opt_Learning_Rate': 0.27977011990405665, 'opt_Batch_Size': 320, 'opt_Number_of_Noise_Batches': 1, 'opt_Regularization_term': 0.20030660703973424, 'opt_Noise_Dim': 125, 'n_layers': 4}. Best is trial 250 with value: 2.200357297062874.\n",
      "Trial 253 finished with value: 2.404440467059612 and parameters: {'opt_Epochs': 3, 'opt_Steps': 12, 'opt_Learning_Rate': 0.27977011990405665, 'opt_Batch_Size': 320, 'opt_Number_of_Noise_Batches': 1, 'opt_Regularization_term': 0.20030660703973424, 'opt_Noise_Dim': 125, 'n_layers': 4}. Best is trial 250 with value: 2.200357297062874.\n"
     ]
    },
    {
     "name": "stderr",
     "output_type": "stream",
     "text": [
      "[I 2025-01-20 10:31:06,027] Trial 254 finished with value: 2.9611274540424346 and parameters: {'opt_Epochs': 3, 'opt_Steps': 12, 'opt_Learning_Rate': 0.26840269166659414, 'opt_Batch_Size': 318, 'opt_Number_of_Noise_Batches': 1, 'opt_Regularization_term': 0.18475699851964614, 'opt_Noise_Dim': 244, 'n_layers': 2}. Best is trial 250 with value: 2.200357297062874.\n"
     ]
    },
    {
     "name": "stdout",
     "output_type": "stream",
     "text": [
      "Trial 254 finished with value: 2.9611274540424346 and parameters: {'opt_Epochs': 3, 'opt_Steps': 12, 'opt_Learning_Rate': 0.26840269166659414, 'opt_Batch_Size': 318, 'opt_Number_of_Noise_Batches': 1, 'opt_Regularization_term': 0.18475699851964614, 'opt_Noise_Dim': 244, 'n_layers': 2}. Best is trial 250 with value: 2.200357297062874.\n",
      "Trial 254 finished with value: 2.9611274540424346 and parameters: {'opt_Epochs': 3, 'opt_Steps': 12, 'opt_Learning_Rate': 0.26840269166659414, 'opt_Batch_Size': 318, 'opt_Number_of_Noise_Batches': 1, 'opt_Regularization_term': 0.18475699851964614, 'opt_Noise_Dim': 244, 'n_layers': 2}. Best is trial 250 with value: 2.200357297062874.\n"
     ]
    },
    {
     "name": "stderr",
     "output_type": "stream",
     "text": [
      "[I 2025-01-20 10:31:44,727] Trial 255 finished with value: 2.3350695654749876 and parameters: {'opt_Epochs': 3, 'opt_Steps': 11, 'opt_Learning_Rate': 0.2609452148664013, 'opt_Batch_Size': 315, 'opt_Number_of_Noise_Batches': 1, 'opt_Regularization_term': 0.1946551338693382, 'opt_Noise_Dim': 88, 'n_layers': 4}. Best is trial 250 with value: 2.200357297062874.\n"
     ]
    },
    {
     "name": "stdout",
     "output_type": "stream",
     "text": [
      "Trial 255 finished with value: 2.3350695654749876 and parameters: {'opt_Epochs': 3, 'opt_Steps': 11, 'opt_Learning_Rate': 0.2609452148664013, 'opt_Batch_Size': 315, 'opt_Number_of_Noise_Batches': 1, 'opt_Regularization_term': 0.1946551338693382, 'opt_Noise_Dim': 88, 'n_layers': 4}. Best is trial 250 with value: 2.200357297062874.\n",
      "Trial 255 finished with value: 2.3350695654749876 and parameters: {'opt_Epochs': 3, 'opt_Steps': 11, 'opt_Learning_Rate': 0.2609452148664013, 'opt_Batch_Size': 315, 'opt_Number_of_Noise_Batches': 1, 'opt_Regularization_term': 0.1946551338693382, 'opt_Noise_Dim': 88, 'n_layers': 4}. Best is trial 250 with value: 2.200357297062874.\n"
     ]
    },
    {
     "name": "stderr",
     "output_type": "stream",
     "text": [
      "[I 2025-01-20 10:32:25,209] Trial 256 finished with value: 2.78574254065752 and parameters: {'opt_Epochs': 3, 'opt_Steps': 12, 'opt_Learning_Rate': 0.2723485438801609, 'opt_Batch_Size': 330, 'opt_Number_of_Noise_Batches': 1, 'opt_Regularization_term': 0.20492335533090814, 'opt_Noise_Dim': 74, 'n_layers': 4}. Best is trial 250 with value: 2.200357297062874.\n"
     ]
    },
    {
     "name": "stdout",
     "output_type": "stream",
     "text": [
      "Trial 256 finished with value: 2.78574254065752 and parameters: {'opt_Epochs': 3, 'opt_Steps': 12, 'opt_Learning_Rate': 0.2723485438801609, 'opt_Batch_Size': 330, 'opt_Number_of_Noise_Batches': 1, 'opt_Regularization_term': 0.20492335533090814, 'opt_Noise_Dim': 74, 'n_layers': 4}. Best is trial 250 with value: 2.200357297062874.\n",
      "Trial 256 finished with value: 2.78574254065752 and parameters: {'opt_Epochs': 3, 'opt_Steps': 12, 'opt_Learning_Rate': 0.2723485438801609, 'opt_Batch_Size': 330, 'opt_Number_of_Noise_Batches': 1, 'opt_Regularization_term': 0.20492335533090814, 'opt_Noise_Dim': 74, 'n_layers': 4}. Best is trial 250 with value: 2.200357297062874.\n"
     ]
    },
    {
     "name": "stderr",
     "output_type": "stream",
     "text": [
      "[I 2025-01-20 10:33:00,548] Trial 257 finished with value: 2.5472559317946435 and parameters: {'opt_Epochs': 3, 'opt_Steps': 10, 'opt_Learning_Rate': 0.25755303238729216, 'opt_Batch_Size': 306, 'opt_Number_of_Noise_Batches': 1, 'opt_Regularization_term': 0.18016572846641624, 'opt_Noise_Dim': 130, 'n_layers': 4}. Best is trial 250 with value: 2.200357297062874.\n"
     ]
    },
    {
     "name": "stdout",
     "output_type": "stream",
     "text": [
      "Trial 257 finished with value: 2.5472559317946435 and parameters: {'opt_Epochs': 3, 'opt_Steps': 10, 'opt_Learning_Rate': 0.25755303238729216, 'opt_Batch_Size': 306, 'opt_Number_of_Noise_Batches': 1, 'opt_Regularization_term': 0.18016572846641624, 'opt_Noise_Dim': 130, 'n_layers': 4}. Best is trial 250 with value: 2.200357297062874.\n",
      "Trial 257 finished with value: 2.5472559317946435 and parameters: {'opt_Epochs': 3, 'opt_Steps': 10, 'opt_Learning_Rate': 0.25755303238729216, 'opt_Batch_Size': 306, 'opt_Number_of_Noise_Batches': 1, 'opt_Regularization_term': 0.18016572846641624, 'opt_Noise_Dim': 130, 'n_layers': 4}. Best is trial 250 with value: 2.200357297062874.\n"
     ]
    },
    {
     "name": "stderr",
     "output_type": "stream",
     "text": [
      "[I 2025-01-20 10:33:37,973] Trial 258 finished with value: 2.6069050639867783 and parameters: {'opt_Epochs': 3, 'opt_Steps': 11, 'opt_Learning_Rate': 0.26325525653129994, 'opt_Batch_Size': 355, 'opt_Number_of_Noise_Batches': 1, 'opt_Regularization_term': 0.19033969256152897, 'opt_Noise_Dim': 114, 'n_layers': 3}. Best is trial 250 with value: 2.200357297062874.\n"
     ]
    },
    {
     "name": "stdout",
     "output_type": "stream",
     "text": [
      "Trial 258 finished with value: 2.6069050639867783 and parameters: {'opt_Epochs': 3, 'opt_Steps': 11, 'opt_Learning_Rate': 0.26325525653129994, 'opt_Batch_Size': 355, 'opt_Number_of_Noise_Batches': 1, 'opt_Regularization_term': 0.19033969256152897, 'opt_Noise_Dim': 114, 'n_layers': 3}. Best is trial 250 with value: 2.200357297062874.\n",
      "Trial 258 finished with value: 2.6069050639867783 and parameters: {'opt_Epochs': 3, 'opt_Steps': 11, 'opt_Learning_Rate': 0.26325525653129994, 'opt_Batch_Size': 355, 'opt_Number_of_Noise_Batches': 1, 'opt_Regularization_term': 0.19033969256152897, 'opt_Noise_Dim': 114, 'n_layers': 3}. Best is trial 250 with value: 2.200357297062874.\n"
     ]
    },
    {
     "name": "stderr",
     "output_type": "stream",
     "text": [
      "[I 2025-01-20 10:34:25,411] Trial 259 finished with value: 2.2719006240367894 and parameters: {'opt_Epochs': 4, 'opt_Steps': 15, 'opt_Learning_Rate': 0.2319460710974666, 'opt_Batch_Size': 390, 'opt_Number_of_Noise_Batches': 1, 'opt_Regularization_term': 0.21203709578688323, 'opt_Noise_Dim': 47, 'n_layers': 2}. Best is trial 250 with value: 2.200357297062874.\n"
     ]
    },
    {
     "name": "stdout",
     "output_type": "stream",
     "text": [
      "Trial 259 finished with value: 2.2719006240367894 and parameters: {'opt_Epochs': 4, 'opt_Steps': 15, 'opt_Learning_Rate': 0.2319460710974666, 'opt_Batch_Size': 390, 'opt_Number_of_Noise_Batches': 1, 'opt_Regularization_term': 0.21203709578688323, 'opt_Noise_Dim': 47, 'n_layers': 2}. Best is trial 250 with value: 2.200357297062874.\n",
      "Trial 259 finished with value: 2.2719006240367894 and parameters: {'opt_Epochs': 4, 'opt_Steps': 15, 'opt_Learning_Rate': 0.2319460710974666, 'opt_Batch_Size': 390, 'opt_Number_of_Noise_Batches': 1, 'opt_Regularization_term': 0.21203709578688323, 'opt_Noise_Dim': 47, 'n_layers': 2}. Best is trial 250 with value: 2.200357297062874.\n"
     ]
    },
    {
     "name": "stderr",
     "output_type": "stream",
     "text": [
      "[I 2025-01-20 10:35:23,997] Trial 260 finished with value: 2.5722808778285984 and parameters: {'opt_Epochs': 4, 'opt_Steps': 15, 'opt_Learning_Rate': 0.2244437020397659, 'opt_Batch_Size': 386, 'opt_Number_of_Noise_Batches': 1, 'opt_Regularization_term': 0.18608197863509718, 'opt_Noise_Dim': 27, 'n_layers': 4}. Best is trial 250 with value: 2.200357297062874.\n"
     ]
    },
    {
     "name": "stdout",
     "output_type": "stream",
     "text": [
      "Trial 260 finished with value: 2.5722808778285984 and parameters: {'opt_Epochs': 4, 'opt_Steps': 15, 'opt_Learning_Rate': 0.2244437020397659, 'opt_Batch_Size': 386, 'opt_Number_of_Noise_Batches': 1, 'opt_Regularization_term': 0.18608197863509718, 'opt_Noise_Dim': 27, 'n_layers': 4}. Best is trial 250 with value: 2.200357297062874.\n",
      "Trial 260 finished with value: 2.5722808778285984 and parameters: {'opt_Epochs': 4, 'opt_Steps': 15, 'opt_Learning_Rate': 0.2244437020397659, 'opt_Batch_Size': 386, 'opt_Number_of_Noise_Batches': 1, 'opt_Regularization_term': 0.18608197863509718, 'opt_Noise_Dim': 27, 'n_layers': 4}. Best is trial 250 with value: 2.200357297062874.\n"
     ]
    },
    {
     "name": "stderr",
     "output_type": "stream",
     "text": [
      "[I 2025-01-20 10:36:18,110] Trial 261 finished with value: 2.2309678688645365 and parameters: {'opt_Epochs': 5, 'opt_Steps': 14, 'opt_Learning_Rate': 0.23010490456594987, 'opt_Batch_Size': 400, 'opt_Number_of_Noise_Batches': 1, 'opt_Regularization_term': 0.1974654696932229, 'opt_Noise_Dim': 39, 'n_layers': 2}. Best is trial 250 with value: 2.200357297062874.\n"
     ]
    },
    {
     "name": "stdout",
     "output_type": "stream",
     "text": [
      "Trial 261 finished with value: 2.2309678688645365 and parameters: {'opt_Epochs': 5, 'opt_Steps': 14, 'opt_Learning_Rate': 0.23010490456594987, 'opt_Batch_Size': 400, 'opt_Number_of_Noise_Batches': 1, 'opt_Regularization_term': 0.1974654696932229, 'opt_Noise_Dim': 39, 'n_layers': 2}. Best is trial 250 with value: 2.200357297062874.\n",
      "Trial 261 finished with value: 2.2309678688645365 and parameters: {'opt_Epochs': 5, 'opt_Steps': 14, 'opt_Learning_Rate': 0.23010490456594987, 'opt_Batch_Size': 400, 'opt_Number_of_Noise_Batches': 1, 'opt_Regularization_term': 0.1974654696932229, 'opt_Noise_Dim': 39, 'n_layers': 2}. Best is trial 250 with value: 2.200357297062874.\n"
     ]
    },
    {
     "name": "stderr",
     "output_type": "stream",
     "text": [
      "[I 2025-01-20 10:37:12,704] Trial 262 finished with value: 2.4331487834453585 and parameters: {'opt_Epochs': 5, 'opt_Steps': 14, 'opt_Learning_Rate': 0.22924450866364543, 'opt_Batch_Size': 417, 'opt_Number_of_Noise_Batches': 1, 'opt_Regularization_term': 0.20770774191593294, 'opt_Noise_Dim': 42, 'n_layers': 2}. Best is trial 250 with value: 2.200357297062874.\n"
     ]
    },
    {
     "name": "stdout",
     "output_type": "stream",
     "text": [
      "Trial 262 finished with value: 2.4331487834453585 and parameters: {'opt_Epochs': 5, 'opt_Steps': 14, 'opt_Learning_Rate': 0.22924450866364543, 'opt_Batch_Size': 417, 'opt_Number_of_Noise_Batches': 1, 'opt_Regularization_term': 0.20770774191593294, 'opt_Noise_Dim': 42, 'n_layers': 2}. Best is trial 250 with value: 2.200357297062874.\n",
      "Trial 262 finished with value: 2.4331487834453585 and parameters: {'opt_Epochs': 5, 'opt_Steps': 14, 'opt_Learning_Rate': 0.22924450866364543, 'opt_Batch_Size': 417, 'opt_Number_of_Noise_Batches': 1, 'opt_Regularization_term': 0.20770774191593294, 'opt_Noise_Dim': 42, 'n_layers': 2}. Best is trial 250 with value: 2.200357297062874.\n"
     ]
    },
    {
     "name": "stderr",
     "output_type": "stream",
     "text": [
      "[I 2025-01-20 10:37:57,212] Trial 263 finished with value: 2.3113260924816132 and parameters: {'opt_Epochs': 4, 'opt_Steps': 13, 'opt_Learning_Rate': 0.269942233787637, 'opt_Batch_Size': 392, 'opt_Number_of_Noise_Batches': 1, 'opt_Regularization_term': 0.1981324747154593, 'opt_Noise_Dim': 53, 'n_layers': 2}. Best is trial 250 with value: 2.200357297062874.\n"
     ]
    },
    {
     "name": "stdout",
     "output_type": "stream",
     "text": [
      "Trial 263 finished with value: 2.3113260924816132 and parameters: {'opt_Epochs': 4, 'opt_Steps': 13, 'opt_Learning_Rate': 0.269942233787637, 'opt_Batch_Size': 392, 'opt_Number_of_Noise_Batches': 1, 'opt_Regularization_term': 0.1981324747154593, 'opt_Noise_Dim': 53, 'n_layers': 2}. Best is trial 250 with value: 2.200357297062874.\n",
      "Trial 263 finished with value: 2.3113260924816132 and parameters: {'opt_Epochs': 4, 'opt_Steps': 13, 'opt_Learning_Rate': 0.269942233787637, 'opt_Batch_Size': 392, 'opt_Number_of_Noise_Batches': 1, 'opt_Regularization_term': 0.1981324747154593, 'opt_Noise_Dim': 53, 'n_layers': 2}. Best is trial 250 with value: 2.200357297062874.\n"
     ]
    },
    {
     "name": "stderr",
     "output_type": "stream",
     "text": [
      "[I 2025-01-20 10:38:52,724] Trial 264 finished with value: 2.412403494119644 and parameters: {'opt_Epochs': 5, 'opt_Steps': 15, 'opt_Learning_Rate': 0.2774189522012042, 'opt_Batch_Size': 388, 'opt_Number_of_Noise_Batches': 1, 'opt_Regularization_term': 0.20087290860576898, 'opt_Noise_Dim': 52, 'n_layers': 2}. Best is trial 250 with value: 2.200357297062874.\n"
     ]
    },
    {
     "name": "stdout",
     "output_type": "stream",
     "text": [
      "Trial 264 finished with value: 2.412403494119644 and parameters: {'opt_Epochs': 5, 'opt_Steps': 15, 'opt_Learning_Rate': 0.2774189522012042, 'opt_Batch_Size': 388, 'opt_Number_of_Noise_Batches': 1, 'opt_Regularization_term': 0.20087290860576898, 'opt_Noise_Dim': 52, 'n_layers': 2}. Best is trial 250 with value: 2.200357297062874.\n",
      "Trial 264 finished with value: 2.412403494119644 and parameters: {'opt_Epochs': 5, 'opt_Steps': 15, 'opt_Learning_Rate': 0.2774189522012042, 'opt_Batch_Size': 388, 'opt_Number_of_Noise_Batches': 1, 'opt_Regularization_term': 0.20087290860576898, 'opt_Noise_Dim': 52, 'n_layers': 2}. Best is trial 250 with value: 2.200357297062874.\n"
     ]
    },
    {
     "name": "stderr",
     "output_type": "stream",
     "text": [
      "[I 2025-01-20 10:39:42,749] Trial 265 finished with value: 2.3640687614679337 and parameters: {'opt_Epochs': 4, 'opt_Steps': 16, 'opt_Learning_Rate': 0.26876615519238756, 'opt_Batch_Size': 404, 'opt_Number_of_Noise_Batches': 1, 'opt_Regularization_term': 0.21318551191467536, 'opt_Noise_Dim': 38, 'n_layers': 2}. Best is trial 250 with value: 2.200357297062874.\n"
     ]
    },
    {
     "name": "stdout",
     "output_type": "stream",
     "text": [
      "Trial 265 finished with value: 2.3640687614679337 and parameters: {'opt_Epochs': 4, 'opt_Steps': 16, 'opt_Learning_Rate': 0.26876615519238756, 'opt_Batch_Size': 404, 'opt_Number_of_Noise_Batches': 1, 'opt_Regularization_term': 0.21318551191467536, 'opt_Noise_Dim': 38, 'n_layers': 2}. Best is trial 250 with value: 2.200357297062874.\n",
      "Trial 265 finished with value: 2.3640687614679337 and parameters: {'opt_Epochs': 4, 'opt_Steps': 16, 'opt_Learning_Rate': 0.26876615519238756, 'opt_Batch_Size': 404, 'opt_Number_of_Noise_Batches': 1, 'opt_Regularization_term': 0.21318551191467536, 'opt_Noise_Dim': 38, 'n_layers': 2}. Best is trial 250 with value: 2.200357297062874.\n"
     ]
    },
    {
     "name": "stderr",
     "output_type": "stream",
     "text": [
      "[I 2025-01-20 10:40:43,681] Trial 266 finished with value: 2.5256863385438924 and parameters: {'opt_Epochs': 5, 'opt_Steps': 16, 'opt_Learning_Rate': 0.28650000057670866, 'opt_Batch_Size': 430, 'opt_Number_of_Noise_Batches': 1, 'opt_Regularization_term': 0.19996071547129238, 'opt_Noise_Dim': 48, 'n_layers': 2}. Best is trial 250 with value: 2.200357297062874.\n"
     ]
    },
    {
     "name": "stdout",
     "output_type": "stream",
     "text": [
      "Trial 266 finished with value: 2.5256863385438924 and parameters: {'opt_Epochs': 5, 'opt_Steps': 16, 'opt_Learning_Rate': 0.28650000057670866, 'opt_Batch_Size': 430, 'opt_Number_of_Noise_Batches': 1, 'opt_Regularization_term': 0.19996071547129238, 'opt_Noise_Dim': 48, 'n_layers': 2}. Best is trial 250 with value: 2.200357297062874.\n",
      "Trial 266 finished with value: 2.5256863385438924 and parameters: {'opt_Epochs': 5, 'opt_Steps': 16, 'opt_Learning_Rate': 0.28650000057670866, 'opt_Batch_Size': 430, 'opt_Number_of_Noise_Batches': 1, 'opt_Regularization_term': 0.19996071547129238, 'opt_Noise_Dim': 48, 'n_layers': 2}. Best is trial 250 with value: 2.200357297062874.\n"
     ]
    },
    {
     "name": "stderr",
     "output_type": "stream",
     "text": [
      "[I 2025-01-20 10:41:33,848] Trial 267 finished with value: 2.3480963058769704 and parameters: {'opt_Epochs': 5, 'opt_Steps': 13, 'opt_Learning_Rate': 0.26662619520171116, 'opt_Batch_Size': 397, 'opt_Number_of_Noise_Batches': 1, 'opt_Regularization_term': 0.18094457494620148, 'opt_Noise_Dim': 59, 'n_layers': 2}. Best is trial 250 with value: 2.200357297062874.\n"
     ]
    },
    {
     "name": "stdout",
     "output_type": "stream",
     "text": [
      "Trial 267 finished with value: 2.3480963058769704 and parameters: {'opt_Epochs': 5, 'opt_Steps': 13, 'opt_Learning_Rate': 0.26662619520171116, 'opt_Batch_Size': 397, 'opt_Number_of_Noise_Batches': 1, 'opt_Regularization_term': 0.18094457494620148, 'opt_Noise_Dim': 59, 'n_layers': 2}. Best is trial 250 with value: 2.200357297062874.\n",
      "Trial 267 finished with value: 2.3480963058769704 and parameters: {'opt_Epochs': 5, 'opt_Steps': 13, 'opt_Learning_Rate': 0.26662619520171116, 'opt_Batch_Size': 397, 'opt_Number_of_Noise_Batches': 1, 'opt_Regularization_term': 0.18094457494620148, 'opt_Noise_Dim': 59, 'n_layers': 2}. Best is trial 250 with value: 2.200357297062874.\n"
     ]
    },
    {
     "name": "stderr",
     "output_type": "stream",
     "text": [
      "[I 2025-01-20 10:42:19,833] Trial 268 finished with value: 2.251383149623871 and parameters: {'opt_Epochs': 4, 'opt_Steps': 15, 'opt_Learning_Rate': 0.2203696562022437, 'opt_Batch_Size': 377, 'opt_Number_of_Noise_Batches': 1, 'opt_Regularization_term': 0.19574458969969352, 'opt_Noise_Dim': 61, 'n_layers': 2}. Best is trial 250 with value: 2.200357297062874.\n"
     ]
    },
    {
     "name": "stdout",
     "output_type": "stream",
     "text": [
      "Trial 268 finished with value: 2.251383149623871 and parameters: {'opt_Epochs': 4, 'opt_Steps': 15, 'opt_Learning_Rate': 0.2203696562022437, 'opt_Batch_Size': 377, 'opt_Number_of_Noise_Batches': 1, 'opt_Regularization_term': 0.19574458969969352, 'opt_Noise_Dim': 61, 'n_layers': 2}. Best is trial 250 with value: 2.200357297062874.\n",
      "Trial 268 finished with value: 2.251383149623871 and parameters: {'opt_Epochs': 4, 'opt_Steps': 15, 'opt_Learning_Rate': 0.2203696562022437, 'opt_Batch_Size': 377, 'opt_Number_of_Noise_Batches': 1, 'opt_Regularization_term': 0.19574458969969352, 'opt_Noise_Dim': 61, 'n_layers': 2}. Best is trial 250 with value: 2.200357297062874.\n"
     ]
    },
    {
     "name": "stderr",
     "output_type": "stream",
     "text": [
      "[I 2025-01-20 10:43:07,301] Trial 269 finished with value: 2.3683660820126535 and parameters: {'opt_Epochs': 4, 'opt_Steps': 15, 'opt_Learning_Rate': 0.21849791447074557, 'opt_Batch_Size': 384, 'opt_Number_of_Noise_Batches': 1, 'opt_Regularization_term': 0.19871134166094265, 'opt_Noise_Dim': 19, 'n_layers': 2}. Best is trial 250 with value: 2.200357297062874.\n"
     ]
    },
    {
     "name": "stdout",
     "output_type": "stream",
     "text": [
      "Trial 269 finished with value: 2.3683660820126535 and parameters: {'opt_Epochs': 4, 'opt_Steps': 15, 'opt_Learning_Rate': 0.21849791447074557, 'opt_Batch_Size': 384, 'opt_Number_of_Noise_Batches': 1, 'opt_Regularization_term': 0.19871134166094265, 'opt_Noise_Dim': 19, 'n_layers': 2}. Best is trial 250 with value: 2.200357297062874.\n",
      "Trial 269 finished with value: 2.3683660820126535 and parameters: {'opt_Epochs': 4, 'opt_Steps': 15, 'opt_Learning_Rate': 0.21849791447074557, 'opt_Batch_Size': 384, 'opt_Number_of_Noise_Batches': 1, 'opt_Regularization_term': 0.19871134166094265, 'opt_Noise_Dim': 19, 'n_layers': 2}. Best is trial 250 with value: 2.200357297062874.\n"
     ]
    },
    {
     "name": "stderr",
     "output_type": "stream",
     "text": [
      "[I 2025-01-20 10:43:53,412] Trial 270 finished with value: 2.201506791263819 and parameters: {'opt_Epochs': 4, 'opt_Steps': 15, 'opt_Learning_Rate': 0.2315706708470142, 'opt_Batch_Size': 369, 'opt_Number_of_Noise_Batches': 1, 'opt_Regularization_term': 0.20633081180698, 'opt_Noise_Dim': 66, 'n_layers': 2}. Best is trial 250 with value: 2.200357297062874.\n"
     ]
    },
    {
     "name": "stdout",
     "output_type": "stream",
     "text": [
      "Trial 270 finished with value: 2.201506791263819 and parameters: {'opt_Epochs': 4, 'opt_Steps': 15, 'opt_Learning_Rate': 0.2315706708470142, 'opt_Batch_Size': 369, 'opt_Number_of_Noise_Batches': 1, 'opt_Regularization_term': 0.20633081180698, 'opt_Noise_Dim': 66, 'n_layers': 2}. Best is trial 250 with value: 2.200357297062874.\n",
      "Trial 270 finished with value: 2.201506791263819 and parameters: {'opt_Epochs': 4, 'opt_Steps': 15, 'opt_Learning_Rate': 0.2315706708470142, 'opt_Batch_Size': 369, 'opt_Number_of_Noise_Batches': 1, 'opt_Regularization_term': 0.20633081180698, 'opt_Noise_Dim': 66, 'n_layers': 2}. Best is trial 250 with value: 2.200357297062874.\n"
     ]
    },
    {
     "name": "stderr",
     "output_type": "stream",
     "text": [
      "[I 2025-01-20 10:44:37,326] Trial 271 finished with value: 2.6880855470895773 and parameters: {'opt_Epochs': 4, 'opt_Steps': 13, 'opt_Learning_Rate': 0.22487057934187704, 'opt_Batch_Size': 379, 'opt_Number_of_Noise_Batches': 1, 'opt_Regularization_term': 0.2057931208683743, 'opt_Noise_Dim': 65, 'n_layers': 2}. Best is trial 250 with value: 2.200357297062874.\n"
     ]
    },
    {
     "name": "stdout",
     "output_type": "stream",
     "text": [
      "Trial 271 finished with value: 2.6880855470895773 and parameters: {'opt_Epochs': 4, 'opt_Steps': 13, 'opt_Learning_Rate': 0.22487057934187704, 'opt_Batch_Size': 379, 'opt_Number_of_Noise_Batches': 1, 'opt_Regularization_term': 0.2057931208683743, 'opt_Noise_Dim': 65, 'n_layers': 2}. Best is trial 250 with value: 2.200357297062874.\n",
      "Trial 271 finished with value: 2.6880855470895773 and parameters: {'opt_Epochs': 4, 'opt_Steps': 13, 'opt_Learning_Rate': 0.22487057934187704, 'opt_Batch_Size': 379, 'opt_Number_of_Noise_Batches': 1, 'opt_Regularization_term': 0.2057931208683743, 'opt_Noise_Dim': 65, 'n_layers': 2}. Best is trial 250 with value: 2.200357297062874.\n"
     ]
    },
    {
     "name": "stderr",
     "output_type": "stream",
     "text": [
      "[I 2025-01-20 10:45:20,945] Trial 272 finished with value: 2.3604980021715165 and parameters: {'opt_Epochs': 4, 'opt_Steps': 13, 'opt_Learning_Rate': 0.23188900427664175, 'opt_Batch_Size': 375, 'opt_Number_of_Noise_Batches': 1, 'opt_Regularization_term': 0.21631816273970322, 'opt_Noise_Dim': 68, 'n_layers': 2}. Best is trial 250 with value: 2.200357297062874.\n"
     ]
    },
    {
     "name": "stdout",
     "output_type": "stream",
     "text": [
      "Trial 272 finished with value: 2.3604980021715165 and parameters: {'opt_Epochs': 4, 'opt_Steps': 13, 'opt_Learning_Rate': 0.23188900427664175, 'opt_Batch_Size': 375, 'opt_Number_of_Noise_Batches': 1, 'opt_Regularization_term': 0.21631816273970322, 'opt_Noise_Dim': 68, 'n_layers': 2}. Best is trial 250 with value: 2.200357297062874.\n",
      "Trial 272 finished with value: 2.3604980021715165 and parameters: {'opt_Epochs': 4, 'opt_Steps': 13, 'opt_Learning_Rate': 0.23188900427664175, 'opt_Batch_Size': 375, 'opt_Number_of_Noise_Batches': 1, 'opt_Regularization_term': 0.21631816273970322, 'opt_Noise_Dim': 68, 'n_layers': 2}. Best is trial 250 with value: 2.200357297062874.\n"
     ]
    },
    {
     "name": "stderr",
     "output_type": "stream",
     "text": [
      "[I 2025-01-20 10:46:15,933] Trial 273 finished with value: 2.351235131919384 and parameters: {'opt_Epochs': 5, 'opt_Steps': 16, 'opt_Learning_Rate': 0.218336128465665, 'opt_Batch_Size': 364, 'opt_Number_of_Noise_Batches': 2, 'opt_Regularization_term': 0.17241104787694378, 'opt_Noise_Dim': 74, 'n_layers': 2}. Best is trial 250 with value: 2.200357297062874.\n"
     ]
    },
    {
     "name": "stdout",
     "output_type": "stream",
     "text": [
      "Trial 273 finished with value: 2.351235131919384 and parameters: {'opt_Epochs': 5, 'opt_Steps': 16, 'opt_Learning_Rate': 0.218336128465665, 'opt_Batch_Size': 364, 'opt_Number_of_Noise_Batches': 2, 'opt_Regularization_term': 0.17241104787694378, 'opt_Noise_Dim': 74, 'n_layers': 2}. Best is trial 250 with value: 2.200357297062874.\n",
      "Trial 273 finished with value: 2.351235131919384 and parameters: {'opt_Epochs': 5, 'opt_Steps': 16, 'opt_Learning_Rate': 0.218336128465665, 'opt_Batch_Size': 364, 'opt_Number_of_Noise_Batches': 2, 'opt_Regularization_term': 0.17241104787694378, 'opt_Noise_Dim': 74, 'n_layers': 2}. Best is trial 250 with value: 2.200357297062874.\n"
     ]
    },
    {
     "name": "stderr",
     "output_type": "stream",
     "text": [
      "[I 2025-01-20 10:47:15,410] Trial 274 finished with value: 2.4875347062945368 and parameters: {'opt_Epochs': 6, 'opt_Steps': 15, 'opt_Learning_Rate': 0.23101157356581623, 'opt_Batch_Size': 367, 'opt_Number_of_Noise_Batches': 1, 'opt_Regularization_term': 0.21047275518501737, 'opt_Noise_Dim': 38, 'n_layers': 2}. Best is trial 250 with value: 2.200357297062874.\n"
     ]
    },
    {
     "name": "stdout",
     "output_type": "stream",
     "text": [
      "Trial 274 finished with value: 2.4875347062945368 and parameters: {'opt_Epochs': 6, 'opt_Steps': 15, 'opt_Learning_Rate': 0.23101157356581623, 'opt_Batch_Size': 367, 'opt_Number_of_Noise_Batches': 1, 'opt_Regularization_term': 0.21047275518501737, 'opt_Noise_Dim': 38, 'n_layers': 2}. Best is trial 250 with value: 2.200357297062874.\n",
      "Trial 274 finished with value: 2.4875347062945368 and parameters: {'opt_Epochs': 6, 'opt_Steps': 15, 'opt_Learning_Rate': 0.23101157356581623, 'opt_Batch_Size': 367, 'opt_Number_of_Noise_Batches': 1, 'opt_Regularization_term': 0.21047275518501737, 'opt_Noise_Dim': 38, 'n_layers': 2}. Best is trial 250 with value: 2.200357297062874.\n"
     ]
    },
    {
     "name": "stderr",
     "output_type": "stream",
     "text": [
      "[I 2025-01-20 10:48:05,119] Trial 275 finished with value: 2.325483129918575 and parameters: {'opt_Epochs': 4, 'opt_Steps': 20, 'opt_Learning_Rate': 0.2123466295761163, 'opt_Batch_Size': 372, 'opt_Number_of_Noise_Batches': 1, 'opt_Regularization_term': 0.2048969959214874, 'opt_Noise_Dim': 60, 'n_layers': 1}. Best is trial 250 with value: 2.200357297062874.\n"
     ]
    },
    {
     "name": "stdout",
     "output_type": "stream",
     "text": [
      "Trial 275 finished with value: 2.325483129918575 and parameters: {'opt_Epochs': 4, 'opt_Steps': 20, 'opt_Learning_Rate': 0.2123466295761163, 'opt_Batch_Size': 372, 'opt_Number_of_Noise_Batches': 1, 'opt_Regularization_term': 0.2048969959214874, 'opt_Noise_Dim': 60, 'n_layers': 1}. Best is trial 250 with value: 2.200357297062874.\n",
      "Trial 275 finished with value: 2.325483129918575 and parameters: {'opt_Epochs': 4, 'opt_Steps': 20, 'opt_Learning_Rate': 0.2123466295761163, 'opt_Batch_Size': 372, 'opt_Number_of_Noise_Batches': 1, 'opt_Regularization_term': 0.2048969959214874, 'opt_Noise_Dim': 60, 'n_layers': 1}. Best is trial 250 with value: 2.200357297062874.\n"
     ]
    },
    {
     "name": "stderr",
     "output_type": "stream",
     "text": [
      "[I 2025-01-20 10:48:59,901] Trial 276 finished with value: 2.1014704927802086 and parameters: {'opt_Epochs': 5, 'opt_Steps': 16, 'opt_Learning_Rate': 0.22183049596711268, 'opt_Batch_Size': 367, 'opt_Number_of_Noise_Batches': 1, 'opt_Regularization_term': 0.19553973560496515, 'opt_Noise_Dim': 81, 'n_layers': 2}. Best is trial 276 with value: 2.1014704927802086.\n"
     ]
    },
    {
     "name": "stdout",
     "output_type": "stream",
     "text": [
      "Trial 276 finished with value: 2.1014704927802086 and parameters: {'opt_Epochs': 5, 'opt_Steps': 16, 'opt_Learning_Rate': 0.22183049596711268, 'opt_Batch_Size': 367, 'opt_Number_of_Noise_Batches': 1, 'opt_Regularization_term': 0.19553973560496515, 'opt_Noise_Dim': 81, 'n_layers': 2}. Best is trial 276 with value: 2.1014704927802086.\n",
      "Trial 276 finished with value: 2.1014704927802086 and parameters: {'opt_Epochs': 5, 'opt_Steps': 16, 'opt_Learning_Rate': 0.22183049596711268, 'opt_Batch_Size': 367, 'opt_Number_of_Noise_Batches': 1, 'opt_Regularization_term': 0.19553973560496515, 'opt_Noise_Dim': 81, 'n_layers': 2}. Best is trial 276 with value: 2.1014704927802086.\n"
     ]
    },
    {
     "name": "stderr",
     "output_type": "stream",
     "text": [
      "[I 2025-01-20 10:49:56,364] Trial 277 finished with value: 2.464279440045356 and parameters: {'opt_Epochs': 5, 'opt_Steps': 16, 'opt_Learning_Rate': 0.2151703653798586, 'opt_Batch_Size': 360, 'opt_Number_of_Noise_Batches': 4, 'opt_Regularization_term': 0.1815449799512135, 'opt_Noise_Dim': 78, 'n_layers': 2}. Best is trial 276 with value: 2.1014704927802086.\n"
     ]
    },
    {
     "name": "stdout",
     "output_type": "stream",
     "text": [
      "Trial 277 finished with value: 2.464279440045356 and parameters: {'opt_Epochs': 5, 'opt_Steps': 16, 'opt_Learning_Rate': 0.2151703653798586, 'opt_Batch_Size': 360, 'opt_Number_of_Noise_Batches': 4, 'opt_Regularization_term': 0.1815449799512135, 'opt_Noise_Dim': 78, 'n_layers': 2}. Best is trial 276 with value: 2.1014704927802086.\n",
      "Trial 277 finished with value: 2.464279440045356 and parameters: {'opt_Epochs': 5, 'opt_Steps': 16, 'opt_Learning_Rate': 0.2151703653798586, 'opt_Batch_Size': 360, 'opt_Number_of_Noise_Batches': 4, 'opt_Regularization_term': 0.1815449799512135, 'opt_Noise_Dim': 78, 'n_layers': 2}. Best is trial 276 with value: 2.1014704927802086.\n"
     ]
    },
    {
     "name": "stderr",
     "output_type": "stream",
     "text": [
      "[I 2025-01-20 10:50:50,576] Trial 278 finished with value: 2.3493248388171195 and parameters: {'opt_Epochs': 5, 'opt_Steps': 14, 'opt_Learning_Rate': 0.2233597783210858, 'opt_Batch_Size': 408, 'opt_Number_of_Noise_Batches': 1, 'opt_Regularization_term': 0.21944113448663205, 'opt_Noise_Dim': 52, 'n_layers': 2}. Best is trial 276 with value: 2.1014704927802086.\n"
     ]
    },
    {
     "name": "stdout",
     "output_type": "stream",
     "text": [
      "Trial 278 finished with value: 2.3493248388171195 and parameters: {'opt_Epochs': 5, 'opt_Steps': 14, 'opt_Learning_Rate': 0.2233597783210858, 'opt_Batch_Size': 408, 'opt_Number_of_Noise_Batches': 1, 'opt_Regularization_term': 0.21944113448663205, 'opt_Noise_Dim': 52, 'n_layers': 2}. Best is trial 276 with value: 2.1014704927802086.\n",
      "Trial 278 finished with value: 2.3493248388171195 and parameters: {'opt_Epochs': 5, 'opt_Steps': 14, 'opt_Learning_Rate': 0.2233597783210858, 'opt_Batch_Size': 408, 'opt_Number_of_Noise_Batches': 1, 'opt_Regularization_term': 0.21944113448663205, 'opt_Noise_Dim': 52, 'n_layers': 2}. Best is trial 276 with value: 2.1014704927802086.\n"
     ]
    },
    {
     "name": "stderr",
     "output_type": "stream",
     "text": [
      "[I 2025-01-20 10:51:47,252] Trial 279 finished with value: 2.388480070233344 and parameters: {'opt_Epochs': 5, 'opt_Steps': 15, 'opt_Learning_Rate': 0.22695745436179696, 'opt_Batch_Size': 378, 'opt_Number_of_Noise_Batches': 5, 'opt_Regularization_term': 0.19377647110575263, 'opt_Noise_Dim': 65, 'n_layers': 2}. Best is trial 276 with value: 2.1014704927802086.\n"
     ]
    },
    {
     "name": "stdout",
     "output_type": "stream",
     "text": [
      "Trial 279 finished with value: 2.388480070233344 and parameters: {'opt_Epochs': 5, 'opt_Steps': 15, 'opt_Learning_Rate': 0.22695745436179696, 'opt_Batch_Size': 378, 'opt_Number_of_Noise_Batches': 5, 'opt_Regularization_term': 0.19377647110575263, 'opt_Noise_Dim': 65, 'n_layers': 2}. Best is trial 276 with value: 2.1014704927802086.\n",
      "Trial 279 finished with value: 2.388480070233344 and parameters: {'opt_Epochs': 5, 'opt_Steps': 15, 'opt_Learning_Rate': 0.22695745436179696, 'opt_Batch_Size': 378, 'opt_Number_of_Noise_Batches': 5, 'opt_Regularization_term': 0.19377647110575263, 'opt_Noise_Dim': 65, 'n_layers': 2}. Best is trial 276 with value: 2.1014704927802086.\n"
     ]
    },
    {
     "name": "stderr",
     "output_type": "stream",
     "text": [
      "[I 2025-01-20 10:52:44,363] Trial 280 finished with value: 2.340578274428844 and parameters: {'opt_Epochs': 5, 'opt_Steps': 15, 'opt_Learning_Rate': 0.23460893034613498, 'opt_Batch_Size': 399, 'opt_Number_of_Noise_Batches': 1, 'opt_Regularization_term': 0.17772046786920837, 'opt_Noise_Dim': 84, 'n_layers': 2}. Best is trial 276 with value: 2.1014704927802086.\n"
     ]
    },
    {
     "name": "stdout",
     "output_type": "stream",
     "text": [
      "Trial 280 finished with value: 2.340578274428844 and parameters: {'opt_Epochs': 5, 'opt_Steps': 15, 'opt_Learning_Rate': 0.23460893034613498, 'opt_Batch_Size': 399, 'opt_Number_of_Noise_Batches': 1, 'opt_Regularization_term': 0.17772046786920837, 'opt_Noise_Dim': 84, 'n_layers': 2}. Best is trial 276 with value: 2.1014704927802086.\n",
      "Trial 280 finished with value: 2.340578274428844 and parameters: {'opt_Epochs': 5, 'opt_Steps': 15, 'opt_Learning_Rate': 0.23460893034613498, 'opt_Batch_Size': 399, 'opt_Number_of_Noise_Batches': 1, 'opt_Regularization_term': 0.17772046786920837, 'opt_Noise_Dim': 84, 'n_layers': 2}. Best is trial 276 with value: 2.1014704927802086.\n"
     ]
    },
    {
     "name": "stderr",
     "output_type": "stream",
     "text": [
      "[I 2025-01-20 10:53:39,444] Trial 281 finished with value: 2.796712669730186 and parameters: {'opt_Epochs': 5, 'opt_Steps': 16, 'opt_Learning_Rate': 0.20392996936783236, 'opt_Batch_Size': 370, 'opt_Number_of_Noise_Batches': 1, 'opt_Regularization_term': 0.16274634403844807, 'opt_Noise_Dim': 46, 'n_layers': 2}. Best is trial 276 with value: 2.1014704927802086.\n"
     ]
    },
    {
     "name": "stdout",
     "output_type": "stream",
     "text": [
      "Trial 281 finished with value: 2.796712669730186 and parameters: {'opt_Epochs': 5, 'opt_Steps': 16, 'opt_Learning_Rate': 0.20392996936783236, 'opt_Batch_Size': 370, 'opt_Number_of_Noise_Batches': 1, 'opt_Regularization_term': 0.16274634403844807, 'opt_Noise_Dim': 46, 'n_layers': 2}. Best is trial 276 with value: 2.1014704927802086.\n",
      "Trial 281 finished with value: 2.796712669730186 and parameters: {'opt_Epochs': 5, 'opt_Steps': 16, 'opt_Learning_Rate': 0.20392996936783236, 'opt_Batch_Size': 370, 'opt_Number_of_Noise_Batches': 1, 'opt_Regularization_term': 0.16274634403844807, 'opt_Noise_Dim': 46, 'n_layers': 2}. Best is trial 276 with value: 2.1014704927802086.\n"
     ]
    },
    {
     "name": "stderr",
     "output_type": "stream",
     "text": [
      "[I 2025-01-20 10:54:23,364] Trial 282 finished with value: 2.3389360457658768 and parameters: {'opt_Epochs': 4, 'opt_Steps': 14, 'opt_Learning_Rate': 0.20972569871690772, 'opt_Batch_Size': 356, 'opt_Number_of_Noise_Batches': 1, 'opt_Regularization_term': 0.186415286977862, 'opt_Noise_Dim': 18, 'n_layers': 2}. Best is trial 276 with value: 2.1014704927802086.\n"
     ]
    },
    {
     "name": "stdout",
     "output_type": "stream",
     "text": [
      "Trial 282 finished with value: 2.3389360457658768 and parameters: {'opt_Epochs': 4, 'opt_Steps': 14, 'opt_Learning_Rate': 0.20972569871690772, 'opt_Batch_Size': 356, 'opt_Number_of_Noise_Batches': 1, 'opt_Regularization_term': 0.186415286977862, 'opt_Noise_Dim': 18, 'n_layers': 2}. Best is trial 276 with value: 2.1014704927802086.\n",
      "Trial 282 finished with value: 2.3389360457658768 and parameters: {'opt_Epochs': 4, 'opt_Steps': 14, 'opt_Learning_Rate': 0.20972569871690772, 'opt_Batch_Size': 356, 'opt_Number_of_Noise_Batches': 1, 'opt_Regularization_term': 0.186415286977862, 'opt_Noise_Dim': 18, 'n_layers': 2}. Best is trial 276 with value: 2.1014704927802086.\n"
     ]
    },
    {
     "name": "stderr",
     "output_type": "stream",
     "text": [
      "[I 2025-01-20 10:55:34,310] Trial 283 finished with value: 2.2772502720355994 and parameters: {'opt_Epochs': 6, 'opt_Steps': 18, 'opt_Learning_Rate': 0.2200334349161722, 'opt_Batch_Size': 391, 'opt_Number_of_Noise_Batches': 2, 'opt_Regularization_term': 0.171104706793941, 'opt_Noise_Dim': 419, 'n_layers': 2}. Best is trial 276 with value: 2.1014704927802086.\n"
     ]
    },
    {
     "name": "stdout",
     "output_type": "stream",
     "text": [
      "Trial 283 finished with value: 2.2772502720355994 and parameters: {'opt_Epochs': 6, 'opt_Steps': 18, 'opt_Learning_Rate': 0.2200334349161722, 'opt_Batch_Size': 391, 'opt_Number_of_Noise_Batches': 2, 'opt_Regularization_term': 0.171104706793941, 'opt_Noise_Dim': 419, 'n_layers': 2}. Best is trial 276 with value: 2.1014704927802086.\n",
      "Trial 283 finished with value: 2.2772502720355994 and parameters: {'opt_Epochs': 6, 'opt_Steps': 18, 'opt_Learning_Rate': 0.2200334349161722, 'opt_Batch_Size': 391, 'opt_Number_of_Noise_Batches': 2, 'opt_Regularization_term': 0.171104706793941, 'opt_Noise_Dim': 419, 'n_layers': 2}. Best is trial 276 with value: 2.1014704927802086.\n"
     ]
    },
    {
     "name": "stderr",
     "output_type": "stream",
     "text": [
      "[I 2025-01-20 10:56:38,581] Trial 284 finished with value: 2.200116218626499 and parameters: {'opt_Epochs': 6, 'opt_Steps': 15, 'opt_Learning_Rate': 0.2184162805851141, 'opt_Batch_Size': 390, 'opt_Number_of_Noise_Batches': 2, 'opt_Regularization_term': 0.16987672339800364, 'opt_Noise_Dim': 419, 'n_layers': 2}. Best is trial 276 with value: 2.1014704927802086.\n"
     ]
    },
    {
     "name": "stdout",
     "output_type": "stream",
     "text": [
      "Trial 284 finished with value: 2.200116218626499 and parameters: {'opt_Epochs': 6, 'opt_Steps': 15, 'opt_Learning_Rate': 0.2184162805851141, 'opt_Batch_Size': 390, 'opt_Number_of_Noise_Batches': 2, 'opt_Regularization_term': 0.16987672339800364, 'opt_Noise_Dim': 419, 'n_layers': 2}. Best is trial 276 with value: 2.1014704927802086.\n",
      "Trial 284 finished with value: 2.200116218626499 and parameters: {'opt_Epochs': 6, 'opt_Steps': 15, 'opt_Learning_Rate': 0.2184162805851141, 'opt_Batch_Size': 390, 'opt_Number_of_Noise_Batches': 2, 'opt_Regularization_term': 0.16987672339800364, 'opt_Noise_Dim': 419, 'n_layers': 2}. Best is trial 276 with value: 2.1014704927802086.\n"
     ]
    },
    {
     "name": "stderr",
     "output_type": "stream",
     "text": [
      "[I 2025-01-20 10:57:50,210] Trial 285 finished with value: 2.4930792480707167 and parameters: {'opt_Epochs': 6, 'opt_Steps': 18, 'opt_Learning_Rate': 0.22410782149226863, 'opt_Batch_Size': 391, 'opt_Number_of_Noise_Batches': 2, 'opt_Regularization_term': 0.15937111854590783, 'opt_Noise_Dim': 412, 'n_layers': 2}. Best is trial 276 with value: 2.1014704927802086.\n"
     ]
    },
    {
     "name": "stdout",
     "output_type": "stream",
     "text": [
      "Trial 285 finished with value: 2.4930792480707167 and parameters: {'opt_Epochs': 6, 'opt_Steps': 18, 'opt_Learning_Rate': 0.22410782149226863, 'opt_Batch_Size': 391, 'opt_Number_of_Noise_Batches': 2, 'opt_Regularization_term': 0.15937111854590783, 'opt_Noise_Dim': 412, 'n_layers': 2}. Best is trial 276 with value: 2.1014704927802086.\n",
      "Trial 285 finished with value: 2.4930792480707167 and parameters: {'opt_Epochs': 6, 'opt_Steps': 18, 'opt_Learning_Rate': 0.22410782149226863, 'opt_Batch_Size': 391, 'opt_Number_of_Noise_Batches': 2, 'opt_Regularization_term': 0.15937111854590783, 'opt_Noise_Dim': 412, 'n_layers': 2}. Best is trial 276 with value: 2.1014704927802086.\n"
     ]
    },
    {
     "name": "stderr",
     "output_type": "stream",
     "text": [
      "[I 2025-01-20 10:58:56,368] Trial 286 finished with value: 2.435899558663368 and parameters: {'opt_Epochs': 6, 'opt_Steps': 15, 'opt_Learning_Rate': 0.2202666426623574, 'opt_Batch_Size': 400, 'opt_Number_of_Noise_Batches': 2, 'opt_Regularization_term': 0.08087126501605837, 'opt_Noise_Dim': 426, 'n_layers': 2}. Best is trial 276 with value: 2.1014704927802086.\n"
     ]
    },
    {
     "name": "stdout",
     "output_type": "stream",
     "text": [
      "Trial 286 finished with value: 2.435899558663368 and parameters: {'opt_Epochs': 6, 'opt_Steps': 15, 'opt_Learning_Rate': 0.2202666426623574, 'opt_Batch_Size': 400, 'opt_Number_of_Noise_Batches': 2, 'opt_Regularization_term': 0.08087126501605837, 'opt_Noise_Dim': 426, 'n_layers': 2}. Best is trial 276 with value: 2.1014704927802086.\n",
      "Trial 286 finished with value: 2.435899558663368 and parameters: {'opt_Epochs': 6, 'opt_Steps': 15, 'opt_Learning_Rate': 0.2202666426623574, 'opt_Batch_Size': 400, 'opt_Number_of_Noise_Batches': 2, 'opt_Regularization_term': 0.08087126501605837, 'opt_Noise_Dim': 426, 'n_layers': 2}. Best is trial 276 with value: 2.1014704927802086.\n"
     ]
    },
    {
     "name": "stderr",
     "output_type": "stream",
     "text": [
      "[I 2025-01-20 11:00:15,084] Trial 287 finished with value: 2.5089980959892273 and parameters: {'opt_Epochs': 6, 'opt_Steps': 19, 'opt_Learning_Rate': 0.23379840253818118, 'opt_Batch_Size': 417, 'opt_Number_of_Noise_Batches': 2, 'opt_Regularization_term': 0.097894978657492, 'opt_Noise_Dim': 417, 'n_layers': 2}. Best is trial 276 with value: 2.1014704927802086.\n"
     ]
    },
    {
     "name": "stdout",
     "output_type": "stream",
     "text": [
      "Trial 287 finished with value: 2.5089980959892273 and parameters: {'opt_Epochs': 6, 'opt_Steps': 19, 'opt_Learning_Rate': 0.23379840253818118, 'opt_Batch_Size': 417, 'opt_Number_of_Noise_Batches': 2, 'opt_Regularization_term': 0.097894978657492, 'opt_Noise_Dim': 417, 'n_layers': 2}. Best is trial 276 with value: 2.1014704927802086.\n",
      "Trial 287 finished with value: 2.5089980959892273 and parameters: {'opt_Epochs': 6, 'opt_Steps': 19, 'opt_Learning_Rate': 0.23379840253818118, 'opt_Batch_Size': 417, 'opt_Number_of_Noise_Batches': 2, 'opt_Regularization_term': 0.097894978657492, 'opt_Noise_Dim': 417, 'n_layers': 2}. Best is trial 276 with value: 2.1014704927802086.\n"
     ]
    },
    {
     "name": "stderr",
     "output_type": "stream",
     "text": [
      "[I 2025-01-20 11:01:30,106] Trial 288 finished with value: 2.7128961682319637 and parameters: {'opt_Epochs': 6, 'opt_Steps': 19, 'opt_Learning_Rate': 0.21603802021967533, 'opt_Batch_Size': 385, 'opt_Number_of_Noise_Batches': 2, 'opt_Regularization_term': 0.1719787889595462, 'opt_Noise_Dim': 392, 'n_layers': 2}. Best is trial 276 with value: 2.1014704927802086.\n"
     ]
    },
    {
     "name": "stdout",
     "output_type": "stream",
     "text": [
      "Trial 288 finished with value: 2.7128961682319637 and parameters: {'opt_Epochs': 6, 'opt_Steps': 19, 'opt_Learning_Rate': 0.21603802021967533, 'opt_Batch_Size': 385, 'opt_Number_of_Noise_Batches': 2, 'opt_Regularization_term': 0.1719787889595462, 'opt_Noise_Dim': 392, 'n_layers': 2}. Best is trial 276 with value: 2.1014704927802086.\n",
      "Trial 288 finished with value: 2.7128961682319637 and parameters: {'opt_Epochs': 6, 'opt_Steps': 19, 'opt_Learning_Rate': 0.21603802021967533, 'opt_Batch_Size': 385, 'opt_Number_of_Noise_Batches': 2, 'opt_Regularization_term': 0.1719787889595462, 'opt_Noise_Dim': 392, 'n_layers': 2}. Best is trial 276 with value: 2.1014704927802086.\n"
     ]
    },
    {
     "name": "stderr",
     "output_type": "stream",
     "text": [
      "[I 2025-01-20 11:02:42,859] Trial 289 finished with value: 2.577819418907165 and parameters: {'opt_Epochs': 6, 'opt_Steps': 17, 'opt_Learning_Rate': 0.22728293212362666, 'opt_Batch_Size': 409, 'opt_Number_of_Noise_Batches': 2, 'opt_Regularization_term': 0.22520599042697279, 'opt_Noise_Dim': 431, 'n_layers': 2}. Best is trial 276 with value: 2.1014704927802086.\n"
     ]
    },
    {
     "name": "stdout",
     "output_type": "stream",
     "text": [
      "Trial 289 finished with value: 2.577819418907165 and parameters: {'opt_Epochs': 6, 'opt_Steps': 17, 'opt_Learning_Rate': 0.22728293212362666, 'opt_Batch_Size': 409, 'opt_Number_of_Noise_Batches': 2, 'opt_Regularization_term': 0.22520599042697279, 'opt_Noise_Dim': 431, 'n_layers': 2}. Best is trial 276 with value: 2.1014704927802086.\n",
      "Trial 289 finished with value: 2.577819418907165 and parameters: {'opt_Epochs': 6, 'opt_Steps': 17, 'opt_Learning_Rate': 0.22728293212362666, 'opt_Batch_Size': 409, 'opt_Number_of_Noise_Batches': 2, 'opt_Regularization_term': 0.22520599042697279, 'opt_Noise_Dim': 431, 'n_layers': 2}. Best is trial 276 with value: 2.1014704927802086.\n"
     ]
    },
    {
     "name": "stderr",
     "output_type": "stream",
     "text": [
      "[I 2025-01-20 11:03:40,290] Trial 290 finished with value: 2.3283765077590948 and parameters: {'opt_Epochs': 6, 'opt_Steps': 17, 'opt_Learning_Rate': 0.21938889036315698, 'opt_Batch_Size': 375, 'opt_Number_of_Noise_Batches': 2, 'opt_Regularization_term': 0.17432281092079988, 'opt_Noise_Dim': 417, 'n_layers': 1}. Best is trial 276 with value: 2.1014704927802086.\n"
     ]
    },
    {
     "name": "stdout",
     "output_type": "stream",
     "text": [
      "Trial 290 finished with value: 2.3283765077590948 and parameters: {'opt_Epochs': 6, 'opt_Steps': 17, 'opt_Learning_Rate': 0.21938889036315698, 'opt_Batch_Size': 375, 'opt_Number_of_Noise_Batches': 2, 'opt_Regularization_term': 0.17432281092079988, 'opt_Noise_Dim': 417, 'n_layers': 1}. Best is trial 276 with value: 2.1014704927802086.\n",
      "Trial 290 finished with value: 2.3283765077590948 and parameters: {'opt_Epochs': 6, 'opt_Steps': 17, 'opt_Learning_Rate': 0.21938889036315698, 'opt_Batch_Size': 375, 'opt_Number_of_Noise_Batches': 2, 'opt_Regularization_term': 0.17432281092079988, 'opt_Noise_Dim': 417, 'n_layers': 1}. Best is trial 276 with value: 2.1014704927802086.\n"
     ]
    },
    {
     "name": "stderr",
     "output_type": "stream",
     "text": [
      "[I 2025-01-20 11:04:43,150] Trial 291 finished with value: 2.46803920418024 and parameters: {'opt_Epochs': 6, 'opt_Steps': 14, 'opt_Learning_Rate': 0.23654674688502048, 'opt_Batch_Size': 391, 'opt_Number_of_Noise_Batches': 3, 'opt_Regularization_term': 0.20990323915145623, 'opt_Noise_Dim': 405, 'n_layers': 2}. Best is trial 276 with value: 2.1014704927802086.\n"
     ]
    },
    {
     "name": "stdout",
     "output_type": "stream",
     "text": [
      "Trial 291 finished with value: 2.46803920418024 and parameters: {'opt_Epochs': 6, 'opt_Steps': 14, 'opt_Learning_Rate': 0.23654674688502048, 'opt_Batch_Size': 391, 'opt_Number_of_Noise_Batches': 3, 'opt_Regularization_term': 0.20990323915145623, 'opt_Noise_Dim': 405, 'n_layers': 2}. Best is trial 276 with value: 2.1014704927802086.\n",
      "Trial 291 finished with value: 2.46803920418024 and parameters: {'opt_Epochs': 6, 'opt_Steps': 14, 'opt_Learning_Rate': 0.23654674688502048, 'opt_Batch_Size': 391, 'opt_Number_of_Noise_Batches': 3, 'opt_Regularization_term': 0.20990323915145623, 'opt_Noise_Dim': 405, 'n_layers': 2}. Best is trial 276 with value: 2.1014704927802086.\n"
     ]
    },
    {
     "name": "stderr",
     "output_type": "stream",
     "text": [
      "[I 2025-01-20 11:05:42,623] Trial 292 finished with value: 2.2041078507900247 and parameters: {'opt_Epochs': 6, 'opt_Steps': 14, 'opt_Learning_Rate': 0.22731714443404466, 'opt_Batch_Size': 379, 'opt_Number_of_Noise_Batches': 1, 'opt_Regularization_term': 0.18201269307809934, 'opt_Noise_Dim': 90, 'n_layers': 2}. Best is trial 276 with value: 2.1014704927802086.\n"
     ]
    },
    {
     "name": "stdout",
     "output_type": "stream",
     "text": [
      "Trial 292 finished with value: 2.2041078507900247 and parameters: {'opt_Epochs': 6, 'opt_Steps': 14, 'opt_Learning_Rate': 0.22731714443404466, 'opt_Batch_Size': 379, 'opt_Number_of_Noise_Batches': 1, 'opt_Regularization_term': 0.18201269307809934, 'opt_Noise_Dim': 90, 'n_layers': 2}. Best is trial 276 with value: 2.1014704927802086.\n",
      "Trial 292 finished with value: 2.2041078507900247 and parameters: {'opt_Epochs': 6, 'opt_Steps': 14, 'opt_Learning_Rate': 0.22731714443404466, 'opt_Batch_Size': 379, 'opt_Number_of_Noise_Batches': 1, 'opt_Regularization_term': 0.18201269307809934, 'opt_Noise_Dim': 90, 'n_layers': 2}. Best is trial 276 with value: 2.1014704927802086.\n"
     ]
    },
    {
     "name": "stderr",
     "output_type": "stream",
     "text": [
      "[I 2025-01-20 11:06:41,151] Trial 293 finished with value: 2.2032138407230377 and parameters: {'opt_Epochs': 6, 'opt_Steps': 14, 'opt_Learning_Rate': 0.22639551769468874, 'opt_Batch_Size': 382, 'opt_Number_of_Noise_Batches': 1, 'opt_Regularization_term': 0.16467397905563136, 'opt_Noise_Dim': 85, 'n_layers': 2}. Best is trial 276 with value: 2.1014704927802086.\n"
     ]
    },
    {
     "name": "stdout",
     "output_type": "stream",
     "text": [
      "Trial 293 finished with value: 2.2032138407230377 and parameters: {'opt_Epochs': 6, 'opt_Steps': 14, 'opt_Learning_Rate': 0.22639551769468874, 'opt_Batch_Size': 382, 'opt_Number_of_Noise_Batches': 1, 'opt_Regularization_term': 0.16467397905563136, 'opt_Noise_Dim': 85, 'n_layers': 2}. Best is trial 276 with value: 2.1014704927802086.\n",
      "Trial 293 finished with value: 2.2032138407230377 and parameters: {'opt_Epochs': 6, 'opt_Steps': 14, 'opt_Learning_Rate': 0.22639551769468874, 'opt_Batch_Size': 382, 'opt_Number_of_Noise_Batches': 1, 'opt_Regularization_term': 0.16467397905563136, 'opt_Noise_Dim': 85, 'n_layers': 2}. Best is trial 276 with value: 2.1014704927802086.\n"
     ]
    },
    {
     "name": "stderr",
     "output_type": "stream",
     "text": [
      "[I 2025-01-20 11:07:38,709] Trial 294 finished with value: 2.5285854279994973 and parameters: {'opt_Epochs': 6, 'opt_Steps': 14, 'opt_Learning_Rate': 0.22982650119189402, 'opt_Batch_Size': 382, 'opt_Number_of_Noise_Batches': 1, 'opt_Regularization_term': 0.16802050257853357, 'opt_Noise_Dim': 85, 'n_layers': 2}. Best is trial 276 with value: 2.1014704927802086.\n"
     ]
    },
    {
     "name": "stdout",
     "output_type": "stream",
     "text": [
      "Trial 294 finished with value: 2.5285854279994973 and parameters: {'opt_Epochs': 6, 'opt_Steps': 14, 'opt_Learning_Rate': 0.22982650119189402, 'opt_Batch_Size': 382, 'opt_Number_of_Noise_Batches': 1, 'opt_Regularization_term': 0.16802050257853357, 'opt_Noise_Dim': 85, 'n_layers': 2}. Best is trial 276 with value: 2.1014704927802086.\n",
      "Trial 294 finished with value: 2.5285854279994973 and parameters: {'opt_Epochs': 6, 'opt_Steps': 14, 'opt_Learning_Rate': 0.22982650119189402, 'opt_Batch_Size': 382, 'opt_Number_of_Noise_Batches': 1, 'opt_Regularization_term': 0.16802050257853357, 'opt_Noise_Dim': 85, 'n_layers': 2}. Best is trial 276 with value: 2.1014704927802086.\n"
     ]
    },
    {
     "name": "stderr",
     "output_type": "stream",
     "text": [
      "[I 2025-01-20 11:08:35,860] Trial 295 finished with value: 2.2728801280260083 and parameters: {'opt_Epochs': 6, 'opt_Steps': 14, 'opt_Learning_Rate': 0.22387373052442364, 'opt_Batch_Size': 369, 'opt_Number_of_Noise_Batches': 1, 'opt_Regularization_term': 0.1550485974685629, 'opt_Noise_Dim': 92, 'n_layers': 2}. Best is trial 276 with value: 2.1014704927802086.\n"
     ]
    },
    {
     "name": "stdout",
     "output_type": "stream",
     "text": [
      "Trial 295 finished with value: 2.2728801280260083 and parameters: {'opt_Epochs': 6, 'opt_Steps': 14, 'opt_Learning_Rate': 0.22387373052442364, 'opt_Batch_Size': 369, 'opt_Number_of_Noise_Batches': 1, 'opt_Regularization_term': 0.1550485974685629, 'opt_Noise_Dim': 92, 'n_layers': 2}. Best is trial 276 with value: 2.1014704927802086.\n",
      "Trial 295 finished with value: 2.2728801280260083 and parameters: {'opt_Epochs': 6, 'opt_Steps': 14, 'opt_Learning_Rate': 0.22387373052442364, 'opt_Batch_Size': 369, 'opt_Number_of_Noise_Batches': 1, 'opt_Regularization_term': 0.1550485974685629, 'opt_Noise_Dim': 92, 'n_layers': 2}. Best is trial 276 with value: 2.1014704927802086.\n"
     ]
    },
    {
     "name": "stderr",
     "output_type": "stream",
     "text": [
      "[I 2025-01-20 11:09:31,936] Trial 296 finished with value: 2.166698348522187 and parameters: {'opt_Epochs': 6, 'opt_Steps': 14, 'opt_Learning_Rate': 0.2235917192695155, 'opt_Batch_Size': 367, 'opt_Number_of_Noise_Batches': 2, 'opt_Regularization_term': 0.1549560921847391, 'opt_Noise_Dim': 76, 'n_layers': 2}. Best is trial 276 with value: 2.1014704927802086.\n"
     ]
    },
    {
     "name": "stdout",
     "output_type": "stream",
     "text": [
      "Trial 296 finished with value: 2.166698348522187 and parameters: {'opt_Epochs': 6, 'opt_Steps': 14, 'opt_Learning_Rate': 0.2235917192695155, 'opt_Batch_Size': 367, 'opt_Number_of_Noise_Batches': 2, 'opt_Regularization_term': 0.1549560921847391, 'opt_Noise_Dim': 76, 'n_layers': 2}. Best is trial 276 with value: 2.1014704927802086.\n",
      "Trial 296 finished with value: 2.166698348522187 and parameters: {'opt_Epochs': 6, 'opt_Steps': 14, 'opt_Learning_Rate': 0.2235917192695155, 'opt_Batch_Size': 367, 'opt_Number_of_Noise_Batches': 2, 'opt_Regularization_term': 0.1549560921847391, 'opt_Noise_Dim': 76, 'n_layers': 2}. Best is trial 276 with value: 2.1014704927802086.\n"
     ]
    },
    {
     "name": "stderr",
     "output_type": "stream",
     "text": [
      "[I 2025-01-20 11:10:27,693] Trial 297 finished with value: 2.452306288480759 and parameters: {'opt_Epochs': 6, 'opt_Steps': 14, 'opt_Learning_Rate': 0.2219623589924294, 'opt_Batch_Size': 364, 'opt_Number_of_Noise_Batches': 2, 'opt_Regularization_term': 0.1424254982111104, 'opt_Noise_Dim': 76, 'n_layers': 2}. Best is trial 276 with value: 2.1014704927802086.\n"
     ]
    },
    {
     "name": "stdout",
     "output_type": "stream",
     "text": [
      "Trial 297 finished with value: 2.452306288480759 and parameters: {'opt_Epochs': 6, 'opt_Steps': 14, 'opt_Learning_Rate': 0.2219623589924294, 'opt_Batch_Size': 364, 'opt_Number_of_Noise_Batches': 2, 'opt_Regularization_term': 0.1424254982111104, 'opt_Noise_Dim': 76, 'n_layers': 2}. Best is trial 276 with value: 2.1014704927802086.\n",
      "Trial 297 finished with value: 2.452306288480759 and parameters: {'opt_Epochs': 6, 'opt_Steps': 14, 'opt_Learning_Rate': 0.2219623589924294, 'opt_Batch_Size': 364, 'opt_Number_of_Noise_Batches': 2, 'opt_Regularization_term': 0.1424254982111104, 'opt_Noise_Dim': 76, 'n_layers': 2}. Best is trial 276 with value: 2.1014704927802086.\n"
     ]
    },
    {
     "name": "stderr",
     "output_type": "stream",
     "text": [
      "[I 2025-01-20 11:11:29,031] Trial 298 finished with value: 2.5078000023961065 and parameters: {'opt_Epochs': 6, 'opt_Steps': 15, 'opt_Learning_Rate': 0.22324997306925126, 'opt_Batch_Size': 374, 'opt_Number_of_Noise_Batches': 2, 'opt_Regularization_term': 0.1558078282935588, 'opt_Noise_Dim': 91, 'n_layers': 2}. Best is trial 276 with value: 2.1014704927802086.\n"
     ]
    },
    {
     "name": "stdout",
     "output_type": "stream",
     "text": [
      "Trial 298 finished with value: 2.5078000023961065 and parameters: {'opt_Epochs': 6, 'opt_Steps': 15, 'opt_Learning_Rate': 0.22324997306925126, 'opt_Batch_Size': 374, 'opt_Number_of_Noise_Batches': 2, 'opt_Regularization_term': 0.1558078282935588, 'opt_Noise_Dim': 91, 'n_layers': 2}. Best is trial 276 with value: 2.1014704927802086.\n",
      "Trial 298 finished with value: 2.5078000023961065 and parameters: {'opt_Epochs': 6, 'opt_Steps': 15, 'opt_Learning_Rate': 0.22324997306925126, 'opt_Batch_Size': 374, 'opt_Number_of_Noise_Batches': 2, 'opt_Regularization_term': 0.1558078282935588, 'opt_Noise_Dim': 91, 'n_layers': 2}. Best is trial 276 with value: 2.1014704927802086.\n"
     ]
    },
    {
     "name": "stderr",
     "output_type": "stream",
     "text": [
      "[I 2025-01-20 11:12:28,816] Trial 299 finished with value: 2.354593032598496 and parameters: {'opt_Epochs': 6, 'opt_Steps': 14, 'opt_Learning_Rate': 0.15059493563589896, 'opt_Batch_Size': 393, 'opt_Number_of_Noise_Batches': 2, 'opt_Regularization_term': 0.1495068925927702, 'opt_Noise_Dim': 77, 'n_layers': 2}. Best is trial 276 with value: 2.1014704927802086.\n"
     ]
    },
    {
     "name": "stdout",
     "output_type": "stream",
     "text": [
      "Trial 299 finished with value: 2.354593032598496 and parameters: {'opt_Epochs': 6, 'opt_Steps': 14, 'opt_Learning_Rate': 0.15059493563589896, 'opt_Batch_Size': 393, 'opt_Number_of_Noise_Batches': 2, 'opt_Regularization_term': 0.1495068925927702, 'opt_Noise_Dim': 77, 'n_layers': 2}. Best is trial 276 with value: 2.1014704927802086.\n",
      "Trial 299 finished with value: 2.354593032598496 and parameters: {'opt_Epochs': 6, 'opt_Steps': 14, 'opt_Learning_Rate': 0.15059493563589896, 'opt_Batch_Size': 393, 'opt_Number_of_Noise_Batches': 2, 'opt_Regularization_term': 0.1495068925927702, 'opt_Noise_Dim': 77, 'n_layers': 2}. Best is trial 276 with value: 2.1014704927802086.\n"
     ]
    },
    {
     "name": "stderr",
     "output_type": "stream",
     "text": [
      "[I 2025-01-20 11:13:27,589] Trial 300 finished with value: 2.5863263756036754 and parameters: {'opt_Epochs': 6, 'opt_Steps': 14, 'opt_Learning_Rate': 0.21074526580832048, 'opt_Batch_Size': 381, 'opt_Number_of_Noise_Batches': 2, 'opt_Regularization_term': 0.15092335782467342, 'opt_Noise_Dim': 65, 'n_layers': 2}. Best is trial 276 with value: 2.1014704927802086.\n"
     ]
    },
    {
     "name": "stdout",
     "output_type": "stream",
     "text": [
      "Trial 300 finished with value: 2.5863263756036754 and parameters: {'opt_Epochs': 6, 'opt_Steps': 14, 'opt_Learning_Rate': 0.21074526580832048, 'opt_Batch_Size': 381, 'opt_Number_of_Noise_Batches': 2, 'opt_Regularization_term': 0.15092335782467342, 'opt_Noise_Dim': 65, 'n_layers': 2}. Best is trial 276 with value: 2.1014704927802086.\n",
      "Trial 300 finished with value: 2.5863263756036754 and parameters: {'opt_Epochs': 6, 'opt_Steps': 14, 'opt_Learning_Rate': 0.21074526580832048, 'opt_Batch_Size': 381, 'opt_Number_of_Noise_Batches': 2, 'opt_Regularization_term': 0.15092335782467342, 'opt_Noise_Dim': 65, 'n_layers': 2}. Best is trial 276 with value: 2.1014704927802086.\n"
     ]
    },
    {
     "name": "stderr",
     "output_type": "stream",
     "text": [
      "[I 2025-01-20 11:14:25,974] Trial 301 finished with value: 2.1738928467035294 and parameters: {'opt_Epochs': 6, 'opt_Steps': 15, 'opt_Learning_Rate': 0.2298285509520567, 'opt_Batch_Size': 370, 'opt_Number_of_Noise_Batches': 1, 'opt_Regularization_term': 0.15506283093622278, 'opt_Noise_Dim': 84, 'n_layers': 2}. Best is trial 276 with value: 2.1014704927802086.\n"
     ]
    },
    {
     "name": "stdout",
     "output_type": "stream",
     "text": [
      "Trial 301 finished with value: 2.1738928467035294 and parameters: {'opt_Epochs': 6, 'opt_Steps': 15, 'opt_Learning_Rate': 0.2298285509520567, 'opt_Batch_Size': 370, 'opt_Number_of_Noise_Batches': 1, 'opt_Regularization_term': 0.15506283093622278, 'opt_Noise_Dim': 84, 'n_layers': 2}. Best is trial 276 with value: 2.1014704927802086.\n",
      "Trial 301 finished with value: 2.1738928467035294 and parameters: {'opt_Epochs': 6, 'opt_Steps': 15, 'opt_Learning_Rate': 0.2298285509520567, 'opt_Batch_Size': 370, 'opt_Number_of_Noise_Batches': 1, 'opt_Regularization_term': 0.15506283093622278, 'opt_Noise_Dim': 84, 'n_layers': 2}. Best is trial 276 with value: 2.1014704927802086.\n"
     ]
    },
    {
     "name": "stderr",
     "output_type": "stream",
     "text": [
      "[I 2025-01-20 11:15:25,033] Trial 302 finished with value: 2.3971124321222304 and parameters: {'opt_Epochs': 6, 'opt_Steps': 15, 'opt_Learning_Rate': 0.22832957173325236, 'opt_Batch_Size': 368, 'opt_Number_of_Noise_Batches': 1, 'opt_Regularization_term': 0.13498042991150017, 'opt_Noise_Dim': 83, 'n_layers': 2}. Best is trial 276 with value: 2.1014704927802086.\n"
     ]
    },
    {
     "name": "stdout",
     "output_type": "stream",
     "text": [
      "Trial 302 finished with value: 2.3971124321222304 and parameters: {'opt_Epochs': 6, 'opt_Steps': 15, 'opt_Learning_Rate': 0.22832957173325236, 'opt_Batch_Size': 368, 'opt_Number_of_Noise_Batches': 1, 'opt_Regularization_term': 0.13498042991150017, 'opt_Noise_Dim': 83, 'n_layers': 2}. Best is trial 276 with value: 2.1014704927802086.\n",
      "Trial 302 finished with value: 2.3971124321222304 and parameters: {'opt_Epochs': 6, 'opt_Steps': 15, 'opt_Learning_Rate': 0.22832957173325236, 'opt_Batch_Size': 368, 'opt_Number_of_Noise_Batches': 1, 'opt_Regularization_term': 0.13498042991150017, 'opt_Noise_Dim': 83, 'n_layers': 2}. Best is trial 276 with value: 2.1014704927802086.\n"
     ]
    },
    {
     "name": "stderr",
     "output_type": "stream",
     "text": [
      "[I 2025-01-20 11:16:27,528] Trial 303 finished with value: 2.681145815551282 and parameters: {'opt_Epochs': 6, 'opt_Steps': 15, 'opt_Learning_Rate': 0.2159530783818304, 'opt_Batch_Size': 399, 'opt_Number_of_Noise_Batches': 1, 'opt_Regularization_term': 0.1448010725678604, 'opt_Noise_Dim': 90, 'n_layers': 2}. Best is trial 276 with value: 2.1014704927802086.\n"
     ]
    },
    {
     "name": "stdout",
     "output_type": "stream",
     "text": [
      "Trial 303 finished with value: 2.681145815551282 and parameters: {'opt_Epochs': 6, 'opt_Steps': 15, 'opt_Learning_Rate': 0.2159530783818304, 'opt_Batch_Size': 399, 'opt_Number_of_Noise_Batches': 1, 'opt_Regularization_term': 0.1448010725678604, 'opt_Noise_Dim': 90, 'n_layers': 2}. Best is trial 276 with value: 2.1014704927802086.\n",
      "Trial 303 finished with value: 2.681145815551282 and parameters: {'opt_Epochs': 6, 'opt_Steps': 15, 'opt_Learning_Rate': 0.2159530783818304, 'opt_Batch_Size': 399, 'opt_Number_of_Noise_Batches': 1, 'opt_Regularization_term': 0.1448010725678604, 'opt_Noise_Dim': 90, 'n_layers': 2}. Best is trial 276 with value: 2.1014704927802086.\n"
     ]
    },
    {
     "name": "stderr",
     "output_type": "stream",
     "text": [
      "[I 2025-01-20 11:17:30,646] Trial 304 finished with value: 2.2869432985782634 and parameters: {'opt_Epochs': 7, 'opt_Steps': 14, 'opt_Learning_Rate': 0.22954698806415066, 'opt_Batch_Size': 373, 'opt_Number_of_Noise_Batches': 1, 'opt_Regularization_term': 0.15779083174032055, 'opt_Noise_Dim': 34, 'n_layers': 2}. Best is trial 276 with value: 2.1014704927802086.\n"
     ]
    },
    {
     "name": "stdout",
     "output_type": "stream",
     "text": [
      "Trial 304 finished with value: 2.2869432985782634 and parameters: {'opt_Epochs': 7, 'opt_Steps': 14, 'opt_Learning_Rate': 0.22954698806415066, 'opt_Batch_Size': 373, 'opt_Number_of_Noise_Batches': 1, 'opt_Regularization_term': 0.15779083174032055, 'opt_Noise_Dim': 34, 'n_layers': 2}. Best is trial 276 with value: 2.1014704927802086.\n",
      "Trial 304 finished with value: 2.2869432985782634 and parameters: {'opt_Epochs': 7, 'opt_Steps': 14, 'opt_Learning_Rate': 0.22954698806415066, 'opt_Batch_Size': 373, 'opt_Number_of_Noise_Batches': 1, 'opt_Regularization_term': 0.15779083174032055, 'opt_Noise_Dim': 34, 'n_layers': 2}. Best is trial 276 with value: 2.1014704927802086.\n"
     ]
    },
    {
     "name": "stderr",
     "output_type": "stream",
     "text": [
      "[I 2025-01-20 11:18:43,880] Trial 305 finished with value: 2.5184397518634802 and parameters: {'opt_Epochs': 7, 'opt_Steps': 14, 'opt_Learning_Rate': 0.22953357495992008, 'opt_Batch_Size': 446, 'opt_Number_of_Noise_Batches': 1, 'opt_Regularization_term': 0.15289737768333986, 'opt_Noise_Dim': 1, 'n_layers': 2}. Best is trial 276 with value: 2.1014704927802086.\n"
     ]
    },
    {
     "name": "stdout",
     "output_type": "stream",
     "text": [
      "Trial 305 finished with value: 2.5184397518634802 and parameters: {'opt_Epochs': 7, 'opt_Steps': 14, 'opt_Learning_Rate': 0.22953357495992008, 'opt_Batch_Size': 446, 'opt_Number_of_Noise_Batches': 1, 'opt_Regularization_term': 0.15289737768333986, 'opt_Noise_Dim': 1, 'n_layers': 2}. Best is trial 276 with value: 2.1014704927802086.\n",
      "Trial 305 finished with value: 2.5184397518634802 and parameters: {'opt_Epochs': 7, 'opt_Steps': 14, 'opt_Learning_Rate': 0.22953357495992008, 'opt_Batch_Size': 446, 'opt_Number_of_Noise_Batches': 1, 'opt_Regularization_term': 0.15289737768333986, 'opt_Noise_Dim': 1, 'n_layers': 2}. Best is trial 276 with value: 2.1014704927802086.\n"
     ]
    },
    {
     "name": "stderr",
     "output_type": "stream",
     "text": [
      "[I 2025-01-20 11:19:43,391] Trial 306 finished with value: 2.4422523617744436 and parameters: {'opt_Epochs': 6, 'opt_Steps': 15, 'opt_Learning_Rate': 0.23630988158986124, 'opt_Batch_Size': 381, 'opt_Number_of_Noise_Batches': 1, 'opt_Regularization_term': 0.15743455067976117, 'opt_Noise_Dim': 23, 'n_layers': 2}. Best is trial 276 with value: 2.1014704927802086.\n"
     ]
    },
    {
     "name": "stdout",
     "output_type": "stream",
     "text": [
      "Trial 306 finished with value: 2.4422523617744436 and parameters: {'opt_Epochs': 6, 'opt_Steps': 15, 'opt_Learning_Rate': 0.23630988158986124, 'opt_Batch_Size': 381, 'opt_Number_of_Noise_Batches': 1, 'opt_Regularization_term': 0.15743455067976117, 'opt_Noise_Dim': 23, 'n_layers': 2}. Best is trial 276 with value: 2.1014704927802086.\n",
      "Trial 306 finished with value: 2.4422523617744436 and parameters: {'opt_Epochs': 6, 'opt_Steps': 15, 'opt_Learning_Rate': 0.23630988158986124, 'opt_Batch_Size': 381, 'opt_Number_of_Noise_Batches': 1, 'opt_Regularization_term': 0.15743455067976117, 'opt_Noise_Dim': 23, 'n_layers': 2}. Best is trial 276 with value: 2.1014704927802086.\n"
     ]
    },
    {
     "name": "stderr",
     "output_type": "stream",
     "text": [
      "[I 2025-01-20 11:20:50,794] Trial 307 finished with value: 2.472460176050662 and parameters: {'opt_Epochs': 7, 'opt_Steps': 15, 'opt_Learning_Rate': 0.2250544326562596, 'opt_Batch_Size': 373, 'opt_Number_of_Noise_Batches': 1, 'opt_Regularization_term': 0.1540668087216452, 'opt_Noise_Dim': 44, 'n_layers': 2}. Best is trial 276 with value: 2.1014704927802086.\n"
     ]
    },
    {
     "name": "stdout",
     "output_type": "stream",
     "text": [
      "Trial 307 finished with value: 2.472460176050662 and parameters: {'opt_Epochs': 7, 'opt_Steps': 15, 'opt_Learning_Rate': 0.2250544326562596, 'opt_Batch_Size': 373, 'opt_Number_of_Noise_Batches': 1, 'opt_Regularization_term': 0.1540668087216452, 'opt_Noise_Dim': 44, 'n_layers': 2}. Best is trial 276 with value: 2.1014704927802086.\n",
      "Trial 307 finished with value: 2.472460176050662 and parameters: {'opt_Epochs': 7, 'opt_Steps': 15, 'opt_Learning_Rate': 0.2250544326562596, 'opt_Batch_Size': 373, 'opt_Number_of_Noise_Batches': 1, 'opt_Regularization_term': 0.1540668087216452, 'opt_Noise_Dim': 44, 'n_layers': 2}. Best is trial 276 with value: 2.1014704927802086.\n"
     ]
    },
    {
     "name": "stderr",
     "output_type": "stream",
     "text": [
      "[I 2025-01-20 11:21:49,748] Trial 308 finished with value: 2.4199712634086605 and parameters: {'opt_Epochs': 6, 'opt_Steps': 14, 'opt_Learning_Rate': 0.17046317228850333, 'opt_Batch_Size': 387, 'opt_Number_of_Noise_Batches': 1, 'opt_Regularization_term': 0.16198419512976328, 'opt_Noise_Dim': 36, 'n_layers': 2}. Best is trial 276 with value: 2.1014704927802086.\n"
     ]
    },
    {
     "name": "stdout",
     "output_type": "stream",
     "text": [
      "Trial 308 finished with value: 2.4199712634086605 and parameters: {'opt_Epochs': 6, 'opt_Steps': 14, 'opt_Learning_Rate': 0.17046317228850333, 'opt_Batch_Size': 387, 'opt_Number_of_Noise_Batches': 1, 'opt_Regularization_term': 0.16198419512976328, 'opt_Noise_Dim': 36, 'n_layers': 2}. Best is trial 276 with value: 2.1014704927802086.\n",
      "Trial 308 finished with value: 2.4199712634086605 and parameters: {'opt_Epochs': 6, 'opt_Steps': 14, 'opt_Learning_Rate': 0.17046317228850333, 'opt_Batch_Size': 387, 'opt_Number_of_Noise_Batches': 1, 'opt_Regularization_term': 0.16198419512976328, 'opt_Noise_Dim': 36, 'n_layers': 2}. Best is trial 276 with value: 2.1014704927802086.\n"
     ]
    },
    {
     "name": "stderr",
     "output_type": "stream",
     "text": [
      "[I 2025-01-20 11:22:49,572] Trial 309 finished with value: 2.180562920868397 and parameters: {'opt_Epochs': 6, 'opt_Steps': 14, 'opt_Learning_Rate': 0.22011757074836022, 'opt_Batch_Size': 405, 'opt_Number_of_Noise_Batches': 1, 'opt_Regularization_term': 0.16001767109383672, 'opt_Noise_Dim': 56, 'n_layers': 2}. Best is trial 276 with value: 2.1014704927802086.\n"
     ]
    },
    {
     "name": "stdout",
     "output_type": "stream",
     "text": [
      "Trial 309 finished with value: 2.180562920868397 and parameters: {'opt_Epochs': 6, 'opt_Steps': 14, 'opt_Learning_Rate': 0.22011757074836022, 'opt_Batch_Size': 405, 'opt_Number_of_Noise_Batches': 1, 'opt_Regularization_term': 0.16001767109383672, 'opt_Noise_Dim': 56, 'n_layers': 2}. Best is trial 276 with value: 2.1014704927802086.\n",
      "Trial 309 finished with value: 2.180562920868397 and parameters: {'opt_Epochs': 6, 'opt_Steps': 14, 'opt_Learning_Rate': 0.22011757074836022, 'opt_Batch_Size': 405, 'opt_Number_of_Noise_Batches': 1, 'opt_Regularization_term': 0.16001767109383672, 'opt_Noise_Dim': 56, 'n_layers': 2}. Best is trial 276 with value: 2.1014704927802086.\n"
     ]
    },
    {
     "name": "stderr",
     "output_type": "stream",
     "text": [
      "[I 2025-01-20 11:23:52,360] Trial 310 finished with value: 2.356323090195656 and parameters: {'opt_Epochs': 6, 'opt_Steps': 14, 'opt_Learning_Rate': 0.21996633824163223, 'opt_Batch_Size': 422, 'opt_Number_of_Noise_Batches': 1, 'opt_Regularization_term': 0.14795797223856866, 'opt_Noise_Dim': 30, 'n_layers': 2}. Best is trial 276 with value: 2.1014704927802086.\n"
     ]
    },
    {
     "name": "stdout",
     "output_type": "stream",
     "text": [
      "Trial 310 finished with value: 2.356323090195656 and parameters: {'opt_Epochs': 6, 'opt_Steps': 14, 'opt_Learning_Rate': 0.21996633824163223, 'opt_Batch_Size': 422, 'opt_Number_of_Noise_Batches': 1, 'opt_Regularization_term': 0.14795797223856866, 'opt_Noise_Dim': 30, 'n_layers': 2}. Best is trial 276 with value: 2.1014704927802086.\n",
      "Trial 310 finished with value: 2.356323090195656 and parameters: {'opt_Epochs': 6, 'opt_Steps': 14, 'opt_Learning_Rate': 0.21996633824163223, 'opt_Batch_Size': 422, 'opt_Number_of_Noise_Batches': 1, 'opt_Regularization_term': 0.14795797223856866, 'opt_Noise_Dim': 30, 'n_layers': 2}. Best is trial 276 with value: 2.1014704927802086.\n"
     ]
    },
    {
     "name": "stderr",
     "output_type": "stream",
     "text": [
      "[I 2025-01-20 11:24:58,330] Trial 311 finished with value: 2.578513470292091 and parameters: {'opt_Epochs': 6, 'opt_Steps': 16, 'opt_Learning_Rate': 0.21454096730995412, 'opt_Batch_Size': 406, 'opt_Number_of_Noise_Batches': 1, 'opt_Regularization_term': 0.15978462266521326, 'opt_Noise_Dim': 57, 'n_layers': 2}. Best is trial 276 with value: 2.1014704927802086.\n"
     ]
    },
    {
     "name": "stdout",
     "output_type": "stream",
     "text": [
      "Trial 311 finished with value: 2.578513470292091 and parameters: {'opt_Epochs': 6, 'opt_Steps': 16, 'opt_Learning_Rate': 0.21454096730995412, 'opt_Batch_Size': 406, 'opt_Number_of_Noise_Batches': 1, 'opt_Regularization_term': 0.15978462266521326, 'opt_Noise_Dim': 57, 'n_layers': 2}. Best is trial 276 with value: 2.1014704927802086.\n",
      "Trial 311 finished with value: 2.578513470292091 and parameters: {'opt_Epochs': 6, 'opt_Steps': 16, 'opt_Learning_Rate': 0.21454096730995412, 'opt_Batch_Size': 406, 'opt_Number_of_Noise_Batches': 1, 'opt_Regularization_term': 0.15978462266521326, 'opt_Noise_Dim': 57, 'n_layers': 2}. Best is trial 276 with value: 2.1014704927802086.\n"
     ]
    },
    {
     "name": "stderr",
     "output_type": "stream",
     "text": [
      "[I 2025-01-20 11:26:04,362] Trial 312 finished with value: 2.48981457054615 and parameters: {'opt_Epochs': 7, 'opt_Steps': 14, 'opt_Learning_Rate': 0.12965159391294442, 'opt_Batch_Size': 401, 'opt_Number_of_Noise_Batches': 1, 'opt_Regularization_term': 0.15793644407245078, 'opt_Noise_Dim': 52, 'n_layers': 2}. Best is trial 276 with value: 2.1014704927802086.\n"
     ]
    },
    {
     "name": "stdout",
     "output_type": "stream",
     "text": [
      "Trial 312 finished with value: 2.48981457054615 and parameters: {'opt_Epochs': 7, 'opt_Steps': 14, 'opt_Learning_Rate': 0.12965159391294442, 'opt_Batch_Size': 401, 'opt_Number_of_Noise_Batches': 1, 'opt_Regularization_term': 0.15793644407245078, 'opt_Noise_Dim': 52, 'n_layers': 2}. Best is trial 276 with value: 2.1014704927802086.\n",
      "Trial 312 finished with value: 2.48981457054615 and parameters: {'opt_Epochs': 7, 'opt_Steps': 14, 'opt_Learning_Rate': 0.12965159391294442, 'opt_Batch_Size': 401, 'opt_Number_of_Noise_Batches': 1, 'opt_Regularization_term': 0.15793644407245078, 'opt_Noise_Dim': 52, 'n_layers': 2}. Best is trial 276 with value: 2.1014704927802086.\n"
     ]
    },
    {
     "name": "stderr",
     "output_type": "stream",
     "text": [
      "[I 2025-01-20 11:27:02,206] Trial 313 finished with value: 2.44293463677168 and parameters: {'opt_Epochs': 6, 'opt_Steps': 14, 'opt_Learning_Rate': 0.23289159656351646, 'opt_Batch_Size': 365, 'opt_Number_of_Noise_Batches': 1, 'opt_Regularization_term': 0.011972899849097385, 'opt_Noise_Dim': 73, 'n_layers': 2}. Best is trial 276 with value: 2.1014704927802086.\n"
     ]
    },
    {
     "name": "stdout",
     "output_type": "stream",
     "text": [
      "Trial 313 finished with value: 2.44293463677168 and parameters: {'opt_Epochs': 6, 'opt_Steps': 14, 'opt_Learning_Rate': 0.23289159656351646, 'opt_Batch_Size': 365, 'opt_Number_of_Noise_Batches': 1, 'opt_Regularization_term': 0.011972899849097385, 'opt_Noise_Dim': 73, 'n_layers': 2}. Best is trial 276 with value: 2.1014704927802086.\n",
      "Trial 313 finished with value: 2.44293463677168 and parameters: {'opt_Epochs': 6, 'opt_Steps': 14, 'opt_Learning_Rate': 0.23289159656351646, 'opt_Batch_Size': 365, 'opt_Number_of_Noise_Batches': 1, 'opt_Regularization_term': 0.011972899849097385, 'opt_Noise_Dim': 73, 'n_layers': 2}. Best is trial 276 with value: 2.1014704927802086.\n"
     ]
    },
    {
     "name": "stderr",
     "output_type": "stream",
     "text": [
      "[I 2025-01-20 11:28:06,520] Trial 314 finished with value: 2.2551023036241538 and parameters: {'opt_Epochs': 6, 'opt_Steps': 15, 'opt_Learning_Rate': 0.22557376571573112, 'opt_Batch_Size': 392, 'opt_Number_of_Noise_Batches': 1, 'opt_Regularization_term': 0.16468206066082036, 'opt_Noise_Dim': 91, 'n_layers': 2}. Best is trial 276 with value: 2.1014704927802086.\n"
     ]
    },
    {
     "name": "stdout",
     "output_type": "stream",
     "text": [
      "Trial 314 finished with value: 2.2551023036241538 and parameters: {'opt_Epochs': 6, 'opt_Steps': 15, 'opt_Learning_Rate': 0.22557376571573112, 'opt_Batch_Size': 392, 'opt_Number_of_Noise_Batches': 1, 'opt_Regularization_term': 0.16468206066082036, 'opt_Noise_Dim': 91, 'n_layers': 2}. Best is trial 276 with value: 2.1014704927802086.\n",
      "Trial 314 finished with value: 2.2551023036241538 and parameters: {'opt_Epochs': 6, 'opt_Steps': 15, 'opt_Learning_Rate': 0.22557376571573112, 'opt_Batch_Size': 392, 'opt_Number_of_Noise_Batches': 1, 'opt_Regularization_term': 0.16468206066082036, 'opt_Noise_Dim': 91, 'n_layers': 2}. Best is trial 276 with value: 2.1014704927802086.\n"
     ]
    },
    {
     "name": "stderr",
     "output_type": "stream",
     "text": [
      "[I 2025-01-20 11:29:13,332] Trial 315 finished with value: 2.409929162263869 and parameters: {'opt_Epochs': 6, 'opt_Steps': 15, 'opt_Learning_Rate': 0.22388256069467494, 'opt_Batch_Size': 414, 'opt_Number_of_Noise_Batches': 1, 'opt_Regularization_term': 0.16433716424742864, 'opt_Noise_Dim': 94, 'n_layers': 2}. Best is trial 276 with value: 2.1014704927802086.\n"
     ]
    },
    {
     "name": "stdout",
     "output_type": "stream",
     "text": [
      "Trial 315 finished with value: 2.409929162263869 and parameters: {'opt_Epochs': 6, 'opt_Steps': 15, 'opt_Learning_Rate': 0.22388256069467494, 'opt_Batch_Size': 414, 'opt_Number_of_Noise_Batches': 1, 'opt_Regularization_term': 0.16433716424742864, 'opt_Noise_Dim': 94, 'n_layers': 2}. Best is trial 276 with value: 2.1014704927802086.\n",
      "Trial 315 finished with value: 2.409929162263869 and parameters: {'opt_Epochs': 6, 'opt_Steps': 15, 'opt_Learning_Rate': 0.22388256069467494, 'opt_Batch_Size': 414, 'opt_Number_of_Noise_Batches': 1, 'opt_Regularization_term': 0.16433716424742864, 'opt_Noise_Dim': 94, 'n_layers': 2}. Best is trial 276 with value: 2.1014704927802086.\n"
     ]
    },
    {
     "name": "stderr",
     "output_type": "stream",
     "text": [
      "[I 2025-01-20 11:30:18,472] Trial 316 finished with value: 2.599809169769287 and parameters: {'opt_Epochs': 6, 'opt_Steps': 15, 'opt_Learning_Rate': 0.2101023663740513, 'opt_Batch_Size': 393, 'opt_Number_of_Noise_Batches': 1, 'opt_Regularization_term': 0.1641500898381005, 'opt_Noise_Dim': 81, 'n_layers': 2}. Best is trial 276 with value: 2.1014704927802086.\n"
     ]
    },
    {
     "name": "stdout",
     "output_type": "stream",
     "text": [
      "Trial 316 finished with value: 2.599809169769287 and parameters: {'opt_Epochs': 6, 'opt_Steps': 15, 'opt_Learning_Rate': 0.2101023663740513, 'opt_Batch_Size': 393, 'opt_Number_of_Noise_Batches': 1, 'opt_Regularization_term': 0.1641500898381005, 'opt_Noise_Dim': 81, 'n_layers': 2}. Best is trial 276 with value: 2.1014704927802086.\n",
      "Trial 316 finished with value: 2.599809169769287 and parameters: {'opt_Epochs': 6, 'opt_Steps': 15, 'opt_Learning_Rate': 0.2101023663740513, 'opt_Batch_Size': 393, 'opt_Number_of_Noise_Batches': 1, 'opt_Regularization_term': 0.1641500898381005, 'opt_Noise_Dim': 81, 'n_layers': 2}. Best is trial 276 with value: 2.1014704927802086.\n"
     ]
    },
    {
     "name": "stderr",
     "output_type": "stream",
     "text": [
      "[I 2025-01-20 11:30:52,565] Trial 317 finished with value: 2.568650528788567 and parameters: {'opt_Epochs': 6, 'opt_Steps': 17, 'opt_Learning_Rate': 0.21882712981185987, 'opt_Batch_Size': 88, 'opt_Number_of_Noise_Batches': 1, 'opt_Regularization_term': 0.14711084490399765, 'opt_Noise_Dim': 95, 'n_layers': 2}. Best is trial 276 with value: 2.1014704927802086.\n"
     ]
    },
    {
     "name": "stdout",
     "output_type": "stream",
     "text": [
      "Trial 317 finished with value: 2.568650528788567 and parameters: {'opt_Epochs': 6, 'opt_Steps': 17, 'opt_Learning_Rate': 0.21882712981185987, 'opt_Batch_Size': 88, 'opt_Number_of_Noise_Batches': 1, 'opt_Regularization_term': 0.14711084490399765, 'opt_Noise_Dim': 95, 'n_layers': 2}. Best is trial 276 with value: 2.1014704927802086.\n",
      "Trial 317 finished with value: 2.568650528788567 and parameters: {'opt_Epochs': 6, 'opt_Steps': 17, 'opt_Learning_Rate': 0.21882712981185987, 'opt_Batch_Size': 88, 'opt_Number_of_Noise_Batches': 1, 'opt_Regularization_term': 0.14711084490399765, 'opt_Noise_Dim': 95, 'n_layers': 2}. Best is trial 276 with value: 2.1014704927802086.\n"
     ]
    },
    {
     "name": "stderr",
     "output_type": "stream",
     "text": [
      "[I 2025-01-20 11:31:56,446] Trial 318 finished with value: 2.5281199306249618 and parameters: {'opt_Epochs': 6, 'opt_Steps': 15, 'opt_Learning_Rate': 0.23911854136045055, 'opt_Batch_Size': 391, 'opt_Number_of_Noise_Batches': 1, 'opt_Regularization_term': 0.17056348008374803, 'opt_Noise_Dim': 75, 'n_layers': 2}. Best is trial 276 with value: 2.1014704927802086.\n"
     ]
    },
    {
     "name": "stdout",
     "output_type": "stream",
     "text": [
      "Trial 318 finished with value: 2.5281199306249618 and parameters: {'opt_Epochs': 6, 'opt_Steps': 15, 'opt_Learning_Rate': 0.23911854136045055, 'opt_Batch_Size': 391, 'opt_Number_of_Noise_Batches': 1, 'opt_Regularization_term': 0.17056348008374803, 'opt_Noise_Dim': 75, 'n_layers': 2}. Best is trial 276 with value: 2.1014704927802086.\n",
      "Trial 318 finished with value: 2.5281199306249618 and parameters: {'opt_Epochs': 6, 'opt_Steps': 15, 'opt_Learning_Rate': 0.23911854136045055, 'opt_Batch_Size': 391, 'opt_Number_of_Noise_Batches': 1, 'opt_Regularization_term': 0.17056348008374803, 'opt_Noise_Dim': 75, 'n_layers': 2}. Best is trial 276 with value: 2.1014704927802086.\n"
     ]
    },
    {
     "name": "stderr",
     "output_type": "stream",
     "text": [
      "[I 2025-01-20 11:33:05,548] Trial 319 finished with value: 2.444667667150497 and parameters: {'opt_Epochs': 6, 'opt_Steps': 16, 'opt_Learning_Rate': 0.2274401224632034, 'opt_Batch_Size': 428, 'opt_Number_of_Noise_Batches': 1, 'opt_Regularization_term': 0.162397355339932, 'opt_Noise_Dim': 86, 'n_layers': 2}. Best is trial 276 with value: 2.1014704927802086.\n"
     ]
    },
    {
     "name": "stdout",
     "output_type": "stream",
     "text": [
      "Trial 319 finished with value: 2.444667667150497 and parameters: {'opt_Epochs': 6, 'opt_Steps': 16, 'opt_Learning_Rate': 0.2274401224632034, 'opt_Batch_Size': 428, 'opt_Number_of_Noise_Batches': 1, 'opt_Regularization_term': 0.162397355339932, 'opt_Noise_Dim': 86, 'n_layers': 2}. Best is trial 276 with value: 2.1014704927802086.\n",
      "Trial 319 finished with value: 2.444667667150497 and parameters: {'opt_Epochs': 6, 'opt_Steps': 16, 'opt_Learning_Rate': 0.2274401224632034, 'opt_Batch_Size': 428, 'opt_Number_of_Noise_Batches': 1, 'opt_Regularization_term': 0.162397355339932, 'opt_Noise_Dim': 86, 'n_layers': 2}. Best is trial 276 with value: 2.1014704927802086.\n"
     ]
    },
    {
     "name": "stderr",
     "output_type": "stream",
     "text": [
      "[I 2025-01-20 11:34:09,806] Trial 320 finished with value: 2.2772667333483696 and parameters: {'opt_Epochs': 6, 'opt_Steps': 15, 'opt_Learning_Rate': 0.2211772947667667, 'opt_Batch_Size': 402, 'opt_Number_of_Noise_Batches': 1, 'opt_Regularization_term': 0.13980024581459685, 'opt_Noise_Dim': 64, 'n_layers': 2}. Best is trial 276 with value: 2.1014704927802086.\n"
     ]
    },
    {
     "name": "stdout",
     "output_type": "stream",
     "text": [
      "Trial 320 finished with value: 2.2772667333483696 and parameters: {'opt_Epochs': 6, 'opt_Steps': 15, 'opt_Learning_Rate': 0.2211772947667667, 'opt_Batch_Size': 402, 'opt_Number_of_Noise_Batches': 1, 'opt_Regularization_term': 0.13980024581459685, 'opt_Noise_Dim': 64, 'n_layers': 2}. Best is trial 276 with value: 2.1014704927802086.\n",
      "Trial 320 finished with value: 2.2772667333483696 and parameters: {'opt_Epochs': 6, 'opt_Steps': 15, 'opt_Learning_Rate': 0.2211772947667667, 'opt_Batch_Size': 402, 'opt_Number_of_Noise_Batches': 1, 'opt_Regularization_term': 0.13980024581459685, 'opt_Noise_Dim': 64, 'n_layers': 2}. Best is trial 276 with value: 2.1014704927802086.\n"
     ]
    },
    {
     "name": "stderr",
     "output_type": "stream",
     "text": [
      "[I 2025-01-20 11:35:09,891] Trial 321 finished with value: 2.429352161288262 and parameters: {'opt_Epochs': 6, 'opt_Steps': 14, 'opt_Learning_Rate': 0.20631469528410493, 'opt_Batch_Size': 383, 'opt_Number_of_Noise_Batches': 1, 'opt_Regularization_term': 0.15244883148910407, 'opt_Noise_Dim': 97, 'n_layers': 2}. Best is trial 276 with value: 2.1014704927802086.\n"
     ]
    },
    {
     "name": "stdout",
     "output_type": "stream",
     "text": [
      "Trial 321 finished with value: 2.429352161288262 and parameters: {'opt_Epochs': 6, 'opt_Steps': 14, 'opt_Learning_Rate': 0.20631469528410493, 'opt_Batch_Size': 383, 'opt_Number_of_Noise_Batches': 1, 'opt_Regularization_term': 0.15244883148910407, 'opt_Noise_Dim': 97, 'n_layers': 2}. Best is trial 276 with value: 2.1014704927802086.\n",
      "Trial 321 finished with value: 2.429352161288262 and parameters: {'opt_Epochs': 6, 'opt_Steps': 14, 'opt_Learning_Rate': 0.20631469528410493, 'opt_Batch_Size': 383, 'opt_Number_of_Noise_Batches': 1, 'opt_Regularization_term': 0.15244883148910407, 'opt_Noise_Dim': 97, 'n_layers': 2}. Best is trial 276 with value: 2.1014704927802086.\n"
     ]
    },
    {
     "name": "stderr",
     "output_type": "stream",
     "text": [
      "[I 2025-01-20 11:36:13,769] Trial 322 finished with value: 2.494272834062577 and parameters: {'opt_Epochs': 6, 'opt_Steps': 16, 'opt_Learning_Rate': 0.23258772682120146, 'opt_Batch_Size': 386, 'opt_Number_of_Noise_Batches': 1, 'opt_Regularization_term': 0.17916337285089298, 'opt_Noise_Dim': 69, 'n_layers': 2}. Best is trial 276 with value: 2.1014704927802086.\n"
     ]
    },
    {
     "name": "stdout",
     "output_type": "stream",
     "text": [
      "Trial 322 finished with value: 2.494272834062577 and parameters: {'opt_Epochs': 6, 'opt_Steps': 16, 'opt_Learning_Rate': 0.23258772682120146, 'opt_Batch_Size': 386, 'opt_Number_of_Noise_Batches': 1, 'opt_Regularization_term': 0.17916337285089298, 'opt_Noise_Dim': 69, 'n_layers': 2}. Best is trial 276 with value: 2.1014704927802086.\n",
      "Trial 322 finished with value: 2.494272834062577 and parameters: {'opt_Epochs': 6, 'opt_Steps': 16, 'opt_Learning_Rate': 0.23258772682120146, 'opt_Batch_Size': 386, 'opt_Number_of_Noise_Batches': 1, 'opt_Regularization_term': 0.17916337285089298, 'opt_Noise_Dim': 69, 'n_layers': 2}. Best is trial 276 with value: 2.1014704927802086.\n"
     ]
    },
    {
     "name": "stderr",
     "output_type": "stream",
     "text": [
      "[I 2025-01-20 11:37:10,753] Trial 323 finished with value: 2.268231901526451 and parameters: {'opt_Epochs': 6, 'opt_Steps': 14, 'opt_Learning_Rate': 0.21411479725392535, 'opt_Batch_Size': 359, 'opt_Number_of_Noise_Batches': 1, 'opt_Regularization_term': 0.12050110448519039, 'opt_Noise_Dim': 59, 'n_layers': 2}. Best is trial 276 with value: 2.1014704927802086.\n"
     ]
    },
    {
     "name": "stdout",
     "output_type": "stream",
     "text": [
      "Trial 323 finished with value: 2.268231901526451 and parameters: {'opt_Epochs': 6, 'opt_Steps': 14, 'opt_Learning_Rate': 0.21411479725392535, 'opt_Batch_Size': 359, 'opt_Number_of_Noise_Batches': 1, 'opt_Regularization_term': 0.12050110448519039, 'opt_Noise_Dim': 59, 'n_layers': 2}. Best is trial 276 with value: 2.1014704927802086.\n",
      "Trial 323 finished with value: 2.268231901526451 and parameters: {'opt_Epochs': 6, 'opt_Steps': 14, 'opt_Learning_Rate': 0.21411479725392535, 'opt_Batch_Size': 359, 'opt_Number_of_Noise_Batches': 1, 'opt_Regularization_term': 0.12050110448519039, 'opt_Noise_Dim': 59, 'n_layers': 2}. Best is trial 276 with value: 2.1014704927802086.\n"
     ]
    },
    {
     "name": "stderr",
     "output_type": "stream",
     "text": [
      "[I 2025-01-20 11:38:08,885] Trial 324 finished with value: 2.3568395167589187 and parameters: {'opt_Epochs': 6, 'opt_Steps': 15, 'opt_Learning_Rate': 0.19199989007137558, 'opt_Batch_Size': 362, 'opt_Number_of_Noise_Batches': 1, 'opt_Regularization_term': 0.1779944925181899, 'opt_Noise_Dim': 57, 'n_layers': 2}. Best is trial 276 with value: 2.1014704927802086.\n"
     ]
    },
    {
     "name": "stdout",
     "output_type": "stream",
     "text": [
      "Trial 324 finished with value: 2.3568395167589187 and parameters: {'opt_Epochs': 6, 'opt_Steps': 15, 'opt_Learning_Rate': 0.19199989007137558, 'opt_Batch_Size': 362, 'opt_Number_of_Noise_Batches': 1, 'opt_Regularization_term': 0.1779944925181899, 'opt_Noise_Dim': 57, 'n_layers': 2}. Best is trial 276 with value: 2.1014704927802086.\n",
      "Trial 324 finished with value: 2.3568395167589187 and parameters: {'opt_Epochs': 6, 'opt_Steps': 15, 'opt_Learning_Rate': 0.19199989007137558, 'opt_Batch_Size': 362, 'opt_Number_of_Noise_Batches': 1, 'opt_Regularization_term': 0.1779944925181899, 'opt_Noise_Dim': 57, 'n_layers': 2}. Best is trial 276 with value: 2.1014704927802086.\n"
     ]
    },
    {
     "name": "stderr",
     "output_type": "stream",
     "text": [
      "[I 2025-01-20 11:39:07,130] Trial 325 finished with value: 2.589269450306893 and parameters: {'opt_Epochs': 6, 'opt_Steps': 14, 'opt_Learning_Rate': 0.21141402832740364, 'opt_Batch_Size': 371, 'opt_Number_of_Noise_Batches': 1, 'opt_Regularization_term': 0.12032064004260805, 'opt_Noise_Dim': 47, 'n_layers': 2}. Best is trial 276 with value: 2.1014704927802086.\n"
     ]
    },
    {
     "name": "stdout",
     "output_type": "stream",
     "text": [
      "Trial 325 finished with value: 2.589269450306893 and parameters: {'opt_Epochs': 6, 'opt_Steps': 14, 'opt_Learning_Rate': 0.21141402832740364, 'opt_Batch_Size': 371, 'opt_Number_of_Noise_Batches': 1, 'opt_Regularization_term': 0.12032064004260805, 'opt_Noise_Dim': 47, 'n_layers': 2}. Best is trial 276 with value: 2.1014704927802086.\n",
      "Trial 325 finished with value: 2.589269450306893 and parameters: {'opt_Epochs': 6, 'opt_Steps': 14, 'opt_Learning_Rate': 0.21141402832740364, 'opt_Batch_Size': 371, 'opt_Number_of_Noise_Batches': 1, 'opt_Regularization_term': 0.12032064004260805, 'opt_Noise_Dim': 47, 'n_layers': 2}. Best is trial 276 with value: 2.1014704927802086.\n"
     ]
    },
    {
     "name": "stderr",
     "output_type": "stream",
     "text": [
      "[I 2025-01-20 11:40:04,677] Trial 326 finished with value: 2.2738832712173465 and parameters: {'opt_Epochs': 6, 'opt_Steps': 14, 'opt_Learning_Rate': 0.15917768552524633, 'opt_Batch_Size': 355, 'opt_Number_of_Noise_Batches': 1, 'opt_Regularization_term': 0.1842044620872637, 'opt_Noise_Dim': 82, 'n_layers': 2}. Best is trial 276 with value: 2.1014704927802086.\n"
     ]
    },
    {
     "name": "stdout",
     "output_type": "stream",
     "text": [
      "Trial 326 finished with value: 2.2738832712173465 and parameters: {'opt_Epochs': 6, 'opt_Steps': 14, 'opt_Learning_Rate': 0.15917768552524633, 'opt_Batch_Size': 355, 'opt_Number_of_Noise_Batches': 1, 'opt_Regularization_term': 0.1842044620872637, 'opt_Noise_Dim': 82, 'n_layers': 2}. Best is trial 276 with value: 2.1014704927802086.\n",
      "Trial 326 finished with value: 2.2738832712173465 and parameters: {'opt_Epochs': 6, 'opt_Steps': 14, 'opt_Learning_Rate': 0.15917768552524633, 'opt_Batch_Size': 355, 'opt_Number_of_Noise_Batches': 1, 'opt_Regularization_term': 0.1842044620872637, 'opt_Noise_Dim': 82, 'n_layers': 2}. Best is trial 276 with value: 2.1014704927802086.\n"
     ]
    },
    {
     "name": "stderr",
     "output_type": "stream",
     "text": [
      "[I 2025-01-20 11:40:34,300] Trial 327 finished with value: 2.9622683465480804 and parameters: {'opt_Epochs': 6, 'opt_Steps': 15, 'opt_Learning_Rate': 0.2155831992558316, 'opt_Batch_Size': 43, 'opt_Number_of_Noise_Batches': 1, 'opt_Regularization_term': 0.06683276653184105, 'opt_Noise_Dim': 58, 'n_layers': 1}. Best is trial 276 with value: 2.1014704927802086.\n"
     ]
    },
    {
     "name": "stdout",
     "output_type": "stream",
     "text": [
      "Trial 327 finished with value: 2.9622683465480804 and parameters: {'opt_Epochs': 6, 'opt_Steps': 15, 'opt_Learning_Rate': 0.2155831992558316, 'opt_Batch_Size': 43, 'opt_Number_of_Noise_Batches': 1, 'opt_Regularization_term': 0.06683276653184105, 'opt_Noise_Dim': 58, 'n_layers': 1}. Best is trial 276 with value: 2.1014704927802086.\n",
      "Trial 327 finished with value: 2.9622683465480804 and parameters: {'opt_Epochs': 6, 'opt_Steps': 15, 'opt_Learning_Rate': 0.2155831992558316, 'opt_Batch_Size': 43, 'opt_Number_of_Noise_Batches': 1, 'opt_Regularization_term': 0.06683276653184105, 'opt_Noise_Dim': 58, 'n_layers': 1}. Best is trial 276 with value: 2.1014704927802086.\n"
     ]
    },
    {
     "name": "stderr",
     "output_type": "stream",
     "text": [
      "[I 2025-01-20 11:41:33,712] Trial 328 finished with value: 2.286019223928451 and parameters: {'opt_Epochs': 6, 'opt_Steps': 14, 'opt_Learning_Rate': 0.2249756376147357, 'opt_Batch_Size': 377, 'opt_Number_of_Noise_Batches': 1, 'opt_Regularization_term': 0.10178408645049325, 'opt_Noise_Dim': 67, 'n_layers': 2}. Best is trial 276 with value: 2.1014704927802086.\n"
     ]
    },
    {
     "name": "stdout",
     "output_type": "stream",
     "text": [
      "Trial 328 finished with value: 2.286019223928451 and parameters: {'opt_Epochs': 6, 'opt_Steps': 14, 'opt_Learning_Rate': 0.2249756376147357, 'opt_Batch_Size': 377, 'opt_Number_of_Noise_Batches': 1, 'opt_Regularization_term': 0.10178408645049325, 'opt_Noise_Dim': 67, 'n_layers': 2}. Best is trial 276 with value: 2.1014704927802086.\n",
      "Trial 328 finished with value: 2.286019223928451 and parameters: {'opt_Epochs': 6, 'opt_Steps': 14, 'opt_Learning_Rate': 0.2249756376147357, 'opt_Batch_Size': 377, 'opt_Number_of_Noise_Batches': 1, 'opt_Regularization_term': 0.10178408645049325, 'opt_Noise_Dim': 67, 'n_layers': 2}. Best is trial 276 with value: 2.1014704927802086.\n"
     ]
    },
    {
     "name": "stderr",
     "output_type": "stream",
     "text": [
      "[I 2025-01-20 11:42:22,184] Trial 329 finished with value: 2.319460108876228 and parameters: {'opt_Epochs': 4, 'opt_Steps': 15, 'opt_Learning_Rate': 0.24023029638791737, 'opt_Batch_Size': 363, 'opt_Number_of_Noise_Batches': 1, 'opt_Regularization_term': 0.16600087077155715, 'opt_Noise_Dim': 85, 'n_layers': 2}. Best is trial 276 with value: 2.1014704927802086.\n"
     ]
    },
    {
     "name": "stdout",
     "output_type": "stream",
     "text": [
      "Trial 329 finished with value: 2.319460108876228 and parameters: {'opt_Epochs': 4, 'opt_Steps': 15, 'opt_Learning_Rate': 0.24023029638791737, 'opt_Batch_Size': 363, 'opt_Number_of_Noise_Batches': 1, 'opt_Regularization_term': 0.16600087077155715, 'opt_Noise_Dim': 85, 'n_layers': 2}. Best is trial 276 with value: 2.1014704927802086.\n",
      "Trial 329 finished with value: 2.319460108876228 and parameters: {'opt_Epochs': 4, 'opt_Steps': 15, 'opt_Learning_Rate': 0.24023029638791737, 'opt_Batch_Size': 363, 'opt_Number_of_Noise_Batches': 1, 'opt_Regularization_term': 0.16600087077155715, 'opt_Noise_Dim': 85, 'n_layers': 2}. Best is trial 276 with value: 2.1014704927802086.\n"
     ]
    },
    {
     "name": "stderr",
     "output_type": "stream",
     "text": [
      "[I 2025-01-20 11:43:25,896] Trial 330 finished with value: 2.7422626182436947 and parameters: {'opt_Epochs': 6, 'opt_Steps': 16, 'opt_Learning_Rate': 0.18330858636913017, 'opt_Batch_Size': 379, 'opt_Number_of_Noise_Batches': 1, 'opt_Regularization_term': 0.19585111141221778, 'opt_Noise_Dim': 75, 'n_layers': 2}. Best is trial 276 with value: 2.1014704927802086.\n"
     ]
    },
    {
     "name": "stdout",
     "output_type": "stream",
     "text": [
      "Trial 330 finished with value: 2.7422626182436947 and parameters: {'opt_Epochs': 6, 'opt_Steps': 16, 'opt_Learning_Rate': 0.18330858636913017, 'opt_Batch_Size': 379, 'opt_Number_of_Noise_Batches': 1, 'opt_Regularization_term': 0.19585111141221778, 'opt_Noise_Dim': 75, 'n_layers': 2}. Best is trial 276 with value: 2.1014704927802086.\n",
      "Trial 330 finished with value: 2.7422626182436947 and parameters: {'opt_Epochs': 6, 'opt_Steps': 16, 'opt_Learning_Rate': 0.18330858636913017, 'opt_Batch_Size': 379, 'opt_Number_of_Noise_Batches': 1, 'opt_Regularization_term': 0.19585111141221778, 'opt_Noise_Dim': 75, 'n_layers': 2}. Best is trial 276 with value: 2.1014704927802086.\n"
     ]
    },
    {
     "name": "stderr",
     "output_type": "stream",
     "text": [
      "[I 2025-01-20 11:44:10,304] Trial 331 finished with value: 2.4863600730895987 and parameters: {'opt_Epochs': 4, 'opt_Steps': 14, 'opt_Learning_Rate': 0.11227430626616401, 'opt_Batch_Size': 366, 'opt_Number_of_Noise_Batches': 1, 'opt_Regularization_term': 0.10906081867000923, 'opt_Noise_Dim': 94, 'n_layers': 2}. Best is trial 276 with value: 2.1014704927802086.\n"
     ]
    },
    {
     "name": "stdout",
     "output_type": "stream",
     "text": [
      "Trial 331 finished with value: 2.4863600730895987 and parameters: {'opt_Epochs': 4, 'opt_Steps': 14, 'opt_Learning_Rate': 0.11227430626616401, 'opt_Batch_Size': 366, 'opt_Number_of_Noise_Batches': 1, 'opt_Regularization_term': 0.10906081867000923, 'opt_Noise_Dim': 94, 'n_layers': 2}. Best is trial 276 with value: 2.1014704927802086.\n",
      "Trial 331 finished with value: 2.4863600730895987 and parameters: {'opt_Epochs': 4, 'opt_Steps': 14, 'opt_Learning_Rate': 0.11227430626616401, 'opt_Batch_Size': 366, 'opt_Number_of_Noise_Batches': 1, 'opt_Regularization_term': 0.10906081867000923, 'opt_Noise_Dim': 94, 'n_layers': 2}. Best is trial 276 with value: 2.1014704927802086.\n"
     ]
    },
    {
     "name": "stderr",
     "output_type": "stream",
     "text": [
      "[I 2025-01-20 11:44:37,245] Trial 332 finished with value: 3.0715688169002537 and parameters: {'opt_Epochs': 1, 'opt_Steps': 15, 'opt_Learning_Rate': 0.20417127354107859, 'opt_Batch_Size': 401, 'opt_Number_of_Noise_Batches': 1, 'opt_Regularization_term': 0.11225735185617401, 'opt_Noise_Dim': 45, 'n_layers': 2}. Best is trial 276 with value: 2.1014704927802086.\n"
     ]
    },
    {
     "name": "stdout",
     "output_type": "stream",
     "text": [
      "Trial 332 finished with value: 3.0715688169002537 and parameters: {'opt_Epochs': 1, 'opt_Steps': 15, 'opt_Learning_Rate': 0.20417127354107859, 'opt_Batch_Size': 401, 'opt_Number_of_Noise_Batches': 1, 'opt_Regularization_term': 0.11225735185617401, 'opt_Noise_Dim': 45, 'n_layers': 2}. Best is trial 276 with value: 2.1014704927802086.\n",
      "Trial 332 finished with value: 3.0715688169002537 and parameters: {'opt_Epochs': 1, 'opt_Steps': 15, 'opt_Learning_Rate': 0.20417127354107859, 'opt_Batch_Size': 401, 'opt_Number_of_Noise_Batches': 1, 'opt_Regularization_term': 0.11225735185617401, 'opt_Noise_Dim': 45, 'n_layers': 2}. Best is trial 276 with value: 2.1014704927802086.\n"
     ]
    },
    {
     "name": "stderr",
     "output_type": "stream",
     "text": [
      "[I 2025-01-20 11:45:34,955] Trial 333 finished with value: 2.8064309448003764 and parameters: {'opt_Epochs': 6, 'opt_Steps': 14, 'opt_Learning_Rate': 0.23238621269861068, 'opt_Batch_Size': 355, 'opt_Number_of_Noise_Batches': 1, 'opt_Regularization_term': 0.18691452494143407, 'opt_Noise_Dim': 60, 'n_layers': 2}. Best is trial 276 with value: 2.1014704927802086.\n"
     ]
    },
    {
     "name": "stdout",
     "output_type": "stream",
     "text": [
      "Trial 333 finished with value: 2.8064309448003764 and parameters: {'opt_Epochs': 6, 'opt_Steps': 14, 'opt_Learning_Rate': 0.23238621269861068, 'opt_Batch_Size': 355, 'opt_Number_of_Noise_Batches': 1, 'opt_Regularization_term': 0.18691452494143407, 'opt_Noise_Dim': 60, 'n_layers': 2}. Best is trial 276 with value: 2.1014704927802086.\n",
      "Trial 333 finished with value: 2.8064309448003764 and parameters: {'opt_Epochs': 6, 'opt_Steps': 14, 'opt_Learning_Rate': 0.23238621269861068, 'opt_Batch_Size': 355, 'opt_Number_of_Noise_Batches': 1, 'opt_Regularization_term': 0.18691452494143407, 'opt_Noise_Dim': 60, 'n_layers': 2}. Best is trial 276 with value: 2.1014704927802086.\n"
     ]
    },
    {
     "name": "stderr",
     "output_type": "stream",
     "text": [
      "[I 2025-01-20 11:46:32,077] Trial 334 finished with value: 2.327201260626316 and parameters: {'opt_Epochs': 6, 'opt_Steps': 15, 'opt_Learning_Rate': 0.22640473484154644, 'opt_Batch_Size': 415, 'opt_Number_of_Noise_Batches': 1, 'opt_Regularization_term': 0.17076640876037594, 'opt_Noise_Dim': 81, 'n_layers': 1}. Best is trial 276 with value: 2.1014704927802086.\n"
     ]
    },
    {
     "name": "stdout",
     "output_type": "stream",
     "text": [
      "Trial 334 finished with value: 2.327201260626316 and parameters: {'opt_Epochs': 6, 'opt_Steps': 15, 'opt_Learning_Rate': 0.22640473484154644, 'opt_Batch_Size': 415, 'opt_Number_of_Noise_Batches': 1, 'opt_Regularization_term': 0.17076640876037594, 'opt_Noise_Dim': 81, 'n_layers': 1}. Best is trial 276 with value: 2.1014704927802086.\n",
      "Trial 334 finished with value: 2.327201260626316 and parameters: {'opt_Epochs': 6, 'opt_Steps': 15, 'opt_Learning_Rate': 0.22640473484154644, 'opt_Batch_Size': 415, 'opt_Number_of_Noise_Batches': 1, 'opt_Regularization_term': 0.17076640876037594, 'opt_Noise_Dim': 81, 'n_layers': 1}. Best is trial 276 with value: 2.1014704927802086.\n"
     ]
    },
    {
     "name": "stderr",
     "output_type": "stream",
     "text": [
      "[I 2025-01-20 11:47:25,344] Trial 335 finished with value: 2.4354764908552164 and parameters: {'opt_Epochs': 5, 'opt_Steps': 14, 'opt_Learning_Rate': 0.2364567059487272, 'opt_Batch_Size': 372, 'opt_Number_of_Noise_Batches': 1, 'opt_Regularization_term': 0.203586311907351, 'opt_Noise_Dim': 53, 'n_layers': 2}. Best is trial 276 with value: 2.1014704927802086.\n"
     ]
    },
    {
     "name": "stdout",
     "output_type": "stream",
     "text": [
      "Trial 335 finished with value: 2.4354764908552164 and parameters: {'opt_Epochs': 5, 'opt_Steps': 14, 'opt_Learning_Rate': 0.2364567059487272, 'opt_Batch_Size': 372, 'opt_Number_of_Noise_Batches': 1, 'opt_Regularization_term': 0.203586311907351, 'opt_Noise_Dim': 53, 'n_layers': 2}. Best is trial 276 with value: 2.1014704927802086.\n",
      "Trial 335 finished with value: 2.4354764908552164 and parameters: {'opt_Epochs': 5, 'opt_Steps': 14, 'opt_Learning_Rate': 0.2364567059487272, 'opt_Batch_Size': 372, 'opt_Number_of_Noise_Batches': 1, 'opt_Regularization_term': 0.203586311907351, 'opt_Noise_Dim': 53, 'n_layers': 2}. Best is trial 276 with value: 2.1014704927802086.\n"
     ]
    },
    {
     "name": "stderr",
     "output_type": "stream",
     "text": [
      "[I 2025-01-20 11:47:54,857] Trial 336 finished with value: 3.813620737195015 and parameters: {'opt_Epochs': 1, 'opt_Steps': 13, 'opt_Learning_Rate': 0.22031584440177734, 'opt_Batch_Size': 407, 'opt_Number_of_Noise_Batches': 1, 'opt_Regularization_term': 0.18212333559808777, 'opt_Noise_Dim': 71, 'n_layers': 2}. Best is trial 276 with value: 2.1014704927802086.\n"
     ]
    },
    {
     "name": "stdout",
     "output_type": "stream",
     "text": [
      "Trial 336 finished with value: 3.813620737195015 and parameters: {'opt_Epochs': 1, 'opt_Steps': 13, 'opt_Learning_Rate': 0.22031584440177734, 'opt_Batch_Size': 407, 'opt_Number_of_Noise_Batches': 1, 'opt_Regularization_term': 0.18212333559808777, 'opt_Noise_Dim': 71, 'n_layers': 2}. Best is trial 276 with value: 2.1014704927802086.\n",
      "Trial 336 finished with value: 3.813620737195015 and parameters: {'opt_Epochs': 1, 'opt_Steps': 13, 'opt_Learning_Rate': 0.22031584440177734, 'opt_Batch_Size': 407, 'opt_Number_of_Noise_Batches': 1, 'opt_Regularization_term': 0.18212333559808777, 'opt_Noise_Dim': 71, 'n_layers': 2}. Best is trial 276 with value: 2.1014704927802086.\n"
     ]
    },
    {
     "name": "stderr",
     "output_type": "stream",
     "text": [
      "[I 2025-01-20 11:48:45,734] Trial 337 finished with value: 2.690425571799278 and parameters: {'opt_Epochs': 4, 'opt_Steps': 16, 'opt_Learning_Rate': 0.22787187338877768, 'opt_Batch_Size': 385, 'opt_Number_of_Noise_Batches': 1, 'opt_Regularization_term': 0.1640499097304521, 'opt_Noise_Dim': 101, 'n_layers': 2}. Best is trial 276 with value: 2.1014704927802086.\n"
     ]
    },
    {
     "name": "stdout",
     "output_type": "stream",
     "text": [
      "Trial 337 finished with value: 2.690425571799278 and parameters: {'opt_Epochs': 4, 'opt_Steps': 16, 'opt_Learning_Rate': 0.22787187338877768, 'opt_Batch_Size': 385, 'opt_Number_of_Noise_Batches': 1, 'opt_Regularization_term': 0.1640499097304521, 'opt_Noise_Dim': 101, 'n_layers': 2}. Best is trial 276 with value: 2.1014704927802086.\n",
      "Trial 337 finished with value: 2.690425571799278 and parameters: {'opt_Epochs': 4, 'opt_Steps': 16, 'opt_Learning_Rate': 0.22787187338877768, 'opt_Batch_Size': 385, 'opt_Number_of_Noise_Batches': 1, 'opt_Regularization_term': 0.1640499097304521, 'opt_Noise_Dim': 101, 'n_layers': 2}. Best is trial 276 with value: 2.1014704927802086.\n"
     ]
    },
    {
     "name": "stderr",
     "output_type": "stream",
     "text": [
      "[I 2025-01-20 11:49:48,140] Trial 338 finished with value: 2.6425252586603167 and parameters: {'opt_Epochs': 6, 'opt_Steps': 15, 'opt_Learning_Rate': 0.21869058858792234, 'opt_Batch_Size': 397, 'opt_Number_of_Noise_Batches': 1, 'opt_Regularization_term': 0.17605579623486575, 'opt_Noise_Dim': 86, 'n_layers': 2}. Best is trial 276 with value: 2.1014704927802086.\n"
     ]
    },
    {
     "name": "stdout",
     "output_type": "stream",
     "text": [
      "Trial 338 finished with value: 2.6425252586603167 and parameters: {'opt_Epochs': 6, 'opt_Steps': 15, 'opt_Learning_Rate': 0.21869058858792234, 'opt_Batch_Size': 397, 'opt_Number_of_Noise_Batches': 1, 'opt_Regularization_term': 0.17605579623486575, 'opt_Noise_Dim': 86, 'n_layers': 2}. Best is trial 276 with value: 2.1014704927802086.\n",
      "Trial 338 finished with value: 2.6425252586603167 and parameters: {'opt_Epochs': 6, 'opt_Steps': 15, 'opt_Learning_Rate': 0.21869058858792234, 'opt_Batch_Size': 397, 'opt_Number_of_Noise_Batches': 1, 'opt_Regularization_term': 0.17605579623486575, 'opt_Noise_Dim': 86, 'n_layers': 2}. Best is trial 276 with value: 2.1014704927802086.\n"
     ]
    },
    {
     "name": "stderr",
     "output_type": "stream",
     "text": [
      "[I 2025-01-20 11:50:45,522] Trial 339 finished with value: 2.296349866688251 and parameters: {'opt_Epochs': 6, 'opt_Steps': 14, 'opt_Learning_Rate': 0.19966122615568338, 'opt_Batch_Size': 375, 'opt_Number_of_Noise_Batches': 1, 'opt_Regularization_term': 0.15287613852118745, 'opt_Noise_Dim': 71, 'n_layers': 2}. Best is trial 276 with value: 2.1014704927802086.\n"
     ]
    },
    {
     "name": "stdout",
     "output_type": "stream",
     "text": [
      "Trial 339 finished with value: 2.296349866688251 and parameters: {'opt_Epochs': 6, 'opt_Steps': 14, 'opt_Learning_Rate': 0.19966122615568338, 'opt_Batch_Size': 375, 'opt_Number_of_Noise_Batches': 1, 'opt_Regularization_term': 0.15287613852118745, 'opt_Noise_Dim': 71, 'n_layers': 2}. Best is trial 276 with value: 2.1014704927802086.\n",
      "Trial 339 finished with value: 2.296349866688251 and parameters: {'opt_Epochs': 6, 'opt_Steps': 14, 'opt_Learning_Rate': 0.19966122615568338, 'opt_Batch_Size': 375, 'opt_Number_of_Noise_Batches': 1, 'opt_Regularization_term': 0.15287613852118745, 'opt_Noise_Dim': 71, 'n_layers': 2}. Best is trial 276 with value: 2.1014704927802086.\n"
     ]
    },
    {
     "name": "stderr",
     "output_type": "stream",
     "text": [
      "[I 2025-01-20 11:51:37,868] Trial 340 finished with value: 2.493711405992508 and parameters: {'opt_Epochs': 5, 'opt_Steps': 14, 'opt_Learning_Rate': 0.21547950133954233, 'opt_Batch_Size': 385, 'opt_Number_of_Noise_Batches': 1, 'opt_Regularization_term': 0.19166296334959856, 'opt_Noise_Dim': 98, 'n_layers': 2}. Best is trial 276 with value: 2.1014704927802086.\n"
     ]
    },
    {
     "name": "stdout",
     "output_type": "stream",
     "text": [
      "Trial 340 finished with value: 2.493711405992508 and parameters: {'opt_Epochs': 5, 'opt_Steps': 14, 'opt_Learning_Rate': 0.21547950133954233, 'opt_Batch_Size': 385, 'opt_Number_of_Noise_Batches': 1, 'opt_Regularization_term': 0.19166296334959856, 'opt_Noise_Dim': 98, 'n_layers': 2}. Best is trial 276 with value: 2.1014704927802086.\n",
      "Trial 340 finished with value: 2.493711405992508 and parameters: {'opt_Epochs': 5, 'opt_Steps': 14, 'opt_Learning_Rate': 0.21547950133954233, 'opt_Batch_Size': 385, 'opt_Number_of_Noise_Batches': 1, 'opt_Regularization_term': 0.19166296334959856, 'opt_Noise_Dim': 98, 'n_layers': 2}. Best is trial 276 with value: 2.1014704927802086.\n"
     ]
    },
    {
     "name": "stderr",
     "output_type": "stream",
     "text": [
      "[I 2025-01-20 11:52:30,762] Trial 341 finished with value: 2.5242388948798187 and parameters: {'opt_Epochs': 6, 'opt_Steps': 13, 'opt_Learning_Rate': 0.23932018003420968, 'opt_Batch_Size': 360, 'opt_Number_of_Noise_Batches': 1, 'opt_Regularization_term': 0.1575795285708057, 'opt_Noise_Dim': 48, 'n_layers': 2}. Best is trial 276 with value: 2.1014704927802086.\n"
     ]
    },
    {
     "name": "stdout",
     "output_type": "stream",
     "text": [
      "Trial 341 finished with value: 2.5242388948798187 and parameters: {'opt_Epochs': 6, 'opt_Steps': 13, 'opt_Learning_Rate': 0.23932018003420968, 'opt_Batch_Size': 360, 'opt_Number_of_Noise_Batches': 1, 'opt_Regularization_term': 0.1575795285708057, 'opt_Noise_Dim': 48, 'n_layers': 2}. Best is trial 276 with value: 2.1014704927802086.\n",
      "Trial 341 finished with value: 2.5242388948798187 and parameters: {'opt_Epochs': 6, 'opt_Steps': 13, 'opt_Learning_Rate': 0.23932018003420968, 'opt_Batch_Size': 360, 'opt_Number_of_Noise_Batches': 1, 'opt_Regularization_term': 0.1575795285708057, 'opt_Noise_Dim': 48, 'n_layers': 2}. Best is trial 276 with value: 2.1014704927802086.\n"
     ]
    },
    {
     "name": "stderr",
     "output_type": "stream",
     "text": [
      "[I 2025-01-20 11:52:57,853] Trial 342 finished with value: 2.996263948082924 and parameters: {'opt_Epochs': 1, 'opt_Steps': 15, 'opt_Learning_Rate': 0.2246065447545046, 'opt_Batch_Size': 393, 'opt_Number_of_Noise_Batches': 1, 'opt_Regularization_term': 0.2119525260095962, 'opt_Noise_Dim': 62, 'n_layers': 2}. Best is trial 276 with value: 2.1014704927802086.\n"
     ]
    },
    {
     "name": "stdout",
     "output_type": "stream",
     "text": [
      "Trial 342 finished with value: 2.996263948082924 and parameters: {'opt_Epochs': 1, 'opt_Steps': 15, 'opt_Learning_Rate': 0.2246065447545046, 'opt_Batch_Size': 393, 'opt_Number_of_Noise_Batches': 1, 'opt_Regularization_term': 0.2119525260095962, 'opt_Noise_Dim': 62, 'n_layers': 2}. Best is trial 276 with value: 2.1014704927802086.\n",
      "Trial 342 finished with value: 2.996263948082924 and parameters: {'opt_Epochs': 1, 'opt_Steps': 15, 'opt_Learning_Rate': 0.2246065447545046, 'opt_Batch_Size': 393, 'opt_Number_of_Noise_Batches': 1, 'opt_Regularization_term': 0.2119525260095962, 'opt_Noise_Dim': 62, 'n_layers': 2}. Best is trial 276 with value: 2.1014704927802086.\n"
     ]
    },
    {
     "name": "stderr",
     "output_type": "stream",
     "text": [
      "[I 2025-01-20 11:53:48,591] Trial 343 finished with value: 3.0576655581593517 and parameters: {'opt_Epochs': 5, 'opt_Steps': 14, 'opt_Learning_Rate': 0.23124753815758872, 'opt_Batch_Size': 368, 'opt_Number_of_Noise_Batches': 1, 'opt_Regularization_term': 0.12605771339632377, 'opt_Noise_Dim': 90, 'n_layers': 2}. Best is trial 276 with value: 2.1014704927802086.\n"
     ]
    },
    {
     "name": "stdout",
     "output_type": "stream",
     "text": [
      "Trial 343 finished with value: 3.0576655581593517 and parameters: {'opt_Epochs': 5, 'opt_Steps': 14, 'opt_Learning_Rate': 0.23124753815758872, 'opt_Batch_Size': 368, 'opt_Number_of_Noise_Batches': 1, 'opt_Regularization_term': 0.12605771339632377, 'opt_Noise_Dim': 90, 'n_layers': 2}. Best is trial 276 with value: 2.1014704927802086.\n",
      "Trial 343 finished with value: 3.0576655581593517 and parameters: {'opt_Epochs': 5, 'opt_Steps': 14, 'opt_Learning_Rate': 0.23124753815758872, 'opt_Batch_Size': 368, 'opt_Number_of_Noise_Batches': 1, 'opt_Regularization_term': 0.12605771339632377, 'opt_Noise_Dim': 90, 'n_layers': 2}. Best is trial 276 with value: 2.1014704927802086.\n"
     ]
    },
    {
     "name": "stderr",
     "output_type": "stream",
     "text": [
      "[I 2025-01-20 11:54:56,527] Trial 344 finished with value: 2.506584078073502 and parameters: {'opt_Epochs': 6, 'opt_Steps': 15, 'opt_Learning_Rate': 0.2116950398000463, 'opt_Batch_Size': 439, 'opt_Number_of_Noise_Batches': 1, 'opt_Regularization_term': 0.18289053456861978, 'opt_Noise_Dim': 75, 'n_layers': 2}. Best is trial 276 with value: 2.1014704927802086.\n"
     ]
    },
    {
     "name": "stdout",
     "output_type": "stream",
     "text": [
      "Trial 344 finished with value: 2.506584078073502 and parameters: {'opt_Epochs': 6, 'opt_Steps': 15, 'opt_Learning_Rate': 0.2116950398000463, 'opt_Batch_Size': 439, 'opt_Number_of_Noise_Batches': 1, 'opt_Regularization_term': 0.18289053456861978, 'opt_Noise_Dim': 75, 'n_layers': 2}. Best is trial 276 with value: 2.1014704927802086.\n",
      "Trial 344 finished with value: 2.506584078073502 and parameters: {'opt_Epochs': 6, 'opt_Steps': 15, 'opt_Learning_Rate': 0.2116950398000463, 'opt_Batch_Size': 439, 'opt_Number_of_Noise_Batches': 1, 'opt_Regularization_term': 0.18289053456861978, 'opt_Noise_Dim': 75, 'n_layers': 2}. Best is trial 276 with value: 2.1014704927802086.\n"
     ]
    },
    {
     "name": "stderr",
     "output_type": "stream",
     "text": [
      "[I 2025-01-20 11:55:50,813] Trial 345 finished with value: 2.3534351319074625 and parameters: {'opt_Epochs': 6, 'opt_Steps': 13, 'opt_Learning_Rate': 0.28372292658965975, 'opt_Batch_Size': 381, 'opt_Number_of_Noise_Batches': 1, 'opt_Regularization_term': 0.16952577193648766, 'opt_Noise_Dim': 37, 'n_layers': 2}. Best is trial 276 with value: 2.1014704927802086.\n"
     ]
    },
    {
     "name": "stdout",
     "output_type": "stream",
     "text": [
      "Trial 345 finished with value: 2.3534351319074625 and parameters: {'opt_Epochs': 6, 'opt_Steps': 13, 'opt_Learning_Rate': 0.28372292658965975, 'opt_Batch_Size': 381, 'opt_Number_of_Noise_Batches': 1, 'opt_Regularization_term': 0.16952577193648766, 'opt_Noise_Dim': 37, 'n_layers': 2}. Best is trial 276 with value: 2.1014704927802086.\n",
      "Trial 345 finished with value: 2.3534351319074625 and parameters: {'opt_Epochs': 6, 'opt_Steps': 13, 'opt_Learning_Rate': 0.28372292658965975, 'opt_Batch_Size': 381, 'opt_Number_of_Noise_Batches': 1, 'opt_Regularization_term': 0.16952577193648766, 'opt_Noise_Dim': 37, 'n_layers': 2}. Best is trial 276 with value: 2.1014704927802086.\n"
     ]
    },
    {
     "name": "stderr",
     "output_type": "stream",
     "text": [
      "[I 2025-01-20 11:56:46,018] Trial 346 finished with value: 2.272062414884567 and parameters: {'opt_Epochs': 6, 'opt_Steps': 14, 'opt_Learning_Rate': 0.13744580428298192, 'opt_Batch_Size': 359, 'opt_Number_of_Noise_Batches': 1, 'opt_Regularization_term': 0.13800289549864012, 'opt_Noise_Dim': 82, 'n_layers': 2}. Best is trial 276 with value: 2.1014704927802086.\n"
     ]
    },
    {
     "name": "stdout",
     "output_type": "stream",
     "text": [
      "Trial 346 finished with value: 2.272062414884567 and parameters: {'opt_Epochs': 6, 'opt_Steps': 14, 'opt_Learning_Rate': 0.13744580428298192, 'opt_Batch_Size': 359, 'opt_Number_of_Noise_Batches': 1, 'opt_Regularization_term': 0.13800289549864012, 'opt_Noise_Dim': 82, 'n_layers': 2}. Best is trial 276 with value: 2.1014704927802086.\n",
      "Trial 346 finished with value: 2.272062414884567 and parameters: {'opt_Epochs': 6, 'opt_Steps': 14, 'opt_Learning_Rate': 0.13744580428298192, 'opt_Batch_Size': 359, 'opt_Number_of_Noise_Batches': 1, 'opt_Regularization_term': 0.13800289549864012, 'opt_Noise_Dim': 82, 'n_layers': 2}. Best is trial 276 with value: 2.1014704927802086.\n"
     ]
    },
    {
     "name": "stderr",
     "output_type": "stream",
     "text": [
      "[I 2025-01-20 11:57:34,990] Trial 347 finished with value: 2.6910059124231336 and parameters: {'opt_Epochs': 6, 'opt_Steps': 14, 'opt_Learning_Rate': 0.22305449114519113, 'opt_Batch_Size': 358, 'opt_Number_of_Noise_Batches': 1, 'opt_Regularization_term': 0.13478700554618148, 'opt_Noise_Dim': 75, 'n_layers': 1}. Best is trial 276 with value: 2.1014704927802086.\n"
     ]
    },
    {
     "name": "stdout",
     "output_type": "stream",
     "text": [
      "Trial 347 finished with value: 2.6910059124231336 and parameters: {'opt_Epochs': 6, 'opt_Steps': 14, 'opt_Learning_Rate': 0.22305449114519113, 'opt_Batch_Size': 358, 'opt_Number_of_Noise_Batches': 1, 'opt_Regularization_term': 0.13478700554618148, 'opt_Noise_Dim': 75, 'n_layers': 1}. Best is trial 276 with value: 2.1014704927802086.\n",
      "Trial 347 finished with value: 2.6910059124231336 and parameters: {'opt_Epochs': 6, 'opt_Steps': 14, 'opt_Learning_Rate': 0.22305449114519113, 'opt_Batch_Size': 358, 'opt_Number_of_Noise_Batches': 1, 'opt_Regularization_term': 0.13478700554618148, 'opt_Noise_Dim': 75, 'n_layers': 1}. Best is trial 276 with value: 2.1014704927802086.\n"
     ]
    },
    {
     "name": "stderr",
     "output_type": "stream",
     "text": [
      "[I 2025-01-20 11:58:36,329] Trial 348 finished with value: 2.539140529930591 and parameters: {'opt_Epochs': 7, 'opt_Steps': 14, 'opt_Learning_Rate': 0.23466082839627733, 'opt_Batch_Size': 354, 'opt_Number_of_Noise_Batches': 1, 'opt_Regularization_term': 0.13270900983148962, 'opt_Noise_Dim': 84, 'n_layers': 2}. Best is trial 276 with value: 2.1014704927802086.\n"
     ]
    },
    {
     "name": "stdout",
     "output_type": "stream",
     "text": [
      "Trial 348 finished with value: 2.539140529930591 and parameters: {'opt_Epochs': 7, 'opt_Steps': 14, 'opt_Learning_Rate': 0.23466082839627733, 'opt_Batch_Size': 354, 'opt_Number_of_Noise_Batches': 1, 'opt_Regularization_term': 0.13270900983148962, 'opt_Noise_Dim': 84, 'n_layers': 2}. Best is trial 276 with value: 2.1014704927802086.\n",
      "Trial 348 finished with value: 2.539140529930591 and parameters: {'opt_Epochs': 7, 'opt_Steps': 14, 'opt_Learning_Rate': 0.23466082839627733, 'opt_Batch_Size': 354, 'opt_Number_of_Noise_Batches': 1, 'opt_Regularization_term': 0.13270900983148962, 'opt_Noise_Dim': 84, 'n_layers': 2}. Best is trial 276 with value: 2.1014704927802086.\n"
     ]
    },
    {
     "name": "stderr",
     "output_type": "stream",
     "text": [
      "[I 2025-01-20 11:59:22,950] Trial 349 finished with value: 2.3892431557178497 and parameters: {'opt_Epochs': 4, 'opt_Steps': 15, 'opt_Learning_Rate': 0.24255923306613783, 'opt_Batch_Size': 367, 'opt_Number_of_Noise_Batches': 1, 'opt_Regularization_term': 0.1371516479726202, 'opt_Noise_Dim': 62, 'n_layers': 2}. Best is trial 276 with value: 2.1014704927802086.\n"
     ]
    },
    {
     "name": "stdout",
     "output_type": "stream",
     "text": [
      "Trial 349 finished with value: 2.3892431557178497 and parameters: {'opt_Epochs': 4, 'opt_Steps': 15, 'opt_Learning_Rate': 0.24255923306613783, 'opt_Batch_Size': 367, 'opt_Number_of_Noise_Batches': 1, 'opt_Regularization_term': 0.1371516479726202, 'opt_Noise_Dim': 62, 'n_layers': 2}. Best is trial 276 with value: 2.1014704927802086.\n",
      "Trial 349 finished with value: 2.3892431557178497 and parameters: {'opt_Epochs': 4, 'opt_Steps': 15, 'opt_Learning_Rate': 0.24255923306613783, 'opt_Batch_Size': 367, 'opt_Number_of_Noise_Batches': 1, 'opt_Regularization_term': 0.1371516479726202, 'opt_Noise_Dim': 62, 'n_layers': 2}. Best is trial 276 with value: 2.1014704927802086.\n"
     ]
    },
    {
     "name": "stderr",
     "output_type": "stream",
     "text": [
      "[I 2025-01-20 12:00:26,014] Trial 350 finished with value: 2.644587731361389 and parameters: {'opt_Epochs': 6, 'opt_Steps': 16, 'opt_Learning_Rate': 0.22862405193741847, 'opt_Batch_Size': 372, 'opt_Number_of_Noise_Batches': 1, 'opt_Regularization_term': 0.14981204413342503, 'opt_Noise_Dim': 94, 'n_layers': 2}. Best is trial 276 with value: 2.1014704927802086.\n"
     ]
    },
    {
     "name": "stdout",
     "output_type": "stream",
     "text": [
      "Trial 350 finished with value: 2.644587731361389 and parameters: {'opt_Epochs': 6, 'opt_Steps': 16, 'opt_Learning_Rate': 0.22862405193741847, 'opt_Batch_Size': 372, 'opt_Number_of_Noise_Batches': 1, 'opt_Regularization_term': 0.14981204413342503, 'opt_Noise_Dim': 94, 'n_layers': 2}. Best is trial 276 with value: 2.1014704927802086.\n",
      "Trial 350 finished with value: 2.644587731361389 and parameters: {'opt_Epochs': 6, 'opt_Steps': 16, 'opt_Learning_Rate': 0.22862405193741847, 'opt_Batch_Size': 372, 'opt_Number_of_Noise_Batches': 1, 'opt_Regularization_term': 0.14981204413342503, 'opt_Noise_Dim': 94, 'n_layers': 2}. Best is trial 276 with value: 2.1014704927802086.\n"
     ]
    },
    {
     "name": "stderr",
     "output_type": "stream",
     "text": [
      "[I 2025-01-20 12:01:19,857] Trial 351 finished with value: 2.5997363924980164 and parameters: {'opt_Epochs': 6, 'opt_Steps': 14, 'opt_Learning_Rate': 0.10567780810904584, 'opt_Batch_Size': 351, 'opt_Number_of_Noise_Batches': 1, 'opt_Regularization_term': 0.1568482109914424, 'opt_Noise_Dim': 53, 'n_layers': 2}. Best is trial 276 with value: 2.1014704927802086.\n"
     ]
    },
    {
     "name": "stdout",
     "output_type": "stream",
     "text": [
      "Trial 351 finished with value: 2.5997363924980164 and parameters: {'opt_Epochs': 6, 'opt_Steps': 14, 'opt_Learning_Rate': 0.10567780810904584, 'opt_Batch_Size': 351, 'opt_Number_of_Noise_Batches': 1, 'opt_Regularization_term': 0.1568482109914424, 'opt_Noise_Dim': 53, 'n_layers': 2}. Best is trial 276 with value: 2.1014704927802086.\n",
      "Trial 351 finished with value: 2.5997363924980164 and parameters: {'opt_Epochs': 6, 'opt_Steps': 14, 'opt_Learning_Rate': 0.10567780810904584, 'opt_Batch_Size': 351, 'opt_Number_of_Noise_Batches': 1, 'opt_Regularization_term': 0.1568482109914424, 'opt_Noise_Dim': 53, 'n_layers': 2}. Best is trial 276 with value: 2.1014704927802086.\n"
     ]
    },
    {
     "name": "stderr",
     "output_type": "stream",
     "text": [
      "[I 2025-01-20 12:02:16,829] Trial 352 finished with value: 2.4979793965816497 and parameters: {'opt_Epochs': 6, 'opt_Steps': 13, 'opt_Learning_Rate': 0.21822390906374703, 'opt_Batch_Size': 409, 'opt_Number_of_Noise_Batches': 1, 'opt_Regularization_term': 0.1195922624298375, 'opt_Noise_Dim': 102, 'n_layers': 2}. Best is trial 276 with value: 2.1014704927802086.\n"
     ]
    },
    {
     "name": "stdout",
     "output_type": "stream",
     "text": [
      "Trial 352 finished with value: 2.4979793965816497 and parameters: {'opt_Epochs': 6, 'opt_Steps': 13, 'opt_Learning_Rate': 0.21822390906374703, 'opt_Batch_Size': 409, 'opt_Number_of_Noise_Batches': 1, 'opt_Regularization_term': 0.1195922624298375, 'opt_Noise_Dim': 102, 'n_layers': 2}. Best is trial 276 with value: 2.1014704927802086.\n",
      "Trial 352 finished with value: 2.4979793965816497 and parameters: {'opt_Epochs': 6, 'opt_Steps': 13, 'opt_Learning_Rate': 0.21822390906374703, 'opt_Batch_Size': 409, 'opt_Number_of_Noise_Batches': 1, 'opt_Regularization_term': 0.1195922624298375, 'opt_Noise_Dim': 102, 'n_layers': 2}. Best is trial 276 with value: 2.1014704927802086.\n"
     ]
    },
    {
     "name": "stderr",
     "output_type": "stream",
     "text": [
      "[I 2025-01-20 12:03:10,209] Trial 353 finished with value: 2.4883084729313842 and parameters: {'opt_Epochs': 5, 'opt_Steps': 15, 'opt_Learning_Rate': 0.07628225666828575, 'opt_Batch_Size': 380, 'opt_Number_of_Noise_Batches': 1, 'opt_Regularization_term': 0.11712024623176338, 'opt_Noise_Dim': 81, 'n_layers': 2}. Best is trial 276 with value: 2.1014704927802086.\n"
     ]
    },
    {
     "name": "stdout",
     "output_type": "stream",
     "text": [
      "Trial 353 finished with value: 2.4883084729313842 and parameters: {'opt_Epochs': 5, 'opt_Steps': 15, 'opt_Learning_Rate': 0.07628225666828575, 'opt_Batch_Size': 380, 'opt_Number_of_Noise_Batches': 1, 'opt_Regularization_term': 0.11712024623176338, 'opt_Noise_Dim': 81, 'n_layers': 2}. Best is trial 276 with value: 2.1014704927802086.\n",
      "Trial 353 finished with value: 2.4883084729313842 and parameters: {'opt_Epochs': 5, 'opt_Steps': 15, 'opt_Learning_Rate': 0.07628225666828575, 'opt_Batch_Size': 380, 'opt_Number_of_Noise_Batches': 1, 'opt_Regularization_term': 0.11712024623176338, 'opt_Noise_Dim': 81, 'n_layers': 2}. Best is trial 276 with value: 2.1014704927802086.\n"
     ]
    },
    {
     "name": "stderr",
     "output_type": "stream",
     "text": [
      "[I 2025-01-20 12:04:09,801] Trial 354 finished with value: 2.331334784626961 and parameters: {'opt_Epochs': 6, 'opt_Steps': 14, 'opt_Learning_Rate': 0.21412875807052925, 'opt_Batch_Size': 393, 'opt_Number_of_Noise_Batches': 3, 'opt_Regularization_term': 0.14385925683775275, 'opt_Noise_Dim': 67, 'n_layers': 2}. Best is trial 276 with value: 2.1014704927802086.\n"
     ]
    },
    {
     "name": "stdout",
     "output_type": "stream",
     "text": [
      "Trial 354 finished with value: 2.331334784626961 and parameters: {'opt_Epochs': 6, 'opt_Steps': 14, 'opt_Learning_Rate': 0.21412875807052925, 'opt_Batch_Size': 393, 'opt_Number_of_Noise_Batches': 3, 'opt_Regularization_term': 0.14385925683775275, 'opt_Noise_Dim': 67, 'n_layers': 2}. Best is trial 276 with value: 2.1014704927802086.\n",
      "Trial 354 finished with value: 2.331334784626961 and parameters: {'opt_Epochs': 6, 'opt_Steps': 14, 'opt_Learning_Rate': 0.21412875807052925, 'opt_Batch_Size': 393, 'opt_Number_of_Noise_Batches': 3, 'opt_Regularization_term': 0.14385925683775275, 'opt_Noise_Dim': 67, 'n_layers': 2}. Best is trial 276 with value: 2.1014704927802086.\n"
     ]
    },
    {
     "name": "stderr",
     "output_type": "stream",
     "text": [
      "[I 2025-01-20 12:04:59,253] Trial 355 finished with value: 2.1723136812448502 and parameters: {'opt_Epochs': 5, 'opt_Steps': 14, 'opt_Learning_Rate': 0.22445187291859547, 'opt_Batch_Size': 366, 'opt_Number_of_Noise_Batches': 1, 'opt_Regularization_term': 0.1261152513269131, 'opt_Noise_Dim': 40, 'n_layers': 2}. Best is trial 276 with value: 2.1014704927802086.\n"
     ]
    },
    {
     "name": "stdout",
     "output_type": "stream",
     "text": [
      "Trial 355 finished with value: 2.1723136812448502 and parameters: {'opt_Epochs': 5, 'opt_Steps': 14, 'opt_Learning_Rate': 0.22445187291859547, 'opt_Batch_Size': 366, 'opt_Number_of_Noise_Batches': 1, 'opt_Regularization_term': 0.1261152513269131, 'opt_Noise_Dim': 40, 'n_layers': 2}. Best is trial 276 with value: 2.1014704927802086.\n",
      "Trial 355 finished with value: 2.1723136812448502 and parameters: {'opt_Epochs': 5, 'opt_Steps': 14, 'opt_Learning_Rate': 0.22445187291859547, 'opt_Batch_Size': 366, 'opt_Number_of_Noise_Batches': 1, 'opt_Regularization_term': 0.1261152513269131, 'opt_Noise_Dim': 40, 'n_layers': 2}. Best is trial 276 with value: 2.1014704927802086.\n"
     ]
    },
    {
     "name": "stderr",
     "output_type": "stream",
     "text": [
      "[I 2025-01-20 12:05:51,879] Trial 356 finished with value: 2.440749390423298 and parameters: {'opt_Epochs': 5, 'opt_Steps': 13, 'opt_Learning_Rate': 0.06148789278567575, 'opt_Batch_Size': 423, 'opt_Number_of_Noise_Batches': 1, 'opt_Regularization_term': 0.13970256537796677, 'opt_Noise_Dim': 33, 'n_layers': 2}. Best is trial 276 with value: 2.1014704927802086.\n"
     ]
    },
    {
     "name": "stdout",
     "output_type": "stream",
     "text": [
      "Trial 356 finished with value: 2.440749390423298 and parameters: {'opt_Epochs': 5, 'opt_Steps': 13, 'opt_Learning_Rate': 0.06148789278567575, 'opt_Batch_Size': 423, 'opt_Number_of_Noise_Batches': 1, 'opt_Regularization_term': 0.13970256537796677, 'opt_Noise_Dim': 33, 'n_layers': 2}. Best is trial 276 with value: 2.1014704927802086.\n",
      "Trial 356 finished with value: 2.440749390423298 and parameters: {'opt_Epochs': 5, 'opt_Steps': 13, 'opt_Learning_Rate': 0.06148789278567575, 'opt_Batch_Size': 423, 'opt_Number_of_Noise_Batches': 1, 'opt_Regularization_term': 0.13970256537796677, 'opt_Noise_Dim': 33, 'n_layers': 2}. Best is trial 276 with value: 2.1014704927802086.\n"
     ]
    },
    {
     "name": "stderr",
     "output_type": "stream",
     "text": [
      "[I 2025-01-20 12:06:43,677] Trial 357 finished with value: 2.495897041261196 and parameters: {'opt_Epochs': 5, 'opt_Steps': 15, 'opt_Learning_Rate': 0.2334019149841963, 'opt_Batch_Size': 359, 'opt_Number_of_Noise_Batches': 1, 'opt_Regularization_term': 0.12442495266202044, 'opt_Noise_Dim': 50, 'n_layers': 2}. Best is trial 276 with value: 2.1014704927802086.\n"
     ]
    },
    {
     "name": "stdout",
     "output_type": "stream",
     "text": [
      "Trial 357 finished with value: 2.495897041261196 and parameters: {'opt_Epochs': 5, 'opt_Steps': 15, 'opt_Learning_Rate': 0.2334019149841963, 'opt_Batch_Size': 359, 'opt_Number_of_Noise_Batches': 1, 'opt_Regularization_term': 0.12442495266202044, 'opt_Noise_Dim': 50, 'n_layers': 2}. Best is trial 276 with value: 2.1014704927802086.\n",
      "Trial 357 finished with value: 2.495897041261196 and parameters: {'opt_Epochs': 5, 'opt_Steps': 15, 'opt_Learning_Rate': 0.2334019149841963, 'opt_Batch_Size': 359, 'opt_Number_of_Noise_Batches': 1, 'opt_Regularization_term': 0.12442495266202044, 'opt_Noise_Dim': 50, 'n_layers': 2}. Best is trial 276 with value: 2.1014704927802086.\n"
     ]
    },
    {
     "name": "stderr",
     "output_type": "stream",
     "text": [
      "[I 2025-01-20 12:07:34,015] Trial 358 finished with value: 2.54025727212429 and parameters: {'opt_Epochs': 5, 'opt_Steps': 14, 'opt_Learning_Rate': 0.20604812281676824, 'opt_Batch_Size': 378, 'opt_Number_of_Noise_Batches': 1, 'opt_Regularization_term': 0.12826713771159554, 'opt_Noise_Dim': 37, 'n_layers': 2}. Best is trial 276 with value: 2.1014704927802086.\n"
     ]
    },
    {
     "name": "stdout",
     "output_type": "stream",
     "text": [
      "Trial 358 finished with value: 2.54025727212429 and parameters: {'opt_Epochs': 5, 'opt_Steps': 14, 'opt_Learning_Rate': 0.20604812281676824, 'opt_Batch_Size': 378, 'opt_Number_of_Noise_Batches': 1, 'opt_Regularization_term': 0.12826713771159554, 'opt_Noise_Dim': 37, 'n_layers': 2}. Best is trial 276 with value: 2.1014704927802086.\n",
      "Trial 358 finished with value: 2.54025727212429 and parameters: {'opt_Epochs': 5, 'opt_Steps': 14, 'opt_Learning_Rate': 0.20604812281676824, 'opt_Batch_Size': 378, 'opt_Number_of_Noise_Batches': 1, 'opt_Regularization_term': 0.12826713771159554, 'opt_Noise_Dim': 37, 'n_layers': 2}. Best is trial 276 with value: 2.1014704927802086.\n"
     ]
    },
    {
     "name": "stderr",
     "output_type": "stream",
     "text": [
      "[I 2025-01-20 12:08:31,244] Trial 359 finished with value: 2.276407206058502 and parameters: {'opt_Epochs': 5, 'opt_Steps': 16, 'opt_Learning_Rate': 0.2766570148989254, 'opt_Batch_Size': 388, 'opt_Number_of_Noise_Batches': 1, 'opt_Regularization_term': 0.12292466012829116, 'opt_Noise_Dim': 17, 'n_layers': 2}. Best is trial 276 with value: 2.1014704927802086.\n"
     ]
    },
    {
     "name": "stdout",
     "output_type": "stream",
     "text": [
      "Trial 359 finished with value: 2.276407206058502 and parameters: {'opt_Epochs': 5, 'opt_Steps': 16, 'opt_Learning_Rate': 0.2766570148989254, 'opt_Batch_Size': 388, 'opt_Number_of_Noise_Batches': 1, 'opt_Regularization_term': 0.12292466012829116, 'opt_Noise_Dim': 17, 'n_layers': 2}. Best is trial 276 with value: 2.1014704927802086.\n",
      "Trial 359 finished with value: 2.276407206058502 and parameters: {'opt_Epochs': 5, 'opt_Steps': 16, 'opt_Learning_Rate': 0.2766570148989254, 'opt_Batch_Size': 388, 'opt_Number_of_Noise_Batches': 1, 'opt_Regularization_term': 0.12292466012829116, 'opt_Noise_Dim': 17, 'n_layers': 2}. Best is trial 276 with value: 2.1014704927802086.\n"
     ]
    },
    {
     "name": "stderr",
     "output_type": "stream",
     "text": [
      "[I 2025-01-20 12:09:19,520] Trial 360 finished with value: 2.4636808723211283 and parameters: {'opt_Epochs': 4, 'opt_Steps': 15, 'opt_Learning_Rate': 0.22977608471840058, 'opt_Batch_Size': 401, 'opt_Number_of_Noise_Batches': 1, 'opt_Regularization_term': 0.12773940631151162, 'opt_Noise_Dim': 53, 'n_layers': 2}. Best is trial 276 with value: 2.1014704927802086.\n"
     ]
    },
    {
     "name": "stdout",
     "output_type": "stream",
     "text": [
      "Trial 360 finished with value: 2.4636808723211283 and parameters: {'opt_Epochs': 4, 'opt_Steps': 15, 'opt_Learning_Rate': 0.22977608471840058, 'opt_Batch_Size': 401, 'opt_Number_of_Noise_Batches': 1, 'opt_Regularization_term': 0.12773940631151162, 'opt_Noise_Dim': 53, 'n_layers': 2}. Best is trial 276 with value: 2.1014704927802086.\n",
      "Trial 360 finished with value: 2.4636808723211283 and parameters: {'opt_Epochs': 4, 'opt_Steps': 15, 'opt_Learning_Rate': 0.22977608471840058, 'opt_Batch_Size': 401, 'opt_Number_of_Noise_Batches': 1, 'opt_Regularization_term': 0.12773940631151162, 'opt_Noise_Dim': 53, 'n_layers': 2}. Best is trial 276 with value: 2.1014704927802086.\n"
     ]
    },
    {
     "name": "stderr",
     "output_type": "stream",
     "text": [
      "[I 2025-01-20 12:09:45,637] Trial 361 finished with value: 5.098960611224175 and parameters: {'opt_Epochs': 1, 'opt_Steps': 13, 'opt_Learning_Rate': 0.29368686296866886, 'opt_Batch_Size': 364, 'opt_Number_of_Noise_Batches': 2, 'opt_Regularization_term': 0.2038813830817517, 'opt_Noise_Dim': 29, 'n_layers': 2}. Best is trial 276 with value: 2.1014704927802086.\n"
     ]
    },
    {
     "name": "stdout",
     "output_type": "stream",
     "text": [
      "Trial 361 finished with value: 5.098960611224175 and parameters: {'opt_Epochs': 1, 'opt_Steps': 13, 'opt_Learning_Rate': 0.29368686296866886, 'opt_Batch_Size': 364, 'opt_Number_of_Noise_Batches': 2, 'opt_Regularization_term': 0.2038813830817517, 'opt_Noise_Dim': 29, 'n_layers': 2}. Best is trial 276 with value: 2.1014704927802086.\n",
      "Trial 361 finished with value: 5.098960611224175 and parameters: {'opt_Epochs': 1, 'opt_Steps': 13, 'opt_Learning_Rate': 0.29368686296866886, 'opt_Batch_Size': 364, 'opt_Number_of_Noise_Batches': 2, 'opt_Regularization_term': 0.2038813830817517, 'opt_Noise_Dim': 29, 'n_layers': 2}. Best is trial 276 with value: 2.1014704927802086.\n"
     ]
    },
    {
     "name": "stderr",
     "output_type": "stream",
     "text": [
      "[I 2025-01-20 12:10:39,583] Trial 362 finished with value: 2.607830521464348 and parameters: {'opt_Epochs': 5, 'opt_Steps': 15, 'opt_Learning_Rate': 0.23819728330797282, 'opt_Batch_Size': 378, 'opt_Number_of_Noise_Batches': 1, 'opt_Regularization_term': 0.11280165215979443, 'opt_Noise_Dim': 62, 'n_layers': 2}. Best is trial 276 with value: 2.1014704927802086.\n"
     ]
    },
    {
     "name": "stdout",
     "output_type": "stream",
     "text": [
      "Trial 362 finished with value: 2.607830521464348 and parameters: {'opt_Epochs': 5, 'opt_Steps': 15, 'opt_Learning_Rate': 0.23819728330797282, 'opt_Batch_Size': 378, 'opt_Number_of_Noise_Batches': 1, 'opt_Regularization_term': 0.11280165215979443, 'opt_Noise_Dim': 62, 'n_layers': 2}. Best is trial 276 with value: 2.1014704927802086.\n",
      "Trial 362 finished with value: 2.607830521464348 and parameters: {'opt_Epochs': 5, 'opt_Steps': 15, 'opt_Learning_Rate': 0.23819728330797282, 'opt_Batch_Size': 378, 'opt_Number_of_Noise_Batches': 1, 'opt_Regularization_term': 0.11280165215979443, 'opt_Noise_Dim': 62, 'n_layers': 2}. Best is trial 276 with value: 2.1014704927802086.\n"
     ]
    },
    {
     "name": "stderr",
     "output_type": "stream",
     "text": [
      "[I 2025-01-20 12:11:22,487] Trial 363 finished with value: 2.2006680279970166 and parameters: {'opt_Epochs': 4, 'opt_Steps': 14, 'opt_Learning_Rate': 0.13542487456382518, 'opt_Batch_Size': 350, 'opt_Number_of_Noise_Batches': 1, 'opt_Regularization_term': 0.11833558352961271, 'opt_Noise_Dim': 71, 'n_layers': 2}. Best is trial 276 with value: 2.1014704927802086.\n"
     ]
    },
    {
     "name": "stdout",
     "output_type": "stream",
     "text": [
      "Trial 363 finished with value: 2.2006680279970166 and parameters: {'opt_Epochs': 4, 'opt_Steps': 14, 'opt_Learning_Rate': 0.13542487456382518, 'opt_Batch_Size': 350, 'opt_Number_of_Noise_Batches': 1, 'opt_Regularization_term': 0.11833558352961271, 'opt_Noise_Dim': 71, 'n_layers': 2}. Best is trial 276 with value: 2.1014704927802086.\n",
      "Trial 363 finished with value: 2.2006680279970166 and parameters: {'opt_Epochs': 4, 'opt_Steps': 14, 'opt_Learning_Rate': 0.13542487456382518, 'opt_Batch_Size': 350, 'opt_Number_of_Noise_Batches': 1, 'opt_Regularization_term': 0.11833558352961271, 'opt_Noise_Dim': 71, 'n_layers': 2}. Best is trial 276 with value: 2.1014704927802086.\n"
     ]
    },
    {
     "name": "stderr",
     "output_type": "stream",
     "text": [
      "[I 2025-01-20 12:12:01,586] Trial 364 finished with value: 2.3707968026399615 and parameters: {'opt_Epochs': 4, 'opt_Steps': 14, 'opt_Learning_Rate': 0.050106081130222316, 'opt_Batch_Size': 351, 'opt_Number_of_Noise_Batches': 1, 'opt_Regularization_term': 0.10187771525458147, 'opt_Noise_Dim': 43, 'n_layers': 1}. Best is trial 276 with value: 2.1014704927802086.\n"
     ]
    },
    {
     "name": "stdout",
     "output_type": "stream",
     "text": [
      "Trial 364 finished with value: 2.3707968026399615 and parameters: {'opt_Epochs': 4, 'opt_Steps': 14, 'opt_Learning_Rate': 0.050106081130222316, 'opt_Batch_Size': 351, 'opt_Number_of_Noise_Batches': 1, 'opt_Regularization_term': 0.10187771525458147, 'opt_Noise_Dim': 43, 'n_layers': 1}. Best is trial 276 with value: 2.1014704927802086.\n",
      "Trial 364 finished with value: 2.3707968026399615 and parameters: {'opt_Epochs': 4, 'opt_Steps': 14, 'opt_Learning_Rate': 0.050106081130222316, 'opt_Batch_Size': 351, 'opt_Number_of_Noise_Batches': 1, 'opt_Regularization_term': 0.10187771525458147, 'opt_Noise_Dim': 43, 'n_layers': 1}. Best is trial 276 with value: 2.1014704927802086.\n"
     ]
    },
    {
     "name": "stderr",
     "output_type": "stream",
     "text": [
      "[I 2025-01-20 12:12:46,694] Trial 365 finished with value: 2.285427632927895 and parameters: {'opt_Epochs': 4, 'opt_Steps': 13, 'opt_Learning_Rate': 0.2224110642672328, 'opt_Batch_Size': 411, 'opt_Number_of_Noise_Batches': 1, 'opt_Regularization_term': 0.21476352520249548, 'opt_Noise_Dim': 43, 'n_layers': 2}. Best is trial 276 with value: 2.1014704927802086.\n"
     ]
    },
    {
     "name": "stdout",
     "output_type": "stream",
     "text": [
      "Trial 365 finished with value: 2.285427632927895 and parameters: {'opt_Epochs': 4, 'opt_Steps': 13, 'opt_Learning_Rate': 0.2224110642672328, 'opt_Batch_Size': 411, 'opt_Number_of_Noise_Batches': 1, 'opt_Regularization_term': 0.21476352520249548, 'opt_Noise_Dim': 43, 'n_layers': 2}. Best is trial 276 with value: 2.1014704927802086.\n",
      "Trial 365 finished with value: 2.285427632927895 and parameters: {'opt_Epochs': 4, 'opt_Steps': 13, 'opt_Learning_Rate': 0.2224110642672328, 'opt_Batch_Size': 411, 'opt_Number_of_Noise_Batches': 1, 'opt_Regularization_term': 0.21476352520249548, 'opt_Noise_Dim': 43, 'n_layers': 2}. Best is trial 276 with value: 2.1014704927802086.\n"
     ]
    },
    {
     "name": "stderr",
     "output_type": "stream",
     "text": [
      "[I 2025-01-20 12:13:35,875] Trial 366 finished with value: 2.6596309870481494 and parameters: {'opt_Epochs': 4, 'opt_Steps': 15, 'opt_Learning_Rate': 0.09404832301096705, 'opt_Batch_Size': 389, 'opt_Number_of_Noise_Batches': 1, 'opt_Regularization_term': 0.11812292927662517, 'opt_Noise_Dim': 68, 'n_layers': 2}. Best is trial 276 with value: 2.1014704927802086.\n"
     ]
    },
    {
     "name": "stdout",
     "output_type": "stream",
     "text": [
      "Trial 366 finished with value: 2.6596309870481494 and parameters: {'opt_Epochs': 4, 'opt_Steps': 15, 'opt_Learning_Rate': 0.09404832301096705, 'opt_Batch_Size': 389, 'opt_Number_of_Noise_Batches': 1, 'opt_Regularization_term': 0.11812292927662517, 'opt_Noise_Dim': 68, 'n_layers': 2}. Best is trial 276 with value: 2.1014704927802086.\n",
      "Trial 366 finished with value: 2.6596309870481494 and parameters: {'opt_Epochs': 4, 'opt_Steps': 15, 'opt_Learning_Rate': 0.09404832301096705, 'opt_Batch_Size': 389, 'opt_Number_of_Noise_Batches': 1, 'opt_Regularization_term': 0.11812292927662517, 'opt_Noise_Dim': 68, 'n_layers': 2}. Best is trial 276 with value: 2.1014704927802086.\n"
     ]
    },
    {
     "name": "stderr",
     "output_type": "stream",
     "text": [
      "[I 2025-01-20 12:14:24,455] Trial 367 finished with value: 2.3043078854680057 and parameters: {'opt_Epochs': 4, 'opt_Steps': 16, 'opt_Learning_Rate': 0.2271742368071479, 'opt_Batch_Size': 370, 'opt_Number_of_Noise_Batches': 1, 'opt_Regularization_term': 0.1122475916629534, 'opt_Noise_Dim': 57, 'n_layers': 2}. Best is trial 276 with value: 2.1014704927802086.\n"
     ]
    },
    {
     "name": "stdout",
     "output_type": "stream",
     "text": [
      "Trial 367 finished with value: 2.3043078854680057 and parameters: {'opt_Epochs': 4, 'opt_Steps': 16, 'opt_Learning_Rate': 0.2271742368071479, 'opt_Batch_Size': 370, 'opt_Number_of_Noise_Batches': 1, 'opt_Regularization_term': 0.1122475916629534, 'opt_Noise_Dim': 57, 'n_layers': 2}. Best is trial 276 with value: 2.1014704927802086.\n",
      "Trial 367 finished with value: 2.3043078854680057 and parameters: {'opt_Epochs': 4, 'opt_Steps': 16, 'opt_Learning_Rate': 0.2271742368071479, 'opt_Batch_Size': 370, 'opt_Number_of_Noise_Batches': 1, 'opt_Regularization_term': 0.1122475916629534, 'opt_Noise_Dim': 57, 'n_layers': 2}. Best is trial 276 with value: 2.1014704927802086.\n"
     ]
    },
    {
     "name": "stderr",
     "output_type": "stream",
     "text": [
      "[I 2025-01-20 12:15:10,815] Trial 368 finished with value: 2.3392559617757795 and parameters: {'opt_Epochs': 4, 'opt_Steps': 14, 'opt_Learning_Rate': 0.2095486174788037, 'opt_Batch_Size': 397, 'opt_Number_of_Noise_Batches': 2, 'opt_Regularization_term': 0.19565667407588935, 'opt_Noise_Dim': 27, 'n_layers': 2}. Best is trial 276 with value: 2.1014704927802086.\n"
     ]
    },
    {
     "name": "stdout",
     "output_type": "stream",
     "text": [
      "Trial 368 finished with value: 2.3392559617757795 and parameters: {'opt_Epochs': 4, 'opt_Steps': 14, 'opt_Learning_Rate': 0.2095486174788037, 'opt_Batch_Size': 397, 'opt_Number_of_Noise_Batches': 2, 'opt_Regularization_term': 0.19565667407588935, 'opt_Noise_Dim': 27, 'n_layers': 2}. Best is trial 276 with value: 2.1014704927802086.\n",
      "Trial 368 finished with value: 2.3392559617757795 and parameters: {'opt_Epochs': 4, 'opt_Steps': 14, 'opt_Learning_Rate': 0.2095486174788037, 'opt_Batch_Size': 397, 'opt_Number_of_Noise_Batches': 2, 'opt_Regularization_term': 0.19565667407588935, 'opt_Noise_Dim': 27, 'n_layers': 2}. Best is trial 276 with value: 2.1014704927802086.\n"
     ]
    },
    {
     "name": "stderr",
     "output_type": "stream",
     "text": [
      "[I 2025-01-20 12:15:56,851] Trial 369 finished with value: 2.3132658392190932 and parameters: {'opt_Epochs': 4, 'opt_Steps': 14, 'opt_Learning_Rate': 0.22204849974016547, 'opt_Batch_Size': 383, 'opt_Number_of_Noise_Batches': 1, 'opt_Regularization_term': 0.1742132562364875, 'opt_Noise_Dim': 72, 'n_layers': 2}. Best is trial 276 with value: 2.1014704927802086.\n"
     ]
    },
    {
     "name": "stdout",
     "output_type": "stream",
     "text": [
      "Trial 369 finished with value: 2.3132658392190932 and parameters: {'opt_Epochs': 4, 'opt_Steps': 14, 'opt_Learning_Rate': 0.22204849974016547, 'opt_Batch_Size': 383, 'opt_Number_of_Noise_Batches': 1, 'opt_Regularization_term': 0.1742132562364875, 'opt_Noise_Dim': 72, 'n_layers': 2}. Best is trial 276 with value: 2.1014704927802086.\n",
      "Trial 369 finished with value: 2.3132658392190932 and parameters: {'opt_Epochs': 4, 'opt_Steps': 14, 'opt_Learning_Rate': 0.22204849974016547, 'opt_Batch_Size': 383, 'opt_Number_of_Noise_Batches': 1, 'opt_Regularization_term': 0.1742132562364875, 'opt_Noise_Dim': 72, 'n_layers': 2}. Best is trial 276 with value: 2.1014704927802086.\n"
     ]
    },
    {
     "name": "stderr",
     "output_type": "stream",
     "text": [
      "[I 2025-01-20 12:16:51,316] Trial 370 finished with value: 2.4547274157404906 and parameters: {'opt_Epochs': 4, 'opt_Steps': 17, 'opt_Learning_Rate': 0.21586886308990386, 'opt_Batch_Size': 374, 'opt_Number_of_Noise_Batches': 1, 'opt_Regularization_term': 0.20774315647439243, 'opt_Noise_Dim': 46, 'n_layers': 2}. Best is trial 276 with value: 2.1014704927802086.\n"
     ]
    },
    {
     "name": "stdout",
     "output_type": "stream",
     "text": [
      "Trial 370 finished with value: 2.4547274157404906 and parameters: {'opt_Epochs': 4, 'opt_Steps': 17, 'opt_Learning_Rate': 0.21586886308990386, 'opt_Batch_Size': 374, 'opt_Number_of_Noise_Batches': 1, 'opt_Regularization_term': 0.20774315647439243, 'opt_Noise_Dim': 46, 'n_layers': 2}. Best is trial 276 with value: 2.1014704927802086.\n",
      "Trial 370 finished with value: 2.4547274157404906 and parameters: {'opt_Epochs': 4, 'opt_Steps': 17, 'opt_Learning_Rate': 0.21586886308990386, 'opt_Batch_Size': 374, 'opt_Number_of_Noise_Batches': 1, 'opt_Regularization_term': 0.20774315647439243, 'opt_Noise_Dim': 46, 'n_layers': 2}. Best is trial 276 with value: 2.1014704927802086.\n"
     ]
    },
    {
     "name": "stderr",
     "output_type": "stream",
     "text": [
      "[I 2025-01-20 12:17:33,821] Trial 371 finished with value: 2.3040655046701435 and parameters: {'opt_Epochs': 5, 'opt_Steps': 9, 'opt_Learning_Rate': 0.23345376279605862, 'opt_Batch_Size': 363, 'opt_Number_of_Noise_Batches': 1, 'opt_Regularization_term': 0.10404650829317397, 'opt_Noise_Dim': 63, 'n_layers': 2}. Best is trial 276 with value: 2.1014704927802086.\n"
     ]
    },
    {
     "name": "stdout",
     "output_type": "stream",
     "text": [
      "Trial 371 finished with value: 2.3040655046701435 and parameters: {'opt_Epochs': 5, 'opt_Steps': 9, 'opt_Learning_Rate': 0.23345376279605862, 'opt_Batch_Size': 363, 'opt_Number_of_Noise_Batches': 1, 'opt_Regularization_term': 0.10404650829317397, 'opt_Noise_Dim': 63, 'n_layers': 2}. Best is trial 276 with value: 2.1014704927802086.\n",
      "Trial 371 finished with value: 2.3040655046701435 and parameters: {'opt_Epochs': 5, 'opt_Steps': 9, 'opt_Learning_Rate': 0.23345376279605862, 'opt_Batch_Size': 363, 'opt_Number_of_Noise_Batches': 1, 'opt_Regularization_term': 0.10404650829317397, 'opt_Noise_Dim': 63, 'n_layers': 2}. Best is trial 276 with value: 2.1014704927802086.\n"
     ]
    },
    {
     "name": "stderr",
     "output_type": "stream",
     "text": [
      "[I 2025-01-20 12:18:02,537] Trial 372 finished with value: 2.872664213180542 and parameters: {'opt_Epochs': 1, 'opt_Steps': 15, 'opt_Learning_Rate': 0.24180164285802414, 'opt_Batch_Size': 346, 'opt_Number_of_Noise_Batches': 1, 'opt_Regularization_term': 0.11496226641370727, 'opt_Noise_Dim': 76, 'n_layers': 2}. Best is trial 276 with value: 2.1014704927802086.\n"
     ]
    },
    {
     "name": "stdout",
     "output_type": "stream",
     "text": [
      "Trial 372 finished with value: 2.872664213180542 and parameters: {'opt_Epochs': 1, 'opt_Steps': 15, 'opt_Learning_Rate': 0.24180164285802414, 'opt_Batch_Size': 346, 'opt_Number_of_Noise_Batches': 1, 'opt_Regularization_term': 0.11496226641370727, 'opt_Noise_Dim': 76, 'n_layers': 2}. Best is trial 276 with value: 2.1014704927802086.\n",
      "Trial 372 finished with value: 2.872664213180542 and parameters: {'opt_Epochs': 1, 'opt_Steps': 15, 'opt_Learning_Rate': 0.24180164285802414, 'opt_Batch_Size': 346, 'opt_Number_of_Noise_Batches': 1, 'opt_Regularization_term': 0.11496226641370727, 'opt_Noise_Dim': 76, 'n_layers': 2}. Best is trial 276 with value: 2.1014704927802086.\n"
     ]
    },
    {
     "name": "stderr",
     "output_type": "stream",
     "text": [
      "[I 2025-01-20 12:18:51,262] Trial 373 finished with value: 2.281201446056366 and parameters: {'opt_Epochs': 5, 'opt_Steps': 10, 'opt_Learning_Rate': 0.22672170896193364, 'opt_Batch_Size': 404, 'opt_Number_of_Noise_Batches': 1, 'opt_Regularization_term': 0.19256180352034424, 'opt_Noise_Dim': 58, 'n_layers': 2}. Best is trial 276 with value: 2.1014704927802086.\n"
     ]
    },
    {
     "name": "stdout",
     "output_type": "stream",
     "text": [
      "Trial 373 finished with value: 2.281201446056366 and parameters: {'opt_Epochs': 5, 'opt_Steps': 10, 'opt_Learning_Rate': 0.22672170896193364, 'opt_Batch_Size': 404, 'opt_Number_of_Noise_Batches': 1, 'opt_Regularization_term': 0.19256180352034424, 'opt_Noise_Dim': 58, 'n_layers': 2}. Best is trial 276 with value: 2.1014704927802086.\n",
      "Trial 373 finished with value: 2.281201446056366 and parameters: {'opt_Epochs': 5, 'opt_Steps': 10, 'opt_Learning_Rate': 0.22672170896193364, 'opt_Batch_Size': 404, 'opt_Number_of_Noise_Batches': 1, 'opt_Regularization_term': 0.19256180352034424, 'opt_Noise_Dim': 58, 'n_layers': 2}. Best is trial 276 with value: 2.1014704927802086.\n"
     ]
    },
    {
     "name": "stderr",
     "output_type": "stream",
     "text": [
      "[I 2025-01-20 12:19:53,012] Trial 374 finished with value: 2.613734133541585 and parameters: {'opt_Epochs': 5, 'opt_Steps': 15, 'opt_Learning_Rate': 0.010397057484328719, 'opt_Batch_Size': 419, 'opt_Number_of_Noise_Batches': 1, 'opt_Regularization_term': 0.1626542658965691, 'opt_Noise_Dim': 504, 'n_layers': 2}. Best is trial 276 with value: 2.1014704927802086.\n"
     ]
    },
    {
     "name": "stdout",
     "output_type": "stream",
     "text": [
      "Trial 374 finished with value: 2.613734133541585 and parameters: {'opt_Epochs': 5, 'opt_Steps': 15, 'opt_Learning_Rate': 0.010397057484328719, 'opt_Batch_Size': 419, 'opt_Number_of_Noise_Batches': 1, 'opt_Regularization_term': 0.1626542658965691, 'opt_Noise_Dim': 504, 'n_layers': 2}. Best is trial 276 with value: 2.1014704927802086.\n",
      "Trial 374 finished with value: 2.613734133541585 and parameters: {'opt_Epochs': 5, 'opt_Steps': 15, 'opt_Learning_Rate': 0.010397057484328719, 'opt_Batch_Size': 419, 'opt_Number_of_Noise_Batches': 1, 'opt_Regularization_term': 0.1626542658965691, 'opt_Noise_Dim': 504, 'n_layers': 2}. Best is trial 276 with value: 2.1014704927802086.\n"
     ]
    },
    {
     "name": "stderr",
     "output_type": "stream",
     "text": [
      "[I 2025-01-20 12:20:23,906] Trial 375 finished with value: 4.953852283954621 and parameters: {'opt_Epochs': 1, 'opt_Steps': 14, 'opt_Learning_Rate': 0.2734774628402528, 'opt_Batch_Size': 392, 'opt_Number_of_Noise_Batches': 1, 'opt_Regularization_term': 0.177562128494718, 'opt_Noise_Dim': 312, 'n_layers': 2}. Best is trial 276 with value: 2.1014704927802086.\n"
     ]
    },
    {
     "name": "stdout",
     "output_type": "stream",
     "text": [
      "Trial 375 finished with value: 4.953852283954621 and parameters: {'opt_Epochs': 1, 'opt_Steps': 14, 'opt_Learning_Rate': 0.2734774628402528, 'opt_Batch_Size': 392, 'opt_Number_of_Noise_Batches': 1, 'opt_Regularization_term': 0.177562128494718, 'opt_Noise_Dim': 312, 'n_layers': 2}. Best is trial 276 with value: 2.1014704927802086.\n",
      "Trial 375 finished with value: 4.953852283954621 and parameters: {'opt_Epochs': 1, 'opt_Steps': 14, 'opt_Learning_Rate': 0.2734774628402528, 'opt_Batch_Size': 392, 'opt_Number_of_Noise_Batches': 1, 'opt_Regularization_term': 0.177562128494718, 'opt_Noise_Dim': 312, 'n_layers': 2}. Best is trial 276 with value: 2.1014704927802086.\n"
     ]
    },
    {
     "name": "stderr",
     "output_type": "stream",
     "text": [
      "[I 2025-01-20 12:21:06,089] Trial 376 finished with value: 2.4823458418250075 and parameters: {'opt_Epochs': 4, 'opt_Steps': 13, 'opt_Learning_Rate': 0.2144591894755547, 'opt_Batch_Size': 295, 'opt_Number_of_Noise_Batches': 1, 'opt_Regularization_term': 0.1887011203564316, 'opt_Noise_Dim': 88, 'n_layers': 2}. Best is trial 276 with value: 2.1014704927802086.\n"
     ]
    },
    {
     "name": "stdout",
     "output_type": "stream",
     "text": [
      "Trial 376 finished with value: 2.4823458418250075 and parameters: {'opt_Epochs': 4, 'opt_Steps': 13, 'opt_Learning_Rate': 0.2144591894755547, 'opt_Batch_Size': 295, 'opt_Number_of_Noise_Batches': 1, 'opt_Regularization_term': 0.1887011203564316, 'opt_Noise_Dim': 88, 'n_layers': 2}. Best is trial 276 with value: 2.1014704927802086.\n",
      "Trial 376 finished with value: 2.4823458418250075 and parameters: {'opt_Epochs': 4, 'opt_Steps': 13, 'opt_Learning_Rate': 0.2144591894755547, 'opt_Batch_Size': 295, 'opt_Number_of_Noise_Batches': 1, 'opt_Regularization_term': 0.1887011203564316, 'opt_Noise_Dim': 88, 'n_layers': 2}. Best is trial 276 with value: 2.1014704927802086.\n"
     ]
    },
    {
     "name": "stderr",
     "output_type": "stream",
     "text": [
      "[I 2025-01-20 12:21:46,484] Trial 377 finished with value: 2.6380071550607687 and parameters: {'opt_Epochs': 4, 'opt_Steps': 16, 'opt_Learning_Rate': 0.1226553387999038, 'opt_Batch_Size': 285, 'opt_Number_of_Noise_Batches': 3, 'opt_Regularization_term': 0.16722079169228543, 'opt_Noise_Dim': 12, 'n_layers': 1}. Best is trial 276 with value: 2.1014704927802086.\n"
     ]
    },
    {
     "name": "stdout",
     "output_type": "stream",
     "text": [
      "Trial 377 finished with value: 2.6380071550607687 and parameters: {'opt_Epochs': 4, 'opt_Steps': 16, 'opt_Learning_Rate': 0.1226553387999038, 'opt_Batch_Size': 285, 'opt_Number_of_Noise_Batches': 3, 'opt_Regularization_term': 0.16722079169228543, 'opt_Noise_Dim': 12, 'n_layers': 1}. Best is trial 276 with value: 2.1014704927802086.\n",
      "Trial 377 finished with value: 2.6380071550607687 and parameters: {'opt_Epochs': 4, 'opt_Steps': 16, 'opt_Learning_Rate': 0.1226553387999038, 'opt_Batch_Size': 285, 'opt_Number_of_Noise_Batches': 3, 'opt_Regularization_term': 0.16722079169228543, 'opt_Noise_Dim': 12, 'n_layers': 1}. Best is trial 276 with value: 2.1014704927802086.\n"
     ]
    },
    {
     "name": "stderr",
     "output_type": "stream",
     "text": [
      "[I 2025-01-20 12:22:43,403] Trial 378 finished with value: 2.368269339203834 and parameters: {'opt_Epochs': 5, 'opt_Steps': 14, 'opt_Learning_Rate': 0.23617714772640422, 'opt_Batch_Size': 384, 'opt_Number_of_Noise_Batches': 2, 'opt_Regularization_term': 0.20151593769776968, 'opt_Noise_Dim': 37, 'n_layers': 2}. Best is trial 276 with value: 2.1014704927802086.\n"
     ]
    },
    {
     "name": "stdout",
     "output_type": "stream",
     "text": [
      "Trial 378 finished with value: 2.368269339203834 and parameters: {'opt_Epochs': 5, 'opt_Steps': 14, 'opt_Learning_Rate': 0.23617714772640422, 'opt_Batch_Size': 384, 'opt_Number_of_Noise_Batches': 2, 'opt_Regularization_term': 0.20151593769776968, 'opt_Noise_Dim': 37, 'n_layers': 2}. Best is trial 276 with value: 2.1014704927802086.\n",
      "Trial 378 finished with value: 2.368269339203834 and parameters: {'opt_Epochs': 5, 'opt_Steps': 14, 'opt_Learning_Rate': 0.23617714772640422, 'opt_Batch_Size': 384, 'opt_Number_of_Noise_Batches': 2, 'opt_Regularization_term': 0.20151593769776968, 'opt_Noise_Dim': 37, 'n_layers': 2}. Best is trial 276 with value: 2.1014704927802086.\n"
     ]
    },
    {
     "name": "stderr",
     "output_type": "stream",
     "text": [
      "[I 2025-01-20 12:23:49,494] Trial 379 finished with value: 2.221324026584625 and parameters: {'opt_Epochs': 6, 'opt_Steps': 13, 'opt_Learning_Rate': 0.218061348932544, 'opt_Batch_Size': 435, 'opt_Number_of_Noise_Batches': 1, 'opt_Regularization_term': 0.17295100416361267, 'opt_Noise_Dim': 292, 'n_layers': 2}. Best is trial 276 with value: 2.1014704927802086.\n"
     ]
    },
    {
     "name": "stdout",
     "output_type": "stream",
     "text": [
      "Trial 379 finished with value: 2.221324026584625 and parameters: {'opt_Epochs': 6, 'opt_Steps': 13, 'opt_Learning_Rate': 0.218061348932544, 'opt_Batch_Size': 435, 'opt_Number_of_Noise_Batches': 1, 'opt_Regularization_term': 0.17295100416361267, 'opt_Noise_Dim': 292, 'n_layers': 2}. Best is trial 276 with value: 2.1014704927802086.\n",
      "Trial 379 finished with value: 2.221324026584625 and parameters: {'opt_Epochs': 6, 'opt_Steps': 13, 'opt_Learning_Rate': 0.218061348932544, 'opt_Batch_Size': 435, 'opt_Number_of_Noise_Batches': 1, 'opt_Regularization_term': 0.17295100416361267, 'opt_Noise_Dim': 292, 'n_layers': 2}. Best is trial 276 with value: 2.1014704927802086.\n"
     ]
    },
    {
     "name": "stderr",
     "output_type": "stream",
     "text": [
      "[I 2025-01-20 12:24:55,474] Trial 380 finished with value: 2.2705104827880858 and parameters: {'opt_Epochs': 6, 'opt_Steps': 13, 'opt_Learning_Rate': 0.20934864290503957, 'opt_Batch_Size': 441, 'opt_Number_of_Noise_Batches': 1, 'opt_Regularization_term': 0.09332437943547073, 'opt_Noise_Dim': 442, 'n_layers': 2}. Best is trial 276 with value: 2.1014704927802086.\n"
     ]
    },
    {
     "name": "stdout",
     "output_type": "stream",
     "text": [
      "Trial 380 finished with value: 2.2705104827880858 and parameters: {'opt_Epochs': 6, 'opt_Steps': 13, 'opt_Learning_Rate': 0.20934864290503957, 'opt_Batch_Size': 441, 'opt_Number_of_Noise_Batches': 1, 'opt_Regularization_term': 0.09332437943547073, 'opt_Noise_Dim': 442, 'n_layers': 2}. Best is trial 276 with value: 2.1014704927802086.\n",
      "Trial 380 finished with value: 2.2705104827880858 and parameters: {'opt_Epochs': 6, 'opt_Steps': 13, 'opt_Learning_Rate': 0.20934864290503957, 'opt_Batch_Size': 441, 'opt_Number_of_Noise_Batches': 1, 'opt_Regularization_term': 0.09332437943547073, 'opt_Noise_Dim': 442, 'n_layers': 2}. Best is trial 276 with value: 2.1014704927802086.\n"
     ]
    },
    {
     "name": "stderr",
     "output_type": "stream",
     "text": [
      "[I 2025-01-20 12:26:02,449] Trial 381 finished with value: 2.504019790887832 and parameters: {'opt_Epochs': 6, 'opt_Steps': 13, 'opt_Learning_Rate': 0.2005843794923308, 'opt_Batch_Size': 447, 'opt_Number_of_Noise_Batches': 1, 'opt_Regularization_term': 0.09614785602673073, 'opt_Noise_Dim': 295, 'n_layers': 2}. Best is trial 276 with value: 2.1014704927802086.\n"
     ]
    },
    {
     "name": "stdout",
     "output_type": "stream",
     "text": [
      "Trial 381 finished with value: 2.504019790887832 and parameters: {'opt_Epochs': 6, 'opt_Steps': 13, 'opt_Learning_Rate': 0.2005843794923308, 'opt_Batch_Size': 447, 'opt_Number_of_Noise_Batches': 1, 'opt_Regularization_term': 0.09614785602673073, 'opt_Noise_Dim': 295, 'n_layers': 2}. Best is trial 276 with value: 2.1014704927802086.\n",
      "Trial 381 finished with value: 2.504019790887832 and parameters: {'opt_Epochs': 6, 'opt_Steps': 13, 'opt_Learning_Rate': 0.2005843794923308, 'opt_Batch_Size': 447, 'opt_Number_of_Noise_Batches': 1, 'opt_Regularization_term': 0.09614785602673073, 'opt_Noise_Dim': 295, 'n_layers': 2}. Best is trial 276 with value: 2.1014704927802086.\n"
     ]
    },
    {
     "name": "stderr",
     "output_type": "stream",
     "text": [
      "[I 2025-01-20 12:27:09,465] Trial 382 finished with value: 2.2118619665503503 and parameters: {'opt_Epochs': 6, 'opt_Steps': 13, 'opt_Learning_Rate': 0.20803197997796105, 'opt_Batch_Size': 456, 'opt_Number_of_Noise_Batches': 1, 'opt_Regularization_term': 0.08939113380359148, 'opt_Noise_Dim': 258, 'n_layers': 2}. Best is trial 276 with value: 2.1014704927802086.\n"
     ]
    },
    {
     "name": "stdout",
     "output_type": "stream",
     "text": [
      "Trial 382 finished with value: 2.2118619665503503 and parameters: {'opt_Epochs': 6, 'opt_Steps': 13, 'opt_Learning_Rate': 0.20803197997796105, 'opt_Batch_Size': 456, 'opt_Number_of_Noise_Batches': 1, 'opt_Regularization_term': 0.08939113380359148, 'opt_Noise_Dim': 258, 'n_layers': 2}. Best is trial 276 with value: 2.1014704927802086.\n",
      "Trial 382 finished with value: 2.2118619665503503 and parameters: {'opt_Epochs': 6, 'opt_Steps': 13, 'opt_Learning_Rate': 0.20803197997796105, 'opt_Batch_Size': 456, 'opt_Number_of_Noise_Batches': 1, 'opt_Regularization_term': 0.08939113380359148, 'opt_Noise_Dim': 258, 'n_layers': 2}. Best is trial 276 with value: 2.1014704927802086.\n"
     ]
    },
    {
     "name": "stderr",
     "output_type": "stream",
     "text": [
      "[I 2025-01-20 12:28:15,304] Trial 383 finished with value: 2.2084950178861615 and parameters: {'opt_Epochs': 6, 'opt_Steps': 13, 'opt_Learning_Rate': 0.20699638028535883, 'opt_Batch_Size': 437, 'opt_Number_of_Noise_Batches': 2, 'opt_Regularization_term': 0.08817835127708763, 'opt_Noise_Dim': 281, 'n_layers': 2}. Best is trial 276 with value: 2.1014704927802086.\n"
     ]
    },
    {
     "name": "stdout",
     "output_type": "stream",
     "text": [
      "Trial 383 finished with value: 2.2084950178861615 and parameters: {'opt_Epochs': 6, 'opt_Steps': 13, 'opt_Learning_Rate': 0.20699638028535883, 'opt_Batch_Size': 437, 'opt_Number_of_Noise_Batches': 2, 'opt_Regularization_term': 0.08817835127708763, 'opt_Noise_Dim': 281, 'n_layers': 2}. Best is trial 276 with value: 2.1014704927802086.\n",
      "Trial 383 finished with value: 2.2084950178861615 and parameters: {'opt_Epochs': 6, 'opt_Steps': 13, 'opt_Learning_Rate': 0.20699638028535883, 'opt_Batch_Size': 437, 'opt_Number_of_Noise_Batches': 2, 'opt_Regularization_term': 0.08817835127708763, 'opt_Noise_Dim': 281, 'n_layers': 2}. Best is trial 276 with value: 2.1014704927802086.\n"
     ]
    },
    {
     "name": "stderr",
     "output_type": "stream",
     "text": [
      "[I 2025-01-20 12:29:23,600] Trial 384 finished with value: 2.161381429433823 and parameters: {'opt_Epochs': 6, 'opt_Steps': 13, 'opt_Learning_Rate': 0.20465244216954426, 'opt_Batch_Size': 456, 'opt_Number_of_Noise_Batches': 1, 'opt_Regularization_term': 0.1649756096642626, 'opt_Noise_Dim': 264, 'n_layers': 2}. Best is trial 276 with value: 2.1014704927802086.\n"
     ]
    },
    {
     "name": "stdout",
     "output_type": "stream",
     "text": [
      "Trial 384 finished with value: 2.161381429433823 and parameters: {'opt_Epochs': 6, 'opt_Steps': 13, 'opt_Learning_Rate': 0.20465244216954426, 'opt_Batch_Size': 456, 'opt_Number_of_Noise_Batches': 1, 'opt_Regularization_term': 0.1649756096642626, 'opt_Noise_Dim': 264, 'n_layers': 2}. Best is trial 276 with value: 2.1014704927802086.\n",
      "Trial 384 finished with value: 2.161381429433823 and parameters: {'opt_Epochs': 6, 'opt_Steps': 13, 'opt_Learning_Rate': 0.20465244216954426, 'opt_Batch_Size': 456, 'opt_Number_of_Noise_Batches': 1, 'opt_Regularization_term': 0.1649756096642626, 'opt_Noise_Dim': 264, 'n_layers': 2}. Best is trial 276 with value: 2.1014704927802086.\n"
     ]
    },
    {
     "name": "stderr",
     "output_type": "stream",
     "text": [
      "[I 2025-01-20 12:30:39,814] Trial 385 finished with value: 3.0905471086502083 and parameters: {'opt_Epochs': 7, 'opt_Steps': 13, 'opt_Learning_Rate': 0.1989123733220343, 'opt_Batch_Size': 457, 'opt_Number_of_Noise_Batches': 2, 'opt_Regularization_term': 0.02211348478244657, 'opt_Noise_Dim': 273, 'n_layers': 2}. Best is trial 276 with value: 2.1014704927802086.\n"
     ]
    },
    {
     "name": "stdout",
     "output_type": "stream",
     "text": [
      "Trial 385 finished with value: 3.0905471086502083 and parameters: {'opt_Epochs': 7, 'opt_Steps': 13, 'opt_Learning_Rate': 0.1989123733220343, 'opt_Batch_Size': 457, 'opt_Number_of_Noise_Batches': 2, 'opt_Regularization_term': 0.02211348478244657, 'opt_Noise_Dim': 273, 'n_layers': 2}. Best is trial 276 with value: 2.1014704927802086.\n",
      "Trial 385 finished with value: 3.0905471086502083 and parameters: {'opt_Epochs': 7, 'opt_Steps': 13, 'opt_Learning_Rate': 0.1989123733220343, 'opt_Batch_Size': 457, 'opt_Number_of_Noise_Batches': 2, 'opt_Regularization_term': 0.02211348478244657, 'opt_Noise_Dim': 273, 'n_layers': 2}. Best is trial 276 with value: 2.1014704927802086.\n"
     ]
    },
    {
     "name": "stderr",
     "output_type": "stream",
     "text": [
      "[I 2025-01-20 12:31:48,855] Trial 386 finished with value: 2.3675730213522908 and parameters: {'opt_Epochs': 6, 'opt_Steps': 13, 'opt_Learning_Rate': 0.20955922524423096, 'opt_Batch_Size': 472, 'opt_Number_of_Noise_Batches': 2, 'opt_Regularization_term': 0.07606337004003993, 'opt_Noise_Dim': 257, 'n_layers': 2}. Best is trial 276 with value: 2.1014704927802086.\n"
     ]
    },
    {
     "name": "stdout",
     "output_type": "stream",
     "text": [
      "Trial 386 finished with value: 2.3675730213522908 and parameters: {'opt_Epochs': 6, 'opt_Steps': 13, 'opt_Learning_Rate': 0.20955922524423096, 'opt_Batch_Size': 472, 'opt_Number_of_Noise_Batches': 2, 'opt_Regularization_term': 0.07606337004003993, 'opt_Noise_Dim': 257, 'n_layers': 2}. Best is trial 276 with value: 2.1014704927802086.\n",
      "Trial 386 finished with value: 2.3675730213522908 and parameters: {'opt_Epochs': 6, 'opt_Steps': 13, 'opt_Learning_Rate': 0.20955922524423096, 'opt_Batch_Size': 472, 'opt_Number_of_Noise_Batches': 2, 'opt_Regularization_term': 0.07606337004003993, 'opt_Noise_Dim': 257, 'n_layers': 2}. Best is trial 276 with value: 2.1014704927802086.\n"
     ]
    },
    {
     "name": "stderr",
     "output_type": "stream",
     "text": [
      "[I 2025-01-20 12:32:57,437] Trial 387 finished with value: 2.678368237614632 and parameters: {'opt_Epochs': 6, 'opt_Steps': 13, 'opt_Learning_Rate': 0.19227218525543188, 'opt_Batch_Size': 460, 'opt_Number_of_Noise_Batches': 2, 'opt_Regularization_term': 0.08202256299756966, 'opt_Noise_Dim': 261, 'n_layers': 2}. Best is trial 276 with value: 2.1014704927802086.\n"
     ]
    },
    {
     "name": "stdout",
     "output_type": "stream",
     "text": [
      "Trial 387 finished with value: 2.678368237614632 and parameters: {'opt_Epochs': 6, 'opt_Steps': 13, 'opt_Learning_Rate': 0.19227218525543188, 'opt_Batch_Size': 460, 'opt_Number_of_Noise_Batches': 2, 'opt_Regularization_term': 0.08202256299756966, 'opt_Noise_Dim': 261, 'n_layers': 2}. Best is trial 276 with value: 2.1014704927802086.\n",
      "Trial 387 finished with value: 2.678368237614632 and parameters: {'opt_Epochs': 6, 'opt_Steps': 13, 'opt_Learning_Rate': 0.19227218525543188, 'opt_Batch_Size': 460, 'opt_Number_of_Noise_Batches': 2, 'opt_Regularization_term': 0.08202256299756966, 'opt_Noise_Dim': 261, 'n_layers': 2}. Best is trial 276 with value: 2.1014704927802086.\n"
     ]
    },
    {
     "name": "stderr",
     "output_type": "stream",
     "text": [
      "[I 2025-01-20 12:34:08,002] Trial 388 finished with value: 2.525110650062561 and parameters: {'opt_Epochs': 6, 'opt_Steps': 13, 'opt_Learning_Rate': 0.2074346034051731, 'opt_Batch_Size': 469, 'opt_Number_of_Noise_Batches': 2, 'opt_Regularization_term': 0.0875788270423501, 'opt_Noise_Dim': 278, 'n_layers': 2}. Best is trial 276 with value: 2.1014704927802086.\n"
     ]
    },
    {
     "name": "stdout",
     "output_type": "stream",
     "text": [
      "Trial 388 finished with value: 2.525110650062561 and parameters: {'opt_Epochs': 6, 'opt_Steps': 13, 'opt_Learning_Rate': 0.2074346034051731, 'opt_Batch_Size': 469, 'opt_Number_of_Noise_Batches': 2, 'opt_Regularization_term': 0.0875788270423501, 'opt_Noise_Dim': 278, 'n_layers': 2}. Best is trial 276 with value: 2.1014704927802086.\n",
      "Trial 388 finished with value: 2.525110650062561 and parameters: {'opt_Epochs': 6, 'opt_Steps': 13, 'opt_Learning_Rate': 0.2074346034051731, 'opt_Batch_Size': 469, 'opt_Number_of_Noise_Batches': 2, 'opt_Regularization_term': 0.0875788270423501, 'opt_Noise_Dim': 278, 'n_layers': 2}. Best is trial 276 with value: 2.1014704927802086.\n"
     ]
    },
    {
     "name": "stderr",
     "output_type": "stream",
     "text": [
      "[I 2025-01-20 12:35:21,771] Trial 389 finished with value: 2.787372398376464 and parameters: {'opt_Epochs': 6, 'opt_Steps': 13, 'opt_Learning_Rate': 0.20207553396878525, 'opt_Batch_Size': 497, 'opt_Number_of_Noise_Batches': 2, 'opt_Regularization_term': 0.09052248777777376, 'opt_Noise_Dim': 281, 'n_layers': 2}. Best is trial 276 with value: 2.1014704927802086.\n"
     ]
    },
    {
     "name": "stdout",
     "output_type": "stream",
     "text": [
      "Trial 389 finished with value: 2.787372398376464 and parameters: {'opt_Epochs': 6, 'opt_Steps': 13, 'opt_Learning_Rate': 0.20207553396878525, 'opt_Batch_Size': 497, 'opt_Number_of_Noise_Batches': 2, 'opt_Regularization_term': 0.09052248777777376, 'opt_Noise_Dim': 281, 'n_layers': 2}. Best is trial 276 with value: 2.1014704927802086.\n",
      "Trial 389 finished with value: 2.787372398376464 and parameters: {'opt_Epochs': 6, 'opt_Steps': 13, 'opt_Learning_Rate': 0.20207553396878525, 'opt_Batch_Size': 497, 'opt_Number_of_Noise_Batches': 2, 'opt_Regularization_term': 0.09052248777777376, 'opt_Noise_Dim': 281, 'n_layers': 2}. Best is trial 276 with value: 2.1014704927802086.\n"
     ]
    },
    {
     "name": "stderr",
     "output_type": "stream",
     "text": [
      "[I 2025-01-20 12:36:29,346] Trial 390 finished with value: 2.5662384927272797 and parameters: {'opt_Epochs': 6, 'opt_Steps': 13, 'opt_Learning_Rate': 0.2182482958442932, 'opt_Batch_Size': 437, 'opt_Number_of_Noise_Batches': 2, 'opt_Regularization_term': 0.07387078454907117, 'opt_Noise_Dim': 289, 'n_layers': 2}. Best is trial 276 with value: 2.1014704927802086.\n"
     ]
    },
    {
     "name": "stdout",
     "output_type": "stream",
     "text": [
      "Trial 390 finished with value: 2.5662384927272797 and parameters: {'opt_Epochs': 6, 'opt_Steps': 13, 'opt_Learning_Rate': 0.2182482958442932, 'opt_Batch_Size': 437, 'opt_Number_of_Noise_Batches': 2, 'opt_Regularization_term': 0.07387078454907117, 'opt_Noise_Dim': 289, 'n_layers': 2}. Best is trial 276 with value: 2.1014704927802086.\n",
      "Trial 390 finished with value: 2.5662384927272797 and parameters: {'opt_Epochs': 6, 'opt_Steps': 13, 'opt_Learning_Rate': 0.2182482958442932, 'opt_Batch_Size': 437, 'opt_Number_of_Noise_Batches': 2, 'opt_Regularization_term': 0.07387078454907117, 'opt_Noise_Dim': 289, 'n_layers': 2}. Best is trial 276 with value: 2.1014704927802086.\n"
     ]
    },
    {
     "name": "stderr",
     "output_type": "stream",
     "text": [
      "[I 2025-01-20 12:37:41,494] Trial 391 finished with value: 2.485029663145542 and parameters: {'opt_Epochs': 6, 'opt_Steps': 14, 'opt_Learning_Rate': 0.2161446903579855, 'opt_Batch_Size': 434, 'opt_Number_of_Noise_Batches': 3, 'opt_Regularization_term': 0.15779662880639184, 'opt_Noise_Dim': 301, 'n_layers': 2}. Best is trial 276 with value: 2.1014704927802086.\n"
     ]
    },
    {
     "name": "stdout",
     "output_type": "stream",
     "text": [
      "Trial 391 finished with value: 2.485029663145542 and parameters: {'opt_Epochs': 6, 'opt_Steps': 14, 'opt_Learning_Rate': 0.2161446903579855, 'opt_Batch_Size': 434, 'opt_Number_of_Noise_Batches': 3, 'opt_Regularization_term': 0.15779662880639184, 'opt_Noise_Dim': 301, 'n_layers': 2}. Best is trial 276 with value: 2.1014704927802086.\n",
      "Trial 391 finished with value: 2.485029663145542 and parameters: {'opt_Epochs': 6, 'opt_Steps': 14, 'opt_Learning_Rate': 0.2161446903579855, 'opt_Batch_Size': 434, 'opt_Number_of_Noise_Batches': 3, 'opt_Regularization_term': 0.15779662880639184, 'opt_Noise_Dim': 301, 'n_layers': 2}. Best is trial 276 with value: 2.1014704927802086.\n"
     ]
    },
    {
     "name": "stderr",
     "output_type": "stream",
     "text": [
      "[I 2025-01-20 12:38:57,988] Trial 392 finished with value: 2.2735078513622287 and parameters: {'opt_Epochs': 7, 'opt_Steps': 13, 'opt_Learning_Rate': 0.20324075508980383, 'opt_Batch_Size': 449, 'opt_Number_of_Noise_Batches': 2, 'opt_Regularization_term': 0.06938769014489601, 'opt_Noise_Dim': 274, 'n_layers': 2}. Best is trial 276 with value: 2.1014704927802086.\n"
     ]
    },
    {
     "name": "stdout",
     "output_type": "stream",
     "text": [
      "Trial 392 finished with value: 2.2735078513622287 and parameters: {'opt_Epochs': 7, 'opt_Steps': 13, 'opt_Learning_Rate': 0.20324075508980383, 'opt_Batch_Size': 449, 'opt_Number_of_Noise_Batches': 2, 'opt_Regularization_term': 0.06938769014489601, 'opt_Noise_Dim': 274, 'n_layers': 2}. Best is trial 276 with value: 2.1014704927802086.\n",
      "Trial 392 finished with value: 2.2735078513622287 and parameters: {'opt_Epochs': 7, 'opt_Steps': 13, 'opt_Learning_Rate': 0.20324075508980383, 'opt_Batch_Size': 449, 'opt_Number_of_Noise_Batches': 2, 'opt_Regularization_term': 0.06938769014489601, 'opt_Noise_Dim': 274, 'n_layers': 2}. Best is trial 276 with value: 2.1014704927802086.\n"
     ]
    },
    {
     "name": "stderr",
     "output_type": "stream",
     "text": [
      "[I 2025-01-20 12:40:13,099] Trial 393 finished with value: 2.633168363571168 and parameters: {'opt_Epochs': 6, 'opt_Steps': 14, 'opt_Learning_Rate': 0.2072981615057885, 'opt_Batch_Size': 477, 'opt_Number_of_Noise_Batches': 1, 'opt_Regularization_term': 0.1651885579880723, 'opt_Noise_Dim': 289, 'n_layers': 2}. Best is trial 276 with value: 2.1014704927802086.\n"
     ]
    },
    {
     "name": "stdout",
     "output_type": "stream",
     "text": [
      "Trial 393 finished with value: 2.633168363571168 and parameters: {'opt_Epochs': 6, 'opt_Steps': 14, 'opt_Learning_Rate': 0.2072981615057885, 'opt_Batch_Size': 477, 'opt_Number_of_Noise_Batches': 1, 'opt_Regularization_term': 0.1651885579880723, 'opt_Noise_Dim': 289, 'n_layers': 2}. Best is trial 276 with value: 2.1014704927802086.\n",
      "Trial 393 finished with value: 2.633168363571168 and parameters: {'opt_Epochs': 6, 'opt_Steps': 14, 'opt_Learning_Rate': 0.2072981615057885, 'opt_Batch_Size': 477, 'opt_Number_of_Noise_Batches': 1, 'opt_Regularization_term': 0.1651885579880723, 'opt_Noise_Dim': 289, 'n_layers': 2}. Best is trial 276 with value: 2.1014704927802086.\n"
     ]
    },
    {
     "name": "stderr",
     "output_type": "stream",
     "text": [
      "[I 2025-01-20 12:41:07,555] Trial 394 finished with value: 2.454140472412109 and parameters: {'opt_Epochs': 6, 'opt_Steps': 9, 'opt_Learning_Rate': 0.19616868755933042, 'opt_Batch_Size': 444, 'opt_Number_of_Noise_Batches': 1, 'opt_Regularization_term': 0.08190191579063695, 'opt_Noise_Dim': 263, 'n_layers': 2}. Best is trial 276 with value: 2.1014704927802086.\n"
     ]
    },
    {
     "name": "stdout",
     "output_type": "stream",
     "text": [
      "Trial 394 finished with value: 2.454140472412109 and parameters: {'opt_Epochs': 6, 'opt_Steps': 9, 'opt_Learning_Rate': 0.19616868755933042, 'opt_Batch_Size': 444, 'opt_Number_of_Noise_Batches': 1, 'opt_Regularization_term': 0.08190191579063695, 'opt_Noise_Dim': 263, 'n_layers': 2}. Best is trial 276 with value: 2.1014704927802086.\n",
      "Trial 394 finished with value: 2.454140472412109 and parameters: {'opt_Epochs': 6, 'opt_Steps': 9, 'opt_Learning_Rate': 0.19616868755933042, 'opt_Batch_Size': 444, 'opt_Number_of_Noise_Batches': 1, 'opt_Regularization_term': 0.08190191579063695, 'opt_Noise_Dim': 263, 'n_layers': 2}. Best is trial 276 with value: 2.1014704927802086.\n"
     ]
    },
    {
     "name": "stderr",
     "output_type": "stream",
     "text": [
      "[I 2025-01-20 12:42:17,260] Trial 395 finished with value: 2.4470933273434636 and parameters: {'opt_Epochs': 6, 'opt_Steps': 13, 'opt_Learning_Rate': 0.22069774491108238, 'opt_Batch_Size': 460, 'opt_Number_of_Noise_Batches': 1, 'opt_Regularization_term': 0.054799137178640475, 'opt_Noise_Dim': 248, 'n_layers': 2}. Best is trial 276 with value: 2.1014704927802086.\n"
     ]
    },
    {
     "name": "stdout",
     "output_type": "stream",
     "text": [
      "Trial 395 finished with value: 2.4470933273434636 and parameters: {'opt_Epochs': 6, 'opt_Steps': 13, 'opt_Learning_Rate': 0.22069774491108238, 'opt_Batch_Size': 460, 'opt_Number_of_Noise_Batches': 1, 'opt_Regularization_term': 0.054799137178640475, 'opt_Noise_Dim': 248, 'n_layers': 2}. Best is trial 276 with value: 2.1014704927802086.\n",
      "Trial 395 finished with value: 2.4470933273434636 and parameters: {'opt_Epochs': 6, 'opt_Steps': 13, 'opt_Learning_Rate': 0.22069774491108238, 'opt_Batch_Size': 460, 'opt_Number_of_Noise_Batches': 1, 'opt_Regularization_term': 0.054799137178640475, 'opt_Noise_Dim': 248, 'n_layers': 2}. Best is trial 276 with value: 2.1014704927802086.\n"
     ]
    },
    {
     "name": "stderr",
     "output_type": "stream",
     "text": [
      "[I 2025-01-20 12:43:30,128] Trial 396 finished with value: 2.437315380573273 and parameters: {'opt_Epochs': 6, 'opt_Steps': 14, 'opt_Learning_Rate': 0.21309204460870368, 'opt_Batch_Size': 453, 'opt_Number_of_Noise_Batches': 1, 'opt_Regularization_term': 0.16347610125094364, 'opt_Noise_Dim': 270, 'n_layers': 2}. Best is trial 276 with value: 2.1014704927802086.\n"
     ]
    },
    {
     "name": "stdout",
     "output_type": "stream",
     "text": [
      "Trial 396 finished with value: 2.437315380573273 and parameters: {'opt_Epochs': 6, 'opt_Steps': 14, 'opt_Learning_Rate': 0.21309204460870368, 'opt_Batch_Size': 453, 'opt_Number_of_Noise_Batches': 1, 'opt_Regularization_term': 0.16347610125094364, 'opt_Noise_Dim': 270, 'n_layers': 2}. Best is trial 276 with value: 2.1014704927802086.\n",
      "Trial 396 finished with value: 2.437315380573273 and parameters: {'opt_Epochs': 6, 'opt_Steps': 14, 'opt_Learning_Rate': 0.21309204460870368, 'opt_Batch_Size': 453, 'opt_Number_of_Noise_Batches': 1, 'opt_Regularization_term': 0.16347610125094364, 'opt_Noise_Dim': 270, 'n_layers': 2}. Best is trial 276 with value: 2.1014704927802086.\n"
     ]
    },
    {
     "name": "stderr",
     "output_type": "stream",
     "text": [
      "[I 2025-01-20 12:44:49,515] Trial 397 finished with value: 2.1911304190754888 and parameters: {'opt_Epochs': 6, 'opt_Steps': 13, 'opt_Learning_Rate': 0.22157448745137107, 'opt_Batch_Size': 467, 'opt_Number_of_Noise_Batches': 1, 'opt_Regularization_term': 0.1609347221807219, 'opt_Noise_Dim': 320, 'n_layers': 3}. Best is trial 276 with value: 2.1014704927802086.\n"
     ]
    },
    {
     "name": "stdout",
     "output_type": "stream",
     "text": [
      "Trial 397 finished with value: 2.1911304190754888 and parameters: {'opt_Epochs': 6, 'opt_Steps': 13, 'opt_Learning_Rate': 0.22157448745137107, 'opt_Batch_Size': 467, 'opt_Number_of_Noise_Batches': 1, 'opt_Regularization_term': 0.1609347221807219, 'opt_Noise_Dim': 320, 'n_layers': 3}. Best is trial 276 with value: 2.1014704927802086.\n",
      "Trial 397 finished with value: 2.1911304190754888 and parameters: {'opt_Epochs': 6, 'opt_Steps': 13, 'opt_Learning_Rate': 0.22157448745137107, 'opt_Batch_Size': 467, 'opt_Number_of_Noise_Batches': 1, 'opt_Regularization_term': 0.1609347221807219, 'opt_Noise_Dim': 320, 'n_layers': 3}. Best is trial 276 with value: 2.1014704927802086.\n"
     ]
    },
    {
     "name": "stderr",
     "output_type": "stream",
     "text": [
      "[I 2025-01-20 12:46:08,716] Trial 398 finished with value: 2.6925140336155895 and parameters: {'opt_Epochs': 6, 'opt_Steps': 13, 'opt_Learning_Rate': 0.22387382988511675, 'opt_Batch_Size': 460, 'opt_Number_of_Noise_Batches': 1, 'opt_Regularization_term': 0.16234303325055657, 'opt_Noise_Dim': 320, 'n_layers': 3}. Best is trial 276 with value: 2.1014704927802086.\n"
     ]
    },
    {
     "name": "stdout",
     "output_type": "stream",
     "text": [
      "Trial 398 finished with value: 2.6925140336155895 and parameters: {'opt_Epochs': 6, 'opt_Steps': 13, 'opt_Learning_Rate': 0.22387382988511675, 'opt_Batch_Size': 460, 'opt_Number_of_Noise_Batches': 1, 'opt_Regularization_term': 0.16234303325055657, 'opt_Noise_Dim': 320, 'n_layers': 3}. Best is trial 276 with value: 2.1014704927802086.\n",
      "Trial 398 finished with value: 2.6925140336155895 and parameters: {'opt_Epochs': 6, 'opt_Steps': 13, 'opt_Learning_Rate': 0.22387382988511675, 'opt_Batch_Size': 460, 'opt_Number_of_Noise_Batches': 1, 'opt_Regularization_term': 0.16234303325055657, 'opt_Noise_Dim': 320, 'n_layers': 3}. Best is trial 276 with value: 2.1014704927802086.\n"
     ]
    },
    {
     "name": "stderr",
     "output_type": "stream",
     "text": [
      "[I 2025-01-20 12:47:31,504] Trial 399 finished with value: 2.5482951045036315 and parameters: {'opt_Epochs': 6, 'opt_Steps': 13, 'opt_Learning_Rate': 0.21995610302495325, 'opt_Batch_Size': 487, 'opt_Number_of_Noise_Batches': 1, 'opt_Regularization_term': 0.08665392492392385, 'opt_Noise_Dim': 282, 'n_layers': 3}. Best is trial 276 with value: 2.1014704927802086.\n"
     ]
    },
    {
     "name": "stdout",
     "output_type": "stream",
     "text": [
      "Trial 399 finished with value: 2.5482951045036315 and parameters: {'opt_Epochs': 6, 'opt_Steps': 13, 'opt_Learning_Rate': 0.21995610302495325, 'opt_Batch_Size': 487, 'opt_Number_of_Noise_Batches': 1, 'opt_Regularization_term': 0.08665392492392385, 'opt_Noise_Dim': 282, 'n_layers': 3}. Best is trial 276 with value: 2.1014704927802086.\n",
      "Trial 399 finished with value: 2.5482951045036315 and parameters: {'opt_Epochs': 6, 'opt_Steps': 13, 'opt_Learning_Rate': 0.21995610302495325, 'opt_Batch_Size': 487, 'opt_Number_of_Noise_Batches': 1, 'opt_Regularization_term': 0.08665392492392385, 'opt_Noise_Dim': 282, 'n_layers': 3}. Best is trial 276 with value: 2.1014704927802086.\n"
     ]
    },
    {
     "name": "stderr",
     "output_type": "stream",
     "text": [
      "[I 2025-01-20 12:48:56,745] Trial 400 finished with value: 2.4003746405243875 and parameters: {'opt_Epochs': 6, 'opt_Steps': 14, 'opt_Learning_Rate': 0.21368939022706987, 'opt_Batch_Size': 477, 'opt_Number_of_Noise_Batches': 2, 'opt_Regularization_term': 0.14801614946380903, 'opt_Noise_Dim': 308, 'n_layers': 3}. Best is trial 276 with value: 2.1014704927802086.\n"
     ]
    },
    {
     "name": "stdout",
     "output_type": "stream",
     "text": [
      "Trial 400 finished with value: 2.4003746405243875 and parameters: {'opt_Epochs': 6, 'opt_Steps': 14, 'opt_Learning_Rate': 0.21368939022706987, 'opt_Batch_Size': 477, 'opt_Number_of_Noise_Batches': 2, 'opt_Regularization_term': 0.14801614946380903, 'opt_Noise_Dim': 308, 'n_layers': 3}. Best is trial 276 with value: 2.1014704927802086.\n",
      "Trial 400 finished with value: 2.4003746405243875 and parameters: {'opt_Epochs': 6, 'opt_Steps': 14, 'opt_Learning_Rate': 0.21368939022706987, 'opt_Batch_Size': 477, 'opt_Number_of_Noise_Batches': 2, 'opt_Regularization_term': 0.14801614946380903, 'opt_Noise_Dim': 308, 'n_layers': 3}. Best is trial 276 with value: 2.1014704927802086.\n"
     ]
    }
   ],
   "source": [
    "def objective(trial):\n",
    "\n",
    "    opt_Epochs = trial.suggest_int('opt_Epochs', 1, 10)\n",
    "    opt_Steps = trial.suggest_int('opt_Steps', 1, 20)\n",
    "    opt_Learning_Rate = trial.suggest_float('opt_Learning_Rate', 0.01, 0.3)\n",
    "    opt_Batch_Size = trial.suggest_int('opt_Batch_Size', 32, 512)\n",
    "    opt_Number_of_Noise_Batches = trial.suggest_int('opt_Number_of_Noise_Batches', 1, 10)\n",
    "    opt_Regularization_term = trial.suggest_float('opt_Regularization_term', 0.01, 0.3)\n",
    "    opt_Noise_Dim = trial.suggest_int('opt_Noise_Dim', 1, 512)\n",
    "\n",
    "    # print(f\"Epochs: {opt_Epochs} |\\nSteps: {opt_Steps} |\\nLearning Rate: {opt_Learning_Rate} |\\nBatch Size: {opt_Batch_Size} |\\nNoise Batches: {opt_Number_of_Noise_Batches} |\\nRegularization Term: {opt_Regularization_term} |\\nNoise Dim: {opt_Noise_Dim}\")\n",
    "    n_layers = trial.suggest_int('n_layers', 1, 8)\n",
    "\n",
    "    Layers = [1024, 1024, 1024, 1024, 1024, 1024, 1024, 1024,]\n",
    "    Layers = Layers[:n_layers]\n",
    "    # print(\"Layers: \", Layers)\n",
    "\n",
    "    mod = main(\n",
    "        t_Epochs = opt_Epochs,\n",
    "        t_Steps= opt_Steps,\n",
    "        t_Learning_Rate = opt_Learning_Rate,\n",
    "        t_Batch_Size = opt_Batch_Size,\n",
    "        t_Number_of_Noise_Batches = opt_Number_of_Noise_Batches,\n",
    "        t_Regularization_term = opt_Regularization_term,\n",
    "        t_Layers = Layers,\n",
    "        t_Noise_Dim = opt_Noise_Dim,\n",
    "        new_baseline=False,\n",
    "        logs=False,\n",
    "        model_eval_logs=False,\n",
    "    )\n",
    "    \n",
    "    data_dir = f'data{os.sep}cifar10'\n",
    "\n",
    "    transform_test = tt.Compose([\n",
    "        tt.ToTensor(),\n",
    "        tt.Normalize((0.4914, 0.4822, 0.4465), (0.2023, 0.1994, 0.2010)),\n",
    "    ])\n",
    "\n",
    "    valid_ds = ImageFolder(data_dir+f'{os.sep}test', transform_test)\n",
    "    valid_dl = DataLoader(valid_ds, 256,)\n",
    "\n",
    "    exact = resnet18(num_classes = 10)\n",
    "    n = random.randint(0, len(os.listdir(\"data/retrain/models\"))-1)\n",
    "    exact.load_state_dict(torch.load(f\"data/retrain/models/ResNET18_CIFAR10_RETRAIN_CLASSES_{n}.pt\", map_location=DEVICE, weights_only=True))\n",
    "    div = kl_divergence_between_models(\n",
    "        model1 = exact,\n",
    "        model2 = mod,\n",
    "        data_loader = valid_dl,\n",
    "    )\n",
    "\n",
    "    return div\n",
    "\n",
    "study.optimize(objective, n_trials=5)\n",
    "\n",
    "import pickle\n",
    "\n",
    "# Save the sampler with pickle to be loaded later.\n",
    "with open(\"sampler2.pkl\", \"wb\") as fout:\n",
    "    pickle.dump(study.sampler, fout)"
   ]
  },
  {
   "cell_type": "code",
   "execution_count": 10,
   "metadata": {},
   "outputs": [
    {
     "data": {
      "text/html": [
       "<div>\n",
       "<style scoped>\n",
       "    .dataframe tbody tr th:only-of-type {\n",
       "        vertical-align: middle;\n",
       "    }\n",
       "\n",
       "    .dataframe tbody tr th {\n",
       "        vertical-align: top;\n",
       "    }\n",
       "\n",
       "    .dataframe thead th {\n",
       "        text-align: right;\n",
       "    }\n",
       "</style>\n",
       "<table border=\"1\" class=\"dataframe\">\n",
       "  <thead>\n",
       "    <tr style=\"text-align: right;\">\n",
       "      <th></th>\n",
       "      <th>number</th>\n",
       "      <th>value</th>\n",
       "      <th>datetime_start</th>\n",
       "      <th>datetime_complete</th>\n",
       "      <th>duration</th>\n",
       "      <th>params_n_layers</th>\n",
       "      <th>params_opt_Batch_Size</th>\n",
       "      <th>params_opt_Epochs</th>\n",
       "      <th>params_opt_Learning_Rate</th>\n",
       "      <th>params_opt_Noise_Dim</th>\n",
       "      <th>params_opt_Number_of_Noise_Batches</th>\n",
       "      <th>params_opt_Regularization_term</th>\n",
       "      <th>params_opt_Steps</th>\n",
       "      <th>state</th>\n",
       "    </tr>\n",
       "  </thead>\n",
       "  <tbody>\n",
       "    <tr>\n",
       "      <th>276</th>\n",
       "      <td>276</td>\n",
       "      <td>2.101470</td>\n",
       "      <td>2025-01-20 10:48:05.124164</td>\n",
       "      <td>2025-01-20 10:48:59.893961</td>\n",
       "      <td>0 days 00:00:54.769797</td>\n",
       "      <td>2</td>\n",
       "      <td>367</td>\n",
       "      <td>5</td>\n",
       "      <td>0.221830</td>\n",
       "      <td>81</td>\n",
       "      <td>1</td>\n",
       "      <td>0.195540</td>\n",
       "      <td>16</td>\n",
       "      <td>COMPLETE</td>\n",
       "    </tr>\n",
       "    <tr>\n",
       "      <th>384</th>\n",
       "      <td>384</td>\n",
       "      <td>2.161381</td>\n",
       "      <td>2025-01-20 12:28:15.308205</td>\n",
       "      <td>2025-01-20 12:29:23.575110</td>\n",
       "      <td>0 days 00:01:08.266905</td>\n",
       "      <td>2</td>\n",
       "      <td>456</td>\n",
       "      <td>6</td>\n",
       "      <td>0.204652</td>\n",
       "      <td>264</td>\n",
       "      <td>1</td>\n",
       "      <td>0.164976</td>\n",
       "      <td>13</td>\n",
       "      <td>COMPLETE</td>\n",
       "    </tr>\n",
       "    <tr>\n",
       "      <th>296</th>\n",
       "      <td>296</td>\n",
       "      <td>2.166698</td>\n",
       "      <td>2025-01-20 11:08:35.864121</td>\n",
       "      <td>2025-01-20 11:09:31.924229</td>\n",
       "      <td>0 days 00:00:56.060108</td>\n",
       "      <td>2</td>\n",
       "      <td>367</td>\n",
       "      <td>6</td>\n",
       "      <td>0.223592</td>\n",
       "      <td>76</td>\n",
       "      <td>2</td>\n",
       "      <td>0.154956</td>\n",
       "      <td>14</td>\n",
       "      <td>COMPLETE</td>\n",
       "    </tr>\n",
       "    <tr>\n",
       "      <th>355</th>\n",
       "      <td>355</td>\n",
       "      <td>2.172314</td>\n",
       "      <td>2025-01-20 12:04:09.810198</td>\n",
       "      <td>2025-01-20 12:04:59.241561</td>\n",
       "      <td>0 days 00:00:49.431363</td>\n",
       "      <td>2</td>\n",
       "      <td>366</td>\n",
       "      <td>5</td>\n",
       "      <td>0.224452</td>\n",
       "      <td>40</td>\n",
       "      <td>1</td>\n",
       "      <td>0.126115</td>\n",
       "      <td>14</td>\n",
       "      <td>COMPLETE</td>\n",
       "    </tr>\n",
       "    <tr>\n",
       "      <th>301</th>\n",
       "      <td>301</td>\n",
       "      <td>2.173893</td>\n",
       "      <td>2025-01-20 11:13:27.593964</td>\n",
       "      <td>2025-01-20 11:14:25.961665</td>\n",
       "      <td>0 days 00:00:58.367701</td>\n",
       "      <td>2</td>\n",
       "      <td>370</td>\n",
       "      <td>6</td>\n",
       "      <td>0.229829</td>\n",
       "      <td>84</td>\n",
       "      <td>1</td>\n",
       "      <td>0.155063</td>\n",
       "      <td>15</td>\n",
       "      <td>COMPLETE</td>\n",
       "    </tr>\n",
       "    <tr>\n",
       "      <th>309</th>\n",
       "      <td>309</td>\n",
       "      <td>2.180563</td>\n",
       "      <td>2025-01-20 11:21:49.752380</td>\n",
       "      <td>2025-01-20 11:22:49.560179</td>\n",
       "      <td>0 days 00:00:59.807799</td>\n",
       "      <td>2</td>\n",
       "      <td>405</td>\n",
       "      <td>6</td>\n",
       "      <td>0.220118</td>\n",
       "      <td>56</td>\n",
       "      <td>1</td>\n",
       "      <td>0.160018</td>\n",
       "      <td>14</td>\n",
       "      <td>COMPLETE</td>\n",
       "    </tr>\n",
       "    <tr>\n",
       "      <th>397</th>\n",
       "      <td>397</td>\n",
       "      <td>2.191130</td>\n",
       "      <td>2025-01-20 12:43:30.132685</td>\n",
       "      <td>2025-01-20 12:44:49.503025</td>\n",
       "      <td>0 days 00:01:19.370340</td>\n",
       "      <td>3</td>\n",
       "      <td>467</td>\n",
       "      <td>6</td>\n",
       "      <td>0.221574</td>\n",
       "      <td>320</td>\n",
       "      <td>1</td>\n",
       "      <td>0.160935</td>\n",
       "      <td>13</td>\n",
       "      <td>COMPLETE</td>\n",
       "    </tr>\n",
       "    <tr>\n",
       "      <th>284</th>\n",
       "      <td>284</td>\n",
       "      <td>2.200116</td>\n",
       "      <td>2025-01-20 10:55:34.314130</td>\n",
       "      <td>2025-01-20 10:56:38.569440</td>\n",
       "      <td>0 days 00:01:04.255310</td>\n",
       "      <td>2</td>\n",
       "      <td>390</td>\n",
       "      <td>6</td>\n",
       "      <td>0.218416</td>\n",
       "      <td>419</td>\n",
       "      <td>2</td>\n",
       "      <td>0.169877</td>\n",
       "      <td>15</td>\n",
       "      <td>COMPLETE</td>\n",
       "    </tr>\n",
       "    <tr>\n",
       "      <th>250</th>\n",
       "      <td>250</td>\n",
       "      <td>2.200357</td>\n",
       "      <td>2025-01-20 10:27:50.965939</td>\n",
       "      <td>2025-01-20 10:28:29.385641</td>\n",
       "      <td>0 days 00:00:38.419702</td>\n",
       "      <td>4</td>\n",
       "      <td>316</td>\n",
       "      <td>3</td>\n",
       "      <td>0.266277</td>\n",
       "      <td>115</td>\n",
       "      <td>1</td>\n",
       "      <td>0.189250</td>\n",
       "      <td>12</td>\n",
       "      <td>COMPLETE</td>\n",
       "    </tr>\n",
       "    <tr>\n",
       "      <th>363</th>\n",
       "      <td>363</td>\n",
       "      <td>2.200668</td>\n",
       "      <td>2025-01-20 12:10:39.588182</td>\n",
       "      <td>2025-01-20 12:11:22.462954</td>\n",
       "      <td>0 days 00:00:42.874772</td>\n",
       "      <td>2</td>\n",
       "      <td>350</td>\n",
       "      <td>4</td>\n",
       "      <td>0.135425</td>\n",
       "      <td>71</td>\n",
       "      <td>1</td>\n",
       "      <td>0.118336</td>\n",
       "      <td>14</td>\n",
       "      <td>COMPLETE</td>\n",
       "    </tr>\n",
       "  </tbody>\n",
       "</table>\n",
       "</div>"
      ],
      "text/plain": [
       "     number     value             datetime_start          datetime_complete  \\\n",
       "276     276  2.101470 2025-01-20 10:48:05.124164 2025-01-20 10:48:59.893961   \n",
       "384     384  2.161381 2025-01-20 12:28:15.308205 2025-01-20 12:29:23.575110   \n",
       "296     296  2.166698 2025-01-20 11:08:35.864121 2025-01-20 11:09:31.924229   \n",
       "355     355  2.172314 2025-01-20 12:04:09.810198 2025-01-20 12:04:59.241561   \n",
       "301     301  2.173893 2025-01-20 11:13:27.593964 2025-01-20 11:14:25.961665   \n",
       "309     309  2.180563 2025-01-20 11:21:49.752380 2025-01-20 11:22:49.560179   \n",
       "397     397  2.191130 2025-01-20 12:43:30.132685 2025-01-20 12:44:49.503025   \n",
       "284     284  2.200116 2025-01-20 10:55:34.314130 2025-01-20 10:56:38.569440   \n",
       "250     250  2.200357 2025-01-20 10:27:50.965939 2025-01-20 10:28:29.385641   \n",
       "363     363  2.200668 2025-01-20 12:10:39.588182 2025-01-20 12:11:22.462954   \n",
       "\n",
       "                  duration  params_n_layers  params_opt_Batch_Size  \\\n",
       "276 0 days 00:00:54.769797                2                    367   \n",
       "384 0 days 00:01:08.266905                2                    456   \n",
       "296 0 days 00:00:56.060108                2                    367   \n",
       "355 0 days 00:00:49.431363                2                    366   \n",
       "301 0 days 00:00:58.367701                2                    370   \n",
       "309 0 days 00:00:59.807799                2                    405   \n",
       "397 0 days 00:01:19.370340                3                    467   \n",
       "284 0 days 00:01:04.255310                2                    390   \n",
       "250 0 days 00:00:38.419702                4                    316   \n",
       "363 0 days 00:00:42.874772                2                    350   \n",
       "\n",
       "     params_opt_Epochs  params_opt_Learning_Rate  params_opt_Noise_Dim  \\\n",
       "276                  5                  0.221830                    81   \n",
       "384                  6                  0.204652                   264   \n",
       "296                  6                  0.223592                    76   \n",
       "355                  5                  0.224452                    40   \n",
       "301                  6                  0.229829                    84   \n",
       "309                  6                  0.220118                    56   \n",
       "397                  6                  0.221574                   320   \n",
       "284                  6                  0.218416                   419   \n",
       "250                  3                  0.266277                   115   \n",
       "363                  4                  0.135425                    71   \n",
       "\n",
       "     params_opt_Number_of_Noise_Batches  params_opt_Regularization_term  \\\n",
       "276                                   1                        0.195540   \n",
       "384                                   1                        0.164976   \n",
       "296                                   2                        0.154956   \n",
       "355                                   1                        0.126115   \n",
       "301                                   1                        0.155063   \n",
       "309                                   1                        0.160018   \n",
       "397                                   1                        0.160935   \n",
       "284                                   2                        0.169877   \n",
       "250                                   1                        0.189250   \n",
       "363                                   1                        0.118336   \n",
       "\n",
       "     params_opt_Steps     state  \n",
       "276                16  COMPLETE  \n",
       "384                13  COMPLETE  \n",
       "296                14  COMPLETE  \n",
       "355                14  COMPLETE  \n",
       "301                15  COMPLETE  \n",
       "309                14  COMPLETE  \n",
       "397                13  COMPLETE  \n",
       "284                15  COMPLETE  \n",
       "250                12  COMPLETE  \n",
       "363                14  COMPLETE  "
      ]
     },
     "execution_count": 10,
     "metadata": {},
     "output_type": "execute_result"
    }
   ],
   "source": [
    "trials_df = study.trials_dataframe()\n",
    "best10_df = trials_df.sort_values(\"value\").head(10)\n",
    "best10_df"
   ]
  },
  {
   "cell_type": "markdown",
   "metadata": {},
   "source": [
    "^^^This will represent the values used as default^^^"
   ]
  },
  {
   "cell_type": "code",
   "execution_count": 9,
   "metadata": {},
   "outputs": [
    {
     "data": {
      "text/plain": [
       "{'opt_Epochs': 5,\n",
       " 'opt_Steps': 16,\n",
       " 'opt_Learning_Rate': 0.22183049596711268,\n",
       " 'opt_Batch_Size': 367,\n",
       " 'opt_Number_of_Noise_Batches': 1,\n",
       " 'opt_Regularization_term': 0.19553973560496515,\n",
       " 'opt_Noise_Dim': 81,\n",
       " 'n_layers': 2}"
      ]
     },
     "execution_count": 9,
     "metadata": {},
     "output_type": "execute_result"
    }
   ],
   "source": [
    "study.best_params"
   ]
  },
  {
   "cell_type": "markdown",
   "metadata": {},
   "source": [
    "___\n",
    "\n",
    "### Standard Parameters"
   ]
  },
  {
   "cell_type": "code",
   "execution_count": 14,
   "metadata": {},
   "outputs": [
    {
     "name": "stdout",
     "output_type": "stream",
     "text": [
      "['test', 'train']\n",
      "['bird', 'deer', 'horse', 'automobile', 'frog', 'airplane', 'truck', 'cat', 'dog', 'ship']\n",
      "[{'Loss': 1.22891104221344, 'Acc': 0.77801114320755}]\n",
      "---Optimizing noise generator---\n",
      "Optiming loss for class 0\n",
      "Loss: 24297.083984375\n",
      "Loss: 4410.2900390625\n",
      "Loss: 987.8056640625\n",
      "Loss: 266.85516357421875\n",
      "Loss: 110.88993072509766\n",
      "Optiming loss for class 2\n",
      "Loss: 27758.142578125\n",
      "Loss: 5074.34423828125\n",
      "Loss: 1137.2779541015625\n",
      "Loss: 298.7597351074219\n",
      "Loss: 117.35765075683594\n",
      "---Impairing Phase---\n",
      "Train loss 1: 0.16312381982922555,Train Acc:12.868%\n",
      "Performance of Standard Forget Model on Forget Class\n",
      "Accuracy: 0.0\n",
      "Loss: 8.782315254211426\n",
      "Performance of Standard Forget Model on Retain Class\n",
      "Accuracy: 65.33447504043579\n",
      "Loss: 0.9652000069618225\n",
      "---Repairing Phase---\n",
      "Train loss 1: 0.08421937516093254,Train Acc:13.07%\n",
      "Performance of Standard Forget Model on Forget Class\n",
      "Accuracy: 0.0\n",
      "Loss: 9.555630683898926\n",
      "Performance of Standard Forget Model on Retain Class\n",
      "Accuracy: 74.36279058456421\n",
      "Loss: 0.7656243443489075\n"
     ]
    }
   ],
   "source": [
    "standard_model = main(\n",
    "    t_Epochs = study.best_params[\"opt_Epochs\"],\n",
    "    t_Steps= study.best_params[\"opt_Steps\"],\n",
    "    t_Learning_Rate = study.best_params[\"opt_Learning_Rate\"],\n",
    "    t_Batch_Size = study.best_params[\"opt_Batch_Size\"],\n",
    "    t_Number_of_Noise_Batches = study.best_params[\"opt_Number_of_Noise_Batches\"],\n",
    "    t_Regularization_term = study.best_params[\"opt_Regularization_term\"],\n",
    "    t_Layers = [1000, 1000, 1000,1000,1000,1000,1000,1000,1000,1000,][:study.best_params[\"n_layers\"]],\n",
    "    t_Noise_Dim = study.best_params[\"opt_Noise_Dim\"],\n",
    "    new_baseline=False,\n",
    "    logs=True,\n",
    "    model_eval_logs=True\n",
    ")"
   ]
  },
  {
   "cell_type": "markdown",
   "metadata": {},
   "source": [
    "___"
   ]
  },
  {
   "cell_type": "code",
   "execution_count": 22,
   "metadata": {},
   "outputs": [],
   "source": [
    "from torchvision.models import resnet18\n",
    "import torch\n",
    "\n",
    "DEVICE = \"cuda:0\" if torch.cuda.is_available() else \"cpu\"\n",
    "\n",
    "train_ms = load_models_dict(path=\"data/all/models\")\n",
    "\n",
    "exact_ms = load_models_dict(path=\"data/retrain/models\")"
   ]
  },
  {
   "cell_type": "code",
   "execution_count": 24,
   "metadata": {},
   "outputs": [
    {
     "name": "stderr",
     "output_type": "stream",
     "text": [
      "                                                                 \r"
     ]
    },
    {
     "data": {
      "text/plain": [
       "8.873657390481847e-11"
      ]
     },
     "execution_count": 24,
     "metadata": {},
     "output_type": "execute_result"
    }
   ],
   "source": [
    "from src.metrics import kl_divergence_between_models\n",
    "import os\n",
    "import torchvision.transforms as tt\n",
    "from torch.utils.data import DataLoader\n",
    "from torchvision.datasets import ImageFolder\n",
    "\n",
    "batch_size = 256\n",
    "data_dir = f'data{os.sep}cifar10'\n",
    "\n",
    "transform_test = tt.Compose([\n",
    "    tt.ToTensor(),\n",
    "    tt.Normalize((0.4914, 0.4822, 0.4465), (0.2023, 0.1994, 0.2010)),\n",
    "])\n",
    "\n",
    "valid_ds = ImageFolder(data_dir+f'{os.sep}test', transform_test)\n",
    "valid_dl = DataLoader(valid_ds, batch_size, shuffle=False)\n",
    "\n",
    "kl_divergence_between_models(model1 = train_ms[0], model2 = train_ms[0], data_loader = valid_dl)"
   ]
  },
  {
   "cell_type": "code",
   "execution_count": 25,
   "metadata": {},
   "outputs": [
    {
     "name": "stderr",
     "output_type": "stream",
     "text": [
      "                                                                 \r"
     ]
    },
    {
     "data": {
      "text/plain": [
       "4.918620909871717e-11"
      ]
     },
     "execution_count": 25,
     "metadata": {},
     "output_type": "execute_result"
    }
   ],
   "source": [
    "kl_divergence_between_models(model1=exact_ms[0], model2=exact_ms[0], data_loader=valid_dl)"
   ]
  },
  {
   "cell_type": "code",
   "execution_count": 27,
   "metadata": {},
   "outputs": [
    {
     "name": "stderr",
     "output_type": "stream",
     "text": [
      "                                                                 \r"
     ]
    },
    {
     "data": {
      "text/plain": [
       "3.0422201290726663"
      ]
     },
     "execution_count": 27,
     "metadata": {},
     "output_type": "execute_result"
    }
   ],
   "source": [
    "kl_divergence_between_models(model1=exact_ms[0], model2=train_ms[0], data_loader=valid_dl)"
   ]
  },
  {
   "cell_type": "code",
   "execution_count": 28,
   "metadata": {},
   "outputs": [
    {
     "name": "stderr",
     "output_type": "stream",
     "text": [
      "                                                                 \r"
     ]
    },
    {
     "data": {
      "text/plain": [
       "2.1034967750310907"
      ]
     },
     "execution_count": 28,
     "metadata": {},
     "output_type": "execute_result"
    }
   ],
   "source": [
    "kl_divergence_between_models(model1=exact_ms[0], model2=standard_model, data_loader=valid_dl)"
   ]
  }
 ],
 "metadata": {
  "kernelspec": {
   "display_name": "bach.conda",
   "language": "python",
   "name": "python3"
  },
  "language_info": {
   "codemirror_mode": {
    "name": "ipython",
    "version": 3
   },
   "file_extension": ".py",
   "mimetype": "text/x-python",
   "name": "python",
   "nbconvert_exporter": "python",
   "pygments_lexer": "ipython3",
   "version": "3.12.8"
  }
 },
 "nbformat": 4,
 "nbformat_minor": 2
}
